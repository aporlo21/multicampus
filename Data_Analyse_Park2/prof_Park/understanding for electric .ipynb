{
 "cells": [
  {
   "cell_type": "code",
   "execution_count": null,
   "metadata": {},
   "outputs": [],
   "source": [
    "## 함수 해석 ## \n",
    "def series_to_supervised(data, n_in = 1, n_out = 1, dropnan = True)\n",
    "# 인자 네개를 받겟다 # 입력 노드 # 출력 노드 # 결측치 drop 시킨다\n",
    "\n",
    "n_vars = 1\n",
    "\n",
    "if type(data) is list # 만일 data 유형이 list 이면\n",
    "else data.shape[1] # data 열\n",
    "\n",
    "dff = pd.DataFrame(data) # data를 df화 한다\n",
    "cols = list() # cols 빈 리스트 생성 \n",
    "names = list() # names 빈 리스트 생성 \n",
    "\n",
    "# input sequence (t-n, ... , t-1)\n",
    "\n",
    "for i in range(n_in, 0, -1): # (처음, 끝, 스텝) # 입력노드수에서부터 -1씩 0 까지\n",
    "    cols.append(dff.shift(i)) # shift(1) 씩 이동 \n",
    "    name += [('var%d(t-%d)' % (j+1, i)) for j in range(n_vars)]\n",
    "    # n_vars 범위 내에서 j 순으로 돌려\n",
    "    # name 변수에 var%d(t-%d)\n",
    "    \n",
    "# forecast sequence (t, t+1, ... , 1+n)\n",
    "for i in range(n_in, 0, -1):\n",
    "    cols.append(dff.shift(i))\n",
    "    if i == 0 :\n",
    "        names += [('var%d(t)' % (j+1)) for j in range(n_vars)]\n",
    "    else :\n",
    "        names += [('var%d(t+%d)' % (j+1, i)) for j in range(n_vars)]\n",
    "# put it all together\n",
    "agg = pd.concat(cols, axis = 1)\n",
    "agg.columns = names\n",
    "# drop rows with NaN values\n",
    "if dropnan:\n",
    "    agg.dropna(inplace = True)\n",
    "     \n",
    "\n",
    "\n",
    "\n",
    "\n",
    "\n"
   ]
  }
 ],
 "metadata": {
  "kernelspec": {
   "display_name": "Python 3",
   "language": "python",
   "name": "python3"
  },
  "language_info": {
   "codemirror_mode": {
    "name": "ipython",
    "version": 3
   },
   "file_extension": ".py",
   "mimetype": "text/x-python",
   "name": "python",
   "nbconvert_exporter": "python",
   "pygments_lexer": "ipython3",
   "version": "3.7.3"
  }
 },
 "nbformat": 4,
 "nbformat_minor": 2
}
