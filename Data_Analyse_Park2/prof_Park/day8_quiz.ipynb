{
 "cells": [
  {
   "cell_type": "code",
   "execution_count": null,
   "metadata": {},
   "outputs": [],
   "source": [
    "# # 1. 이름 데이터에 대한 처리\n",
    "# -1880년부터 2010년까지 이름에 사용된 알파벳 문자에 대해 빈도수를 조사하고,\n",
    "# 빈도수에 대해 내림차순 정렬하여 출력하시오.\n",
    "\n",
    "# 2. 영화 데이터에 대한 처리\n",
    "# - 연도,제목을 추출하는 정규표현식 작성 -> year,title컬럼 생성\n",
    "# - 장르 -> 원핫인코딩\n"
   ]
  }
 ],
 "metadata": {
  "kernelspec": {
   "display_name": "Python 3",
   "language": "python",
   "name": "python3"
  },
  "language_info": {
   "codemirror_mode": {
    "name": "ipython",
    "version": 3
   },
   "file_extension": ".py",
   "mimetype": "text/x-python",
   "name": "python",
   "nbconvert_exporter": "python",
   "pygments_lexer": "ipython3",
   "version": "3.7.3"
  }
 },
 "nbformat": 4,
 "nbformat_minor": 2
}
