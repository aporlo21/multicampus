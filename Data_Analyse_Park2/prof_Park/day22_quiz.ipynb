{
 "cells": [
  {
   "cell_type": "code",
   "execution_count": null,
   "metadata": {},
   "outputs": [],
   "source": [
    "# 1. 가중치\n",
    "# 2. 파생변수 \n",
    "# 3. 아웃라이어처리\n",
    "# 4. 값 -> 구간화(ohe)\n",
    "# 5. 칼럼값에 대한 표준화/ 정규화\n",
    "# 6. 딥러닝\n",
    "# 7. 앙상블모델 ( 모델혼용 )"
   ]
  },
  {
   "cell_type": "code",
   "execution_count": 1,
   "metadata": {},
   "outputs": [],
   "source": [
    "# day22 _ quiz\n",
    "# 1. 유방암 분류기 제작\n",
    "# 2. 집 값 예측\n",
    "import tensorflow as tf\n",
    "import pandas as pd\n",
    "import numpy as np\n",
    "import seaborn as sns \n",
    "from jupyterthemes import jtplot\n",
    "jtplot.style(theme='gruvboxd', context='paper', spines=True, \n",
    "             ticks=True, grid=True, gridlines='dotted', figsize=(6,4.5))"
   ]
  },
  {
   "cell_type": "code",
   "execution_count": 2,
   "metadata": {},
   "outputs": [],
   "source": [
    "import matplotlib.pyplot as plt\n",
    "from mpl_toolkits.mplot3d import Axes3D\n",
    "\n",
    "from sklearn.model_selection import train_test_split\n",
    "\n",
    "from sklearn import linear_model\n",
    "from sklearn.linear_model import LinearRegression\n",
    "from sklearn.tree import DecisionTreeRegressor\n",
    "from sklearn.ensemble import RandomForestRegressor\n"
   ]
  },
  {
   "cell_type": "code",
   "execution_count": 5,
   "metadata": {
    "scrolled": true
   },
   "outputs": [
    {
     "name": "stdout",
     "output_type": "stream",
     "text": [
      "<class 'pandas.core.frame.DataFrame'>\n",
      "RangeIndex: 568 entries, 0 to 567\n",
      "Data columns (total 32 columns):\n",
      "842302      568 non-null int64\n",
      "M           568 non-null object\n",
      "17.99       568 non-null float64\n",
      "10.38       568 non-null float64\n",
      "122.8       568 non-null float64\n",
      "1001        568 non-null float64\n",
      "0.1184      568 non-null float64\n",
      "0.2776      568 non-null float64\n",
      "0.3001      568 non-null float64\n",
      "0.1471      568 non-null float64\n",
      "0.2419      568 non-null float64\n",
      "0.07871     568 non-null float64\n",
      "1.095       568 non-null float64\n",
      "0.9053      568 non-null float64\n",
      "8.589       568 non-null float64\n",
      "153.4       568 non-null float64\n",
      "0.006399    568 non-null float64\n",
      "0.04904     568 non-null float64\n",
      "0.05373     568 non-null float64\n",
      "0.01587     568 non-null float64\n",
      "0.03003     568 non-null float64\n",
      "0.006193    568 non-null float64\n",
      "25.38       568 non-null float64\n",
      "17.33       568 non-null float64\n",
      "184.6       568 non-null float64\n",
      "2019        568 non-null float64\n",
      "0.1622      568 non-null float64\n",
      "0.6656      568 non-null float64\n",
      "0.7119      568 non-null float64\n",
      "0.2654      568 non-null float64\n",
      "0.4601      568 non-null float64\n",
      "0.1189      568 non-null float64\n",
      "dtypes: float64(30), int64(1), object(1)\n",
      "memory usage: 142.1+ KB\n"
     ]
    }
   ],
   "source": [
    "df=pd.read_csv('data/data/wdbc.data')\n",
    "df.info()"
   ]
  },
  {
   "cell_type": "code",
   "execution_count": 6,
   "metadata": {},
   "outputs": [
    {
     "name": "stdout",
     "output_type": "stream",
     "text": [
      "568\n",
      "2\n",
      "456\n",
      "478\n",
      "521\n",
      "538\n",
      "473\n",
      "536\n",
      "536\n",
      "542\n",
      "431\n",
      "498\n",
      "539\n",
      "518\n",
      "532\n",
      "527\n",
      "547\n",
      "540\n",
      "532\n",
      "506\n",
      "497\n",
      "544\n",
      "456\n",
      "510\n",
      "514\n",
      "543\n",
      "410\n",
      "528\n",
      "538\n",
      "491\n",
      "499\n",
      "534\n"
     ]
    }
   ],
   "source": [
    "for column in df:\n",
    "    print(df[column].nunique())\n",
    "    # 객체 타입중에 유니크한 개수 파악가능 "
   ]
  },
  {
   "cell_type": "code",
   "execution_count": null,
   "metadata": {},
   "outputs": [],
   "source": [
    "cols=['sqft_lot','sqft_above','sqft_living','bedrooms','grade','price']\n",
    "sns.plotting_context(font_scale=1.5)\n",
    "sns.pairplot(df[cols], hue='bedrooms', size=2)"
   ]
  }
 ],
 "metadata": {
  "kernelspec": {
   "display_name": "Python 3",
   "language": "python",
   "name": "python3"
  },
  "language_info": {
   "codemirror_mode": {
    "name": "ipython",
    "version": 3
   },
   "file_extension": ".py",
   "mimetype": "text/x-python",
   "name": "python",
   "nbconvert_exporter": "python",
   "pygments_lexer": "ipython3",
   "version": "3.7.3"
  }
 },
 "nbformat": 4,
 "nbformat_minor": 2
}
