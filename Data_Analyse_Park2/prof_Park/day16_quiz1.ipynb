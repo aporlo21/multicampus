{
 "cells": [
  {
   "cell_type": "code",
   "execution_count": 12,
   "metadata": {},
   "outputs": [],
   "source": [
    "import numpy as np\n",
    "import matplotlib.pyplot as plt\n",
    "import matplotlib as mpl\n",
    "import pandas as pd\n",
    "import seaborn as sns\n",
    "import time\n",
    " \n",
    "critics = {\n",
    "    \n",
    "    \n",
    "    '조용필': {\n",
    "        '택시운전사': 2.5,\n",
    "        '겨울왕국': 3.5,\n",
    "        '리빙라스베가스': 3.0,\n",
    "        '넘버3': 3.5,\n",
    "        '사랑과전쟁': 2.5,\n",
    "        '세계대전': 3.0,\n",
    "    },\n",
    "    'BTS': {\n",
    "        '택시운전사': 1.0,\n",
    "        '겨울왕국': 4.5,\n",
    "        '리빙라스베가스': 0.5,\n",
    "        '넘버3': 1.5,\n",
    "        '사랑과전쟁': 4.5,\n",
    "        '세계대전': 5.0,\n",
    "    },\n",
    "    '강감찬': {\n",
    "        '택시운전사': 3.0,\n",
    "        '겨울왕국': 3.5,\n",
    "        '리빙라스베가스': 1.5,\n",
    "        '넘버3': 5.0,\n",
    "        '세계대전': 3.0,\n",
    "        '사랑과전쟁': 3.5,\n",
    "    },\n",
    "    '을지문덕': {\n",
    "        '택시운전사': 2.5,\n",
    "        '겨울왕국': 3.0,\n",
    "        '넘버3': 3.5,\n",
    "        '세계대전': 4.0,\n",
    "    },\n",
    "    '김유신': {\n",
    "        '겨울왕국': 3.5,\n",
    "        '리빙라스베가스': 3.0,\n",
    "        '세계대전': 4.5,\n",
    "        '넘버3': 4.0,\n",
    "        '사랑과전쟁': 2.5,\n",
    "    },\n",
    "    '유성룡': {\n",
    "        '택시운전사': 3.0,\n",
    "        '겨울왕국': 4.0,\n",
    "        '리빙라스베가스': 2.0,\n",
    "        '넘버3': 3.0,\n",
    "        '세계대전': 3.5,\n",
    "        '사랑과전쟁': 2.0,\n",
    "    },\n",
    "    '이황': {\n",
    "        '택시운전사': 3.0,\n",
    "        '겨울왕국': 4.0,\n",
    "        '세계대전': 3.0,\n",
    "        '넘버3': 5.0,\n",
    "        '사랑과전쟁': 3.5,\n",
    "    },\n",
    "    '이이': {'겨울왕국': 4.5, '사랑과전쟁': 1.0,\n",
    "             '넘버3': 4.0},\n",
    "}\n",
    " \n",
    " "
   ]
  },
  {
   "cell_type": "code",
   "execution_count": 13,
   "metadata": {},
   "outputs": [],
   "source": [
    "def sim_viewer(movie_df, names):\n",
    "    \n",
    "    names = [ names for names in movie_df.keys() ]\n",
    "    mat   = np.zeros((len(names) , len(names)))\n",
    " \n",
    "    for i in range(len(names)):\n",
    "        for k in range(len(names)):\n",
    "            common_movies  = set(movie_df[names[i]].keys()) & (movie_df[names[k]].keys())\n",
    "            list_movieDist =  np.array([ movie_df[names[i]][co_movie] - movie_df[names[k]][co_movie]  for co_movie in common_movies ])        \n",
    "            mat[i][k] = 1 / (np.sqrt(list_movieDist.T @ list_movieDist) + 1)\n",
    "    \n",
    "    return mat\n",
    " \n"
   ]
  },
  {
   "cell_type": "code",
   "execution_count": 14,
   "metadata": {},
   "outputs": [],
   "source": [
    "def get_NotViewed(movie_df,person1):\n",
    "    movieList = []\n",
    "    for dic in movie_df.values():\n",
    "        movieList += list(dic.keys())\n",
    "        \n",
    "    movieList = list(set(movieList) - movie_df[person1].keys())\n",
    "    return movieList\n",
    "\n"
   ]
  },
  {
   "cell_type": "code",
   "execution_count": 16,
   "metadata": {},
   "outputs": [],
   "source": [
    "def get_allMovies(movie_df, movieList):\n",
    "    movieList = set()\n",
    "    for movie in critics.values():\n",
    "        movieList |= movie.keys()\n",
    "    return movieList\n",
    " "
   ]
  },
  {
   "cell_type": "code",
   "execution_count": 18,
   "metadata": {},
   "outputs": [],
   "source": [
    "def recommend(movie_df,sim_mat, person):\n",
    "    notViedMovies = get_NotViewed(movie_df, person)\n",
    " \n",
    "    names       = np.array([ name  for name in critics.keys() ])\n",
    "    person_idx  = np.where(names == person)[0][0]\n",
    "    sim_arr     = sim_mat[person_idx]\n",
    "    \n",
    "    print(person, \"이(가) 보지 않은 영화 : \" , notViedMovies)\n",
    "    \n",
    "    rating_mat = np.zeros((len(names), len(notViedMovies)))\n",
    "    \n",
    "    ## 이 사람이 보지 않은 영화에 대해서 다른 사람이 준 평점.\n",
    "    ## 행 names 열 movies\n",
    "    for i in range(len(names)):\n",
    "         for k in range(len(notViedMovies)):\n",
    "            rating_mat[i][k] = movie_df[names[i]].get(notViedMovies[k])\n",
    "            \n",
    "    ## 각 영화 평점 * 그 사람과의 유사도의 합\n",
    "    movie_mat = np.nansum(rating_mat * sim_arr.reshape(8,1), axis = 0)\n",
    "    \n",
    "    ## 각 영화를 본 사람만 추려서 그사람들의 유사도합 구하기\n",
    "    sumOfSim = np.zeros((len(notViedMovies), 1))\n",
    " \n",
    "    for i in range(len(rating_mat[0])):\n",
    "        watched_idx = np.where( np.isnan(rating_mat[:,i]) != True  )[0]\n",
    "        for k in watched_idx:\n",
    "            sumOfSim[i] += sim_arr[k]\n",
    "        \n",
    "    ## 각 영화별 계산 결과\n",
    "    res_rating = movie_mat / sumOfSim.T\n",
    "    return notViedMovies[np.argmax(res_rating)]\n",
    " \n"
   ]
  },
  {
   "cell_type": "code",
   "execution_count": 20,
   "metadata": {},
   "outputs": [
    {
     "data": {
      "text/plain": [
       "array(['조용필', 'BTS', '강감찬', '을지문덕', '김유신', '유성룡', '이황', '이이'], dtype='<U4')"
      ]
     },
     "execution_count": 20,
     "metadata": {},
     "output_type": "execute_result"
    }
   ],
   "source": [
    "names = np.array([ name  for name in critics.keys() ])\n",
    "names\n"
   ]
  },
  {
   "cell_type": "code",
   "execution_count": 21,
   "metadata": {},
   "outputs": [
    {
     "ename": "TypeError",
     "evalue": "get_allMovies() missing 1 required positional argument: 'movieList'",
     "output_type": "error",
     "traceback": [
      "\u001b[1;31m---------------------------------------------------------------------------\u001b[0m",
      "\u001b[1;31mTypeError\u001b[0m                                 Traceback (most recent call last)",
      "\u001b[1;32m<ipython-input-21-feec4218f16f>\u001b[0m in \u001b[0;36m<module>\u001b[1;34m\u001b[0m\n\u001b[1;32m----> 1\u001b[1;33m \u001b[0mmovieList\u001b[0m \u001b[1;33m=\u001b[0m \u001b[0mget_allMovies\u001b[0m\u001b[1;33m(\u001b[0m\u001b[0mcritics\u001b[0m\u001b[1;33m)\u001b[0m\u001b[1;33m\u001b[0m\u001b[1;33m\u001b[0m\u001b[0m\n\u001b[0m\u001b[0;32m      2\u001b[0m \u001b[0mmovieList\u001b[0m\u001b[1;33m\u001b[0m\u001b[1;33m\u001b[0m\u001b[0m\n",
      "\u001b[1;31mTypeError\u001b[0m: get_allMovies() missing 1 required positional argument: 'movieList'"
     ]
    }
   ],
   "source": [
    "movieList = get_allMovies(critics)\n",
    "movieList\n"
   ]
  },
  {
   "cell_type": "code",
   "execution_count": 22,
   "metadata": {},
   "outputs": [
    {
     "data": {
      "text/plain": [
       "array([[1.        , 0.17740533, 0.29429806, 0.47213595, 0.38742589,\n",
       "        0.4       , 0.34054243, 0.34833148],\n",
       "       [0.17740533, 1.        , 0.17176743, 0.24496553, 0.19182537,\n",
       "        0.19404997, 0.17740533, 0.18863786],\n",
       "       [0.29429806, 0.17176743, 1.        , 0.34054243, 0.28172905,\n",
       "        0.27429189, 0.66666667, 0.2582457 ],\n",
       "       [0.47213595, 0.24496553, 0.34054243, 1.        , 0.53589838,\n",
       "        0.43050087, 0.32037724, 0.38742589],\n",
       "       [0.38742589, 0.19182537, 0.28172905, 0.53589838, 1.        ,\n",
       "        0.34833148, 0.32037724, 0.35678917],\n",
       "       [0.4       , 0.19404997, 0.27429189, 0.43050087, 0.34833148,\n",
       "        1.        , 0.28172905, 0.4       ],\n",
       "       [0.34054243, 0.17740533, 0.66666667, 0.32037724, 0.32037724,\n",
       "        0.28172905, 1.        , 0.26747889],\n",
       "       [0.34833148, 0.18863786, 0.2582457 , 0.38742589, 0.35678917,\n",
       "        0.4       , 0.26747889, 1.        ]])"
      ]
     },
     "execution_count": 22,
     "metadata": {},
     "output_type": "execute_result"
    }
   ],
   "source": [
    "sim_mat = sim_viewer(critics, names)\n",
    "sim_mat\n"
   ]
  },
  {
   "cell_type": "code",
   "execution_count": 23,
   "metadata": {},
   "outputs": [
    {
     "name": "stdout",
     "output_type": "stream",
     "text": [
      "이이 이(가) 보지 않은 영화 :  ['택시운전사', '리빙라스베가스', '세계대전']\n"
     ]
    },
    {
     "data": {
      "text/plain": [
       "'추천 영화 : 세계대전'"
      ]
     },
     "execution_count": 23,
     "metadata": {},
     "output_type": "execute_result"
    }
   ],
   "source": [
    "res = recommend(critics, sim_mat, '이이')\n",
    "\"추천 영화 : {}\".format(res)"
   ]
  },
  {
   "cell_type": "code",
   "execution_count": null,
   "metadata": {},
   "outputs": [],
   "source": []
  }
 ],
 "metadata": {
  "kernelspec": {
   "display_name": "Python 3",
   "language": "python",
   "name": "python3"
  },
  "language_info": {
   "codemirror_mode": {
    "name": "ipython",
    "version": 3
   },
   "file_extension": ".py",
   "mimetype": "text/x-python",
   "name": "python",
   "nbconvert_exporter": "python",
   "pygments_lexer": "ipython3",
   "version": "3.7.3"
  }
 },
 "nbformat": 4,
 "nbformat_minor": 2
}
