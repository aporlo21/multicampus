{
 "cells": [
  {
   "cell_type": "code",
   "execution_count": 5,
   "metadata": {},
   "outputs": [],
   "source": [
    "# day16 _recommnadation_system\n",
    "import numpy as np\n",
    "import pandas as pd\n"
   ]
  },
  {
   "cell_type": "code",
   "execution_count": 7,
   "metadata": {},
   "outputs": [
    {
     "data": {
      "text/plain": [
       "2.23606797749979"
      ]
     },
     "execution_count": 7,
     "metadata": {},
     "output_type": "execute_result"
    }
   ],
   "source": [
    "x=np.array([2,1])\n",
    "np.linalg.norm(x) # numpy의 linalg 서브 패키지의 norm 명령으로 벡터의 길이를 계산"
   ]
  },
  {
   "cell_type": "code",
   "execution_count": 131,
   "metadata": {},
   "outputs": [
    {
     "data": {
      "text/plain": [
       "4.47213595499958"
      ]
     },
     "execution_count": 131,
     "metadata": {},
     "output_type": "execute_result"
    }
   ],
   "source": [
    "x=np.array([4,2])\n",
    "np.linalg.norm(x)"
   ]
  },
  {
   "cell_type": "code",
   "execution_count": 132,
   "metadata": {},
   "outputs": [
    {
     "data": {
      "text/plain": [
       "0"
      ]
     },
     "execution_count": 132,
     "metadata": {},
     "output_type": "execute_result"
    }
   ],
   "source": [
    "# 벡터 내적 \n",
    "a=np.array([1,1])\n",
    "b=np.array([-1,1])\n",
    "a@b # 직교한다"
   ]
  },
  {
   "cell_type": "code",
   "execution_count": null,
   "metadata": {},
   "outputs": [],
   "source": [
    "# 추천시스템 ( CF 기반 ( 자연어처리 / 유사한 문장 찾기 ) )\n",
    "# CF : 유사도 기반 평점 예측, 영화 추천, 음악 추천 등에 활용\n",
    "# 사용자 기반 / 아이템 ( 하이브리드 ) 기반 CF\n",
    "# 아이템 기반 : 사용자 정보 부족, 여러 트랜잭션[음악 영화 들은 사람] 에서 \n",
    "# 중복 아이템이 적은경우 ( 의미있는 데이터 추출이 어려운 경우 - )\n",
    "\n",
    "# 홍길동 a, b 음악 듣고 임꺽정 c, d 음악들었다 \n",
    "# a b c d : 아이템  홍길동 (트랜젝션 )\n",
    "# 중복이 되는 아이템이 많아야 예측이 가능하다 \n",
    "# 다양한사람으로 부터 중복된 음악많아야 양질의 예측이 가능하다 ( 사용자 기반 )\n",
    "# 이럴때는 ( 아이템기반 ) 으로 추천한다 \n",
    "\n",
    "# 홍길동 ab \n",
    "# 임꺽정 cd\n",
    "# 이순신 ef \n",
    "# 아이템의 교점이 없을 때 사람의 특성을 관찰 ( 성별, 나이 등등 ) 하고 해당 유사 특성을\n",
    "# 기반으로 이에 속하는 다른 사람군들의 선호도를 분석하여 통계화하여 추천 시스템 만듬\n"
   ]
  },
  {
   "cell_type": "code",
   "execution_count": 133,
   "metadata": {},
   "outputs": [],
   "source": [
    "# 추천시스템 ( 협업 필터링 )\n",
    "\n",
    "# 각 인물들이 본 영화에 대한 평점 \n",
    "# (평점기반) 가장 유사한 사람은? \n",
    "# 영화 한편 한편이 차원\n",
    "# 거리계산하려면 차원이 같아야함 \n",
    "# 차원 하나 빼줘버려라 \n",
    "# BTS - 3차원 \n",
    "# 손흥민 - 2차원 \n",
    "# 평점 예측시스템 구축도 가능하다 \n",
    "\n",
    "critics={\n",
    "    'BTS':{'암수살인':5, '바울':4, '할로윈':1.5},\n",
    "    '손흥민':{'바울':5, '할로윈':2},\n",
    "    '조용필':{'암수살인':2.5, '바울':2, '할로윈':1},\n",
    "    '나훈아':{'암수살인':3.5, '바울':4, '할로윈':5}\n",
    "}\n"
   ]
  },
  {
   "cell_type": "code",
   "execution_count": 134,
   "metadata": {},
   "outputs": [
    {
     "data": {
      "text/plain": [
       "{'BTS': {'암수살인': 5, '바울': 4, '할로윈': 1.5},\n",
       " '손흥민': {'바울': 5, '할로윈': 2},\n",
       " '조용필': {'암수살인': 2.5, '바울': 2, '할로윈': 1},\n",
       " '나훈아': {'암수살인': 3.5, '바울': 4, '할로윈': 5}}"
      ]
     },
     "execution_count": 134,
     "metadata": {},
     "output_type": "execute_result"
    }
   ],
   "source": [
    "critics"
   ]
  },
  {
   "cell_type": "code",
   "execution_count": 135,
   "metadata": {},
   "outputs": [
    {
     "name": "stdout",
     "output_type": "stream",
     "text": [
      "{'암수살인': 5, '바울': 4, '할로윈': 1.5}\n"
     ]
    }
   ],
   "source": [
    "print(critics.get('BTS'))"
   ]
  },
  {
   "cell_type": "code",
   "execution_count": 136,
   "metadata": {},
   "outputs": [
    {
     "name": "stdout",
     "output_type": "stream",
     "text": [
      "{'바울': 5, '할로윈': 2}\n"
     ]
    }
   ],
   "source": [
    "print(critics.get('손흥민'))"
   ]
  },
  {
   "cell_type": "code",
   "execution_count": 137,
   "metadata": {},
   "outputs": [],
   "source": [
    "# print(critics.get('BTS')) # None \n",
    "# print(critics.get['BTS']) # Error"
   ]
  },
  {
   "cell_type": "code",
   "execution_count": 138,
   "metadata": {},
   "outputs": [
    {
     "data": {
      "text/plain": [
       "3.1622776601683795"
      ]
     },
     "execution_count": 138,
     "metadata": {},
     "output_type": "execute_result"
    }
   ],
   "source": [
    "# 피타고라스 ( 2차원 )\n",
    "# 거리 가까울수루 유사도 높다 책정\n",
    "from math import sqrt # 제곱근 \n",
    "sqrt(pow(1,2)+pow(3,2)) # 제곱\n"
   ]
  },
  {
   "cell_type": "code",
   "execution_count": 139,
   "metadata": {},
   "outputs": [],
   "source": [
    "def sim(i,j):\n",
    "    return sqrt(pow(i,2)+pow(j,2))"
   ]
  },
  {
   "cell_type": "code",
   "execution_count": 140,
   "metadata": {},
   "outputs": [
    {
     "data": {
      "text/plain": [
       "3.1622776601683795"
      ]
     },
     "execution_count": 140,
     "metadata": {},
     "output_type": "execute_result"
    }
   ],
   "source": [
    "var1 = critics['손흥민']['바울']-critics['조용필']['바울']\n",
    "var2 = critics['손흥민']['할로윈']-critics['조용필']['할로윈']\n",
    "sim(var1,var2)"
   ]
  },
  {
   "cell_type": "code",
   "execution_count": 143,
   "metadata": {},
   "outputs": [
    {
     "name": "stdout",
     "output_type": "stream",
     "text": [
      "BTS : 0.4721359549995794\n",
      "조용필 : 0.2402530733520421\n",
      "나훈아 : 0.2402530733520421\n"
     ]
    }
   ],
   "source": [
    "for i in critics:\n",
    "    if i!='손흥민':\n",
    "        var1 = critics['손흥민']['바울']-critics[i]['바울']\n",
    "        var2 = critics['손흥민']['할로윈']-critics[i]['할로윈']\n",
    "        print(i,\":\", 1/(1+sim(var1,var2)))\n",
    "    # 손흥민과 다른 사람과의 거리 \n",
    "# 키 가 읽어진다 \n",
    "# 1 에 가까울수록 가까운 사람이다 \n"
   ]
  },
  {
   "cell_type": "code",
   "execution_count": 144,
   "metadata": {},
   "outputs": [
    {
     "name": "stdout",
     "output_type": "stream",
     "text": [
      "0.4721359549995794\n"
     ]
    }
   ],
   "source": [
    "# 10편 영화, 100점 만점 평점\n",
    "# 9 편 영화, 손 & bts : 동일한 평점 -> 거리 : 0\n",
    "# 반대로, 손 : 0 점 bts : 100 점 일시 = 둘사이거리는 100\n",
    "# 표준화 정규화 방식을 통해 데이터를 재구조화한다 \n",
    "# 목표 : 손흥민에게 추천하는 영화는? \n",
    "# 유클리디안 기반 거리(같은 영화 본것에 대한)\n",
    "\n",
    "def sim_distance(data,user1,user2):\n",
    "    rsum=0\n",
    "    for i in data[user1]: # i : 손흥민이 본영화\n",
    "        if i in data[user2]: # user2기 같은 영화를 봤다면 \n",
    "            rsum += pow(data[user1][i]-data[user2][i],2) # 빼고 제곱\n",
    "    return 1/(1+sqrt(rsum)) # 제곱근을 취하고 역수를 취해 빠져나옴 \n",
    "print(sim_distance(critics, '손흥민', 'BTS')) # 거리 => 유사도를 빼냄\n"
   ]
  },
  {
   "cell_type": "code",
   "execution_count": 145,
   "metadata": {},
   "outputs": [
    {
     "data": {
      "text/plain": [
       "[(0.4721359549995794, 'BTS'), (0.2402530733520421, '조용필')]"
      ]
     },
     "execution_count": 145,
     "metadata": {},
     "output_type": "execute_result"
    }
   ],
   "source": [
    "# 인원에 상관없이 \n",
    "# 정렬기능을 추가하여 =>  가장 유사한 상위 n 명을 추출하고자하는 기능 추가 \n",
    "# prototype\n",
    "# top_match(영화평점 딕셔너리. 기준이되는 사람(손흥민), 상위 n명, 적용함수)\n",
    "def top_match(data,name,n=2,sim_f=sim_distance): # default값 n= 3들어간다 3명 \n",
    "    myList=[]\n",
    "    for i in data: # i : 손흥민이 본영화\n",
    "        if name != i:\n",
    "            myList.append((sim_f(data,name,i),i)) # user2기 같은 영화를 봤다면 \n",
    "    myList.sort()\n",
    "    myList.reverse()\n",
    "    return myList[:n]# 제곱근을 취하고 역수를 취해 빠져나옴 \n",
    "top_match(critics,'손흥민')\n",
    "\n",
    "# 출력 형식 \n",
    "# 유사도, 이름\n",
    "# 유사도, 이름\n",
    "\n"
   ]
  },
  {
   "cell_type": "code",
   "execution_count": 146,
   "metadata": {},
   "outputs": [],
   "source": [
    "import matplotlib\n",
    "from matplotlib import font_manager, rc\n",
    "import platform\n",
    "if platform.system()==\"Windows\":\n",
    "    font_name=font_manager.FontProperties(fname=\"c:/Windows/Fonts/malgun.ttf\").get_name()\n",
    "    rc('font', family=font_name)\n",
    "matplotlib.rcParams['axes.unicode_minus']=False\n",
    "\n",
    "import warnings\n",
    "warnings.filterwarnings(\"ignore\")"
   ]
  },
  {
   "cell_type": "code",
   "execution_count": 147,
   "metadata": {},
   "outputs": [],
   "source": [
    "\n",
    "critics = {\n",
    "    '조용필': {\n",
    "        '택시운전사': 2.5,\n",
    "        '겨울왕국': 3.5,\n",
    "        '리빙라스베가스': 3.0,\n",
    "        '넘버3': 3.5,\n",
    "        '사랑과전쟁': 2.5,\n",
    "        '세계대전': 3.0,\n",
    "    },\n",
    "    'BTS': {\n",
    "        '택시운전사': 1.0,\n",
    "        '겨울왕국': 4.5,\n",
    "        '리빙라스베가스': 0.5,\n",
    "        '넘버3': 1.5,\n",
    "        '사랑과전쟁': 4.5,\n",
    "        '세계대전': 5.0,\n",
    "    },\n",
    "    '강감찬': {\n",
    "        '택시운전사': 3.0,\n",
    "        '겨울왕국': 3.5,\n",
    "        '리빙라스베가스': 1.5,\n",
    "        '넘버3': 5.0,\n",
    "        '세계대전': 3.0,\n",
    "        '사랑과전쟁': 3.5,\n",
    "    },\n",
    "    '을지문덕': {\n",
    "        '택시운전사': 2.5,\n",
    "        '겨울왕국': 3.0,\n",
    "        '넘버3': 3.5,\n",
    "        '세계대전': 4.0,\n",
    "    },\n",
    "    '김유신': {\n",
    "        '겨울왕국': 3.5,\n",
    "        '리빙라스베가스': 3.0,\n",
    "        '세계대전': 4.5,\n",
    "        '넘버3': 4.0,\n",
    "        '사랑과전쟁': 2.5,\n",
    "    },\n",
    "    '유성룡': {\n",
    "        '택시운전사': 3.0,\n",
    "        '겨울왕국': 4.0,\n",
    "        '리빙라스베가스': 2.0,\n",
    "        '넘버3': 3.0,\n",
    "        '세계대전': 3.5,\n",
    "        '사랑과전쟁': 2.0,\n",
    "    },\n",
    "    '이황': {\n",
    "        '택시운전사': 3.0,\n",
    "        '겨울왕국': 4.0,\n",
    "        '세계대전': 3.0,\n",
    "        '넘버3': 5.0,\n",
    "        '사랑과전쟁': 3.5,\n",
    "    },\n",
    "    '이이': {'겨울왕국': 4.5, '사랑과전쟁': 1.0,\n",
    "             '넘버3': 4.0},\n",
    "}\n",
    "\n",
    "\n"
   ]
  },
  {
   "cell_type": "code",
   "execution_count": 149,
   "metadata": {},
   "outputs": [
    {
     "data": {
      "text/plain": [
       "[0, 5, 0, 5]"
      ]
     },
     "execution_count": 149,
     "metadata": {},
     "output_type": "execute_result"
    },
    {
     "data": {
      "image/png": "[encoded data removed]",
      "text/plain": [
       "<Figure size 1008x576 with 1 Axes>"
      ]
     },
     "metadata": {},
     "output_type": "display_data"
    }
   ],
   "source": [
    "import matplotlib.pyplot as plt\n",
    "from jupyterthemes import jtplot\n",
    "jtplot.style(theme='gruvboxd', context='paper', spines=True, \n",
    "             ticks=True, grid=True, gridlines='dotted', figsize=(6,4.5))\n",
    "plt.figure(figsize=(14,8))\n",
    "plt.plot([1,2,3],[1,2,3],'g^')\n",
    "plt.text(1,1,'사과')\n",
    "plt.axis([0,5,0,5])"
   ]
  },
  {
   "cell_type": "code",
   "execution_count": 150,
   "metadata": {},
   "outputs": [
    {
     "data": {
      "image/png": "[encoded data removed]",
      "text/plain": [
       "<Figure size 1008x576 with 1 Axes>"
      ]
     },
     "metadata": {},
     "output_type": "display_data"
    }
   ],
   "source": [
    "def drawGraph(data, name1, name2):\n",
    "    li1 = []\n",
    "    li2 = []\n",
    "    plt.figure(figsize=(14,8))\n",
    "    \n",
    "    for i in data[name1]:\n",
    "        for i in data[name2]:\n",
    "            li1.append(data[name1][i])\n",
    "            li2.append(data[name2][i])   \n",
    "            plt.text(data[name1][i], data[name2][i],i)\n",
    "    plt.plot(li1,li2,'ro')\n",
    "    plt.xlabel(name1)\n",
    "    plt.ylabel(name2)\n",
    "drawGraph(critics, 'BTS','강감찬')\n",
    "\n",
    "# 함께 본 영화 리스트 내부에 저장 하고 이를 프로그램 대로 진행 \n",
    "# A 라는 포인터는 두 사람이 함께 함께 본영화가 찍힘data:image/png;base64,iVBORw0KGgoAAAANSUhEUgAAA1AAAAHwCAYAAAComI72AAAABHNCSVQICAgIfAhkiAAAAAlwSFlzAAALEgAACxIB0t1+/AAAADl0RVh0U29mdHdhcmUAbWF0cGxvdGxpYiB2ZXJzaW9uIDMuMC4zLCBodHRwOi8vbWF0cGxvdGxpYi5vcmcvnQurowAAIABJREFUeJzs3XmYpGV97//PU/va1T0zwrCDQESjniiJRk0ME4yREw9RVCQGfqIREIWYsIio52jcMBIn/gBBhENcMIC7xkQkIhqjEHOCJ+KGGFQQBhBmeu+uru6u80d11/Q+PTBzf+/vU+/XdXH5THfZ3P3lPc/M3Xd1dXLQoYe1BQAAAADYpYz1AgAAAADACzZQAAAAALBObKAAAAAAYJ3YQAEAAADAOrGBAgAAAIB1YgMFAAAAAOvEBgoAAAAA1okNFAAAAACsExsoAAAAAFgnNlAAAAAAsE456wXsLZs29Gl8omm9DAAAAAARq5SLenj78Lofn8oN1KYNfbr2knOslwEAAADAgZP/fOu6N1Gp3EDNnzydfv5lmpicMl4NHotEUn9fTYPDo2pbLwY9g+4QGs3BAt3BQmzdlUsFffjis3brmWup3EDNm5ic4ml8KTDZbGlmdtZ6GegxdIfQaA4W6A4WvHfHi0ggep5/g8EvukNoNAcLdAcL3rtjA4WoJZI2NupKrBeCnkJ3CI3mYIHuYCEN3bGBQtTaknaMxPEcWfQOukNoNAcLdAcLaeiODRSiNzvr+bcYvKI7hEZzsEB3sOC9OzZQiFoiaVN/n+tjXvhDdwiN5mCB7mAhDd2xgULU2pK2D424PuaFP3SH0GgOFugOFtLQHRsoRG+27fm3GLyiO4RGc7BAd7DgvTs2UIhaGo554Q/dITSagwW6g4U0dMcGClFrS3rE+TEv/KE7hEZzsEB3sJCG7nLWCwCwd1149sv0tKc8fsX33Xjzf+iaG76qrW97tQ484HErPmbrhz6v226/U5J0/RXnK5fLdt939y8e0Bvf9ZE9vmYAAIBYsYFC1OZ/2Nojg8Ouv1Jhqb+vohNP/+sV3/e2c0+SJLWmZ1Z8zDHPfrKOPHx/3Xb7nbr6b85SLpfVTd/4rj587Vd07WXn6vGHbFapUNDk1NRe/RxCozuERnOwQHewkIbu2EAham1JDw8OWy8Dkl5z3mV64pEH6Ed33adDDtikXK7zDOC0bZ4kukN4NAcLdAcLaeiODRSil0kS96/WkhY/uus+XfbuM7R5nwFJ0sM7fN8A10J3CI3mYIHuYMF7d0E3UC/578/WqSceq+npme7b/uy8S7V9cKT76yRJdPqf/qGOfc5TNdtu6/M33qbrv/jNkMtERBJJG5wf86bNuz5wg6Ymp7X1na/RpoE+/fmfvVCX/O8vWS9rj6I7hEZzsEB3sJCG7oJuoA4/ZLOu+sRX9MV//s6qjzn++c/QUUccqD87/1LVqmVddMEpuvPu+/Td798dcKWIRRqOea08r9GvLf0bVM9md/3g3fDArwYlSaf+xQf06avepGf95lGp20DRHUKjOVigO1hIQ3dBX8b88Qdv1t33PLjmY7Y86yn63Jdv1cjohLY9uF1fuvnf9YJjnh5ohYhRJuP5JwXY+OARR+nl++ynfYslbcjl9cEjjnrMH/P6K87Xpz78pmVvb7VmVni0f3SH0GgOFugOFrx3F2wDlc/ndOB+G/WyFz5H13/wfF3+7tfqGb9x5LLHHbT/Jt277eHur+97YLsO3n/ll1eOUeL8OjaJpIF6bdU1xjCz2Ob9/MaACkmiJJn/NyUqJIme1+h/TB/3Z/c8oCSR3vfWU1WrFXTtpedIkq65/p+jmOWenP2uurMQw8xia31vCj2n+eYy63z8rq69iaHRXpz30ntdDLPsldl7vd4TQv4Zu7c+v2AbqP6+qn5417364k3/ppP/fKs+8qmv6cKzXqaD9t+06HGlYkFTU9PdXzebLRWL+VU/7nFbjtYl7zh90T/ve/OpkqRqqShJqpSKqpZLnbeVi923V8slVeaua5WSysWCJKleKe+8rpZVKnSu+6oVFQudtTRqFRXz89dVFfKdZ0M26lUVcp3r/npV+bmfmdPfV1Nu7qlUA3015bKd0Q806spmOtcbGvXujnxjf58yyc7rZO4vxBv7+yR1vvmue51JtKFRlyRlMxkNzF3nshkN9NXmrrPqn7vO57Lqr1clSYVcTo3563xOjVrnupjPq1GrdK4LefVVO9elQkH1almSVC4WVK/svK5VSsvnXSqqWl5h3guuF827UlapuHjejwyNqF5dOO/KivNuPKp5Z9aY99z1LubdvV5z3vPXq807t8q88+pbx7xr5Z3XWwY2Ltg8SZlKQQPnH6/XXnyGPnnlBYv+qZZKKhUL2vdxA8ve98krL9DrT/0jFXM5FfI5XXjRxzUyNqHHH7JZH/nbc1QqFfSd/3uXvv7t76u/Xltl9nVlszvnnV0478ySeWvnvJMl856/Xj7v+dZ3b96FXcy7LWlssqnaonmXV5z3wnvLSn2vdm/pq5ZVmrufLL+3zDW95N6S795bVpt3bcV5r3Rv6c470Rr3lsxu31saq95b5uadXzrvueslfdfXMe803cvbknaMjHZnnLZ7+aLWuZev616+q3nXVp336veWwpJ7S1vSzOyscru8t/i8l0vL7y3cy+3v5eVSUZNTLbUVx718/j66O5KDDj3M7Pu33n7On+h7P/q5PvvlW7tv+8xVF+q8d16jn8091e9ZRx+lk084Rq9/y4fW/XEr5aI+e9WFOuXsrRqfaO7xda8lkbrfEOfxOkbZTEYzs7Mrvi+GmcU27+c1+vXyffZbtIlqt9u64aFt+urQ4GP62DHMLNTs1+rOQgwzi631vcliTtlMRrOzs8zb4bU3C9e+8F4Xwyx7afYer/eUUH/GrudzqpaL+til5+iE0y5a974h2AnUYQfvq5f+0XMWvS2fz2mqNb3obb+8/2EduHlj99cHbN6oe+9/WF60nV/HJlHnqwfJKu+PYWaxzfurQ4OaarfVnnt50Ha7ran27GPePElxzCzE7HfVnYUYZhZb63tT6DnNN7en1uBNDI324ryX3utimGWvzN7r9Z4Q8s/YvfX5BdtAjU80dfKLf0+//fQnKEkS/e4znqSjjjhQ3/4/P1r0uK/feode9sLnqNFX1X77DOiFx/6mvn7rHaGWici0JW0fGnF9s7Tw+p/+WDc8tE0PNid1w0Pb9Pqf3mm9JFfoDqHRHCzQHSykobtgL2P+4K8G9d7LP6NXnXis3vS6l+i+B7frr7Zep+2Do7ryva/T9V/8pm759h36wk3f0caBPl3xnjOVJNJnv3yrbrudv/z1slw2o+mZeJ5K5cVXhwb3yKlTr6I7hEZzsEB3sOC9u6A/B+q22+9ccTN0xpsu717Pzs7q6utu0tXX3RRyaYhUos43Ce4YHnX9lQr4QncIjeZgge5gIQ3dBd1AAburLWn78Kj1MtBj6A6h0Rws0B0spKG7oD9IF3g05l9mEgiJ7hAazcEC3cGC9+7YQCFqiTqv+R/Tq6Eh/egOodEcLNAdLKShO57Ch6i1Je1wfswLf+gOodEcLNAdLKShO06gEL35nxoNhER3CI3mYIHuYMF7d2ygELVEUq1ccn3MC3/oDqHRHCzQHSykoTuewoeotSXtGBmzXgZ6DN0hNJqDBbqDhTR0xwkUolfIsc9HeHSH0GgOFugOFrx3xwYKUUskVcpF18e88IfuEBrNwQLdwUIauvO9/UPqtSUNOj/mhT90h9BoDhboDhbS0B0nUIheIc8+H+HRHUKjOVigO1jw3h0bKESvXCxaLwE9iO4QGs3BAt3Bgvfu2EAhekOjvo954RPdITSagwW6gwXv3bGBQvSK+bz1EtCD6A6h0Rws0B0seO+ODRSiVyr6/k0Gn+gOodEcLNAdLHjvjg0Uojc0Om69BPQgukNoNAcLdAcL3rtjA4XoFQu+v0oBn+gOodEcLNAdLHjvjg0Uouf9ebLwie4QGs3BAt3Bgvfu2EAhesNjvo954RPdITSagwW6gwXv3bGBQvRKhYL1EtCD6A6h0Rws0B0seO+ODRSil89nrZeAHkR3CI3mYIHuYMF7d2ygEL2RsQnrJaAH0R1CozlYoDtY8N4dGyhEr1z0fcwLn+gOodEcLNAdLHjvjg0UopfL+j7mhU90h9BoDhboDha8d8cGCtEbGfd9zAuf6A6h0Rws0B0seO+ODRSi5/2YFz7RHUKjOVigO1jw3h0bKEQvmyVThEd3CI3mYIHuYMF7d75Xj54wOj5pvQT0ILpDaDQHC3QHC967YwOF6FVKResloAfRHUKjOVigO1jw3h0bKEQvSRLrJaAH0R1CozlYoDtY8N4dGyhEb2zC9zEvfKI7hEZzsEB3sOC9OzZQiF7V+TEvfKI7hEZzsEB3sOC9OzZQiJ/vU154RXcIjeZgge5gwXl3bKAQvbGJpvUS0IPoDqHRHCzQHSx4744NFKJXLZesl4AeRHcIjeZgge5gwXt3bKAQvXa7bb0E9CC6Q2g0Bwt0Bwveu2MDheiNT/o+5oVPdIfQaA4W6A4WvHfHBgrRqzk/5oVPdIfQaA4W6A4WvHfHBgrRm3V+zAuf6A6h0Rws0B0seO+ODRSi5/2YFz7RHUKjOVigO1jw3h0bKESvXilbLwE9iO4QGs3BAt3Bgvfu2EAhetMzM9ZLQA+iO4RGc7BAd7DgvTs2UIjeRHPKegnoQXSH0GgOFugOFrx3xwYK0fN+zAuf6A6h0Rws0B0seO+ODRSi13J+zAuf6A6h0Rws0B0seO+ODRSiN+n8mBc+0R1CozlYoDtY8N4dGyhEr69asV4CehDdITSagwW6gwXv3eVC/wsP3v9xuuxdZ+iMCy/Xtge3L3v/Z666UJkk6f76n//l/+ryj/1TyCUiMlOtlvUS0IPoDqHRHCzQHSx47y7oBiqTyeic0/9YhcLK/9r99t2gmekZveTM94VcFiI3OeX7Nxl8ojuERnOwQHew4L27oE/hO+n439EPfnLPqu8//ODNuvueBwOuCB54P+aFT3SH0GgOFugOFrx3F2wDddjB++q5z3yyPvqpr636mMMP2ay+WllXXHSm/v6y8/SXp/2xKuViqCXuEYnz6xg11/gqRQwzS9u81xLDzELNfq3uLMQwM1rfu9fNqRbzdnrtzcK1L7zXxTDLXpq9x+s9JdSfsXvr8wuygcplszr39Bfpkmv+QVOt6VUf15qe1g/vuldves9H9do3Xa6BRlWvf+V/X/NjH7flaF3yjtMX/fO+N58qSaqWOpuvSqmoarnUeVu52H17tVxSZe66VimpXCxI6rw2ffe6Wlap0Lnuq1ZULOQlSY1aRcX8/HVVhXznaYmNelWFXOe6v15VPpftXPfVlMt2rgf6asplO6MfaNSVzXSuNzTqymQ6/xk39vd1vxdsY3+fkiRRkiTa2N8nScosvM4k2tCoS5KymYwG5q5z2YwG+mrd/wb9c9f5XFb99aokqZDLqTF/nc+pUetcF/N5NWqdrw4UC/nuVwpKhYLq1c5r95eLhe7r+JeLBdUqpeXzLhVVLa8w7wXXi+ZdKatU3DnvUiGvZqvVmX1+5+xXmnfjUc07s8a85653Me/u9Zrznr9ebd65VeadV9865l0rL5z92vOurTrvskpzfS9tvTvvJa3nu63XVpl9XdnsznlnF847s2Te2jnvZMm856+Xz3u+9d2bd2Ed804yyZJ5l1eZ9857y8rzXvnesta8i4963rUV573SvaU770Rr3Fsyu31vaax6b5mbd37pvOeul/RdX8e803Yvb81Mp/pe3p099/Ko7uXlUiHV9/Kl9xbu5XHcy3Nzn3cM9/L5++juSA469LD2bv+/dtMrX/r7Khbz+vAnviJJuvHat+tV516y4otILHTEofvpr9/8Sr3k9Pfu1r+vUi7qs1ddqFPO3qrxieajXfajkkhqO76OUaNW0dDo+Irvi2FmaZv3WmKYWajZr9WdhRhmRut797pRq2h4dJx5O7z2ZuHaF97rYphlL83e4/WeEurP2PV8TtVyUR+79BydcNpF6943BHkRid95xpO0ob+m5z/3ad23XfauM3TpNV/S12+9o/u2l/7Rc3T7Hf+lu+95QJKUz+fUavn6QVtt59cxmljjZwXEMLO0zXstMcws1OzX6s5CDDOj9b17PdGcYt5Or71ZuPaF97oYZtlLs/d4vaeE+jN2b31+QTZQp73xskW/vvHat+ust1657ARq/3036OlPfrzefemnlMtm9KoTj9XN3/rPEEtExNZ62iewt9AdQqM5WKA7WPDenfkP0r3yva/Tlmc/RZJ09XU3afvgqK55/5/r6ovP1i/u+5U+8smbjVcIS4k6z01NrBeCnkJ3CI3mYIHuYCEN3QX/QbqS9IKT3969PuNNl3evxyea+psrP2ewIsSqrU4Xno/r4Q/dITSagwW6g4U0dGd+AgXsytS072Ne+ER3CI3mYIHuYMF7d2ygELU0HPPCH7pDaDQHC3QHC2nojg0UotaWNDYx6fqYF/7QHUKjOVigO1hIQ3dsoBC91rSvl7JHOtAdQqM5WKA7WPDeHRsoRC1R5ydyez7mhT90h9BoDhboDhbS0B0bKEStLWlkbML1MS/8oTuERnOwQHewkIbu2EAhetMzvo954RPdITSagwW6gwXv3bGBQtQSSRucH/PCH7pDaDQHC3QHC2nojg0UotaWNDw27vqYF/7QHUKjOVigO1hIQ3dsoBC96ZlZ6yWgB9EdQqM5WKA7WPDeHRsoRC2RtKFRd33MC3/oDqHRHCzQHSykoTs2UIhaW9LQyJjrY174Q3cIjeZgge5gIQ3dsYFC9GZmfR/zwie6Q2g0Bwt0Bwveu2MDhaglkjY6P+aFP3SH0GgOFugOFtLQHRsoRK0taYfzY174Q3cIjeZgge5gIQ3dsYFC9GadH/PCJ7pDaDQHC3QHC967YwOFqCWSNvX3uT7mhT90h9BoDhboDhbS0B0bKEStLWn70IjrY174Q3cIjeZgge5gIQ3dsYFC9Gbbnn+LwSu6Q2g0Bwt0Bwveu2MDhail4ZgX/tAdQqM5WKA7WEhDd2ygELW2pEecH/PCH7pDaDQHC3QHC2nojg0UHPD8Wwx+0R1CozlYoDtY8N0dGyhErfPD1nwf88IfukNoNAcLdAcLaeiODRSi1pb0yOCw869TwBu6Q2g0Bwt0Bwtp6I4NFKKXJJ6/RgGv6A6h0Rws0B0seO+ODRSilkja0Ki7PuaFP3SH0GgOFugOFtLQXc56AcBa2pIeHhy2XgZ6DN0hNJqDBbqDhTR0xwkUopfJeP4aBbyiO4RGc7BAd7DgvTs2UIhaImmgXnN9zAt/6A6h0Rws0B0spKE7nsKHqM3/sDUgJLpDaDQHC3QHC2nojhMoRC+bIVOER3cIjeZgge5gwXt3vleP1Esk9derro954Q/dITSagwW6g4U0dMdT+BC1NBzzwh+6Q2g0Bwt0Bwtp6I4TKEQvmyVThEd3CI3mYIHuYMF7d75Xj9RLJDWqFdfHvPCH7hAazcEC3cFCGrrjKXyIWlvS9uFR62Wgx9AdQqM5WKA7WEhDd5xAIXq5bNZ6CehBdIfQaA4W6A4WvHfHBgpRSyTVq2XXx7zwh+4QGs3BAt3BQhq64yl8iFpb0g7nx7zwh+4QGs3BAt3BQhq64wQK0cvnfB/zwie6Q2g0Bwt0Bwveu2MDhaglkmpl38e88IfuEBrNwQLdwUIauuMpfIhaW9KOEd/HvPCH7hAazcEC3cFCGrrjBArRy+fY5yM8ukNoNAcLdAcL3rtjA4WoJZKq5aLrY174Q3cIjeZgge5gIQ3d+d7+IfXakgZHxqyXgR5DdwiN5mCB7mAhDd1xAoXoFfLs8xEe3SE0moMFuoMF790F30AdvP/j9MVr3qr99t2w7H1JkuiMk1+gT17xRl1/+fk66fjfDb08RKhcLFovAT2I7hAazcEC3cGC9+6Cbv8ymYzOOf2PVSis/K89/vnP0FFHHKg/O/9S1aplXXTBKbrz7vv03e/fHXKZiMzQqO9jXvhEdwiN5mCB7mDBe3dBT6BOOv539IOf3LPq+7c86yn63Jdv1cjohLY9uF1fuvnf9YJjnh5whYhR0fkxL3yiO4RGc7BAd7DgvbtgG6jDDt5Xz33mk/XRT31t1ccctP8m3bvt4e6v73tguw7e/3EhlrfHJM6vY1QqFlZ9XwwzS9u81xLDzELNfq3uLMQwM1rfu9elYoF5O732ZuHaF97rYphlL83e4/WeEurP2L31+QXZQOWyWZ17+ot0yTX/oKnW9KqPKxULmpra+f5ms6ViMb/mxz5uy9G65B2nL/rnfW8+VZJULXWeX1kpFVUtlzpvKxe7b6+WS6rMXdcqJZXn/mPWK+Wd19WySoXOdV+1omKhs55GraJifv662v1muEa9qsLca9v316vK57Kd676actnO9UBfTblsZ/QDjbqymc71hkZdmUznP+PG/j5lkp3XSZIoSRJt7O+TJGUWXmcSbWjUJUnZTEYDc9e5bEYDfbXuf4P+uet8Lqv+elWSVMjl1Ji/zufUqHWui/m8GrVK57qQV1+1c10qFFSvliVJ5WJB9crO61qltHzepaKq5RXmveB60bwr5e5vqr5qRaVCXkOj453Z53fOfqV5Nx7VvDNrzHvuehfz7l6vOe/569XmnVtl3nn1rWPetfLC2a8979qq8y6rNNf30ta7817Ser7bem2V2deVze6cd3bhvDNL5q2d806WzHv+evm851vfvXkX1jHvZmt6ybzLq8x7571l5XmvfG9Za97FRz3v2orzXune0p13ojXuLZndvrc0Vr23zM07v3Tec9dL+q6vY95pu5ePjE+k+l7enT338qju5UmSpPpevvTewr08jnv59Mxsd97W9/L5++juSA469LD2bv+/dtMrX/r7Khbz+vAnviJJuvHat+tV516ibQ9uX/S4z1x1oc575zX62T0PSpKedfRROvmEY/T6t3xot/59lXJRn73qQp1y9laNTzT3yOewXok6L8/o9TpGxUJezanWiu+LYWZpm/daYphZqNmv1Z2FGGZG63v3uljIa2qqxbwdXnuzcO0L73UxzLKXZu/xek8J9Wfsej6narmoj116jk447aJ17xuCPAHxd57xJG3or+n5z31a922XvesMXXrNl/T1W+/ovu2X9z+sAzdv7G6gDti8Uffe//CyjxeztvPrGBXzq/8mi2FmaZv3WmKYWajZr9WdhRhmRut793ppc8zbz7U3C9e+sLsYZtlLs/d4vaeE+jN2b31+QTZQp73xskW/vvHat+ust1657ATq67feoZe98Dn63o9/oUqpoBce+5v60LU3hlgiIjY8Nm69BPQgukNoNAcLdAcL3rszfwmMK9/7Ol3/xW/qlm/foS/c9B1tHOjTFe85U0kiffbLt+q22++0XiKMlQp5TUZ0EoDeQHcIjeZgge5gwXt3JhuoF5z89u71GW+6vHs9Ozurq6+7SVdfd5PBqhCrQj7n+jcZfKI7hEZzsEB3sOC9u6A/Bwp4NIbHJqyXgB5EdwiN5mCB7mDBe3dsoBC9+ZeuBEKiO4RGc7BAd7DgvTs2UIje/Ov0AyHRHUKjOVigO1jw3h0bKERvZNz3MS98ojuERnOwQHew4L07NlCInvdjXvhEdwiN5mCB7mDBe3dsoBC9bJZMER7dITSagwW6gwXv3flePXrC6Pik9RLQg+gOodEcLNAdLHjvjg0UolcpFa2XgB5EdwiN5mCB7mDBe3dsoBC9TJJYLwE9iO4QGs3BAt3Bgvfu2EAheqMTvo954RPdITSagwW6gwXv3bGBQvS8H/PCJ7pDaDQHC3QHC967YwOF6Dk/5YVTdIfQaA4W6A4WvHfHBgrRG5toWi8BPYjuEBrNwQLdwYL37thAIXrVcsl6CehBdIfQaA4W6A4WvHfHBgrRa7fb1ktAD6I7hEZzsEB3sOC9OzZQiN74pO9jXvhEdwiN5mCB7mDBe3dsoBC9mvNjXvhEdwiN5mCB7mDBe3dsoBC9WefHvPCJ7hAazcEC3cGC9+7YQCF63o954RPdITSagwW6gwXv3bGBQvRqlbL1EtCD6A6h0Rws0B0seO+ODRSiNzMzY70E9CC6Q2g0Bwt0Bwveu2MDhehNNKesl4AeRHcIjeZgge5gwXt3bKAQvbrzY174RHcIjeZgge5gwXt3bKAQvZbzY174RHcIjeZgge5gwXt3bKAQvUnnx7zwie4QGs3BAt3Bgvfu2EAhen1V38e88InuEBrNwQLdwYL37thAIXpTrWnrJaAH0R1CozlYoDtY8N4dGyhEb3KqZb0E9CC6Q2g0Bwt0Bwveu2MDhej1VSvWS0APojuERnOwQHew4L07NlCIXrPl+6sU8InuEBrNwQLdwYL37thAIXpN58e88InuEBrNwQLdwYL37thAIXqNmu9jXvhEdwiN5mCB7mDBe3dsoBC9Cec/KwA+0R1CozlYoDtY8N4dGyhEz/tLXcInukNoNAcLdAcL3rtjA4WoJZL6a1Ul1gtBT6E7hEZzsEB3sJCG7thAIWptSePNptrWC0FPoTuERnOwQHewkIbu2EAhet6PeeET3SE0moMFuoMF792xgULUEkn9dd/HvPCH7hAazcEC3cFCGrpjA4WotSWNTfg+5oU/dIfQaA4W6A4W0tAdGyhErzXt+5gXPtEdQqM5WKA7WPDeHRsoRC2RNFCvuT7mhT90h9BoDhboDhbS0B0bKEStLWl0YsL1MS/8oTuERnOwQHewkIbuctYLAHalNT1jvQT0ILpDaDQHC3T32F39/rPU31db8X133/Og3vjOv9PfX36uCvn8io/5wldu08c//XVJ0ievfKMymZXPN1562nu715/68AVKkuVnOO12Wy87/a+7v77+ivOVyS7/eFPNlk4+e+uqn9Pe5r07NlCIWiKpv6+mweFR11+pgC90h9BoDhbobs8oFQuLNjcLfeQDb5Akzc62V3zMGf/fC/SkXzu4++up1rROPmv5xmb+48xrTrXW9bhf/PIhXfDujy573NvOPWnF9YaQhu54Ch+i1pY0Mub7mBf+0B1Cozlje6juAAAgAElEQVRYoDtYSEN3bKAQvekZ38e88InuEBrNwQLdwYL37thAIWqJpA19ddev1AJ/6A6h0Rws0B0spKG7oN8DteXZT9HJJxyjDf113Xv/r/Shj9+oH95177LHfeaqC5VZ8I1x//wv/1eXf+yfQi4VkWhLGhobc33MC3/oDqHRHCzQHSykobtgG6gD99uos171Ql3w7o/opz/fpuO2HK23vuFEveKs9y963H77btDM9Ixecub7Qi0NkZuZmbVeAnoQ3SE0moMFunt0ztxnPz213qfvjQxbL8Ul790FewrfL7c9oj896/366c+3KZ/LqlYtaXhkYtnjDj94s+6+58FQy0LkEkkbG76PeeEP3SE0moMFunt0PnzEUXp6o1/5bLbzvwnfEbM70tBd0KfwTTandPghm3XJO0/XzMys3v7+65Y95vBDNquvVtYVF52pRr2qf//Pu3TltTdqfKIZcqmPWiJ1jyQ9XsemLWlwZPVj3hhmlqZ570oMMwsx+111ZyGGmdH63r0eHBnbY2vwJoZGe3HeS+91Mcwy9tm/ft/9lSRJ92cwJUmiJJfRp69604qPn5ickiQVC/lVH3PXz+7vfk5rPW7h573W4xY+/vGHbNYnr7xg2fva7fayjxlq3iH/jF3v57fbH/egQw8L2mB27od5/f5znqrXnnKcXn3uJRoa3vmHxite9Fxt6K/r45+5Re22dN5rX6SR0Qld/KHPrfjxjttytI7bcvSit2WSREcctp9ee/4H9asdw6qUikqSRGMTk6qWi1JbGptsqlouqd1ua3yyqVqlpJmZWU00p1SvlDU9M9O5rpbVas1ocmpKfdWKmq2WmlMtNWoVTTZbarZaatSqmmg2NdWaVn+9qvGJpqampzVQr2p0YlKt6RkN9NU0Mjah6ZkZbeiraXhsXNMzs9rQqGtoZEwzs7Pa2Khrx8ioZmfb2tTfp+1DI5ptd64fGRqR1NmxPzw4rEySaMP8dSbRQL2mR4ZGlM1k1KhXtX1oRLlsRn3VirYPjyqXzapeLWvH8GjnBLBc0o6RMRVyOVXKRQ2OjKmQz6lcLGpodEzFfF6lYl5Do+MqFvIq5vMaHhtXqVBQPp/VyNiEysWCctmsRsY719lsRqPjk4vnXSpKiTQ2sWTe5ZJm564XzbtSVmtmRpPNzrynWi1NTrU6s5+an3dFE82pZfPur1c1ttvzHtPs7Owq825rY6NPjwwOK1lj3v31auc6m1Fj1XmXtWNkVPlcTtUV551TqVhYYd55FfI5De9i3pkk0ejE/OzXnnetUtbMivMua6o1vXPeC1rvzrtW1fiC1scmmmpNT2ugXtPoxMQKs69raGxMMzOdeQ/OzX5Tf5+2D490W39kaERqt7WxvzNvJcnO1jOJNvR1rpfPu6rtwyPrnnelWNTg6Pzs1553qVhQftG8sxodn1hh3jvvLe22Vpj3yveWteY92ZxSszW97N6y63nXNDQ2vmzeK91b2vPzHhqWlKxyb8loYH7e67y3VMulzryX3Vvm5p3Pq1hYOO+56yXznm99rXlzL+dezr2ce3noe/nWAw9TPptd9vfR1syMLnjgXu7lDu/lB+yzQZe85wydcNpF6z6wCb6BWuiKi87U33/+X/TNf/vBqo854tD99NdvfqVecvrKP6BsJZVyUZ+96kKdcvbW4CdXMXw1xtNXcnYlkbo34pXWGMPM0jTvXYlhZiFmv6vuLMQwM1rfe9dSp7ntg8Oa3c3/L/O2v/Zmfu1L73UxzDL22Z+5z356eqO/ewIldU5zbh8a1BUPbdvl/z+GmVnPO+Sfsev5nKrloj526Tm7tYEK9qTNZ/zGkXrHea9Y9LZ8Lqvx8clFb3vpHz1Hjz94887H5HNqtfy8Vnzb+XVs2pK2D4+susYYZpamee9KDDMLMftddWchhpnR+t67nm9udp2P39W1NzE02ovzXnqvi2GWsc/+ioe2qd1ud58CN3+9ns2TFMfMrOcd8s/YvfX5BdtA3fWzbXrSkQfrd37rScpkMvoff/AMZbNZ3fHjXyx63P77btBr/uQPVK2U1KhX9KoTj9XN3/rPUMtEhGZnPf8xBa/oDqHRHCzQ3e47/ac/1u1Dg2rNzOj2oUGd/tMfWy/JHe/dBdtA7Rga1Ts+cL1e8aLn6lMfeqOe/ZtH6X9efK2mWtO68r2v05ZnP0WSdPV1N2n74Kiuef+f6+qLz9Yv7vuVPvLJm0MtE5FJJG3q71Oyy0cCew7dITSagwW6e/SueGibzvyvO9d98oSd0tBd0Ffh+96Pfq7XveVDy95+xpsu716PTzT1N1eu/IIR6D1tSY8MxfVUKqQf3SE0moMFuoOFNHTHC9cjfm3Pv8XgFt0hNJqDBbqDBefdsYFC1OZfqcXzMS/8oTuERnOwQHewkIbu2EAham0pqpeSRm+gO4RGc7BAd7CQhu7YQCF+ieevUcAtukNoNAcLdAcLzrtjA4WoJZI2Nuquj3nhD90hNJqDBbqDhTR0F/RV+IDd1Zb08OCw9TLQY+gOodEcLNAdLKShO06gEL1MxvPXKOAV3SE0moMFuoMF792xgULUEkkb+nwf88IfukNoNAcLdAcLaeiOp/Ahamk45oU/dIfQaA4W6A4W0tAdJ1CIXjZDpgiP7hAazcEC3cGC9+58rx6pl0jqr1ddH/PCH7pDaDQHC3QHC2nobt1P4fv95zxV2x7aoURa9oOvEkmb9xnQ1771vT26OKAt6ZGhEetloMfQHUKjOVigO1hIQ3fr3kAdfMDj1twgPeNpv7ZHFgQslc1mNDMza70M9Bi6Q2g0Bwt0Bwveu1v3U/h2dczm+RgO8UokNaq+j3nhD90hNJqDBbqDhTR0t+4TqKVP29vd9wOPRlvS9mHfx7zwh+4QGs3BAt3BQhq640UkEL1cNmu9BPQgukNoNAcLdAcL3rtjA4WoJZLq1bLrY174Q3cIjeZgge5gIQ3d8YN0EbW2pB3Do9bLQI+hO4RGc7BAd7CQhu7WvYFqtab1xCMPWvQy5vPXydz7gb0hn8uqNT1jvQz0GLpDaDQHC3QHC967W/cG6hOf+8aa7//hXfc+5sUASyWSauWyBkdGeaESBEN3CI3mYIHuYCEN3fEUPkStLWnHiO9jXvhDdwiN5mCB7mAhDd3xIhKIXj7HPh/h0R1CozlYoDtY8N7dulf/ihf9nr77g7tX/R6o3/j1x+vvP7/20/yA3ZVIqpaLGhqZdnvMC3/oDqHRHCzQHSykobt1b6CKhZx+tMb3OT3zab+2RxYELNSWNDgyZr0M9Bi6Q2g0Bwt0Bwtp6G7dT+Hb1Q7R6w4S8SvkfR/zwie6Q2g0Bwt0Bwveu+N7oBC1RFKlWHT9w9bgD90hNJqDBbqDhTR053v7h9RrSxoc9X3MC3/oDqHRHCzQHSykoTtOoBA978e88InuEBrNwQLdwYL37ta9gdrVMZvnYzjErVwsWC8BPYjuEBrNwQLdwYL37ta9/bvnvl/piUcetOhlzOclc+8H9oah0XHrJaAH0R1CozlYoDtY8N7dujdQN3/re2u+/4drvMQ58FgUC3k1p1rWy0CPoTuERnOwQHew4L07vgcK0Svm89ZLQA+iO4RGc7BAd7Dgvbt1n0Cde/qL9E+3/Mey73Vqq/MUvuO2HK33f/jze3RxgCQNj/k+5oVPdIfQaA4W6A4WvHe37g3U9sER/WiNp+k982m/tkcWBCxVKuQ16fiYFz7RHUKjOVigO1jw3t26n8K39IUjdvf9wKPl/aUu4RPdITSagwW6gwXv3fE9UIje8NiE9RLQg+gOodEcLNAdLHjvjg0Uoldy/rMC4BPdITSagwW6gwXv3bGBQvTy2az1EtCD6A6h0Rws0B0seO9u3Ruopa++t7vvBx6tkXHfx7zwie4QGs3BAt3Bgvfu1v0dXP/23Z/oiUcetOL7krn3A3tDuVjQRHPKehnoMXSH0GgOFugOFrx3t+4N1A/XeAlzYG/KOj/mhU90h9BoDhboDha8d8f3QCF6o86PeeET3SE0moMFuoMF7935fhF29IRKqag3nHa8nvaUx6/4/htv/g9dc8NXtfVtr9aBBzxuxcds/dDnddvtd0qSrrr4LDUa1RUfd+Lpf929/vglf6liafmrxMzOzOqkMy/u/vr6K85XJrv8axFTzZZOPnvr6p8YolYpFTU+2bReBnoIzcEC3cHCfHcXnv2yaP5+d8Pl5+t/vOpd61o/GyhEL5Mk6u+rLIp/obede5IkqTU9s+Jjjnn2k3Xk4ft3f4NtHxzRaedfturHmXf/g9t1wbs/usvH/eKXD63rcfAlk/DSOAiL5mCB7mBhvrsY/n5XKRf18UvP0Y9+uv5vV+IpfIje6MSk9RLQg+gOodEcLNAdLHjvjg0UolcpFa2XgB5EdwiN5mCB7mDBe3dBn8K35dlP0cknHKMN/XXde/+v9KGP37js1f2SJNHpf/qHOvY5T9Vsu63P33ibrv/iN0MuE5FJeHoBDNAdQqM5WKA7WPDeXbAN1IH7bdRZr3qhLnj3R/TTn2/TcVuO1lvfcKJecdb7Fz3u+Oc/Q0cdcaD+7PxLVauWddEFp+jOu+/Td79/d6ilIiLPa/RrS/8G1Z2/3CX8GXP+9AL4Q3OwQHcIbf7vdrcMbrdeyqMWbAP1y22P6E/Per8mm1PK57KqVUsaHln+EoZbnvUUffbLt2pkdEIjoxP60s3/rhcc83Q2UD3og0ccpUKSKEkS1XJ5ffCIo/T6n/7YelnoEdVyUWMTvDIVwqE5WKA7hLTw73Yv32c/VYsl6yU9KkG/B2qyOaXDD9msz1/zFp3yki368Ce+suwxB+2/Sfdue7j76/se2K6D91/5pQtjlDi/jsXzGwPd32AdiQpJouc1+hc9brW1W81sd9fjTQyNhmq93d6NBwcQw8zScG9ZL4s5tdvM2+u1NwvXvvBeF8Mse2n2Hq8fi6V/t0uSRBlp2d/t9qS99fkFfxnzn//yIR3/qnfp95/zVL3lDSfq1edeoqHhse77S8WCpqamu79uNlsqFvOrfrzjthyt47Ycveht8y+NWC0VNT7RVKVUVJIkGpuYVLVclNrS2GRT1XJJ7XZb45NN1SolzczMaqI5pXqlrOmZmc51taxWa0aTU1Pqq1bUbLXUnGqpUatostlSs9VSo1bVRLOpqda0GvWqxieampqeVn+9qtGJSbWmZ9TfV9PI2ISmZ2Y00FfT8Ni4pmdmNdCoa2hkTDOzs9rQqGvHyKhmZ9va2N+n7UMjmm13rh8ZGpEkbWzU9fDgsDJJog3z15lEA/WaHhkaUTaTUaNe1fahEeWyGfVVK9o+PKpcNqt6tawdw6OdE8BySTtGxlTI5VQpFzU4MqZCPqdysaih0TEV83mVinkNjY6rWMirmM9reGxcpUJB+XxWI2MTKhcLymWzGhnvXGezGY2OTy6ed6koJdLYxJJ5l0uanbteNO9KWa2ZGf1e/8Ci58dmKgUNnH+8Xivp9CV/sf2vn2+TJG3eZ0CfvPKCZY0kifSPX/2OJGmgUddB+29a/rhkZzfz8z70oH11w4cvkNo7H6N25+NtaNS78378IZtX/Pe25/5U6sy7rB0jo8rncqquOO+cSsXCCvPOq5DPaXgX884kiUYn5me/9rxrlbJmlsx7sjmlvmpZU61pTU61lrU+0Zzq9F2ranxB62MTTbWmp9Vfr2l0YmKF1usaGhvTzEyn78G51jf292n78Ei39UeGRqT51geHpSTZ2Xom0Ya+znU2k1F/vdqZfTajRrWq7cMjK/S98rwrxaIGR+dnv/a8Z9tt1SvlBfPOanR8YoV577y3tNtaYd4r31vWmvdkc0rNuXlP7Na8axoaG18275XuLe3uvWVYUrLKvSWjgfl5r/PeUi2XOvNedm+Zm3c+r2Jh4bznrosF5Rf0Pd/6WvNO2718cmpq0b0lDffyzr2loqlWa2frU/PzXnBvWTDvTuu7O+8xzc7fW5bNu62Njc69JVnjz87F95bV5p2+e3khn1Nreia19/Kl9xbu5Xb38i0DG5d971OmUtRrLz5j2d/tJOnuXzywy7/f/dNX/12S1KhVdNABK/z9TlIm0/l3zt/LDz1oX92w8HFzS3ryEw5ZvohVJAcdepjZ11mvuOhM/f3n/0Xf/LcfdN/2masu1HnvvEY/u+dBSdKzjj5KJ59wjF7/lg+t++NWykV99qoLdcrZWzUe+Fh67u/Ybq9j8bxGv16+z36LfqO1223d8NA2fXVosPu2GGaWhnmvVwwzCzX7WrkU1cusxjAzWt+717VySWMTk8zb4bU3C9e+8F4Xwyx7afYerx+L9f7dbk9az+dULRf1sUvP0QmnXbTufUOwp/A94zeO1DvOe8Wit+VzWY2PL/4Lyi/vf1gHbt7Y/fUBmzfq3vsflhdt59ex+OrQoKba7e4pTrvd1lR7dtlvsBhmloZ5r1cMMws1+9nInsMXw8xofe9ez7bbzNvptTcL177wXhfDLHtp9h6vH4v1/t1uT9pbn1+wDdRdP9umJx15sH7nt56kTCaj//EHz1A2m9UdP/7Fosd9/dY79LIXPkeNvqr222dALzz2N/X1W+8ItUxE5PU//bFueGibHmxO6oaHtun1P73TeknoIeOTfFM1wqI5WKA7hJSWv9sF+x6oHUOjescHrtdrT36B/vK04/WTn92v/3nxtZpqTevK975O13/xm7rl23foCzd9RxsH+nTFe85Ukkif/fKtuu12n8PFY/fVoUHd1prU6Hg8T6VCb6hVSnSHoGgOFugOoaXh73ZBX0Tiez/6uV63wvcynfGmy7vXs7Ozuvq6m3T1dTeFXBoiNjMza70E9CC6Q2g0Bwt0Bwveuwv6MubAozHRnLJeAnoQ3SE0moMFuoMF792xgUL06pWy9RLQg+gOodEcLNAdLHjvjg0Uojc9M2O9BPQgukNoNAcLdAcL3rtjA4XoeT/mhU90h9BoDhboDha8d8cGCtHrq/o+5oVPdIfQaA4W6A4WvHfHBgrRm2pNWy8BPYjuEBrNwQLdwYL37thAIXqTUy3rJaAH0R1CozlYoDtY8N4dGyhEr69asV4CehDdITSagwW6gwXv3bGBQvSaLd9fpYBPdIfQaA4W6A4WvHfHBgrRazo/5oVPdIfQaA4W6A4WvHfHBgrRa9R8H/PCJ7pDaDQHC3QHC967YwOF6E06/1kB8InuEBrNwQLdwYL37thAIXpN5y91CZ/oDqHRHCzQHSx4744NFKLXqFWtl4AeRHcIjeZgge5gwXt3bKAQvYlm03oJ6EF0h9BoDhboDha8d8cGCtHz/tOq4RPdITSagwW6gwXv3bGBQtQSSf31qhLrhaCn0B1CozlYoDtYSEN3bKAQtbaksYmm2tYLQU+hO4RGc7BAd7CQhu7YQCF6rWnfx7zwie4QGs3BAt3Bgvfu2EAhaomkgXrN9TEv/KE7hEZzsEB3sJCG7thAIWptSaMTE66PeeEP3SE0moMFuoOFNHTHBgrRa03PWC8BPYjuEBrNwQLdwYL37thAIWqJpIE+38e88IfuEBrNwQLdwUIaumMDhai1JY2M+T7mhT90h9BoDhboDhbS0B0bKERvesb3MS98ojuERnOwQHew4L07NlCIWiJpg/NjXvhDdwiN5mCB7mAhDd2xgULU2pKGxsZdH/PCH7pDaDQHC3QHC2nojg0UojczM2u9BPQgukNoNAcLdAcL3rtjA4WoJZI2Nuquj3nhD90hNJqDBbqDhTR0xwYKUWtLGhwZc33MC3/oDqHRHCzQHSykoTs2UIjezKzvY174RHcIjeZgge5gwXt3bKAQtTQc88IfukNoNAcLdAcLaeiODRSi1pa0Y2TU9TEv/KE7hEZzsEB3sJCG7thAIXqzs55/i8ErukNoNAcLdAcL3rtjA4WoJZI29fe5PuaFP3SH0GgOFugOFtLQHRsoRK0tafvQiOtjXvhDdwiN5mCB7mAhDd2xgUL02m3Pv8XgFd0hNJqDBbqDBe/dsYFC1BJJG50f88IfukNoNAcLdAcLaeiODRSi1pb0yNCw62Ne+EN3CI3mYIHuYCEN3bGBggOev0YBv+gOodEcLNAdLPjujg0UopaGH7YGf+gOodEcLNAdLKShu5z1AoC1tCU9PDhsvQz0GLpDaDQHC3QHC2nojhMoRC+TeP4aBbyiO4RGc7BAd7DgvTs2UIhaImmD82Ne+EN3CI3mYIHuYCEN3fEUPkQtDce88IfuEBrNwQLdwUIauuMECtHLZMgU4dEdQqM5WKA7WPDene/VI/USSQP1qutjXvhDdwiN5mCB7mAhDd0FfQrfbz/9CXrVicdq08aG7tv2iK689kb94Cf3LHpMX62i6y8/X82pVvdtn/jcN/Tpf/xWyKUiEp0ftjZivQz0GLpDaDQHC3QHC2noLtgGavPjBnT+a1+st2+9Tt+/8x4d86wn6+3n/Ile+Zcf0PhEs/u4ww/ZrP/6xTad/T8/HGppiFw2k9HM7Kz1MtBj6A6h0Rws0B0seO8u2FP49tnU0JdvuV13/PgXarfbuuXbd2i23dZB+29a9LjHH7JZd9/zYKhl7XGJ8+vYJJIaaxzzxjCzNM17V2KYWYjZ76o7CzHMjNb33vV8c5l1Pn5X197E0GgvznvpvS6GWfbK7L1e7wkh/4zdW59fsA3U9370c1193U3dXx91+IEqFwu6b9sjix53+CGbdfD+m/S//+ZsffySc/SaP3m+ctnsqh/3uC1H65J3nL7on/e9+VRJUrVUlCRVSkVVy6XO28rF7tur5ZIqc9e1SknlYkGSVK+Ud15XyyoVOtd91YqKhbwkqVGrqJifv66qkO8c5jXqVRVynev+elX5XGft/X217ucx0FdTLtsZ/UCjruzcN9JtaNSVyXT+M27s7+u+Rv7G/j4lSaIkSbSxv09S5/Xzu9eZRBsadUmdHf3A3HUum9FAX23uOqv+uet8Lqv+elWSVMjl1Ji/zufUqHWui/m8GrVK57qQV1+1c10qFFSvliVJ5WJB9crO61qltHzepaKq5RXmveB60bwrZZWKi+e9fWhE9erCeVdWnHfjUc07s8a85653Me/u9Zrznr9ebd65VeadV9865l0rL5z92vOurTrvskpzfS9tvTvvJa3nu63XVpl9XdnsznlnF847s2Te2jnvZMm856+Xz3u+9d2bd2EX825LGp9sqrZo3uVV5r3z3rLyvFe+t6w17+KjnndtxXmvdG/pzjvRGveWzG7fWxqr3lvm5p1fOu+56yV919cx7zTdy9uSBkdGuzNO2718Uevcy6O5l7clzc7OKpfSe7m0/N7Cvdz+Xl4uFdWcaqmtOO7l8/fR3ZEcdOhh7d3+fz1G++27QRe/5VR9/iu36dP/+O1F73v9K/+7Rscm9al//JZqlZLe+oYT9X++91N97NO3rPvjV8pFffaqC3XK2VsXPT0whESd53Z6vY5RLpvR9MzKx7wxzCxt815LDDMLNfu1urMQw8xofe9e57IZzczMMm+H194sXPvCe10Ms+yl2Xu83lNC/Rm7ns+pWi7qY5eeoxNOu2jd+4bgr8L3hMMP0Nb/9Wp9+Zb/WLZ5kqQPfvSf9NFPf03jE0099MiQbviHf9Wznn5U6GU+am3n17FJ1PkKQ7LK+2OYWZrmvSsxzCzE7HfVnYUYZkbre+96vrk9tQZvYmi0F+e99F4Xwyx7ZfZer/eEkH/G7q3PL+gG6rf+25F6zwWn6KOf+po+8blvrPiYU088Vps29HV/nc/lNNWaDrVERKYtafvwqOubJfyhO4RGc7BAd7CQhu7CvYjExoYuPOul2nrVF3Tj129f9XFHHra/Tn3ZsSrkc9p3U79OOv53dfO//meoZSJCa30PHLC30B1CozlYoDtY8N5dsA3Ui497lkrFgs4748X63NVv7v7z1Cceqs9d/Wb9+hMOliRt/fDnVa0U9YnLztUH/uo1+tb/+ZG++M/fCbVMRCZR5xsGY3oqFdKP7hAazcEC3cFCGroL9nOgrrz2Rl157Y0rvu/Fr3lP9/qRHSP6q7+9PtSyELm2pB3Do9bLQI+hO4RGc7BAd7CQhu6Cv4gEsLvmX3ISCInuEBrNwQLdwYL37thAIWqJOj8XwPMxL/yhO4RGc7BAd7CQhu6CPYUPeDTakgZHxqyXgR5DdwiN5mCB7mAhDd1xAoXozf8EaSAkukNoNAcLdAcL3rtjA4WoJZIq5aLrY174Q3cIjeZgge5gIQ3d+d7+IfXScMwLf+gOodEcLNAdLKShO06gEL1Cnn0+wqM7hEZzsEB3sOC9OzZQiF65WLBeAnoQ3SE0moMFuoMF792xgUL0hkbHrZeAHkR3CI3mYIHuYMF7d2ygEL1iPm+9BPQgukNoNAcLdAcL3rtjA4XoFQu+f5PBJ7pDaDQHC3QHC967YwOF6A2P+T7mhU90h9BoDhboDha8d8cGCtErOf8qBXyiO4RGc7BAd7DgvTs2UIhewfnzZOET3SE0moMFuoMF792xgUL0vB/zwie6Q2g0Bwt0Bwveu2MDheiVnP+sAPhEdwiN5mCB7mDBe3dsoBC9fDZrvQT0ILpDaDQHC3QHC967YwOF6I2MT1gvAT2I7hAazcEC3cGC9+7YQCF6ZefHvPCJ7hAazcEC3cGC9+7YQCF6OefHvPCJ7hAazcEC3cGC9+7YQCF63o954RPdITSagwW6gwXv3bGBQvQqpaL1EtCD6A6h0Rws0B0seO+ODRSil0kS6yWgB9EdQqM5WKA7WPDeHRsoRG90YtJ6CehBdIfQaA4W6A4WvHfHBgrR837MC5/oDqHRHCzQHSx4744NFKKXOD/mhU90h9BoDhboDha8d8cGCtEbc37MC5/oDqHRHCzQHSx4744NFKJXLfs+5oVPdIfQaA4W6A4WvHfHBgrxa1svAD2J7hAazcEC3cGC8+7YQCF6Y5NN6yWgB9EdQmcJyhwAABuaSURBVKM5WKA7WPDeHRsoRK9aLlkvAT2I7hAazcEC3cGC9+7YQCF67bbzc164RHcIjeZgge5gwXt3bKAQvXHnx7zwie4QGs3BAt3Bgvfu2EAherWK72Ne+ER3CI3mYIHuYMF7d2ygEL2ZmVnrJaAH0R1CozlYoDtY8N4dGyhEb6I5Zb0E9CC6Q2g0Bwt0Bwveu2MDhejVK2XrJaAH0R1CozlYoDtY8N4dGyhEb3pmxnoJ6EF0h9BoDhboDha8d8cGCtHzfswLn+gOodEcLNAdLHjvjg0Uolev+j7mhU90h9BoDhboDha8d8cGCtFrtXwf88InukNoNAcLdAcL3rtjA4XoTU75PuaFT3SH0GgOFugOFrx3xwYK0eurVqyXgB5EdwiN5mCB7mDBe3dsoBC9ZqtlvQT0ILpDaDQHC3QHC967YwOF6DWnfP8mg090h9BoDhboDha8d8cGCtFr1Hwf88InukNoNAcLdAcL3rvLhfyX/fbTn6BXnXisNm1s6L5tj+jKa2/UD35yz6LHFPI5/cVrjtczn/Zrmpic0sc/c4u+8o3vhlwmIjPZ9P1VCvhEdwiN5mCB7mDBe3fBTqA2P25A57/2xbrsI/+ol57+Xn3uxlv19nP+RJVycdHjTj3xWJVLBb3i7Pfrr/72ev3ZSX+gA/fbGGqZiJD358nCJ7pDaDQHC3QHC967C7aB2mdTQ1++5Xbd8eNfqN1u65Zv36HZdlsH7b9p0eO2PPspuv6L31Sz2dJdP7tf37jt+3r+c58WapmIUKNWtV4CehDdITSagwW6gwXv3QXbQH3vRz/X1dfd1P31UYcfqHKxoPu2PdJ9W61S0kCjpnvvf7j7tvse2K6DD3hcqGU+Zonz6xhNNJurvi+GmaVt3muJYWahZr9WdxZimBmt793riWaTeTu99mbh2hfe62KYZS/N3uP1nhLqz9i99fmZvIjEfvtu0FvfcKI+9pmvaXR8svv2UqkgSZqamu6+rTnVUrGQX/VjHbflaF3yjtMX/fO+N58qSaqWOk8PrJSKqpZLnbeVi923V8slVeaua5WSysXOv79eKe+8rpZVKnSu+6qV7loatYqK+fnrqgr5zreTNepVFXKd6/56VflctnPdV1Mu27ke6Kspl+2MfqBRVzbTud7QqCuT6fxn3Njfp0yy8zpJEiVJoo39fZKkzMLrTKINjbokKZvJaGDuOpfNaKCvNnedVf/cdT6XVX+9s/Mv5HJqzF/nc92vCBTz+e43+BUL+e7r9ZcKBdWrZUlSuVhQvbLzulYpLZ93qahqeYV5L7heNO9KWaXiznmXCnlNtaY7s8/vnP1K8248qnln1pj33PUu5t29XnPe89erzTu3yrzz6lvHvGvlhbNfe961VeddVmmu76Wtd+e9pPV8t/XaKrOvK5vdOe/swnlnlsxbO+edLJn3/PXyec+3vnvzLqxj3plMZsm8y6vMe+e9ZeV5r3xvWWvexUc979qK817p3tKdd6I17i2Z3b63NFa9t8zNO7903nPXS/qur2PeabuXT8/MpPpe3p099/Ko7uWVUjHV9/Kl9xbu5XHcy+dnEMO9fP4+ujuSgw49rL3b/6/H4AmHH6C3n/Mn+tJX/12f+Nw3Fr2vVi3r01deoBNOu0jjE52d6Yv+8Lf11Cceqnd84Pp1/zsq5aI+e9WFOuXsrd2PE0oiqe34OjaJOvEPjYytuMYYZpamee9KDDMLMftddWchhpnR+t67ljrNDY+MaXYPfExvYmi0F+e99F4Xwyx7ZfZer/eEkH/GrudzqpaL+til5yzaf+xK0BOo3/pvR+o9F5yij37qa8s2T5I0OjahwaGxRS8accB+G3XvtoeXPTZWbefXsWlLGp9orrrGGGaWpnnvSgwzCzH7XXVnIYaZ0freu55vbnadj9/VtTcxNNqL8156r4thlr0ye6/Xe0LIP2P31ucX7kUkNjZ04Vkv1darvqAbv377qo/7+m136OQTjlG5VNARh+6n33vmr+sbt34/1DIRoanp6V0/CNjD6A6h0Rws0B0seO8u2Abqxcc9S6ViQeed8WJ97uo3d/956hMP1eeufrN+/QkHS5L+7pM3a3B4TB/527/Q//qLk3TlJ76iu+95INQyEZlE0kC92n2KCxAC3SE0moMFuoOFNHQX7AfpXnntjbry2htXfN+LX/Oe7nWz2dLWD38h1LIQubak0YlJ18f18IfuEBrNwQLdwUIaujN5FT5gd7SmZ6yXgB5EdwiN5mCB7mDBe3dsoBC1RJ2X8/R8zAt/6A6h0Rws0B0spKE7NlCIWlvSyNiE62Ne+EN3CI3mYIHuYCEN3bGBQvSmZ3wf88InukNoNAcLdAcL3rtjA4WoJZI2OD/mhT90h9BoDhboDhbS0B0bKEStLWl4bNz1MS/8oTuERnOwQHewkIbu2EAhetMzs9ZLQA+iO4RGc7BAd7DgvTs2UIhaImlDo+76mBf+0B1CozlYoDtYSEN3bKAQtbakoZEx18e88IfuEBrNwQLdwUIaumMDhejNzPo+5oVPdIfQaA4W6A4WvHfHBgpRSyRtdH7MC3/oDqHRHCzQHSykoTs2UIhaW9KOkVHXx7zwh+4QGs3BAt3BQhq6YwOF6M3Oev4tBq/oDqHRHCzQHSx4744NFKKWSNrU3+f6mBf+0B1CozlYoDtYSEN3bKAQtbak7UMjro954Q/dITSagwW6g4U0dMcGCtGbbXv+LQav6A6h0Rws0B0seO+ODRSiloZjXvhDdwiN5mCB7mAhDd2xgULU2pIecX7MC3/oDqHRHCzQHSykoTs2UAAAAACwTmygELU0/LA1+EN3CI3mYIHuYCEN3eWsFwCspS3p4cFh62Wgx9AdQqM5WKA7WEhDd5xAIXqZxPPXKOAV3SE0moMFuoMF792xgULUEkkbnB/zwh+6Q2g0Bwt0Bwtp6I6n8CFqaTjmhT90h9BoDhboDhbS0B0nUIheJuP5axTwiu4QGs3BAt3Bgvfu2EAhaomkgXrN9TEv/KE7hEZzsEB3sJCG7ngKH6I2/8PWgJDoDqHRHCzQHSykoTtOoBC9bIZMER7dITSagwW6gwXv3flePVIvkdSoV10f88IfukNoNAcLdAcLaeiOp/Aham1J250f88IfukNoNAcLdAcLaeiOEyhEL5clU4RHdwiN5mCB7mDBe3e+V4/USyT1VSuuj3nhD90hNJqDBbqDhTR0x1P4ELW2pO3Do9bLQI+hO4RGc7BAd7CQhu44gUL0ctms9RLQg+gOodEcLNAdLHjvjg0UopZIqlfLro954Q/dITSagwW6g4U0dMdT+BC1tqQdzo954Q/dITSagwW6g4U0dMcJFKKXz/k+5oVPdIfQaA4W6A4WvHfHBgpRSyTVyiXXx7zwh+4QGs3BAt3BQhq64yl8iFpb0o6RMetloMfQHUKjOVigO1hIQ3ecQCF6hRz7fIRHdwiN5mCB7mDBe3dsoBC1RFKlXHR9zAt/6A6h0Rws0B0spKE739s/pF5b0qDzY174Q3cIjeZgge5gIQ3dsYEK7MKzX6anPeXxK77vxpv/Q9fc8FVtfdurdeABj1vxMVs/9HnddvudkqSrLj5LjUZ1xcedePpfd68/fslfqlgqLHvM7MysTjrz4u6vr7/ifGWyyw8lp5otnXz21u6vP3nlBVrpywbDw+N6zXmXSpJ+40mH6s1/8fIV17btge16w/+6asX3raSQz2mqNb3uxwN7At0hNJqDBbqDBe/dsYEKrL+vsmhzs9Dbzj1JktSanlnxMcc8+8k68vD9uxuo7YMjOu38y1b9OPPuf3C7Lnj3R3f5uF/88qF1Pe5n9zywy8cd+fj99Q///B19/FO37PLj7Uq5WHT9mww+0R1CozlYoDtY8N4d3wOF6A2N+j7mhU90h9BoDhboDha8d8cGCtEr5vPWS0APojuERnOwQHew4L07NlCIXqno+zcZfKI7hEZzsEB3sOC9O5PvgfrdZzxJf/yHz9R57/y7Fd//oYtep82P61d77tf/+cOf6e1brwu3wD3seY1+benfoFsGt1svxaWh0XHrJaAH0R1CozlYoDtY8N5d0A1UJkn0ohf8tk498Vjddff9Kz4mn8/pgP026uVnvk/jE82Qy9srPnjEUSokiZIk0cv32U/VYsl6Se4UC3k1p1rWy0CPoTuERnOwQHew4L27oE/he/VJz9Ozjj5Kn/yHf131MYceuI8e3j7sdvO08NW9/7Ax0N08SVKSJMqocyK10uNX+zjr+UFju/txdvfjW1rrebK7+/nFdu1NDDMLNfvYnp8dw8xofe9eF/N55u302puFa194r4thlr00e4/Xe0qoP2P31ucX9ATqs1++VdsHR/UHv/sbqz7m8EM2q91u6///q9O076Z+/eAn9+iDH/0nbR8cWfHxx205WsdtOXrR2zJzG5ZqqajxiaYqpaKSJNHYxKSq5aLUlsYmm6qWS2q32xqfbKpWKWlmZlYTzSnVK2VNz8x0rqtltVozmpyaUl+1omarpeZUS41aRZPNlpqtlhq1qiaaTU21ptWoVzU+0dTU9LSO2bCxu3nqrq1S1GsvPkOnt/9fe/ceHWV953H8M/eZTG7c5H4vi1greAlWwFsBRYtYRNEu9FTaFdxKpVqltYLLrrrrkYXjeqnXo6yg6Cq2i/aQClu8rNrSqiAKCCwEUFJuIcnckklmnv0jME0gwqQl83uezPt1juc882QSvvM9H3/ky++ZZ3Scij375Xa71L1bJ7381M+UuYbRJcmSXC5pzdsbMq+xb+9uTZ/JdAy3u+nP9HrcKg4XaEDf7q0+z+WS/F6vCkIBVUdiGtS/R6vPsyxLxeEC1cbiCvr9GjygZ6vPa2xsuh1lQTAgn8+nSeNH6qpxI497Xjxep8JQUOkjvW/R74KQGlIp1dU39TvZ0KDaWLyp98mj/S5Qoj55XL9LisKKJerU0JhSaXGhIrGEGlMpdSouVG0srsZUWp1KilQTiSmVTqtzSZEOR2JKp9PqUlqsqpqI0palLqXFOlQTkWSpS0mxDlXXyuVyqXNJkQ5W18rtdqlTUaEO1UTkcbtVWhRuOva4VRIuUFVtVF6PR0XhkA7XRuXzelQYCulwJCqf16vwkX77fV6FAgHVRGMK+LwKBvyqicYV8PsU8PmO9Nsnv8+r2lhCoYBfXo9HkXjTscfjVjRep4JgQG6XS9FE3ZGsS7HEMflu1u/CgpBSrfY7pGRDo+qSDcdlPdPvwrDizbIeS9SrobFRpUWFiiYSrfS+SDWxmFKppn5XH+l9l9JiVdVGlE436/fR3lfXSi6XujTrd+fipuPj+x1WVW0k634XBAKqjh7t/Yn7nWxsVFFBqFm/PYrGE630+y9ri2WplX63vracqN919UnVH+l3ok39LlRNLH5cv5uyHs30u6omIiuT9VpJzfrdIutudTrab7dbJUVhVdVEMmtLa1kPh4JN/W62trTot8+ngL95v48cB/zyNcv30ayfqN+5WstLi8KKtnltadnvlmuLWu13NJFQ55KiNvW7MBTU4Vb7fXRt8SkY8LWSdb98Po8iJ1lbMv0OBqSTrC0nW8szWWctt9Va7na75PN6O+xafuzawlpuj7U8lU43/a5ug7W8tKj1z1Q9EVffAQNb+VW+fY2/cIQmXHKOfnrvs8d9bcIl52jE1wfpmeVvKhav083TJ6h3zy5f+X6p1hSEAnrt6bv0vR8vzvlO1pFZR1LTTtP1p/VsMURZlqWX91dqTU31cc+3w7EdBf1+1SWTrX7NDj3raP0+ETv0LFe9P1HuTLBDz8h6+x4H/X7VJ5P024HHTtO89uZrnR16mU+9d+LxqZKrv2OzeU3hUEDPP3K7rrnp37KeG2x3F77ytz7SA4+9qoNVtUrUJfXMS6t15tD+KgyHTJeWleYBW1NTraRlybKazlqWpaSVzgxPxz7fDsd25PN5vvJrduhZR+v3idihZ7nq/YlyZ4IdekbW2/fY5/PQb4ceO03z2puvdXboZT713onHp0qu/o5tr9dn5C58J3L5xWfrzweqtWHTTkmSz+tVOm2podGZn1Z8y/YtLe7C13x4QnYisYTpEpCHyB1yjczBBHIHE5yeO9vtQJWWFGrWtMvVubRIoaBfM6ddrvf/tFn19c69U8eammrdvWsHw9NfKRTwmy4BeYjcIdfIHEwgdzDB6bmzxQ7UvXdO06ef79bLK9/VK2+8p9LisB67f5b8Pq/+uGG7HnpmpekSYZDXY69LqZAfyB1yjczBBHIHE5yeOyMD1Op312v1u+szj+cvfCFznE6n9eSycj25rNxEabChSNzZ27xwJnKHXCNzMIHcwQSn5852l/ABx3L6Ni+cidwh18gcTCB3MMHpuWOAgu15PMQUuUfukGtkDiaQO5jg9Nw5u3rkhWi8znQJyEPkDrlG5mACuYMJTs8dAxRsryAYMF0C8hC5Q66ROZhA7mCC03PHAAXbc7lcpktAHiJ3yDUyBxPIHUxweu4YoGB7sYSzt3nhTOQOuUbmYAK5gwlOzx0DFGwv7PBtXjgTuUOukTmYQO5ggtNzxwAF+3P2Li+citwh18gcTCB3MMHhuWOAgu3FEvWmS0AeInfINTIHE8gdTHB67higYHvhUNB0CchD5A65RuZgArmDCU7PHQMUbM+yLNMlIA+RO+QamYMJ5A4mOD13DFCwvXids7d54UzkDrlG5mACuYMJTs+d13QB7SkU9JsuAadAOBhQzOH/o8F5yB1yjczBBHIHE+yUu79mXuiQA1RBqOnWiE8tnG24EgAAAAB2VxAKKJ7lzS1cfQcMdPZFiF+ha+firJsAe3vwFzdq7r8uMV0G8gy5Q66ROZhA7mCC3XJXEAroYFVt1s/vkDtQktrUBNhb2rIYhpFz5A65RuZgArmDCXbLXVtr4SYSAAAAAJAlBigAAAAAyBIDFAAAAABkyVNS2mmB6SKAk9leUWm6BOQhcodcI3MwgdzBBCfnrsPehQ8AAAAATjUu4QMAAACALDFAAQAAAECWGKAAAAAAIEsMUAAAAACQJQYoAAAAAMiS13QBwMlcOPIMXX35+brj3udMl4I88M1zhmrG1LHq2qVEX1Ye0pPLyvXZ1t2my0IHd+mob2j6NZeoc2mR9uw9oCeWlmvTtj2my0Ie6Nermx69b5Zm3fVLVe6rMl0OOrgpV47SjVPHqrExlTn3wzseUVV1xGBVbccABdtyu1z6zoRv6sapY7Vtx17T5SAP9OjWSXfePFkLFi/Xp5/v1iUXnKkFt39X37/tIcUT9abLQwfVp2cXzZ4xUT+7f4m2V1TqikvP1bw5U/X3sxeZLg0dnNvt1u0zr5bfz6+DyI3B/Xvo6Rd+q5Wr15ku5W/CJXywrR/cME4XnHu6/uv1/zVdCvLEaV1LtGrtR9q4ZZcsy9La9zcqbVnq26ur6dLQgX1ReUjTZi/S9opK+bweFYaDqo0kTJeFPHDDpDHssCOnBvXroR2795ku42/GPznAtl5b9YGqqqMaf+EI06UgT3yyuUKfbK7IPD59cB+FAn59WXnIXFHIC3X1SQ3u30MP3ztTqVRaCxYtN10SOriB/brrovPP1K33PKUpV44yXQ7ygM/nVZ+eXXTdxNGad+tUVVVHtOSV/9G69dtMl9Zm7EDBtqqqo6ZLQB7r2b2z5s2ZqudX/E7ReJ3pcpAHKr7Yr0kz7tMjz72hu+dMVUlx2HRJ6KC8Ho9+OvM7evjZ15VsaDRdDvJEaXFYm7bt0co3/6Dpty7Wkld+p7tmX+fIqzwYoADgGEMH99bie36gVWs/1Ku/ed90OcgTqVRaqVRaq99Zr/0Hq3XWsAGmS0IHNW3yxfpkcwU3KkFOHThUo7n3L9GHG/9PjamU1q3fqg2bdqps+BDTpbUZl/ABQDNlw4fo57dM0dMvvqnytz4yXQ7ywMgRQzRxXJnu+fcXM+d8Xo/i7HyinYwZeYY6lxbqsovOzpx79L5ZeuTZN/TWBxsNVoaObGC/7jr3G1/Tq795L3PO5/M6cheUAQoAjjitS4numn2tFj31a733x82my0Ge2LazUmcM6acxZWfo/Q+36Ntjz5PH49HGLbtMl4YO6qa5j7Z4XL5sgWbPe5LbmKNdxRP1mj75Yn1ReVB/+HirxpQN0+lf66NFT/7KdGltxgAFAEdMvuICBQN+3TFrsu6YNTlz/p8Wvdji5hLAqXS4Jqp/eegl3Tx9gm67aZK27tyr+QuXOfJfZQHgq+w7UK0HfrlCM6aO1c9/NEVf7qvSPy9e7sj3vLv6DhhomS4CAAAAAJyAm0gAAAAAQJYYoAAAAAAgSwxQAAAAAJAlBigAAAAAyBIDFAAAAABkiQEKAAAAALLE50ABABypfNmCFo9j8Tpt3LJLjy9dpX0HqtW9a6n+86GfnPBnTJje9DNGnzdM104crYF9uyuVTmvbjr16aeU7Wv/ZzvYpHgDgWHwOFADAkcqXLdCDj7+mjz/dIZfLpZLiAn3vmkvVo1upfnT3E3K7XCopDmeeP+eHV6k+2aAnlpZnzh2uiWrkiCH6xY+n6omlq7Rhc4V8Ho/GXjhcU664QHPvX6JN2/bk/sUBAGyLS/gAAI4VjdXpcE1UVdUR7dy9T0tXrNWg/j00oM9pSluWDtdEM/81NKaUTDa2OCdJl110tt7+YKPK3/pIlfuqtHvvAT338hp9tnW3rrj0XMOvEABgN1zCBwDoMGoi8TZ/j2VZ+rtBvVVYEFQ0Xpc5/+Djrymd5iINAEBL7EABADqEgN+nGyZdqK079qrii/1Zf99/v7lOfXp11bKHb9f8OdfrqnFl6tW9sw4djmR2qQAAOIodKACAY91963VKpy25JPn9PlmWpQWLl7fpZ3z6+S7dtuAZXfvtUTrvrCEaXTZMkvSnT7Zr4RO/Uk1trB0qBwA4FQMUAMCxHn++6cYPkhQOBVQ2fIjm/+R6zV/4gjZsyv4OetsrKvXAYyvkdrs1dHBvjSkbponjynTnzZM178Fl7VQ9AMCJGKAAAI5VVR1V5b6qzOPtFZU6c2g/TRxXltUAFQz4NeP6sfp1+e9Vuf+w0um0Nm/bo83b9ujLP1fplu9fKbfLpbTFe6EAAE14DxQAoENxuVxyu1xZPTeZbNC3Rp2lb40+67ivxRP1isQSDE8AgBbYgQIAOFZhOKhOJYWSJK/Xo1Hnna7hXx+oBx59NavvT1uWlq5Yq5nTLpfH49Y7v/9MDY0pDRnYS//w3fF65Y332rN8AIADMUABABxr7j9ekzlOJhu1p/Kg/uOZ1/Xuuk1Z/4yVq9epNhrXVeNH6urLzpfP69WeyoNaumKtfvv2x+1RNgDAwVx9Bwzk2gQAAAAAyALvgQIAAACALDFAAQAAAECWGKAAAAAAIEsMUAAAAACQJQYoAAAAAMgSAxQAAAAAZIkBCgAAAACyxAAFAAAAAFn6fwydX3pEn3LYAAAAAElFTkSuQmCC"
   ]
  },
  {
   "cell_type": "code",
   "execution_count": 154,
   "metadata": {},
   "outputs": [
    {
     "name": "stdout",
     "output_type": "stream",
     "text": [
      "0.21693045781865616\n"
     ]
    }
   ],
   "source": [
    "def sim_pearson(data, name1, name2):\n",
    "    sumX=0 # X의 합\n",
    "    sumY=0 # Y의 합\n",
    "    sumPowX=0 # X 제곱의 합\n",
    "    sumPowY=0 # Y 제곱의 합\n",
    "    sumXY=0 # X*Y의 합\n",
    "    count=0 #영화 개수\n",
    "    \n",
    "    for i in data[name1]: # i = key\n",
    "        if i in data[name2]: # 같은 영화를 평가했을때만\n",
    "            sumX+=data[name1][i]\n",
    "            sumY+=data[name2][i]\n",
    "            sumPowX+=pow(data[name1][i],2)\n",
    "            sumPowY+=pow(data[name2][i],2)\n",
    "            sumXY+=data[name1][i]*data[name2][i]\n",
    "            count+=1\n",
    "    \n",
    "    return ( sumXY- ((sumX*sumY)/count) )/ \\\n",
    "sqrt( (sumPowX - (pow(sumX,2) / count)) * (sumPowY - (pow(sumY,2)/count)))\n",
    "    \n",
    "    # 상관계수 계산 \n",
    "    # 리턴 \n",
    "    \n",
    "print(sim_pearson(critics, 'BTS', '강감찬'))\n",
    "# 두사람의 상관계수가 출력 \n",
    "# 'BTS'와 나머지 전체 사람들과의 상관계수\n",
    "# 전체에 대해 상관계수 ( 상위 n 개 상관계수 리스트출력)"
   ]
  },
  {
   "cell_type": "code",
   "execution_count": 155,
   "metadata": {},
   "outputs": [
    {
     "data": {
      "text/plain": [
       "[(0.6666666666666666, '이황'),\n",
       " (0.3405424265831667, '을지문덕'),\n",
       " (0.29429805508554946, '조용필')]"
      ]
     },
     "execution_count": 155,
     "metadata": {},
     "output_type": "execute_result"
    }
   ],
   "source": [
    "def top_match(data,name, n=3, sim_f=sim_distance): # default값 n= 3들어간다 3명 \n",
    "    myList=[]\n",
    "    for i in data: # i : 손흥민이 본영화\n",
    "        if name != i:\n",
    "            myList.append((sim_f(data,name,i),i)) # user2기 같은 영화를 봤다면 \n",
    "    myList.sort()\n",
    "    myList.reverse()\n",
    "    return myList[:n]# 제곱근을 취하고 역수를 취해 빠져나옴 \n",
    "top_match(critics,'강감찬',3)"
   ]
  },
  {
   "cell_type": "code",
   "execution_count": 156,
   "metadata": {},
   "outputs": [],
   "source": [
    "# 추천시스템\n",
    "# 1) 예상 평점 구해보자\n",
    "# - 예상점수 : 유사도 * (상대방의) 평점\n",
    "#     ex) 강감찬이 안본 영화중 A영화를 다른사람들은 각각 4,3,2 점 평점줘다고 가정\n",
    "#     유사도 구해보니 0.9, 0.3, 0.7로 나왔다면,\n",
    "#     0.9*4점 => 3.6점 예상\n",
    "#     0.3*3점 => 0.9점 예상\n",
    "#     0.7*2점 => 1.4점 예상\n",
    "#     예상점수 총합 = 5.9(예상점수합)/1.9점 ( 유사도합)\n",
    "# => 약 3점 예상됨\n",
    "    "
   ]
  },
  {
   "cell_type": "code",
   "execution_count": 157,
   "metadata": {},
   "outputs": [
    {
     "name": "stdout",
     "output_type": "stream",
     "text": [
      "   Id  MSSubClass MSZoning  LotFrontage  LotArea Street Alley LotShape  \\\n",
      "0   1          60       RL         65.0     8450   Pave   NaN      Reg   \n",
      "1   2          20       RL         80.0     9600   Pave   NaN      Reg   \n",
      "2   3          60       RL         68.0    11250   Pave   NaN      IR1   \n",
      "3   4          70       RL         60.0     9550   Pave   NaN      IR1   \n",
      "4   5          60       RL         84.0    14260   Pave   NaN      IR1   \n",
      "\n",
      "  LandContour Utilities  ... PoolArea PoolQC Fence MiscFeature MiscVal MoSold  \\\n",
      "0         Lvl    AllPub  ...        0    NaN   NaN         NaN       0      2   \n",
      "1         Lvl    AllPub  ...        0    NaN   NaN         NaN       0      5   \n",
      "2         Lvl    AllPub  ...        0    NaN   NaN         NaN       0      9   \n",
      "3         Lvl    AllPub  ...        0    NaN   NaN         NaN       0      2   \n",
      "4         Lvl    AllPub  ...        0    NaN   NaN         NaN       0     12   \n",
      "\n",
      "  YrSold  SaleType  SaleCondition  SalePrice  \n",
      "0   2008        WD         Normal     208500  \n",
      "1   2007        WD         Normal     181500  \n",
      "2   2008        WD         Normal     223500  \n",
      "3   2006        WD        Abnorml     140000  \n",
      "4   2008        WD         Normal     250000  \n",
      "\n",
      "[5 rows x 81 columns]\n",
      "**************************************************\n",
      "     Id  MSSubClass MSZoning  LotFrontage  LotArea Street Alley LotShape  \\\n",
      "0  1461          20       RH         80.0    11622   Pave   NaN      Reg   \n",
      "1  1462          20       RL         81.0    14267   Pave   NaN      IR1   \n",
      "2  1463          60       RL         74.0    13830   Pave   NaN      IR1   \n",
      "3  1464          60       RL         78.0     9978   Pave   NaN      IR1   \n",
      "4  1465         120       RL         43.0     5005   Pave   NaN      IR1   \n",
      "\n",
      "  LandContour Utilities  ... ScreenPorch PoolArea PoolQC  Fence MiscFeature  \\\n",
      "0         Lvl    AllPub  ...         120        0    NaN  MnPrv         NaN   \n",
      "1         Lvl    AllPub  ...           0        0    NaN    NaN        Gar2   \n",
      "2         Lvl    AllPub  ...           0        0    NaN  MnPrv         NaN   \n",
      "3         Lvl    AllPub  ...           0        0    NaN    NaN         NaN   \n",
      "4         HLS    AllPub  ...         144        0    NaN    NaN         NaN   \n",
      "\n",
      "  MiscVal MoSold  YrSold  SaleType  SaleCondition  \n",
      "0       0      6    2010        WD         Normal  \n",
      "1   12500      6    2010        WD         Normal  \n",
      "2       0      3    2010        WD         Normal  \n",
      "3       0      6    2010        WD         Normal  \n",
      "4       0      1    2010        WD         Normal  \n",
      "\n",
      "[5 rows x 80 columns]\n"
     ]
    }
   ],
   "source": [
    "train=pd.read_csv('data/house/train.csv')\n",
    "print(train.head())\n",
    "print('*'*50)\n",
    "test=pd.read_csv('data/house/test.csv')\n",
    "print(test.head())"
   ]
  },
  {
   "cell_type": "code",
   "execution_count": 158,
   "metadata": {},
   "outputs": [],
   "source": [
    "train.drop('Id',axis=1,inplace=True)\n",
    "test.drop('Id',axis=1,inplace=True)"
   ]
  },
  {
   "cell_type": "code",
   "execution_count": 159,
   "metadata": {},
   "outputs": [
    {
     "data": {
      "text/html": [
       "<div>\n",
       "<style scoped>\n",
       "    .dataframe tbody tr th:only-of-type {\n",
       "        vertical-align: middle;\n",
       "    }\n",
       "\n",
       "    .dataframe tbody tr th {\n",
       "        vertical-align: top;\n",
       "    }\n",
       "\n",
       "    .dataframe thead th {\n",
       "        text-align: right;\n",
       "    }\n",
       "</style>\n",
       "<table border=\"1\" class=\"dataframe\">\n",
       "  <thead>\n",
       "    <tr style=\"text-align: right;\">\n",
       "      <th></th>\n",
       "      <th>MSSubClass</th>\n",
       "      <th>MSZoning</th>\n",
       "      <th>LotFrontage</th>\n",
       "      <th>LotArea</th>\n",
       "      <th>Street</th>\n",
       "      <th>Alley</th>\n",
       "      <th>LotShape</th>\n",
       "      <th>LandContour</th>\n",
       "      <th>Utilities</th>\n",
       "      <th>LotConfig</th>\n",
       "      <th>...</th>\n",
       "      <th>PoolArea</th>\n",
       "      <th>PoolQC</th>\n",
       "      <th>Fence</th>\n",
       "      <th>MiscFeature</th>\n",
       "      <th>MiscVal</th>\n",
       "      <th>MoSold</th>\n",
       "      <th>YrSold</th>\n",
       "      <th>SaleType</th>\n",
       "      <th>SaleCondition</th>\n",
       "      <th>SalePrice</th>\n",
       "    </tr>\n",
       "  </thead>\n",
       "  <tbody>\n",
       "    <tr>\n",
       "      <th>0</th>\n",
       "      <td>60</td>\n",
       "      <td>RL</td>\n",
       "      <td>65.0</td>\n",
       "      <td>8450</td>\n",
       "      <td>Pave</td>\n",
       "      <td>NaN</td>\n",
       "      <td>Reg</td>\n",
       "      <td>Lvl</td>\n",
       "      <td>AllPub</td>\n",
       "      <td>Inside</td>\n",
       "      <td>...</td>\n",
       "      <td>0</td>\n",
       "      <td>NaN</td>\n",
       "      <td>NaN</td>\n",
       "      <td>NaN</td>\n",
       "      <td>0</td>\n",
       "      <td>2</td>\n",
       "      <td>2008</td>\n",
       "      <td>WD</td>\n",
       "      <td>Normal</td>\n",
       "      <td>208500</td>\n",
       "    </tr>\n",
       "    <tr>\n",
       "      <th>1</th>\n",
       "      <td>20</td>\n",
       "      <td>RL</td>\n",
       "      <td>80.0</td>\n",
       "      <td>9600</td>\n",
       "      <td>Pave</td>\n",
       "      <td>NaN</td>\n",
       "      <td>Reg</td>\n",
       "      <td>Lvl</td>\n",
       "      <td>AllPub</td>\n",
       "      <td>FR2</td>\n",
       "      <td>...</td>\n",
       "      <td>0</td>\n",
       "      <td>NaN</td>\n",
       "      <td>NaN</td>\n",
       "      <td>NaN</td>\n",
       "      <td>0</td>\n",
       "      <td>5</td>\n",
       "      <td>2007</td>\n",
       "      <td>WD</td>\n",
       "      <td>Normal</td>\n",
       "      <td>181500</td>\n",
       "    </tr>\n",
       "    <tr>\n",
       "      <th>2</th>\n",
       "      <td>60</td>\n",
       "      <td>RL</td>\n",
       "      <td>68.0</td>\n",
       "      <td>11250</td>\n",
       "      <td>Pave</td>\n",
       "      <td>NaN</td>\n",
       "      <td>IR1</td>\n",
       "      <td>Lvl</td>\n",
       "      <td>AllPub</td>\n",
       "      <td>Inside</td>\n",
       "      <td>...</td>\n",
       "      <td>0</td>\n",
       "      <td>NaN</td>\n",
       "      <td>NaN</td>\n",
       "      <td>NaN</td>\n",
       "      <td>0</td>\n",
       "      <td>9</td>\n",
       "      <td>2008</td>\n",
       "      <td>WD</td>\n",
       "      <td>Normal</td>\n",
       "      <td>223500</td>\n",
       "    </tr>\n",
       "    <tr>\n",
       "      <th>3</th>\n",
       "      <td>70</td>\n",
       "      <td>RL</td>\n",
       "      <td>60.0</td>\n",
       "      <td>9550</td>\n",
       "      <td>Pave</td>\n",
       "      <td>NaN</td>\n",
       "      <td>IR1</td>\n",
       "      <td>Lvl</td>\n",
       "      <td>AllPub</td>\n",
       "      <td>Corner</td>\n",
       "      <td>...</td>\n",
       "      <td>0</td>\n",
       "      <td>NaN</td>\n",
       "      <td>NaN</td>\n",
       "      <td>NaN</td>\n",
       "      <td>0</td>\n",
       "      <td>2</td>\n",
       "      <td>2006</td>\n",
       "      <td>WD</td>\n",
       "      <td>Abnorml</td>\n",
       "      <td>140000</td>\n",
       "    </tr>\n",
       "    <tr>\n",
       "      <th>4</th>\n",
       "      <td>60</td>\n",
       "      <td>RL</td>\n",
       "      <td>84.0</td>\n",
       "      <td>14260</td>\n",
       "      <td>Pave</td>\n",
       "      <td>NaN</td>\n",
       "      <td>IR1</td>\n",
       "      <td>Lvl</td>\n",
       "      <td>AllPub</td>\n",
       "      <td>FR2</td>\n",
       "      <td>...</td>\n",
       "      <td>0</td>\n",
       "      <td>NaN</td>\n",
       "      <td>NaN</td>\n",
       "      <td>NaN</td>\n",
       "      <td>0</td>\n",
       "      <td>12</td>\n",
       "      <td>2008</td>\n",
       "      <td>WD</td>\n",
       "      <td>Normal</td>\n",
       "      <td>250000</td>\n",
       "    </tr>\n",
       "  </tbody>\n",
       "</table>\n",
       "<p>5 rows × 80 columns</p>\n",
       "</div>"
      ],
      "text/plain": [
       "   MSSubClass MSZoning  LotFrontage  LotArea Street Alley LotShape  \\\n",
       "0          60       RL         65.0     8450   Pave   NaN      Reg   \n",
       "1          20       RL         80.0     9600   Pave   NaN      Reg   \n",
       "2          60       RL         68.0    11250   Pave   NaN      IR1   \n",
       "3          70       RL         60.0     9550   Pave   NaN      IR1   \n",
       "4          60       RL         84.0    14260   Pave   NaN      IR1   \n",
       "\n",
       "  LandContour Utilities LotConfig  ... PoolArea PoolQC Fence MiscFeature  \\\n",
       "0         Lvl    AllPub    Inside  ...        0    NaN   NaN         NaN   \n",
       "1         Lvl    AllPub       FR2  ...        0    NaN   NaN         NaN   \n",
       "2         Lvl    AllPub    Inside  ...        0    NaN   NaN         NaN   \n",
       "3         Lvl    AllPub    Corner  ...        0    NaN   NaN         NaN   \n",
       "4         Lvl    AllPub       FR2  ...        0    NaN   NaN         NaN   \n",
       "\n",
       "  MiscVal MoSold  YrSold  SaleType  SaleCondition  SalePrice  \n",
       "0       0      2    2008        WD         Normal     208500  \n",
       "1       0      5    2007        WD         Normal     181500  \n",
       "2       0      9    2008        WD         Normal     223500  \n",
       "3       0      2    2006        WD        Abnorml     140000  \n",
       "4       0     12    2008        WD         Normal     250000  \n",
       "\n",
       "[5 rows x 80 columns]"
      ]
     },
     "execution_count": 159,
     "metadata": {},
     "output_type": "execute_result"
    }
   ],
   "source": [
    "train.head()"
   ]
  },
  {
   "cell_type": "code",
   "execution_count": 160,
   "metadata": {},
   "outputs": [],
   "source": [
    "import matplotlib.pyplot as plt\n",
    "import seaborn as sns"
   ]
  },
  {
   "cell_type": "code",
   "execution_count": 161,
   "metadata": {},
   "outputs": [
    {
     "data": {
      "text/plain": [
       "<matplotlib.axes._subplots.AxesSubplot at 0x20758d87550>"
      ]
     },
     "execution_count": 161,
     "metadata": {},
     "output_type": "execute_result"
    },
    {
     "data": {
      "image/png": "[encoded data removed]",
      "text/plain": [
       "<Figure size 345.6x259.2 with 1 Axes>"
      ]
     },
     "metadata": {},
     "output_type": "display_data"
    }
   ],
   "source": [
    "# train.columns\n",
    "sns.distplot(train['SalePrice'])"
   ]
  },
  {
   "cell_type": "code",
   "execution_count": 162,
   "metadata": {},
   "outputs": [],
   "source": [
    "ntrain=train.shape[0]\n",
    "ntest=test.shape[0]\n",
    "ytrain=train.SalePrice.values"
   ]
  },
  {
   "cell_type": "code",
   "execution_count": 163,
   "metadata": {},
   "outputs": [
    {
     "data": {
      "text/plain": [
       "2919"
      ]
     },
     "execution_count": 163,
     "metadata": {},
     "output_type": "execute_result"
    }
   ],
   "source": [
    "# train & test => null 처리\n",
    "# 데이터 합치기 \n",
    "allData=pd.concat((train, test)).reset_index(drop=True)\n",
    "allData.drop(['SalePrice'],axis=1,inplace=True)\n",
    "allData.shape # 인덱스 칼럼, saleprice 열 처리 \n",
    "allData.head()\n",
    "\n",
    "len(allData)"
   ]
  },
  {
   "cell_type": "code",
   "execution_count": 164,
   "metadata": {},
   "outputs": [
    {
     "data": {
      "text/plain": [
       "1stFlrSF          0.000000\n",
       "2ndFlrSF          0.000000\n",
       "3SsnPorch         0.000000\n",
       "Alley            93.216855\n",
       "BedroomAbvGr      0.000000\n",
       "BldgType          0.000000\n",
       "BsmtCond          2.809181\n",
       "BsmtExposure      2.809181\n",
       "BsmtFinSF1        0.034258\n",
       "BsmtFinSF2        0.034258\n",
       "BsmtFinType1      2.706406\n",
       "BsmtFinType2      2.740665\n",
       "BsmtFullBath      0.068517\n",
       "BsmtHalfBath      0.068517\n",
       "BsmtQual          2.774923\n",
       "BsmtUnfSF         0.034258\n",
       "CentralAir        0.000000\n",
       "Condition1        0.000000\n",
       "Condition2        0.000000\n",
       "Electrical        0.034258\n",
       "EnclosedPorch     0.000000\n",
       "ExterCond         0.000000\n",
       "ExterQual         0.000000\n",
       "Exterior1st       0.034258\n",
       "Exterior2nd       0.034258\n",
       "Fence            80.438506\n",
       "FireplaceQu      48.646797\n",
       "Fireplaces        0.000000\n",
       "Foundation        0.000000\n",
       "FullBath          0.000000\n",
       "                   ...    \n",
       "LotFrontage      16.649538\n",
       "LotShape          0.000000\n",
       "LowQualFinSF      0.000000\n",
       "MSSubClass        0.000000\n",
       "MSZoning          0.137033\n",
       "MasVnrArea        0.787941\n",
       "MasVnrType        0.822199\n",
       "MiscFeature      96.402878\n",
       "MiscVal           0.000000\n",
       "MoSold            0.000000\n",
       "Neighborhood      0.000000\n",
       "OpenPorchSF       0.000000\n",
       "OverallCond       0.000000\n",
       "OverallQual       0.000000\n",
       "PavedDrive        0.000000\n",
       "PoolArea          0.000000\n",
       "PoolQC           99.657417\n",
       "RoofMatl          0.000000\n",
       "RoofStyle         0.000000\n",
       "SaleCondition     0.000000\n",
       "SaleType          0.034258\n",
       "ScreenPorch       0.000000\n",
       "Street            0.000000\n",
       "TotRmsAbvGrd      0.000000\n",
       "TotalBsmtSF       0.034258\n",
       "Utilities         0.068517\n",
       "WoodDeckSF        0.000000\n",
       "YearBuilt         0.000000\n",
       "YearRemodAdd      0.000000\n",
       "YrSold            0.000000\n",
       "Length: 79, dtype: float64"
      ]
     },
     "execution_count": 164,
     "metadata": {},
     "output_type": "execute_result"
    }
   ],
   "source": [
    "allNa=(allData.isnull().sum() / len(allData))*100\n",
    "allNa # na 비율"
   ]
  },
  {
   "cell_type": "code",
   "execution_count": 165,
   "metadata": {},
   "outputs": [
    {
     "data": {
      "text/plain": [
       "<matplotlib.axes._subplots.AxesSubplot at 0x20756918e10>"
      ]
     },
     "execution_count": 165,
     "metadata": {},
     "output_type": "execute_result"
    },
    {
     "data": {
      "image/png": "[encoded data removed]",
      "text/plain": [
       "<Figure size 345.6x259.2 with 1 Axes>"
      ]
     },
     "metadata": {},
     "output_type": "display_data"
    }
   ],
   "source": [
    "# 문제 \n",
    "# na 비율이 0 인칼럼은 제외 \n",
    "# na 비율 기준으로 내림차순 정렬 \n",
    "# allNa.dropna(axis=0)\n",
    "\n",
    "allNa = allNa.drop(allNa[allNa==0].index).sort_values(ascending=False) \n",
    "allNa\n",
    "# 값이 0 인칼럼 삭제 \n",
    "# sorted(allNa, reverse=True) # 내림차순 정렬 \n",
    "missingData = pd.DataFrame({'NA Ratio' : allNa})\n",
    "missingData\n",
    "# NA 비율이 높은 칼럼찾기\n",
    "plt.xticks(rotation='90')\n",
    "sns.barplot(x=allNa.index, y=allNa) # 글씨 너무 많아 회전 시켜!   \n"
   ]
  },
  {
   "cell_type": "code",
   "execution_count": null,
   "metadata": {},
   "outputs": [],
   "source": []
  },
  {
   "cell_type": "code",
   "execution_count": null,
   "metadata": {},
   "outputs": [],
   "source": []
  },
  {
   "cell_type": "code",
   "execution_count": null,
   "metadata": {},
   "outputs": [],
   "source": []
  }
 ],
 "metadata": {
  "kernelspec": {
   "display_name": "Python 3",
   "language": "python",
   "name": "python3"
  },
  "language_info": {
   "codemirror_mode": {
    "name": "ipython",
    "version": 3
   },
   "file_extension": ".py",
   "mimetype": "text/x-python",
   "name": "python",
   "nbconvert_exporter": "python",
   "pygments_lexer": "ipython3",
   "version": "3.7.3"
  }
 },
 "nbformat": 4,
 "nbformat_minor": 2
}
