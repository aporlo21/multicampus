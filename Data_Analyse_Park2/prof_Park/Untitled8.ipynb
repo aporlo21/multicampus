{
 "cells": [
  {
   "cell_type": "code",
   "execution_count": null,
   "metadata": {},
   "outputs": [],
   "source": [
    "import urllib.parse\n",
    "from bs4 import BeautifulSoup"
   ]
  },
  {
   "cell_type": "code",
   "execution_count": null,
   "metadata": {},
   "outputs": [],
   "source": [
    "# 1번 문제\n",
    "def soup_url(url):\n",
    "    data=urllib.request.urlopen(url).read()\n",
    "    data.decode(encoding='utf-8', errors='ignore')\n",
    "    return BeautifulSoup(data, 'html.parser')\n",
    "\n",
    "page = 1\n",
    "soups = [soup_url('https://stackoverflow.com/questions/tagged/python\n",
    "                  ')]\n",
    "base_url='https://stackoverflow.com/'\n",
    "\n",
    "for soup in soups:\n",
    "    Url=[base_url + tag.]\n"
   ]
  }
 ],
 "metadata": {
  "kernelspec": {
   "display_name": "Python 3",
   "language": "python",
   "name": "python3"
  },
  "language_info": {
   "codemirror_mode": {
    "name": "ipython",
    "version": 3
   },
   "file_extension": ".py",
   "mimetype": "text/x-python",
   "name": "python",
   "nbconvert_exporter": "python",
   "pygments_lexer": "ipython3",
   "version": "3.7.3"
  }
 },
 "nbformat": 4,
 "nbformat_minor": 2
}
