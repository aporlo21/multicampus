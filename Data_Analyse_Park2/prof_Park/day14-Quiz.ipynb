{
 "cells": [
  {
   "cell_type": "code",
   "execution_count": null,
   "metadata": {},
   "outputs": [],
   "source": [
    "#1. 연습문제\n",
    "#벡터의 내적을 수행 -> 가장 큰 내적을 출력(이미지 번호)\n",
    "\n",
    "#2. 연습\n",
    "#iris데이터에 대해 전치행렬\n",
    "#전치행렬의 전치행렬 \n",
    "\n",
    "#3. A, B, C 세 회사의 주식은 각각 100만원, 80만원, 50만원이다. \n",
    "\n",
    "# 이 주식을 각각 3주, 4주, 5주를 매수할 때 필요한 금액을 구하고자 한다.\n",
    "# (1) 주식의 가격과 수량을 각각  p  벡터,  n  벡터로 표시하고 NumPy로 코딩한다.\n",
    "# (2) 주식을 매수할 때 필요한 금액을 곱셈으로 표시하고 NumPy 연산으로 그 값을 계산한다."
   ]
  }
 ],
 "metadata": {
  "kernelspec": {
   "display_name": "Python 3",
   "language": "python",
   "name": "python3"
  },
  "language_info": {
   "codemirror_mode": {
    "name": "ipython",
    "version": 3
   },
   "file_extension": ".py",
   "mimetype": "text/x-python",
   "name": "python",
   "nbconvert_exporter": "python",
   "pygments_lexer": "ipython3",
   "version": "3.7.3"
  }
 },
 "nbformat": 4,
 "nbformat_minor": 2
}
