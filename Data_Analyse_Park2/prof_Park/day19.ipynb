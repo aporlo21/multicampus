{
 "cells": [
  {
   "cell_type": "code",
   "execution_count": null,
   "metadata": {},
   "outputs": [],
   "source": [
    "# day 19\n",
    "# 순전파 / 역전파 배열 진행양상 # day18_"
   ]
  },
  {
   "cell_type": "code",
   "execution_count": 1,
   "metadata": {},
   "outputs": [],
   "source": [
    "import numpy as np\n",
    "import pandas as pd\n",
    "from jupyterthemes import jtplot\n",
    "jtplot.style(theme='gruvboxd', context='paper', spines=True, \n",
    "             ticks=True, grid=True, gridlines='dotted', figsize=(6,4.5))\n"
   ]
  },
  {
   "cell_type": "code",
   "execution_count": 22,
   "metadata": {},
   "outputs": [],
   "source": [
    "# 생성자 함수 \n",
    "# class : 함수와 변수로 구성되어진것 \n",
    "# 붕어빵기계틀 (클래스) 만들어주기 class // 내용물과 같은 특성과 동작으로 이루어짐 \n",
    "\n",
    "class MulLayer: \n",
    "    def __init__(self):\n",
    "        self.x=None #(self = this [기타언어])\n",
    "        self.y=None # (붕어빵의 규모 설정)\n",
    "\n",
    "    def forward(self,x,y):\n",
    "        self.x=x\n",
    "        self.y=y\n",
    "        out=x*y\n",
    "        return out\n",
    "    def backward(self, dout, ): # dout : 1 # self_y : 1.1\n",
    "        dx = dout*self.y\n",
    "        dy = dout*self.x # 역접 \n",
    "        return(dx,dy)\n"
   ]
  },
  {
   "cell_type": "code",
   "execution_count": 23,
   "metadata": {},
   "outputs": [],
   "source": [
    "# 결과값 동일하게 도출\n",
    "# def forward(x, y):\n",
    "#     out=x*y\n",
    "#     return out\n",
    "\n",
    "# 객체 생성 \n",
    "# 붕어빵 (객체) 만들어주기 by[class뒤에 괄호]\n",
    "mal=MulLayer()\n",
    "mtl=MulLayer()    \n",
    "# 붕어빵 두개 만들기"
   ]
  },
  {
   "cell_type": "code",
   "execution_count": 24,
   "metadata": {},
   "outputs": [
    {
     "name": "stdout",
     "output_type": "stream",
     "text": [
      "price : 220\n"
     ]
    }
   ],
   "source": [
    "# 정전파 계산 ( forward profagation )\n",
    "# mal -> mtl\n",
    "\n",
    "apple = 100\n",
    "apple_num = 2 \n",
    "tax = 1.1\n",
    "apple_price=mal.forward(apple, apple_num) # 객체. 메서드명 => 생성\n",
    "price=mtl.forward(apple_price, tax) # 각 각 x,y 자리에 대입되어짐 // 객체에 저장 \n",
    "print('price :', int(price)) # back profagation에 적용시키기 위해 동적할당 가능 객체생성\n",
    "\n",
    "####### 지금껏 순전파 ########"
   ]
  },
  {
   "cell_type": "code",
   "execution_count": 27,
   "metadata": {},
   "outputs": [
    {
     "name": "stdout",
     "output_type": "stream",
     "text": [
      "2.2 110.00000000000001 200\n"
     ]
    }
   ],
   "source": [
    "# mtl -> mal\n",
    "\n",
    "dprice = 1\n",
    "dapple_price, dtax = mtl.backward(dprice)\n",
    "# print((dapple_price, dtax))\n",
    "dapple, dapple_num = mal.backward(dapple_price)\n",
    "print(dapple, dapple_num, dtax)\n",
    "\n",
    "####### 지금껏 역전파 ########"
   ]
  },
  {
   "cell_type": "code",
   "execution_count": 3,
   "metadata": {},
   "outputs": [],
   "source": [
    "## TensorFlow ##\n",
    "# 상수형 (Constant)\n",
    "import tensorflow as tf"
   ]
  },
  {
   "cell_type": "code",
   "execution_count": 35,
   "metadata": {},
   "outputs": [],
   "source": [
    "a = tf.constant([5]. dtype=tf.float32)\n",
    "# b = tf.constant([10], dtype=tf.float32)\n",
    "# c = tf.constant([2], dtype=tf.float32)\n",
    "# # 5가 나와야하는데 실행값이 의외의값이 나옴\n",
    "# # node에 대한 정보가 도출됨 \n",
    "# d = a * b + c\n",
    "# d # <= 변수라고 호칭하지않고, a.k.a '상수' // 'node명' 이다\n",
    "# ( 연산 : 보관(항등함수) , 저장 , ) 기능하는것 = node\n",
    "# 그러므로 a = [5] => 해당 노드를 가리킴 (node or edge) [=뉴런]\n",
    "# edge : 다차원 배열 (value) 값\n",
    "# tf.variable : 진정한 변수 \n",
    "\n",
    "# tensor(가중치) // flow  => neuron Network\n",
    "# node 해당 layer 요소 \n",
    "# graph는 노드와 엣지로 구성\n",
    "\n",
    "\n"
   ]
  },
  {
   "cell_type": "code",
   "execution_count": 34,
   "metadata": {},
   "outputs": [
    {
     "data": {
      "text/plain": [
       "array([5.], dtype=float32)"
      ]
     },
     "execution_count": 34,
     "metadata": {},
     "output_type": "execute_result"
    }
   ],
   "source": [
    "# session을 생성해서 그래프 실행 \n",
    "# 세션 : 그래프를 실행시켜주는 runner\n",
    "# tensor 내에 Session 이란 class가 존재\n",
    "\n",
    "sess = tf.Session()\n",
    "# sess : 노드, \n",
    "sess.run(a) # a노드를 실행 해주세욤 // # array객체 도출\n",
    "# [5.] # 플롯으로 도출됨 \n",
    " \n"
   ]
  },
  {
   "cell_type": "code",
   "execution_count": 36,
   "metadata": {},
   "outputs": [],
   "source": [
    "# 플레이스 홀더 ( Place Holder ) // 학습고자 하는 train data 전달 받기용 저장소 \n",
    "\n",
    "# 그래프 실행 시키는 이유  : 궁극적 목표, 모델만들기 \n",
    "# 모델 만드는 행위 | training 시킨다 \n",
    "# x [1, 2, 3]\n",
    "# [2, 4, 6]"
   ]
  },
  {
   "cell_type": "code",
   "execution_count": 41,
   "metadata": {},
   "outputs": [
    {
     "name": "stdout",
     "output_type": "stream",
     "text": [
      "[2. 4. 6. 8.]\n"
     ]
    }
   ],
   "source": [
    "data = [1,2,3,4]\n",
    "x = tf.placeholder(dtype=tf.float32)\n",
    "y = x * 2 # [노드]\n",
    "# -------------------- 그래프 -------------------------\n",
    "print(sess.run(y, feed_dict={x:data})) # 그래프 실행 # y라는 노드 실행 # 역으로 올라간다 \n",
    "# feed_dict : 딕셔너리형태로 학습용 데이터를 전달해줘라 # [뒤에서부터 실행되는 느낌]\n",
    "# { key : value }\n",
    "# {x( 전달받을 0) : [1,2,3,4]}\n",
    "# broadcasting \n",
    "# feeding(값을전달하는것) 해줘야함 .. 방법 : 학습용 데이터를 전달하는 행위 \n",
    "# 그래프 실행 시점에 피딩이 있어야한다!!!!! \n"
   ]
  },
  {
   "cell_type": "code",
   "execution_count": 44,
   "metadata": {},
   "outputs": [],
   "source": [
    "# 변수 (variable)\n",
    "# : 훈련(training, modeling)과정에서 변화하는 기울기, 절편 등 => 변수 \n",
    "\n",
    "# hf = wx+b\n",
    "# Hypersis Func"
   ]
  },
  {
   "cell_type": "code",
   "execution_count": 49,
   "metadata": {},
   "outputs": [
    {
     "data": {
      "text/plain": [
       "array([2., 4., 6.], dtype=float32)"
      ]
     },
     "execution_count": 49,
     "metadata": {},
     "output_type": "execute_result"
    }
   ],
   "source": [
    "inputData = [1,2,3]\n",
    "x = tf.placeholder(dtype = tf.float32)\n",
    "w = tf.Variable([2], dtype = tf.float32)\n",
    "yhat = w * x\n",
    "\n",
    "sess = tf.Session() # 세션객체 생성\n",
    "'''\n",
    "init=  tf\n",
    "'''\n",
    "sess.run(tf.global_variables_initializer()) # 변수 초기화 => session객체 생성후에 가능 \n",
    "sess.run(yhat, feed_dict={x:inputData})\n"
   ]
  },
  {
   "cell_type": "code",
   "execution_count": 62,
   "metadata": {},
   "outputs": [
    {
     "data": {
      "text/plain": [
       "array([[12]])"
      ]
     },
     "execution_count": 62,
     "metadata": {},
     "output_type": "execute_result"
    }
   ],
   "source": [
    "# tf.matmul( , ) 활요\n",
    "# 행렬의 곱셈을 하는 함수 \n",
    "# Matrix Multiplier \n",
    "x = tf.constant([[1,2,3]])\n",
    "# w = tf.constant([2,2,2])\n",
    "w = tf.constant([[2],[2],[2]])\n",
    "y = tf.matmul(x,w)\n",
    "sess.run(y)\n",
    "# rank : 차원 // error : 1차원으로는 안돼! 2차원 [matrix] 형태로 던져줘\n",
    "\n"
   ]
  },
  {
   "cell_type": "code",
   "execution_count": 63,
   "metadata": {},
   "outputs": [
    {
     "name": "stdout",
     "output_type": "stream",
     "text": [
      "12\n"
     ]
    }
   ],
   "source": [
    "x = tf.constant([[1,2,3]])\n",
    "w = tf.constant([[2],[2],[2]])\n",
    "y = tf.matmul(x,w)\n",
    "print(sess.run(y)[0][0])\n"
   ]
  },
  {
   "cell_type": "code",
   "execution_count": 64,
   "metadata": {},
   "outputs": [
    {
     "data": {
      "text/plain": [
       "array([[12]])"
      ]
     },
     "execution_count": 64,
     "metadata": {},
     "output_type": "execute_result"
    }
   ],
   "source": [
    "x = tf.Variable([[1,2,3]])\n",
    "w = tf.constant([[2],[2],[2]])\n",
    "y = tf.matmul(x,w)\n",
    "init=tf.global_variables_initializer()\n",
    "sess.run(init)\n",
    "sess.run(y)"
   ]
  },
  {
   "cell_type": "code",
   "execution_count": 58,
   "metadata": {},
   "outputs": [
    {
     "data": {
      "text/plain": [
       "12"
      ]
     },
     "execution_count": 58,
     "metadata": {},
     "output_type": "execute_result"
    }
   ],
   "source": [
    "# 번외 내코드 ㅋ\n",
    "a=np.dot((1,2,3),(2,2,2))\n",
    "a"
   ]
  },
  {
   "cell_type": "code",
   "execution_count": 65,
   "metadata": {},
   "outputs": [
    {
     "data": {
      "text/plain": [
       "array([[12],\n",
       "       [12],\n",
       "       [18]])"
      ]
     },
     "execution_count": 65,
     "metadata": {},
     "output_type": "execute_result"
    }
   ],
   "source": [
    "x = tf.Variable([[1,2,3],[1,2,3],[2,3,4]])\n",
    "w = tf.constant([[2],[2],[2]])\n",
    "y = tf.matmul(x,w)\n",
    "init=tf.global_variables_initializer()\n",
    "sess.run(init)\n",
    "sess.run(y)\n"
   ]
  },
  {
   "cell_type": "code",
   "execution_count": 66,
   "metadata": {},
   "outputs": [
    {
     "data": {
      "text/plain": [
       "array([[12],\n",
       "       [12],\n",
       "       [18]])"
      ]
     },
     "execution_count": 66,
     "metadata": {},
     "output_type": "execute_result"
    }
   ],
   "source": [
    "# None : 아직 결정되지 않은 상태 \n",
    "indata=[[1,2,3],[1,2,3],[2,3,4]]\n",
    "x=tf.placeholder(dtype=tf.float32, shape=[None,3]) # 행부분은 아직 결정된게없다->자동배치\n",
    "w=tf.constant([[2],[2],[2]], dtype=tf.float32)\n",
    "y=tf.matmul(x,w) # 3*3 , 3*1 = 3*1 \n",
    "init=tf.global_variables_initializer()\n",
    "sess.run(init)\n",
    "sess.run(y, feed_dict={x:indata}) # 3행3열\n",
    "\n",
    "# 학습할때마다 데이터 량이 달라질수 있으므로 shape부분 행부분 특정값을 고정시키지 않고 \n",
    "# None값으로 할당시켜둔다"
   ]
  },
  {
   "cell_type": "code",
   "execution_count": 68,
   "metadata": {},
   "outputs": [
    {
     "data": {
      "text/plain": [
       "array([[10.],\n",
       "       [16.]], dtype=float32)"
      ]
     },
     "execution_count": 68,
     "metadata": {},
     "output_type": "execute_result"
    }
   ],
   "source": [
    "data=[[1,1,1],[2,2,2]]\n",
    "x=tf.placeholder(dtype=tf.float32, shape=[None,3]) \n",
    "w=tf.Variable([[2],[2],[2]], dtype=tf.float32)\n",
    "b=tf.Variable([4], dtype=tf.float32) \n",
    "y = tf.matmul(x,w)+b # 2*3 3*1 => 2*1\n",
    "# 1 1 1  2\n",
    "# 2 2 2  2  => 6+4 = 10\n",
    "#        2  => 12+4 = 16\n",
    "sess=tf.Session()\n",
    "sess.run(tf.global_variables_initializer())\n",
    "sess.run(y, feed_dict={x:data})"
   ]
  },
  {
   "cell_type": "code",
   "execution_count": null,
   "metadata": {},
   "outputs": [],
   "source": []
  },
  {
   "cell_type": "code",
   "execution_count": null,
   "metadata": {},
   "outputs": [],
   "source": []
  }
 ],
 "metadata": {
  "kernelspec": {
   "display_name": "Python 3",
   "language": "python",
   "name": "python3"
  },
  "language_info": {
   "codemirror_mode": {
    "name": "ipython",
    "version": 3
   },
   "file_extension": ".py",
   "mimetype": "text/x-python",
   "name": "python",
   "nbconvert_exporter": "python",
   "pygments_lexer": "ipython3",
   "version": "3.7.3"
  }
 },
 "nbformat": 4,
 "nbformat_minor": 2
}
