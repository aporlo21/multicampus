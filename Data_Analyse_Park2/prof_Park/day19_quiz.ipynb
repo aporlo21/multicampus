{
 "cells": [
  {
   "cell_type": "code",
   "execution_count": null,
   "metadata": {},
   "outputs": [],
   "source": [
    "# day19_quiz"
   ]
  },
  {
   "cell_type": "code",
   "execution_count": 46,
   "metadata": {},
   "outputs": [],
   "source": [
    "# apple=100\n",
    "# appleNum=2\n",
    "\n",
    "# orange=150\n",
    "# orangeNum=3\n",
    "# tax=1.1\n",
    "# # forward / backward\n",
    "\n",
    "# *price출력:(100*2+150*3)*1.1\n",
    "# dApple\n",
    "# dappleNum\n",
    "# dorange\n",
    "# dorangeNum\n",
    "# dtax\n",
    "import numpy as np\n",
    "import pandas as pd\n",
    "from jupyterthemes import jtplot\n",
    "jtplot.style(theme='gruvboxd', context='paper', spines=True, \n",
    "             ticks=True, grid=True, gridlines='dotted', figsize=(6,4.5))\n"
   ]
  },
  {
   "cell_type": "code",
   "execution_count": 56,
   "metadata": {},
   "outputs": [],
   "source": [
    "class MulLayer: \n",
    "    def __init__(self):\n",
    "        self.x=None #(self = this [기타언어])\n",
    "        self.y=None # (붕어빵의 규모 설정)\n",
    "\n",
    "    def forward(self,x,y):\n",
    "        self.x=x\n",
    "        self.y=y\n",
    "        out=x*y\n",
    "        return out\n",
    "\n",
    "    def plus(self,x,y):\n",
    "        self.x=x\n",
    "        self.y=y\n",
    "        out=x+y\n",
    "        return out\n",
    "    \n",
    "    def backward(self,  dout, ): # dout : 1 # self_y : 1.1\n",
    "        dx = dout*self.y\n",
    "        dy = dout*self.x # 역접 \n",
    "        return(dx,dy)\n",
    "    \n",
    "    def backplus(self,dx,dy):\n",
    "        if self. - dx == dy\n",
    "        dx = self.-dy\n",
    "        dy = self.-dx # 역접 \n",
    "        return(dx,dy)\n",
    "\n",
    "    "
   ]
  },
  {
   "cell_type": "code",
   "execution_count": 57,
   "metadata": {},
   "outputs": [
    {
     "name": "stdout",
     "output_type": "stream",
     "text": [
      "price : 715\n"
     ]
    }
   ],
   "source": [
    "# 객체 생성 \n",
    "mal=MulLayer() \n",
    "mal_o=MulLayer()    \n",
    " \n",
    "a_o=MulLayer()    \n",
    "mtl=MulLayer()  \n",
    "\n",
    "####### 순전파 ########\n",
    "\n",
    "# *price출력:(100*2+150*3)*1.1\n",
    "# dApple\n",
    "# dappleNum\n",
    "# dorange\n",
    "# dorangeNum\n",
    "# dtax\n",
    "\n",
    "apple = 100\n",
    "appleNum = 2 \n",
    "\n",
    "orange = 150\n",
    "orangeNum = 3\n",
    "\n",
    "tax = 1.1\n",
    "\n",
    "apple_price=mal.forward(apple, appleNum) # 객체. 메서드명 => 생성\n",
    "\n",
    "orange_price=mal_o.forward(orange, orangeNum) # 각 각 x,y 자리에 대입되어짐 // 객체에 저장\n",
    "\n",
    "fruit_price=a_o.plus(apple_price, orange_price)\n",
    "\n",
    "total_price=mtl.forward(fruit_price, tax) \n",
    "\n",
    "print('price :', int(total_price)) \n",
    "# back profagation에 적용시키기 위해 동적할당 가능 객체생성\n",
    "\n"
   ]
  },
  {
   "cell_type": "code",
   "execution_count": 58,
   "metadata": {},
   "outputs": [
    {
     "ename": "UnboundLocalError",
     "evalue": "local variable 'dy' referenced before assignment",
     "output_type": "error",
     "traceback": [
      "\u001b[1;31m---------------------------------------------------------------------------\u001b[0m",
      "\u001b[1;31mUnboundLocalError\u001b[0m                         Traceback (most recent call last)",
      "\u001b[1;32m<ipython-input-58-4b4a7a89d711>\u001b[0m in \u001b[0;36m<module>\u001b[1;34m\u001b[0m\n\u001b[0;32m      7\u001b[0m \u001b[1;31m# print((dapple_price, dtax))\u001b[0m\u001b[1;33m\u001b[0m\u001b[1;33m\u001b[0m\u001b[1;33m\u001b[0m\u001b[0m\n\u001b[0;32m      8\u001b[0m \u001b[1;33m\u001b[0m\u001b[0m\n\u001b[1;32m----> 9\u001b[1;33m \u001b[0mdapple_price\u001b[0m\u001b[1;33m,\u001b[0m \u001b[0mdorange_price\u001b[0m\u001b[1;33m=\u001b[0m \u001b[0ma_o\u001b[0m\u001b[1;33m.\u001b[0m\u001b[0mbackplus\u001b[0m\u001b[1;33m(\u001b[0m\u001b[0mdtotal_price\u001b[0m\u001b[1;33m)\u001b[0m\u001b[1;33m\u001b[0m\u001b[1;33m\u001b[0m\u001b[0m\n\u001b[0m\u001b[0;32m     10\u001b[0m \u001b[1;33m\u001b[0m\u001b[0m\n\u001b[0;32m     11\u001b[0m \u001b[0mdorange\u001b[0m\u001b[1;33m,\u001b[0m \u001b[0mdorangeNum\u001b[0m \u001b[1;33m=\u001b[0m \u001b[0mmal_o\u001b[0m\u001b[1;33m.\u001b[0m\u001b[0mbackward\u001b[0m\u001b[1;33m(\u001b[0m\u001b[0mdapple_price\u001b[0m\u001b[1;33m)\u001b[0m\u001b[1;33m\u001b[0m\u001b[1;33m\u001b[0m\u001b[0m\n",
      "\u001b[1;32m<ipython-input-56-a75affdc8d1f>\u001b[0m in \u001b[0;36mbackplus\u001b[1;34m(self, dx)\u001b[0m\n\u001b[0;32m     22\u001b[0m \u001b[1;33m\u001b[0m\u001b[0m\n\u001b[0;32m     23\u001b[0m     \u001b[1;32mdef\u001b[0m \u001b[0mbackplus\u001b[0m\u001b[1;33m(\u001b[0m\u001b[0mself\u001b[0m\u001b[1;33m,\u001b[0m\u001b[0mdx\u001b[0m\u001b[1;33m,\u001b[0m\u001b[1;33m)\u001b[0m\u001b[1;33m:\u001b[0m \u001b[1;31m#\u001b[0m\u001b[1;33m\u001b[0m\u001b[1;33m\u001b[0m\u001b[0m\n\u001b[1;32m---> 24\u001b[1;33m         \u001b[0mself\u001b[0m \u001b[1;33m=\u001b[0m \u001b[0mdx\u001b[0m \u001b[1;33m+\u001b[0m \u001b[0mdy\u001b[0m\u001b[1;33m\u001b[0m\u001b[1;33m\u001b[0m\u001b[0m\n\u001b[0m\u001b[0;32m     25\u001b[0m         \u001b[0mdx\u001b[0m \u001b[1;33m=\u001b[0m \u001b[0mself\u001b[0m\u001b[1;33m-\u001b[0m\u001b[0mdy\u001b[0m\u001b[1;33m\u001b[0m\u001b[1;33m\u001b[0m\u001b[0m\n\u001b[0;32m     26\u001b[0m         \u001b[0mdy\u001b[0m \u001b[1;33m=\u001b[0m \u001b[0mself\u001b[0m\u001b[1;33m-\u001b[0m\u001b[0mdx\u001b[0m \u001b[1;31m# 역접\u001b[0m\u001b[1;33m\u001b[0m\u001b[1;33m\u001b[0m\u001b[0m\n",
      "\u001b[1;31mUnboundLocalError\u001b[0m: local variable 'dy' referenced before assignment"
     ]
    }
   ],
   "source": [
    "####### 역전파 ########\n",
    "# mtl -> mal\n",
    "\n",
    "dprice = 1\n",
    "\n",
    "dtotal_price, dtax = mtl.backward(dprice)\n",
    "# print((dapple_price, dtax))\n",
    "\n",
    "dapple_price, dorange_price= a_o.backplus(dtotal_price)\n",
    "\n",
    "dorange, dorangeNum = mal_o.backward(dapple_price)\n",
    "\n",
    "dApple, dappleNum = mal.backward(dapple_price)\n",
    "\n",
    "print(dApple, dappleNum, dorange, dorangeNum, dtax)\n",
    "\n",
    "# dApple\n",
    "# dappleNum\n",
    "# dorange\n",
    "# dorangeNum\n",
    "# dtax"
   ]
  },
  {
   "cell_type": "code",
   "execution_count": null,
   "metadata": {},
   "outputs": [],
   "source": []
  },
  {
   "cell_type": "code",
   "execution_count": null,
   "metadata": {},
   "outputs": [],
   "source": []
  },
  {
   "cell_type": "code",
   "execution_count": 62,
   "metadata": {},
   "outputs": [
    {
     "ename": "TypeError",
     "evalue": "unsupported operand type(s) for -: 'str' and 'str'",
     "output_type": "error",
     "traceback": [
      "\u001b[1;31m---------------------------------------------------------------------------\u001b[0m",
      "\u001b[1;31mTypeError\u001b[0m                                 Traceback (most recent call last)",
      "\u001b[1;32m<ipython-input-62-4a9163c0bed4>\u001b[0m in \u001b[0;36m<module>\u001b[1;34m\u001b[0m\n\u001b[0;32m      1\u001b[0m \u001b[0ma\u001b[0m\u001b[1;33m=\u001b[0m\u001b[1;34m'he'\u001b[0m\u001b[1;33m\u001b[0m\u001b[1;33m\u001b[0m\u001b[0m\n\u001b[0;32m      2\u001b[0m \u001b[0mb\u001b[0m\u001b[1;33m=\u001b[0m\u001b[1;34m'she'\u001b[0m\u001b[1;33m\u001b[0m\u001b[1;33m\u001b[0m\u001b[0m\n\u001b[1;32m----> 3\u001b[1;33m \u001b[0mb\u001b[0m\u001b[1;33m-\u001b[0m\u001b[0ma\u001b[0m\u001b[1;33m\u001b[0m\u001b[1;33m\u001b[0m\u001b[0m\n\u001b[0m\u001b[0;32m      4\u001b[0m \u001b[1;31m# a+b\u001b[0m\u001b[1;33m\u001b[0m\u001b[1;33m\u001b[0m\u001b[1;33m\u001b[0m\u001b[0m\n",
      "\u001b[1;31mTypeError\u001b[0m: unsupported operand type(s) for -: 'str' and 'str'"
     ]
    }
   ],
   "source": [
    "a='he'\n",
    "b='she'\n",
    "b-a\n",
    "# a+b\n",
    "#operand : 연산자 "
   ]
  },
  {
   "cell_type": "code",
   "execution_count": null,
   "metadata": {},
   "outputs": [],
   "source": []
  },
  {
   "cell_type": "code",
   "execution_count": null,
   "metadata": {},
   "outputs": [],
   "source": []
  },
  {
   "cell_type": "code",
   "execution_count": null,
   "metadata": {},
   "outputs": [],
   "source": []
  }
 ],
 "metadata": {
  "kernelspec": {
   "display_name": "Python 3",
   "language": "python",
   "name": "python3"
  },
  "language_info": {
   "codemirror_mode": {
    "name": "ipython",
    "version": 3
   },
   "file_extension": ".py",
   "mimetype": "text/x-python",
   "name": "python",
   "nbconvert_exporter": "python",
   "pygments_lexer": "ipython3",
   "version": "3.7.3"
  }
 },
 "nbformat": 4,
 "nbformat_minor": 2
}
