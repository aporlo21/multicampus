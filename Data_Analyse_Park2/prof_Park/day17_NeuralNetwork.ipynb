{
 "cells": [
  {
   "cell_type": "code",
   "execution_count": 4,
   "metadata": {},
   "outputs": [],
   "source": [
    "# day 17\n",
    "import numpy as np\n",
    "import pandas as pd\n"
   ]
  },
  {
   "cell_type": "code",
   "execution_count": 5,
   "metadata": {},
   "outputs": [
    {
     "name": "stdout",
     "output_type": "stream",
     "text": [
      "[0.5 1. ]\n",
      "1.5\n"
     ]
    }
   ],
   "source": [
    "x1=np.array([1,2])\n",
    "x2=np.array([0.5,0.5])\n",
    "print(x1*x2)\n",
    "print(np.sum(x1*x2))"
   ]
  },
  {
   "cell_type": "code",
   "execution_count": 10,
   "metadata": {},
   "outputs": [
    {
     "name": "stdout",
     "output_type": "stream",
     "text": [
      "(0, 0)->0\n",
      "(0, 1)->0\n",
      "(1, 0)->0\n",
      "(1, 1)->1\n"
     ]
    }
   ],
   "source": [
    "def AND(x1,x2):\n",
    "    x=np.array([x1,x2])\n",
    "    w=np.array([0.5, 0.5])\n",
    "    b=-0.7\n",
    "    hf=np.sum(w*x)+b\n",
    "    # 모델생성(hf=wx+b = w1x1 + w2x2 +b)\n",
    "    if hf <= 0:\n",
    "        return 0 # 조건1\n",
    "    else:\n",
    "        return 1 # 조건2\n",
    "for xs in [(0,0),(0,1),(1,0),(1,1)]: # 입력값 x 데이터 \n",
    "    y = AND(xs[0], xs[1]) # Y는 모델이 에측한 값\n",
    "    print(str(xs) + \"->\" + str(y))\n",
    "\n",
    "\n"
   ]
  },
  {
   "cell_type": "code",
   "execution_count": 22,
   "metadata": {},
   "outputs": [
    {
     "name": "stdout",
     "output_type": "stream",
     "text": [
      "(0, 0)->0\n",
      "(0, 1)->1\n",
      "(1, 0)->1\n",
      "(1, 1)->1\n"
     ]
    }
   ],
   "source": [
    "def OR(x1,x2):\n",
    "    x=np.array([x1,x2])\n",
    "    w=np.array([0.5, 0.5])\n",
    "    b=-0.2 # b값을 바꾸던지 w값을 바꾸던지 함수형태를 바꾸어줘야한다 \n",
    "    hf=np.sum(w*x)+b\n",
    "    # 모델생성( hf=wx+b = w1x1 + w2x2 + b ) => 퍼셉트론\n",
    "    if hf <= 0:\n",
    "        return 0 # 조건1\n",
    "    else:\n",
    "        return 1 # 조건2\n",
    "for xs in [(0,0),(0,1),(1,0),(1,1)]: # 입력값 x 데이터 \n",
    "    y = OR(xs[0], xs[1]) # Y는 모델이 에측한 값\n",
    "    print(str(xs) + \"->\" + str(y))\n",
    "\n",
    "\n"
   ]
  },
  {
   "cell_type": "code",
   "execution_count": 31,
   "metadata": {},
   "outputs": [
    {
     "name": "stdout",
     "output_type": "stream",
     "text": [
      "(0, 0)->1\n",
      "(0, 1)->1\n",
      "(1, 0)->1\n",
      "(1, 1)->0\n"
     ]
    }
   ],
   "source": [
    "def NAND(x1, x2):\n",
    "    x=np.array([x1,x2])\n",
    "    w=np.array([-0.5, -0.5])\n",
    "    b=0.7 # b값을 바꾸던지 w값을 바꾸던지 함수형태를 바꾸어줘야한다 \n",
    "    hf=np.sum(w*x)+b\n",
    "    # 모델생성( hf=wx+b = w1x1 + w2x2 + b ) => 퍼셉트론\n",
    "    if hf <= 0:\n",
    "        return 0 # 조건1\n",
    "    else:\n",
    "        return 1 # 조건2\n",
    "for xs in [(0,0),(0,1),(1,0),(1,1)]: # 입력값 x 데이터 \n",
    "    y = NAND(xs[0], xs[1]) # Y는 모델이 에측한 값\n",
    "    print(str(xs) + \"->\" + str(y))\n"
   ]
  },
  {
   "cell_type": "code",
   "execution_count": 43,
   "metadata": {},
   "outputs": [
    {
     "name": "stdout",
     "output_type": "stream",
     "text": [
      "0\n",
      "1\n",
      "1\n",
      "0\n"
     ]
    }
   ],
   "source": [
    "def XOR(x1, x2): # 퍼셉트론 3개 사용 = 멀티퍼셉트론 => 답러닝\n",
    "    s1=NAND(x1,x2)\n",
    "    s2=OR(x1,x2)\n",
    "    y=AND(s1,s2)\n",
    "    \n",
    "    return y # y는 x1,x2 입력에 따른 XOR연산의 결과 \n",
    "    \n",
    "print(XOR(0,0)) # 0출력\n",
    "print(XOR(0,1)) # 0출력\n",
    "print(XOR(1,0)) # 0출력\n",
    "print(XOR(1,1)) # 0출력\n",
    "\n",
    "\n"
   ]
  },
  {
   "cell_type": "code",
   "execution_count": null,
   "metadata": {},
   "outputs": [],
   "source": [
    "# quiz for day17\n"
   ]
  },
  {
   "cell_type": "code",
   "execution_count": null,
   "metadata": {},
   "outputs": [],
   "source": [
    "# 문제 1\n",
    "# y에서 yhat까지의 비용을 계산하는 cost 함수를 만드세요.\n",
    "# def costToYhat(y, yhat):\n",
    "\n",
    "# #여기에 구현하세요\n",
    "\n",
    "# y(실제값)=3, 7, 10, 20\n",
    "# yhat(예측값)=4, 13, 12, 30\n",
    "\n",
    "# 문제 2 \n",
    "# sigmoid 함수를 구현해 보세요.\n",
    "# 호출예시) sigmoid 예측값 h(x)\n",
    "# 변화되는 함수 반환값 시각화 \n",
    "\n",
    "# print(sigmoid(-100))\n",
    "# print(sigmoid(-10))\n",
    "# print(sigmoid(0))\n",
    "# print(sigmoid(10))\n",
    "# print(sigmoid(100))\n",
    "\n",
    "# 문제 3\n",
    "# -10에서 10까지에 대해 sigmoid 함수의 반환값을\n",
    "# 그래프로 표시해 보세요.\n"
   ]
  },
  {
   "cell_type": "code",
   "execution_count": null,
   "metadata": {},
   "outputs": [],
   "source": []
  },
  {
   "cell_type": "code",
   "execution_count": null,
   "metadata": {},
   "outputs": [],
   "source": []
  },
  {
   "cell_type": "code",
   "execution_count": null,
   "metadata": {},
   "outputs": [],
   "source": []
  }
 ],
 "metadata": {
  "kernelspec": {
   "display_name": "Python 3",
   "language": "python",
   "name": "python3"
  },
  "language_info": {
   "codemirror_mode": {
    "name": "ipython",
    "version": 3
   },
   "file_extension": ".py",
   "mimetype": "text/x-python",
   "name": "python",
   "nbconvert_exporter": "python",
   "pygments_lexer": "ipython3",
   "version": "3.7.3"
  }
 },
 "nbformat": 4,
 "nbformat_minor": 2
}
