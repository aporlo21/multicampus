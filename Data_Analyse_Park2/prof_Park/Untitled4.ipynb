{
 "cells": [
  {
   "cell_type": "code",
   "execution_count": null,
   "metadata": {},
   "outputs": [],
   "source": [
    "def get_recommendations(title, cos_sim=cos_sim):\n",
    "    idx_title=idx[title]\n",
    "    sim_score=list(enumerate(cos_sim[idx_title]))\n",
    "    sim_score=sorted(sim_score, reverse=True)\n",
    "    print(sim_score[1:11])\n",
    "    mi=[i[0]for i in sim_score]\n",
    "    print(mi)\n",
    "    print(sim_score)\n",
    "    idx_title #12356\n",
    "    \n",
    "    "
   ]
  }
 ],
 "metadata": {
  "kernelspec": {
   "display_name": "Python 3",
   "language": "python",
   "name": "python3"
  },
  "language_info": {
   "codemirror_mode": {
    "name": "ipython",
    "version": 3
   },
   "file_extension": ".py",
   "mimetype": "text/x-python",
   "name": "python",
   "nbconvert_exporter": "python",
   "pygments_lexer": "ipython3",
   "version": "3.7.3"
  }
 },
 "nbformat": 4,
 "nbformat_minor": 2
}
