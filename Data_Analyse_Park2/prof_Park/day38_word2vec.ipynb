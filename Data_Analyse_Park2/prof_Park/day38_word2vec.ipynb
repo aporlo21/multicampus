{
 "cells": [
  {
   "cell_type": "markdown",
   "metadata": {},
   "source": [
    "# day38\n",
    "## reminding part"
   ]
  },
  {
   "cell_type": "code",
   "execution_count": 113,
   "metadata": {},
   "outputs": [],
   "source": [
    "# 워드 임베딩 : 텍스트 -> 코퍼스 -> 단어 (Bag of Words) -> 수치화\n",
    "\n",
    "# 코퍼스에 등장하는 단어의 개수 \n",
    "# i (0) am (1) a (2) boy (3) // 구축\n",
    "# i am a girl => [1110]\n"
   ]
  },
  {
   "cell_type": "code",
   "execution_count": 114,
   "metadata": {},
   "outputs": [],
   "source": [
    "\n",
    "# 신경망에서 language 모델구성\n",
    "# - 신경망 언어 모델 \n",
    "\n",
    "# 입력 히든 출력\n",
    "# x    h1  y\n",
    "# .    . \n",
    "# .    .\n",
    "# x(v) h(m) y(v)\n",
    "\n",
    "\n",
    "# ex - 1 )  1 * 2 = 2 "
   ]
  },
  {
   "cell_type": "code",
   "execution_count": 115,
   "metadata": {},
   "outputs": [],
   "source": [
    "# 1. word2vec 실습용\n",
    "corpus = ['king is a strong man', \n",
    "          'queen is a wise woman', \n",
    "          'boy is a young man',\n",
    "          'girl is a young woman',\n",
    "          'prince is a young king',\n",
    "          'princess is a young queen',\n",
    "          'man is strong', \n",
    "          'woman is pretty',\n",
    "          'prince is a boy will be king',\n",
    "          'princess is a girl will be queen']\n",
    "\n",
    "\n",
    "# 2. 장문 학습(LSTM)\n",
    "# sentence = (\"The regret after not doing something is bigger than that of doing something \"\n",
    "#             \"Ability is decided by one's own effort \"\n",
    "#             \"The difficulty in life is the choice.\")"
   ]
  },
  {
   "cell_type": "code",
   "execution_count": 116,
   "metadata": {},
   "outputs": [],
   "source": [
    "def remove_stopWords(corpus):\n",
    "    stopWords = ['is','a','will','be']\n",
    "    res = []\n",
    "    for text in corpus : # corpus 가 문장 단위로 읽어진다 text에 들어가\n",
    "        temp = text.split(\" \")\n",
    "        for sw in stopWords :\n",
    "            if sw in temp : # stopwords 가 있으면\n",
    "                temp.remove(sw)\n",
    "                # 각각의 리스트 요소에서 제거하고 나머지 리스트가 도출되어질 것이다 \n",
    "        res.append(\" \".join(temp))\n",
    "    return res"
   ]
  },
  {
   "cell_type": "code",
   "execution_count": 117,
   "metadata": {},
   "outputs": [
    {
     "data": {
      "text/plain": [
       "['king strong man',\n",
       " 'queen wise woman',\n",
       " 'boy young man',\n",
       " 'girl young woman',\n",
       " 'prince young king',\n",
       " 'princess young queen',\n",
       " 'man strong',\n",
       " 'woman pretty',\n",
       " 'prince boy king',\n",
       " 'princess girl queen']"
      ]
     },
     "execution_count": 117,
     "metadata": {},
     "output_type": "execute_result"
    }
   ],
   "source": [
    "corpus = remove_stopWords(corpus)\n",
    "corpus\n",
    "# vocab = corpus를 이루는 unique한 단어들의 집합을 만드는과정 \n"
   ]
  },
  {
   "cell_type": "code",
   "execution_count": 118,
   "metadata": {},
   "outputs": [],
   "source": [
    "words = []\n",
    "for text in corpus:\n",
    "    for word in text.split(' '):\n",
    "        words.append(word)\n",
    "words = set(words) # set 함수 중복 단어 제거되어진다 \n",
    "\n"
   ]
  },
  {
   "cell_type": "code",
   "execution_count": 119,
   "metadata": {},
   "outputs": [
    {
     "data": {
      "text/plain": [
       "{'boy',\n",
       " 'girl',\n",
       " 'king',\n",
       " 'man',\n",
       " 'pretty',\n",
       " 'prince',\n",
       " 'princess',\n",
       " 'queen',\n",
       " 'strong',\n",
       " 'wise',\n",
       " 'woman',\n",
       " 'young'}"
      ]
     },
     "execution_count": 119,
     "metadata": {},
     "output_type": "execute_result"
    }
   ],
   "source": [
    "words"
   ]
  },
  {
   "cell_type": "code",
   "execution_count": 120,
   "metadata": {},
   "outputs": [],
   "source": [
    "# # CBOW\n",
    "# input output \n",
    "# king strong\n",
    "#      man\n",
    "# strong king\n",
    "#        man\n",
    "# man    king\n",
    "#        strong\n",
    "# window size = 2n \n",
    "\n",
    "# window size = 1n, output = 1 개!  "
   ]
  },
  {
   "cell_type": "code",
   "execution_count": 121,
   "metadata": {},
   "outputs": [
    {
     "data": {
      "text/plain": [
       "{'pretty': 0,\n",
       " 'man': 1,\n",
       " 'queen': 2,\n",
       " 'princess': 3,\n",
       " 'girl': 4,\n",
       " 'king': 5,\n",
       " 'young': 6,\n",
       " 'wise': 7,\n",
       " 'strong': 8,\n",
       " 'boy': 9,\n",
       " 'woman': 10,\n",
       " 'prince': 11}"
      ]
     },
     "execution_count": 121,
     "metadata": {},
     "output_type": "execute_result"
    }
   ],
   "source": [
    "\n",
    "word2int = {}\n",
    "# 각각의 단어들을 int형으로 변환시킨 리스트\n",
    "# enumerate(words) # 열거형 = for 문가능\n",
    "for i, word in enumerate(words): # i를 통해서 각각의 단어들에 인덱스 부여 (0-11)\n",
    "    word2int[word] = i\n",
    "word2int"
   ]
  },
  {
   "cell_type": "code",
   "execution_count": 122,
   "metadata": {},
   "outputs": [
    {
     "data": {
      "text/plain": [
       "['king strong man',\n",
       " 'queen wise woman',\n",
       " 'boy young man',\n",
       " 'girl young woman',\n",
       " 'prince young king',\n",
       " 'princess young queen',\n",
       " 'man strong',\n",
       " 'woman pretty',\n",
       " 'prince boy king',\n",
       " 'princess girl queen']"
      ]
     },
     "execution_count": 122,
     "metadata": {},
     "output_type": "execute_result"
    }
   ],
   "source": [
    "# corpus에 저장되어있는 리스트 요소들을 하나씩 불러와서 단어들 인덱스값을 기초로 \n",
    "# 단어들과 주변단어들의 인덱싱을 추출하는 작업수행\n",
    "# corpus 단어 읽기\n",
    "corpus"
   ]
  },
  {
   "cell_type": "code",
   "execution_count": 123,
   "metadata": {},
   "outputs": [
    {
     "data": {
      "text/plain": [
       "[['king', 'strong', 'man'],\n",
       " ['queen', 'wise', 'woman'],\n",
       " ['boy', 'young', 'man'],\n",
       " ['girl', 'young', 'woman'],\n",
       " ['prince', 'young', 'king'],\n",
       " ['princess', 'young', 'queen'],\n",
       " ['man', 'strong'],\n",
       " ['woman', 'pretty'],\n",
       " ['prince', 'boy', 'king'],\n",
       " ['princess', 'girl', 'queen']]"
      ]
     },
     "execution_count": 123,
     "metadata": {},
     "output_type": "execute_result"
    }
   ],
   "source": [
    "sentences=[]\n",
    "for sentence in corpus:\n",
    "    sentences.append(sentence.split())\n",
    "sentences\n",
    "    # 10개의 문장"
   ]
  },
  {
   "cell_type": "code",
   "execution_count": 124,
   "metadata": {},
   "outputs": [
    {
     "name": "stdout",
     "output_type": "stream",
     "text": [
      "[['king', 'strong'], ['king', 'man'], ['strong', 'king'], ['strong', 'man'], ['man', 'king'], ['man', 'strong'], ['queen', 'wise'], ['queen', 'woman'], ['wise', 'queen'], ['wise', 'woman'], ['woman', 'queen'], ['woman', 'wise'], ['boy', 'young'], ['boy', 'man'], ['young', 'boy'], ['young', 'man'], ['man', 'boy'], ['man', 'young'], ['girl', 'young'], ['girl', 'woman'], ['young', 'girl'], ['young', 'woman'], ['woman', 'girl'], ['woman', 'young'], ['prince', 'young'], ['prince', 'king'], ['young', 'prince'], ['young', 'king'], ['king', 'prince'], ['king', 'young'], ['princess', 'young'], ['princess', 'queen'], ['young', 'princess'], ['young', 'queen'], ['queen', 'princess'], ['queen', 'young'], ['man', 'strong'], ['strong', 'man'], ['woman', 'pretty'], ['pretty', 'woman'], ['prince', 'boy'], ['prince', 'king'], ['boy', 'prince'], ['boy', 'king'], ['king', 'prince'], ['king', 'boy'], ['princess', 'girl'], ['princess', 'queen'], ['girl', 'princess'], ['girl', 'queen'], ['queen', 'princess'], ['queen', 'girl']]\n"
     ]
    }
   ],
   "source": [
    "# 한줄씩 한줄씩 리스트단위로 읽자\n",
    "window_size = 2 \n",
    "data = []\n",
    "for sentence in sentences : # [king , strong , man]\n",
    "    for idx, word in enumerate(sentence): # 0, king\n",
    "        # 리스트 내 리스트. 안쪽 리스트 인덱싱을 확인하는 구문\n",
    "        # print(idx, word)\n",
    "        for neighbor in sentence[max(idx-window_size, 0) : min(idx+window_size, \n",
    "                                                               len(sentence)) + 1]: \n",
    "            # max (-2 , 0) = 0 : min (2, 3) = 2 + 1 = 3 => 0:3 => 0,1,2\n",
    "            if neighbor != word:\n",
    "                data.append([word, neighbor])\n",
    "print(data)\n",
    "# 하는 이유 두개씩 도출되는 cBOW 만들기 위한 코딩구문 \n",
    "# word to vec 시, king _____ man => ____ 를 만들기위한구문        \n",
    "        "
   ]
  },
  {
   "cell_type": "code",
   "execution_count": 125,
   "metadata": {},
   "outputs": [
    {
     "name": "stdout",
     "output_type": "stream",
     "text": [
      "king strong man\n",
      "queen wise woman\n",
      "boy young man\n",
      "girl young woman\n",
      "prince young king\n",
      "princess young queen\n",
      "man strong\n",
      "woman pretty\n",
      "prince boy king\n",
      "princess girl queen\n"
     ]
    }
   ],
   "source": [
    "import pandas as pd\n",
    "for text in corpus:\n",
    "    print(text)"
   ]
  },
  {
   "cell_type": "code",
   "execution_count": 126,
   "metadata": {},
   "outputs": [
    {
     "data": {
      "text/html": [
       "<div>\n",
       "<style scoped>\n",
       "    .dataframe tbody tr th:only-of-type {\n",
       "        vertical-align: middle;\n",
       "    }\n",
       "\n",
       "    .dataframe tbody tr th {\n",
       "        vertical-align: top;\n",
       "    }\n",
       "\n",
       "    .dataframe thead th {\n",
       "        text-align: right;\n",
       "    }\n",
       "</style>\n",
       "<table border=\"1\" class=\"dataframe\">\n",
       "  <thead>\n",
       "    <tr style=\"text-align: right;\">\n",
       "      <th></th>\n",
       "      <th>input</th>\n",
       "      <th>label</th>\n",
       "    </tr>\n",
       "  </thead>\n",
       "  <tbody>\n",
       "    <tr>\n",
       "      <th>0</th>\n",
       "      <td>king</td>\n",
       "      <td>strong</td>\n",
       "    </tr>\n",
       "    <tr>\n",
       "      <th>1</th>\n",
       "      <td>king</td>\n",
       "      <td>man</td>\n",
       "    </tr>\n",
       "    <tr>\n",
       "      <th>2</th>\n",
       "      <td>strong</td>\n",
       "      <td>king</td>\n",
       "    </tr>\n",
       "    <tr>\n",
       "      <th>3</th>\n",
       "      <td>strong</td>\n",
       "      <td>man</td>\n",
       "    </tr>\n",
       "    <tr>\n",
       "      <th>4</th>\n",
       "      <td>man</td>\n",
       "      <td>king</td>\n",
       "    </tr>\n",
       "    <tr>\n",
       "      <th>5</th>\n",
       "      <td>man</td>\n",
       "      <td>strong</td>\n",
       "    </tr>\n",
       "    <tr>\n",
       "      <th>6</th>\n",
       "      <td>queen</td>\n",
       "      <td>wise</td>\n",
       "    </tr>\n",
       "    <tr>\n",
       "      <th>7</th>\n",
       "      <td>queen</td>\n",
       "      <td>woman</td>\n",
       "    </tr>\n",
       "    <tr>\n",
       "      <th>8</th>\n",
       "      <td>wise</td>\n",
       "      <td>queen</td>\n",
       "    </tr>\n",
       "    <tr>\n",
       "      <th>9</th>\n",
       "      <td>wise</td>\n",
       "      <td>woman</td>\n",
       "    </tr>\n",
       "    <tr>\n",
       "      <th>10</th>\n",
       "      <td>woman</td>\n",
       "      <td>queen</td>\n",
       "    </tr>\n",
       "    <tr>\n",
       "      <th>11</th>\n",
       "      <td>woman</td>\n",
       "      <td>wise</td>\n",
       "    </tr>\n",
       "    <tr>\n",
       "      <th>12</th>\n",
       "      <td>boy</td>\n",
       "      <td>young</td>\n",
       "    </tr>\n",
       "    <tr>\n",
       "      <th>13</th>\n",
       "      <td>boy</td>\n",
       "      <td>man</td>\n",
       "    </tr>\n",
       "    <tr>\n",
       "      <th>14</th>\n",
       "      <td>young</td>\n",
       "      <td>boy</td>\n",
       "    </tr>\n",
       "    <tr>\n",
       "      <th>15</th>\n",
       "      <td>young</td>\n",
       "      <td>man</td>\n",
       "    </tr>\n",
       "    <tr>\n",
       "      <th>16</th>\n",
       "      <td>man</td>\n",
       "      <td>boy</td>\n",
       "    </tr>\n",
       "    <tr>\n",
       "      <th>17</th>\n",
       "      <td>man</td>\n",
       "      <td>young</td>\n",
       "    </tr>\n",
       "    <tr>\n",
       "      <th>18</th>\n",
       "      <td>girl</td>\n",
       "      <td>young</td>\n",
       "    </tr>\n",
       "    <tr>\n",
       "      <th>19</th>\n",
       "      <td>girl</td>\n",
       "      <td>woman</td>\n",
       "    </tr>\n",
       "    <tr>\n",
       "      <th>20</th>\n",
       "      <td>young</td>\n",
       "      <td>girl</td>\n",
       "    </tr>\n",
       "    <tr>\n",
       "      <th>21</th>\n",
       "      <td>young</td>\n",
       "      <td>woman</td>\n",
       "    </tr>\n",
       "    <tr>\n",
       "      <th>22</th>\n",
       "      <td>woman</td>\n",
       "      <td>girl</td>\n",
       "    </tr>\n",
       "    <tr>\n",
       "      <th>23</th>\n",
       "      <td>woman</td>\n",
       "      <td>young</td>\n",
       "    </tr>\n",
       "    <tr>\n",
       "      <th>24</th>\n",
       "      <td>prince</td>\n",
       "      <td>young</td>\n",
       "    </tr>\n",
       "    <tr>\n",
       "      <th>25</th>\n",
       "      <td>prince</td>\n",
       "      <td>king</td>\n",
       "    </tr>\n",
       "    <tr>\n",
       "      <th>26</th>\n",
       "      <td>young</td>\n",
       "      <td>prince</td>\n",
       "    </tr>\n",
       "    <tr>\n",
       "      <th>27</th>\n",
       "      <td>young</td>\n",
       "      <td>king</td>\n",
       "    </tr>\n",
       "    <tr>\n",
       "      <th>28</th>\n",
       "      <td>king</td>\n",
       "      <td>prince</td>\n",
       "    </tr>\n",
       "    <tr>\n",
       "      <th>29</th>\n",
       "      <td>king</td>\n",
       "      <td>young</td>\n",
       "    </tr>\n",
       "    <tr>\n",
       "      <th>30</th>\n",
       "      <td>princess</td>\n",
       "      <td>young</td>\n",
       "    </tr>\n",
       "    <tr>\n",
       "      <th>31</th>\n",
       "      <td>princess</td>\n",
       "      <td>queen</td>\n",
       "    </tr>\n",
       "    <tr>\n",
       "      <th>32</th>\n",
       "      <td>young</td>\n",
       "      <td>princess</td>\n",
       "    </tr>\n",
       "    <tr>\n",
       "      <th>33</th>\n",
       "      <td>young</td>\n",
       "      <td>queen</td>\n",
       "    </tr>\n",
       "    <tr>\n",
       "      <th>34</th>\n",
       "      <td>queen</td>\n",
       "      <td>princess</td>\n",
       "    </tr>\n",
       "    <tr>\n",
       "      <th>35</th>\n",
       "      <td>queen</td>\n",
       "      <td>young</td>\n",
       "    </tr>\n",
       "    <tr>\n",
       "      <th>36</th>\n",
       "      <td>man</td>\n",
       "      <td>strong</td>\n",
       "    </tr>\n",
       "    <tr>\n",
       "      <th>37</th>\n",
       "      <td>strong</td>\n",
       "      <td>man</td>\n",
       "    </tr>\n",
       "    <tr>\n",
       "      <th>38</th>\n",
       "      <td>woman</td>\n",
       "      <td>pretty</td>\n",
       "    </tr>\n",
       "    <tr>\n",
       "      <th>39</th>\n",
       "      <td>pretty</td>\n",
       "      <td>woman</td>\n",
       "    </tr>\n",
       "    <tr>\n",
       "      <th>40</th>\n",
       "      <td>prince</td>\n",
       "      <td>boy</td>\n",
       "    </tr>\n",
       "    <tr>\n",
       "      <th>41</th>\n",
       "      <td>prince</td>\n",
       "      <td>king</td>\n",
       "    </tr>\n",
       "    <tr>\n",
       "      <th>42</th>\n",
       "      <td>boy</td>\n",
       "      <td>prince</td>\n",
       "    </tr>\n",
       "    <tr>\n",
       "      <th>43</th>\n",
       "      <td>boy</td>\n",
       "      <td>king</td>\n",
       "    </tr>\n",
       "    <tr>\n",
       "      <th>44</th>\n",
       "      <td>king</td>\n",
       "      <td>prince</td>\n",
       "    </tr>\n",
       "    <tr>\n",
       "      <th>45</th>\n",
       "      <td>king</td>\n",
       "      <td>boy</td>\n",
       "    </tr>\n",
       "    <tr>\n",
       "      <th>46</th>\n",
       "      <td>princess</td>\n",
       "      <td>girl</td>\n",
       "    </tr>\n",
       "    <tr>\n",
       "      <th>47</th>\n",
       "      <td>princess</td>\n",
       "      <td>queen</td>\n",
       "    </tr>\n",
       "    <tr>\n",
       "      <th>48</th>\n",
       "      <td>girl</td>\n",
       "      <td>princess</td>\n",
       "    </tr>\n",
       "    <tr>\n",
       "      <th>49</th>\n",
       "      <td>girl</td>\n",
       "      <td>queen</td>\n",
       "    </tr>\n",
       "    <tr>\n",
       "      <th>50</th>\n",
       "      <td>queen</td>\n",
       "      <td>princess</td>\n",
       "    </tr>\n",
       "    <tr>\n",
       "      <th>51</th>\n",
       "      <td>queen</td>\n",
       "      <td>girl</td>\n",
       "    </tr>\n",
       "  </tbody>\n",
       "</table>\n",
       "</div>"
      ],
      "text/plain": [
       "       input     label\n",
       "0       king    strong\n",
       "1       king       man\n",
       "2     strong      king\n",
       "3     strong       man\n",
       "4        man      king\n",
       "5        man    strong\n",
       "6      queen      wise\n",
       "7      queen     woman\n",
       "8       wise     queen\n",
       "9       wise     woman\n",
       "10     woman     queen\n",
       "11     woman      wise\n",
       "12       boy     young\n",
       "13       boy       man\n",
       "14     young       boy\n",
       "15     young       man\n",
       "16       man       boy\n",
       "17       man     young\n",
       "18      girl     young\n",
       "19      girl     woman\n",
       "20     young      girl\n",
       "21     young     woman\n",
       "22     woman      girl\n",
       "23     woman     young\n",
       "24    prince     young\n",
       "25    prince      king\n",
       "26     young    prince\n",
       "27     young      king\n",
       "28      king    prince\n",
       "29      king     young\n",
       "30  princess     young\n",
       "31  princess     queen\n",
       "32     young  princess\n",
       "33     young     queen\n",
       "34     queen  princess\n",
       "35     queen     young\n",
       "36       man    strong\n",
       "37    strong       man\n",
       "38     woman    pretty\n",
       "39    pretty     woman\n",
       "40    prince       boy\n",
       "41    prince      king\n",
       "42       boy    prince\n",
       "43       boy      king\n",
       "44      king    prince\n",
       "45      king       boy\n",
       "46  princess      girl\n",
       "47  princess     queen\n",
       "48      girl  princess\n",
       "49      girl     queen\n",
       "50     queen  princess\n",
       "51     queen      girl"
      ]
     },
     "execution_count": 126,
     "metadata": {},
     "output_type": "execute_result"
    }
   ],
   "source": [
    "df=pd.DataFrame(data, columns = ['input', 'label'])\n",
    "df\n",
    "# (52,2)"
   ]
  },
  {
   "cell_type": "code",
   "execution_count": 127,
   "metadata": {},
   "outputs": [
    {
     "data": {
      "text/plain": [
       "{'pretty': 0,\n",
       " 'man': 1,\n",
       " 'queen': 2,\n",
       " 'princess': 3,\n",
       " 'girl': 4,\n",
       " 'king': 5,\n",
       " 'young': 6,\n",
       " 'wise': 7,\n",
       " 'strong': 8,\n",
       " 'boy': 9,\n",
       " 'woman': 10,\n",
       " 'prince': 11}"
      ]
     },
     "execution_count": 127,
     "metadata": {},
     "output_type": "execute_result"
    }
   ],
   "source": [
    "word2int\n",
    "#  이 값을 기준으로 ohe  되어져야함\n",
    "\n",
    "# word2vec structure\n",
    "# input dimension = 12 \n",
    "# Embedding dimension = 2 \n",
    "# output dimension = 12 \n",
    "# weight 1 (12x2) [압축과정]\n",
    "# weight 2 (12x2) [압축해제과정]\n",
    "## transpose (x)\n"
   ]
  },
  {
   "cell_type": "code",
   "execution_count": 128,
   "metadata": {},
   "outputs": [],
   "source": [
    "## ohe\n",
    "# 입, 출력단어에 대해서,,,\n",
    "# tensorflow ,,,신경망구성과정\n",
    "# 입력 / 히든 / 출력 레이어 계층에대한 구성과정\n",
    "# cross entropy \n",
    "# running \n",
    "\n",
    "# ex) 한국 - 서울 + 북경 => 중국\n",
    "# sg(0,1) # 1 : skipgram # 0 : CBOW\n",
    "# word2vec 공간내 \n"
   ]
  },
  {
   "cell_type": "code",
   "execution_count": 129,
   "metadata": {},
   "outputs": [],
   "source": [
    "import numpy as np\n",
    "\n",
    "ONE_HOT_DIM = len(words) # vocab length = 12\n",
    "# path = 'C:/Users/user/Desktop/data analysis bigppt/ted'\n",
    "# ted_text.xml\n",
    "\n",
    "def to_one_hot_encoding(data_point_index):\n",
    "    one_hot_encoding = np.zeros(ONE_HOT_DIM)\n",
    "    one_hot_encoding[data_point_index] = 1\n",
    "    return one_hot_encoding\n",
    "#     print(one_hot_encoding)\n",
    "X=[] # input word\n",
    "Y=[] # target word\n",
    "for x,y in zip(df['input'], df['label']):\n",
    "    X.append(to_one_hot_encoding(word2int[x]))\n",
    "    Y.append(to_one_hot_encoding(word2int[y]))\n",
    "    # vocab에서 x 찾자 = ohe 해야할 수치를 찾고 함수에 전달해주자\n",
    "# type(X)\n",
    "xtrain = np.asarray(X)\n",
    "ytrain = np.asarray(Y)\n",
    "# to_one_hot_encoding"
   ]
  },
  {
   "cell_type": "code",
   "execution_count": 130,
   "metadata": {},
   "outputs": [],
   "source": [
    "import tensorflow as tf\n",
    "# tensor flow NN 구성\n",
    "x = tf.placeholder(tf.float32, shape = [None, ONE_HOT_DIM])\n",
    "y = tf.placeholder(tf.float32, shape = [None, ONE_HOT_DIM])\n",
    "\n",
    "EMBEDDING_DIM = 2 # 2차원 wordEmbedding Vector\n",
    "\n",
    "w1 = tf.Variable(tf.random_normal([ONE_HOT_DIM, EMBEDDING_DIM])) \n",
    "# [12, 2] # updata 대상은 variable 로 선언해줘야한다 \n",
    "b1 = tf.Variable(tf.random_normal([1])) \n",
    "hidden_layer=tf.add(tf.matmul(x,w1), b1) # [None, 2]\n",
    "# hidden layer 구성\n",
    "\n",
    "w2 = tf.Variable(tf.random_normal([EMBEDDING_DIM, ONE_HOT_DIM]))  # [2, 12]\n",
    "b2 = tf.Variable(tf.random_normal([1]))\n",
    "hf = tf.nn.softmax(tf.add(tf.matmul(hidden_layer, w2), b2))\n",
    "\n",
    "# output layer 구성 \n",
    "cost = tf.reduce_mean(-tf.reduce_sum(y * tf.log(hf), 1))\n",
    "\n",
    "# train node definition\n",
    "train=tf.train.GradientDescentOptimizer(0.05).minimize(cost)\n",
    "\n"
   ]
  },
  {
   "cell_type": "code",
   "execution_count": 131,
   "metadata": {},
   "outputs": [
    {
     "name": "stdout",
     "output_type": "stream",
     "text": [
      "iteration0cost is: 4.1115503\n",
      "iteration1000cost is: 2.1203897\n",
      "iteration2000cost is: 1.9603095\n",
      "iteration3000cost is: 1.9084046\n",
      "iteration4000cost is: 1.8820517\n",
      "iteration5000cost is: 1.8649919\n",
      "iteration6000cost is: 1.8517004\n",
      "iteration7000cost is: 1.8406372\n",
      "iteration8000cost is: 1.8309579\n",
      "iteration9000cost is: 1.821569\n",
      "iteration10000cost is: 1.8109504\n",
      "iteration11000cost is: 1.7976432\n",
      "iteration12000cost is: 1.7830192\n",
      "iteration13000cost is: 1.7696668\n",
      "iteration14000cost is: 1.7585034\n",
      "iteration15000cost is: 1.7489794\n",
      "iteration16000cost is: 1.7408262\n",
      "iteration17000cost is: 1.7340692\n",
      "iteration18000cost is: 1.7286197\n",
      "iteration19000cost is: 1.7242126\n",
      "iteration20000cost is: 1.7205386\n",
      "iteration21000cost is: 1.7173703\n",
      "iteration22000cost is: 1.7145652\n",
      "iteration23000cost is: 1.7120335\n",
      "iteration24000cost is: 1.7097175\n",
      "iteration25000cost is: 1.7075782\n",
      "iteration26000cost is: 1.7055887\n",
      "iteration27000cost is: 1.7037302\n",
      "iteration28000cost is: 1.7019885\n",
      "iteration29000cost is: 1.7003524\n"
     ]
    }
   ],
   "source": [
    "# 트레이닝\n",
    "sess = tf.Session()\n",
    "sess.run(tf.global_variables_initializer())\n",
    "iteration = 30000\n",
    "for i in range(iteration):\n",
    "    sess.run(train, feed_dict = {x:xtrain,y:ytrain})\n",
    "    if i % 1000 == 0:\n",
    "        print('iteration'+str(i)+'cost is:',\n",
    "             sess.run(cost, feed_dict ={x:xtrain, y:ytrain}))\n"
   ]
  },
  {
   "cell_type": "code",
   "execution_count": 132,
   "metadata": {},
   "outputs": [
    {
     "data": {
      "text/plain": [
       "array([[-0.35866827,  0.97329116],\n",
       "       [-0.35866827,  0.97329116],\n",
       "       [ 3.0875452 ,  3.7633035 ],\n",
       "       [ 3.0875452 ,  3.7633035 ],\n",
       "       [-1.8500689 ,  3.6387577 ],\n",
       "       [-1.8500689 ,  3.6387577 ],\n",
       "       [-0.61767244, -0.52514243],\n",
       "       [-0.61767244, -0.52514243],\n",
       "       [-5.327001  , -2.7513258 ],\n",
       "       [-5.327001  , -2.7513258 ],\n",
       "       [-0.22196099, -0.3015695 ],\n",
       "       [-0.22196099, -0.3015695 ],\n",
       "       [-0.21261242,  0.9767301 ],\n",
       "       [-0.21261242,  0.9767301 ],\n",
       "       [-0.06734326,  0.13600427],\n",
       "       [-0.06734326,  0.13600427],\n",
       "       [-1.8500689 ,  3.6387577 ],\n",
       "       [-1.8500689 ,  3.6387577 ],\n",
       "       [-1.3553299 , -0.573362  ],\n",
       "       [-1.3553299 , -0.573362  ],\n",
       "       [-0.06734326,  0.13600427],\n",
       "       [-0.06734326,  0.13600427],\n",
       "       [-0.22196099, -0.3015695 ],\n",
       "       [-0.22196099, -0.3015695 ],\n",
       "       [-3.033745  ,  6.5172048 ],\n",
       "       [-3.033745  ,  6.5172048 ],\n",
       "       [-0.06734326,  0.13600427],\n",
       "       [-0.06734326,  0.13600427],\n",
       "       [-0.35866827,  0.97329116],\n",
       "       [-0.35866827,  0.97329116],\n",
       "       [-3.3100972 , -0.28823513],\n",
       "       [-3.3100972 , -0.28823513],\n",
       "       [-0.06734326,  0.13600427],\n",
       "       [-0.06734326,  0.13600427],\n",
       "       [-0.61767244, -0.52514243],\n",
       "       [-0.61767244, -0.52514243],\n",
       "       [-1.8500689 ,  3.6387577 ],\n",
       "       [ 3.0875452 ,  3.7633035 ],\n",
       "       [-0.22196099, -0.3015695 ],\n",
       "       [-3.4666364 , -3.385653  ],\n",
       "       [-3.033745  ,  6.5172048 ],\n",
       "       [-3.033745  ,  6.5172048 ],\n",
       "       [-0.21261242,  0.9767301 ],\n",
       "       [-0.21261242,  0.9767301 ],\n",
       "       [-0.35866827,  0.97329116],\n",
       "       [-0.35866827,  0.97329116],\n",
       "       [-3.3100972 , -0.28823513],\n",
       "       [-3.3100972 , -0.28823513],\n",
       "       [-1.3553299 , -0.573362  ],\n",
       "       [-1.3553299 , -0.573362  ],\n",
       "       [-0.61767244, -0.52514243],\n",
       "       [-0.61767244, -0.52514243]], dtype=float32)"
      ]
     },
     "execution_count": 132,
     "metadata": {},
     "output_type": "execute_result"
    }
   ],
   "source": [
    "vectors = sess.run(hidden_layer, feed_dict = {x:xtrain, y:ytrain})\n",
    "# vectors.shape()\n",
    "vectors "
   ]
  },
  {
   "cell_type": "code",
   "execution_count": 133,
   "metadata": {},
   "outputs": [
    {
     "name": "stdout",
     "output_type": "stream",
     "text": [
      "[[-3.4666364  -3.385653  ]\n",
      " [-1.8500689   3.6387577 ]\n",
      " [-0.61767244 -0.52514243]\n",
      " [-3.3100972  -0.28823513]\n",
      " [-1.3553299  -0.573362  ]\n",
      " [-0.35866827  0.97329116]\n",
      " [-0.06734326  0.13600427]\n",
      " [-5.327001   -2.7513258 ]\n",
      " [ 3.0875452   3.7633035 ]\n",
      " [-0.21261242  0.9767301 ]\n",
      " [-0.22196099 -0.3015695 ]\n",
      " [-3.033745    6.5172048 ]]\n"
     ]
    }
   ],
   "source": [
    "vectors = sess.run(w1+b1)\n",
    "print(vectors) # 12, 2 "
   ]
  },
  {
   "cell_type": "code",
   "execution_count": 134,
   "metadata": {},
   "outputs": [
    {
     "data": {
      "text/html": [
       "<div>\n",
       "<style scoped>\n",
       "    .dataframe tbody tr th:only-of-type {\n",
       "        vertical-align: middle;\n",
       "    }\n",
       "\n",
       "    .dataframe tbody tr th {\n",
       "        vertical-align: top;\n",
       "    }\n",
       "\n",
       "    .dataframe thead th {\n",
       "        text-align: right;\n",
       "    }\n",
       "</style>\n",
       "<table border=\"1\" class=\"dataframe\">\n",
       "  <thead>\n",
       "    <tr style=\"text-align: right;\">\n",
       "      <th></th>\n",
       "      <th>word</th>\n",
       "      <th>v1</th>\n",
       "      <th>v2</th>\n",
       "    </tr>\n",
       "  </thead>\n",
       "  <tbody>\n",
       "    <tr>\n",
       "      <th>0</th>\n",
       "      <td>pretty</td>\n",
       "      <td>-3.466636</td>\n",
       "      <td>-3.385653</td>\n",
       "    </tr>\n",
       "    <tr>\n",
       "      <th>1</th>\n",
       "      <td>man</td>\n",
       "      <td>-1.850069</td>\n",
       "      <td>3.638758</td>\n",
       "    </tr>\n",
       "    <tr>\n",
       "      <th>2</th>\n",
       "      <td>queen</td>\n",
       "      <td>-0.617672</td>\n",
       "      <td>-0.525142</td>\n",
       "    </tr>\n",
       "    <tr>\n",
       "      <th>3</th>\n",
       "      <td>princess</td>\n",
       "      <td>-3.310097</td>\n",
       "      <td>-0.288235</td>\n",
       "    </tr>\n",
       "    <tr>\n",
       "      <th>4</th>\n",
       "      <td>girl</td>\n",
       "      <td>-1.355330</td>\n",
       "      <td>-0.573362</td>\n",
       "    </tr>\n",
       "    <tr>\n",
       "      <th>5</th>\n",
       "      <td>king</td>\n",
       "      <td>-0.358668</td>\n",
       "      <td>0.973291</td>\n",
       "    </tr>\n",
       "    <tr>\n",
       "      <th>6</th>\n",
       "      <td>young</td>\n",
       "      <td>-0.067343</td>\n",
       "      <td>0.136004</td>\n",
       "    </tr>\n",
       "    <tr>\n",
       "      <th>7</th>\n",
       "      <td>wise</td>\n",
       "      <td>-5.327001</td>\n",
       "      <td>-2.751326</td>\n",
       "    </tr>\n",
       "    <tr>\n",
       "      <th>8</th>\n",
       "      <td>strong</td>\n",
       "      <td>3.087545</td>\n",
       "      <td>3.763304</td>\n",
       "    </tr>\n",
       "    <tr>\n",
       "      <th>9</th>\n",
       "      <td>boy</td>\n",
       "      <td>-0.212612</td>\n",
       "      <td>0.976730</td>\n",
       "    </tr>\n",
       "    <tr>\n",
       "      <th>10</th>\n",
       "      <td>woman</td>\n",
       "      <td>-0.221961</td>\n",
       "      <td>-0.301569</td>\n",
       "    </tr>\n",
       "    <tr>\n",
       "      <th>11</th>\n",
       "      <td>prince</td>\n",
       "      <td>-3.033745</td>\n",
       "      <td>6.517205</td>\n",
       "    </tr>\n",
       "  </tbody>\n",
       "</table>\n",
       "</div>"
      ],
      "text/plain": [
       "        word        v1        v2\n",
       "0     pretty -3.466636 -3.385653\n",
       "1        man -1.850069  3.638758\n",
       "2      queen -0.617672 -0.525142\n",
       "3   princess -3.310097 -0.288235\n",
       "4       girl -1.355330 -0.573362\n",
       "5       king -0.358668  0.973291\n",
       "6      young -0.067343  0.136004\n",
       "7       wise -5.327001 -2.751326\n",
       "8     strong  3.087545  3.763304\n",
       "9        boy -0.212612  0.976730\n",
       "10     woman -0.221961 -0.301569\n",
       "11    prince -3.033745  6.517205"
      ]
     },
     "execution_count": 134,
     "metadata": {},
     "output_type": "execute_result"
    }
   ],
   "source": [
    "# 시각화 .... 비슷한 단어들의 비슷한 위치 확인 \n",
    "w2v_df = pd.DataFrame(vectors, columns = ['v1','v2'])\n",
    "w2v_df['word'] = words\n",
    "w2v_df = w2v_df[['word','v1','v2']]\n",
    "w2v_df"
   ]
  },
  {
   "cell_type": "code",
   "execution_count": 135,
   "metadata": {},
   "outputs": [
    {
     "data": {
      "image/png": "[encoded data removed]",
      "text/plain": [
       "<Figure size 1080x1080 with 1 Axes>"
      ]
     },
     "metadata": {
      "needs_background": "light"
     },
     "output_type": "display_data"
    }
   ],
   "source": [
    "import matplotlib.pyplot as plt\n",
    "fig, ax = plt.subplots()\n",
    "for word , v1, v2 in zip(w2v_df['word'], w2v_df['v1'], w2v_df['v2']):\n",
    "    ax.annotate(word, (v1,v2)) # 벡터위에 단어가 보인다\n",
    "padding = 1.0\n",
    "xmin = np.amin(vectors, axis = 0)[0] - padding\n",
    "y_min = np.amin(vectors, axis = 0)[1] - padding\n",
    "x_max = np.amax(vectors, axis = 0)[0] + padding\n",
    "y_max = np.amax(vectors, axis = 0)[1] + padding\n",
    "\n",
    "plt.xlim(x_min, x_max)\n",
    "plt.ylim(y_min, y_max)\n",
    "plt.rcParams['figure.figsize'] = (15,15)\n",
    "plt.show()\n",
    "\n"
   ]
  },
  {
   "cell_type": "code",
   "execution_count": 136,
   "metadata": {},
   "outputs": [],
   "source": [
    "# (52,2) 로 연산량이 증가하는 word2vec의 설계상의 결점을 보완하기위해\n",
    "# # Negative Sampling 방식이 w2v 방식에 결합되어졋다\n",
    "# Negative Sampling : 중요치 않은 요소들은 모두 빼고 일부만 연산한다 =pluning 개념\n",
    "# pluning : aprioir algorithm, lift 부분집합 갯수가 너무 많아 지면서, 가지치기 쳐서\n",
    "#     연산량을 줄였다 "
   ]
  },
  {
   "cell_type": "code",
   "execution_count": 137,
   "metadata": {},
   "outputs": [],
   "source": [
    "## 날코딩 끝 \n"
   ]
  },
  {
   "cell_type": "markdown",
   "metadata": {},
   "source": [
    "## 라이브러리 사용 word2vec 구현"
   ]
  },
  {
   "cell_type": "code",
   "execution_count": 138,
   "metadata": {},
   "outputs": [],
   "source": [
    "# word2vec =  중심 -> 주변 (w1) # 맞춰간다 ... weight Updating\n",
    "#             주변 -> 중심 (w2) \n",
    "# 단어를 벡터화 ... 단어의 문맥적 의미 보존\n",
    "# by using, 유클리디안, 코사인유사도 \n",
    "# k-means : clustering(군집화)\n",
    "    "
   ]
  },
  {
   "cell_type": "code",
   "execution_count": 139,
   "metadata": {},
   "outputs": [],
   "source": [
    "\n",
    "# path = 'C:/Users/user/Desktop/data analysis bigppt/ted'\n",
    "# ted_text.xml\n",
    "\n",
    "# w2 벡터를 시각화 ( w1 과 비교 )\n"
   ]
  },
  {
   "cell_type": "code",
   "execution_count": 140,
   "metadata": {},
   "outputs": [],
   "source": [
    "import re\n",
    "from lxml import etree # etree 로 press 하면 속도 향상\n",
    "import nltk\n",
    "from nltk.tokenize import word_tokenize, sent_tokenize"
   ]
  },
  {
   "cell_type": "code",
   "execution_count": 141,
   "metadata": {},
   "outputs": [
    {
     "data": {
      "text/plain": [
       "273424"
      ]
     },
     "execution_count": 141,
     "metadata": {},
     "output_type": "execute_result"
    }
   ],
   "source": [
    "text = 'C:/Users/user/Desktop/data analysis bigppt/ted/ted_text.xml'\n",
    "targetXml = open( text,'r', encoding='utf8' )\n",
    "# ted_text.xml')\n",
    "target_text = etree.parse(targetXml)\n",
    "# parse_text = target_text.xpath('//content/text()')\n",
    "parse_text = '\\n'.join(target_text.xpath('//content/text()'))\n",
    "# target_text\n",
    "# <content> ~ </content> 내용을 추출\n",
    "content_text = re.sub('\\([^)]*\\)','', parse_text)\n",
    "# (단어) 제거\n",
    "sent_text = sent_tokenize(content_text)\n",
    "len(sent_text)\n"
   ]
  },
  {
   "cell_type": "code",
   "execution_count": 147,
   "metadata": {},
   "outputs": [],
   "source": [
    "# parse_text\n",
    "# 구두점 제거, 대문자 => 소문자 \n",
    "normalized_text = []\n",
    "for s in sent_text:\n",
    "    tokens = re.sub(\"[^a-z0-9]+\", \" \", s.lower()) # string - s\n",
    "    # a-z0-9 가 아닌것들에 해당하는 것들에 대해서, \n",
    "    normalized_text.append(tokens)"
   ]
  },
  {
   "cell_type": "code",
   "execution_count": 146,
   "metadata": {},
   "outputs": [
    {
     "data": {
      "text/plain": [
       "['here are two reasons companies fail they only do more of the same or they only do what s new ',\n",
       " 'to me the real real solution to quality growth is figuring out the balance between two activities exploration and exploitation ',\n",
       " 'both are necessary but it can be too much of a good thing ',\n",
       " 'consider facit ',\n",
       " 'i m actually old enough to remember them ',\n",
       " 'facit was a fantastic company ',\n",
       " 'they were born deep in the swedish forest and they made the best mechanical calculators in the world ',\n",
       " 'everybody used them ',\n",
       " 'and what did facit do when the electronic calculator came along ',\n",
       " 'they continued doing exactly the same ']"
      ]
     },
     "execution_count": 146,
     "metadata": {},
     "output_type": "execute_result"
    }
   ],
   "source": [
    "normalized_text[:10]"
   ]
  },
  {
   "cell_type": "code",
   "execution_count": 148,
   "metadata": {},
   "outputs": [],
   "source": [
    "res = []\n",
    "res = [word_tokenize(sent) for sent in normalized_text]\n",
    "# 문장이 word 단위로 쪼개짐\n"
   ]
  },
  {
   "cell_type": "code",
   "execution_count": 149,
   "metadata": {},
   "outputs": [
    {
     "name": "stdout",
     "output_type": "stream",
     "text": [
      "[['here', 'are', 'two', 'reasons', 'companies', 'fail', 'they', 'only', 'do', 'more', 'of', 'the', 'same', 'or', 'they', 'only', 'do', 'what', 's', 'new'], ['to', 'me', 'the', 'real', 'real', 'solution', 'to', 'quality', 'growth', 'is', 'figuring', 'out', 'the', 'balance', 'between', 'two', 'activities', 'exploration', 'and', 'exploitation'], ['both', 'are', 'necessary', 'but', 'it', 'can', 'be', 'too', 'much', 'of', 'a', 'good', 'thing'], ['consider', 'facit'], ['i', 'm', 'actually', 'old', 'enough', 'to', 'remember', 'them'], ['facit', 'was', 'a', 'fantastic', 'company'], ['they', 'were', 'born', 'deep', 'in', 'the', 'swedish', 'forest', 'and', 'they', 'made', 'the', 'best', 'mechanical', 'calculators', 'in', 'the', 'world'], ['everybody', 'used', 'them'], ['and', 'what', 'did', 'facit', 'do', 'when', 'the', 'electronic', 'calculator', 'came', 'along'], ['they', 'continued', 'doing', 'exactly', 'the', 'same']]\n"
     ]
    }
   ],
   "source": [
    "print(res[:10])"
   ]
  },
  {
   "cell_type": "code",
   "execution_count": 150,
   "metadata": {},
   "outputs": [
    {
     "name": "stderr",
     "output_type": "stream",
     "text": [
      "C:\\Users\\user\\Anaconda3\\lib\\site-packages\\gensim\\models\\base_any2vec.py:743: UserWarning: C extension not loaded, training will be slow. Install a C compiler and reinstall gensim for fast training.\n",
      "  \"C extension not loaded, training will be slow. \"\n"
     ]
    },
    {
     "data": {
      "text/plain": [
       "<gensim.models.word2vec.Word2Vec at 0x26653f82208>"
      ]
     },
     "execution_count": 150,
     "metadata": {},
     "output_type": "execute_result"
    }
   ],
   "source": [
    "from gensim.models import Word2Vec\n",
    "model = Word2Vec(sentences=res, size=100, window=5, min_count=10, sg=0, workers=4)\n",
    "model\n",
    "# sg=0 : CBOW sg=1 : skip_gram\n"
   ]
  },
  {
   "cell_type": "code",
   "execution_count": null,
   "metadata": {},
   "outputs": [],
   "source": [
    "model.most_similar(\"단어\")\n",
    "model.init_sims(replace=True) # 메모리해제\n",
    "model.similarity(\"boy\", \"man\") # 유사도 계산\n",
    "# ex ) she + (actor - actress) = he\n",
    "model.most_similar(positive=['she','actor'],\n",
    "                  negetive='actress',topn=5)\n"
   ]
  },
  {
   "cell_type": "code",
   "execution_count": null,
   "metadata": {},
   "outputs": [],
   "source": [
    "# nltk.download('movie_reviews')"
   ]
  },
  {
   "cell_type": "code",
   "execution_count": null,
   "metadata": {},
   "outputs": [],
   "source": []
  },
  {
   "cell_type": "code",
   "execution_count": null,
   "metadata": {},
   "outputs": [],
   "source": []
  },
  {
   "cell_type": "code",
   "execution_count": null,
   "metadata": {},
   "outputs": [],
   "source": []
  },
  {
   "cell_type": "code",
   "execution_count": null,
   "metadata": {},
   "outputs": [],
   "source": []
  },
  {
   "cell_type": "code",
   "execution_count": null,
   "metadata": {},
   "outputs": [],
   "source": []
  }
 ],
 "metadata": {
  "kernelspec": {
   "display_name": "Python 3",
   "language": "python",
   "name": "python3"
  },
  "language_info": {
   "codemirror_mode": {
    "name": "ipython",
    "version": 3
   },
   "file_extension": ".py",
   "mimetype": "text/x-python",
   "name": "python",
   "nbconvert_exporter": "python",
   "pygments_lexer": "ipython3",
   "version": "3.7.3"
  }
 },
 "nbformat": 4,
 "nbformat_minor": 2
}
