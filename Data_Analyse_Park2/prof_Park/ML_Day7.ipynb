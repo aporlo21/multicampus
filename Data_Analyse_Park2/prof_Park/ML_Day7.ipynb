{
 "cells": [
  {
   "cell_type": "code",
   "execution_count": 1,
   "metadata": {},
   "outputs": [],
   "source": [
    "import numpy as np\n",
    "import pandas as pd"
   ]
  },
  {
   "cell_type": "code",
   "execution_count": 2,
   "metadata": {},
   "outputs": [
    {
     "data": {
      "text/plain": [
       "2.23606797749979"
      ]
     },
     "execution_count": 2,
     "metadata": {},
     "output_type": "execute_result"
    }
   ],
   "source": [
    "x=np.array([2,1])\n",
    "np.linalg.norm(x)"
   ]
  },
  {
   "cell_type": "code",
   "execution_count": 3,
   "metadata": {},
   "outputs": [
    {
     "data": {
      "text/plain": [
       "4.47213595499958"
      ]
     },
     "execution_count": 3,
     "metadata": {},
     "output_type": "execute_result"
    }
   ],
   "source": [
    "x=np.array([4,2])\n",
    "np.linalg.norm(x)"
   ]
  },
  {
   "cell_type": "code",
   "execution_count": 4,
   "metadata": {},
   "outputs": [
    {
     "data": {
      "text/plain": [
       "0"
      ]
     },
     "execution_count": 4,
     "metadata": {},
     "output_type": "execute_result"
    }
   ],
   "source": [
    "a=np.array([1,1])\n",
    "b=np.array([-1,1])\n",
    "a @ b"
   ]
  },
  {
   "cell_type": "code",
   "execution_count": null,
   "metadata": {},
   "outputs": [],
   "source": [
    "#추천시스템(CF 기반)\n",
    "#CF: 유사도 기반 평점 예측, 영화 추천, 음악 추천...등에 활용됨\n",
    "#사용자기반/아이템(하이브리드)기반 CF\n",
    "#아이템기반:사용자 정보 부족, 여러 트랜잭션에서 중복 아이템이\n",
    "#적은 경우(의미있는 데이터 추출이 어려운 경우)\n",
    "\n",
    "#홍길동(트랜잭션):A, B(아이템)\n",
    "#임꺽정:C,D\n",
    "#이순신:E,F"
   ]
  },
  {
   "cell_type": "code",
   "execution_count": 5,
   "metadata": {},
   "outputs": [],
   "source": [
    "critics={\n",
    "    'BTS':{'암수살인':5, '바울':4, '할로윈':1.5},\n",
    "    '손흥민':{'바울':5, '할로윈':2},\n",
    "    '조용필':{'암수살인':2.5, '바울':2, '할로윈':1},\n",
    "    '나훈아':{'암수살인':3.5, '바울':4, '할로윈':5}\n",
    "}"
   ]
  },
  {
   "cell_type": "code",
   "execution_count": 11,
   "metadata": {},
   "outputs": [
    {
     "name": "stdout",
     "output_type": "stream",
     "text": [
      "{'암수살인': 5, '바울': 4, '할로윈': 1.5}\n",
      "{'암수살인': 5, '바울': 4, '할로윈': 1.5}\n"
     ]
    }
   ],
   "source": [
    "print(critics.get('BTS'))\n",
    "print(critics['BTS'])"
   ]
  },
  {
   "cell_type": "code",
   "execution_count": 13,
   "metadata": {
    "scrolled": true
   },
   "outputs": [],
   "source": [
    "#print(critics.get('BTS2')) #None\n",
    "#print(critics['BTS2'])    #에러"
   ]
  },
  {
   "cell_type": "code",
   "execution_count": 14,
   "metadata": {},
   "outputs": [
    {
     "name": "stdout",
     "output_type": "stream",
     "text": [
      "5\n"
     ]
    }
   ],
   "source": [
    "print(critics.get('BTS').get('암수살인'))"
   ]
  },
  {
   "cell_type": "code",
   "execution_count": null,
   "metadata": {},
   "outputs": [],
   "source": []
  },
  {
   "cell_type": "code",
   "execution_count": 15,
   "metadata": {},
   "outputs": [
    {
     "data": {
      "text/plain": [
       "3.1622776601683795"
      ]
     },
     "execution_count": 15,
     "metadata": {},
     "output_type": "execute_result"
    }
   ],
   "source": [
    "#피타고라스(2차원)\n",
    "from math import sqrt\n",
    "sqrt(pow(1,2)+pow(3,2))"
   ]
  },
  {
   "cell_type": "code",
   "execution_count": 16,
   "metadata": {},
   "outputs": [],
   "source": [
    "def sim(i, j):\n",
    "    return sqrt(pow(i,2)+pow(j,2))"
   ]
  },
  {
   "cell_type": "code",
   "execution_count": 19,
   "metadata": {},
   "outputs": [
    {
     "data": {
      "text/plain": [
       "3.1622776601683795"
      ]
     },
     "execution_count": 19,
     "metadata": {},
     "output_type": "execute_result"
    }
   ],
   "source": [
    "var1=critics['손흥민']['바울']-critics['조용필']['바울']\n",
    "var2=critics['손흥민']['할로윈']-critics['조용필']['할로윈']\n",
    "sim(var1,var2)"
   ]
  },
  {
   "cell_type": "code",
   "execution_count": 23,
   "metadata": {},
   "outputs": [
    {
     "name": "stdout",
     "output_type": "stream",
     "text": [
      "BTS  :  0.4721359549995794\n",
      "조용필  :  0.2402530733520421\n",
      "나훈아  :  0.2402530733520421\n"
     ]
    }
   ],
   "source": [
    "for i in critics:\n",
    "    if i!='손흥민':\n",
    "        var1=critics['손흥민']['바울']-critics[i]['바울']\n",
    "        var2=critics['손흥민']['할로윈']-critics[i]['할로윈']\n",
    "        print(i, \" : \", 1/(1+sim(var1,var2)) )\n",
    "    #손흥민과 다른사람과의 거리"
   ]
  },
  {
   "cell_type": "code",
   "execution_count": null,
   "metadata": {},
   "outputs": [],
   "source": [
    "# 10편 영화, 100점 만점 평점\n",
    "# 9편의 영화, 손 & B : 동일한 평점\n",
    "# 1편의 영화 손:0점, B:100점 \n",
    "        "
   ]
  },
  {
   "cell_type": "code",
   "execution_count": 26,
   "metadata": {},
   "outputs": [
    {
     "name": "stdout",
     "output_type": "stream",
     "text": [
      "0.4721359549995794\n"
     ]
    }
   ],
   "source": [
    "def sim_distance(data,user1, user2):\n",
    "    #유클리디안 기반 거리(같은 영화 본것에 대한)\n",
    "    rsum=0\n",
    "    for i in data[user1]:\n",
    "        if i in data[user2]:\n",
    "            rsum+=pow(data[user1][i]-data[user2][i],2)\n",
    "    return 1/(1+sqrt(rsum))\n",
    "    \n",
    "print(sim_distance(critics, '손흥민', 'BTS'))\n"
   ]
  },
  {
   "cell_type": "code",
   "execution_count": null,
   "metadata": {},
   "outputs": [],
   "source": []
  },
  {
   "cell_type": "code",
   "execution_count": null,
   "metadata": {},
   "outputs": [],
   "source": []
  },
  {
   "cell_type": "code",
   "execution_count": null,
   "metadata": {},
   "outputs": [],
   "source": []
  }
 ],
 "metadata": {
  "kernelspec": {
   "display_name": "Python 3",
   "language": "python",
   "name": "python3"
  },
  "language_info": {
   "codemirror_mode": {
    "name": "ipython",
    "version": 3
   },
   "file_extension": ".py",
   "mimetype": "text/x-python",
   "name": "python",
   "nbconvert_exporter": "python",
   "pygments_lexer": "ipython3",
   "version": "3.7.3"
  }
 },
 "nbformat": 4,
 "nbformat_minor": 2
}
