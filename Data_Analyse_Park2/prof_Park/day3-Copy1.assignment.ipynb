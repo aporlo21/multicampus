{
 "cells": [
  {
   "cell_type": "code",
   "execution_count": 2,
   "metadata": {},
   "outputs": [
    {
     "data": {
      "text/plain": [
       " Mr        517\n",
       " Miss      182\n",
       " Mrs       125\n",
       " Master     40\n",
       " Dr          7\n",
       " Rev         6\n",
       " Mlle        2\n",
       " Major       2\n",
       " Col         2\n",
       " Ms          1\n",
       "Name: Name, dtype: int64"
      ]
     },
     "execution_count": 2,
     "metadata": {},
     "output_type": "execute_result"
    }
   ],
   "source": [
    "# 1.캐글 -> 타이타닉 -> 호칭 -> 호칭별 건수 -> 소트 -> 상위 10개 호칭 조사\n",
    "import numpy as np\n",
    "import pandas as pd\n",
    "from pandas import Series, DataFrame\n",
    "import sklearn.preprocessing\n",
    "from sklearn.preprocessing import StandardScaler, RobustScaler\n",
    "import matplotlib.pyplot as plt\n",
    "tt_csv=pd.read_csv(\"train.csv\")\n",
    "tt_csv.describe()\n",
    "type(tt_csv)\n",
    "ttN=tt_csv['Name']\n",
    "temp=ttN.str.split(',').str[1]\n",
    "tt_nickN=temp.str.split('.').str[0]\n",
    "tt_nickH=tt_nickN.value_counts(sort=True).head(10)\n",
    "tt_nickH"
   ]
  },
  {
   "cell_type": "code",
   "execution_count": 3,
   "metadata": {},
   "outputs": [
    {
     "data": {
      "text/plain": [
       "(0, 10]      57\n",
       "(10, 20]    116\n",
       "(20, 30]    408\n",
       "(30, 40]    155\n",
       "(40, 50]     84\n",
       "(50, 60]     42\n",
       "(60, 70]     18\n",
       "Name: Age, dtype: int64"
      ]
     },
     "execution_count": 3,
     "metadata": {},
     "output_type": "execute_result"
    }
   ],
   "source": [
    "# 2. 나이(age) -> 구간화 -> 구간별 건수 -> 소트 -> 건수 출력\n",
    "tt_csv['Age']\n",
    "pd.isnull(tt_csv['Age'])\n",
    "pd.isnull(tt_csv['Age']).sum()\n",
    "NA_mean=np.mean(tt_csv['Age'])\n",
    "tt_csv_A=tt_csv['Age'].fillna(np.mean(NA_mean)).astype(int)\n",
    "CutA=pd.cut(tt_csv_A, bins=[0,10,20,30,40,50,60,70])\n",
    "pd.value_counts(CutA, sort=False)"
   ]
  },
  {
   "cell_type": "code",
   "execution_count": 7,
   "metadata": {},
   "outputs": [
    {
     "data": {
      "text/plain": [
       "0      1\n",
       "1      0\n",
       "2      0\n",
       "3      0\n",
       "4      1\n",
       "5      1\n",
       "6      1\n",
       "7      1\n",
       "8      0\n",
       "9      0\n",
       "10     0\n",
       "11     0\n",
       "12     1\n",
       "13     1\n",
       "14     0\n",
       "15     0\n",
       "16     1\n",
       "17     1\n",
       "18     0\n",
       "19     0\n",
       "20     1\n",
       "21     1\n",
       "22     0\n",
       "23     1\n",
       "24     0\n",
       "25     0\n",
       "26     1\n",
       "27     1\n",
       "28     0\n",
       "29     1\n",
       "      ..\n",
       "861    1\n",
       "862    0\n",
       "863    0\n",
       "864    1\n",
       "865    0\n",
       "866    0\n",
       "867    1\n",
       "868    1\n",
       "869    1\n",
       "870    1\n",
       "871    0\n",
       "872    1\n",
       "873    1\n",
       "874    0\n",
       "875    0\n",
       "876    1\n",
       "877    1\n",
       "878    1\n",
       "879    0\n",
       "880    0\n",
       "881    1\n",
       "882    0\n",
       "883    1\n",
       "884    1\n",
       "885    0\n",
       "886    1\n",
       "887    0\n",
       "888    0\n",
       "889    1\n",
       "890    1\n",
       "Name: Sex, Length: 891, dtype: int64"
      ]
     },
     "execution_count": 7,
     "metadata": {},
     "output_type": "execute_result"
    }
   ],
   "source": [
    "# 3. 캐글 -> 타이타닉 -> 성별 -> 0/1\n",
    "tt_csv_S=tt_csv['Sex']\n",
    "tt_csv_FM=tt_csv_S.replace([\"female\",\"male\"], [0,1])\n",
    "tt_csv_FM"
   ]
  },
  {
   "cell_type": "code",
   "execution_count": null,
   "metadata": {},
   "outputs": [],
   "source": [
    "# 4.주식데이터 표준화 \n",
    "# sorry fellas i need more time to make it sure to be correct..to be Countinue..\n"
   ]
  }
 ],
 "metadata": {
  "kernelspec": {
   "display_name": "Python 3",
   "language": "python",
   "name": "python3"
  },
  "language_info": {
   "codemirror_mode": {
    "name": "ipython",
    "version": 3
   },
   "file_extension": ".py",
   "mimetype": "text/x-python",
   "name": "python",
   "nbconvert_exporter": "python",
   "pygments_lexer": "ipython3",
   "version": "3.7.3"
  }
 },
 "nbformat": 4,
 "nbformat_minor": 2
}
