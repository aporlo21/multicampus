{
 "cells": [
  {
   "cell_type": "code",
   "execution_count": 3,
   "metadata": {},
   "outputs": [
    {
     "name": "stdout",
     "output_type": "stream",
     "text": [
      "<class 'pandas.core.frame.DataFrame'>\n",
      "RangeIndex: 15000 entries, 0 to 14999\n",
      "Data columns (total 10 columns):\n",
      "0    15000 non-null object\n",
      "1    15000 non-null object\n",
      "2    15000 non-null object\n",
      "3    15000 non-null object\n",
      "4    15000 non-null object\n",
      "5    15000 non-null object\n",
      "6    15000 non-null object\n",
      "7    15000 non-null object\n",
      "8    15000 non-null object\n",
      "9    15000 non-null object\n",
      "dtypes: object(10)\n",
      "memory usage: 1.1+ MB\n"
     ]
    }
   ],
   "source": [
    "# day23_quiz\n",
    "\n",
    "# 연습문제\n",
    "# 1) kaggle의 HR 데이터를 기반으로 타깃(left)을 예상할 수 있는 분류 모델기 생성\n",
    "# 2) 차원 축소를 수행한 후 분류 모델기 생성\n",
    "\n",
    "import pandas as pd\n",
    "df=pd.read_csv('data/HR_comma_sep.csv', header=None)\n",
    "df.info()"
   ]
  },
  {
   "cell_type": "code",
   "execution_count": null,
   "metadata": {},
   "outputs": [],
   "source": []
  },
  {
   "cell_type": "code",
   "execution_count": null,
   "metadata": {},
   "outputs": [],
   "source": []
  },
  {
   "cell_type": "code",
   "execution_count": null,
   "metadata": {},
   "outputs": [],
   "source": []
  }
 ],
 "metadata": {
  "kernelspec": {
   "display_name": "Python 3",
   "language": "python",
   "name": "python3"
  },
  "language_info": {
   "codemirror_mode": {
    "name": "ipython",
    "version": 3
   },
   "file_extension": ".py",
   "mimetype": "text/x-python",
   "name": "python",
   "nbconvert_exporter": "python",
   "pygments_lexer": "ipython3",
   "version": "3.7.3"
  }
 },
 "nbformat": 4,
 "nbformat_minor": 2
}
