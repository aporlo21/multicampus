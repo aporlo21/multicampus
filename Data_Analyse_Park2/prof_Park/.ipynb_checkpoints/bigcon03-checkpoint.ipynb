{
 "cells": [
  {
   "cell_type": "code",
   "execution_count": 1,
   "metadata": {},
   "outputs": [],
   "source": [
    "import pandas as pd\n",
    "import numpy as np\n",
    "import warnings\n",
    "warnings.filterwarnings(\"ignore\")\n",
    "import os\n",
    "from IPython.display import display\n",
    "import scipy as sp\n",
    "\n",
    "from sklearn.preprocessing import LabelEncoder\n",
    "from sklearn.preprocessing import OneHotEncoder\n",
    "\n",
    "pd.options.display.max_columns = None   # To see the entire columns of dataframes\n",
    "pd.options.display.max_rows = 100    \n"
   ]
  },
  {
   "cell_type": "code",
   "execution_count": 3,
   "metadata": {},
   "outputs": [],
   "source": [
    "train_combat = pd.read_csv(\"data/bigCon/bigcon_data/train_combat.csv\")\n",
    "train_payment = pd.read_csv(\"data/bigCon/bigcon_data/train_payment.csv\")\n",
    "train_pledge = pd.read_csv(\"data/bigCon/bigcon_data/train_pledge.csv\")\n",
    "train_trade = pd.read_csv(\"data/bigCon/bigcon_data/train_trade.csv\")\n",
    "train_activity = pd.read_csv(\"data/bigCon/bigcon_data/train_activity.csv\")\n",
    "train_label = pd.read_csv(\"data/bigCon/bigcon_data/train_label.csv\")"
   ]
  },
  {
   "cell_type": "code",
   "execution_count": 4,
   "metadata": {},
   "outputs": [],
   "source": [
    "# Copy files in case of retrieving the original ones\n",
    "combat = train_combat.copy()\n",
    "pledge = train_pledge.copy()\n",
    "payment = train_payment.copy()\n",
    "trade = train_trade.copy()\n",
    "activity = train_activity.copy()"
   ]
  },
  {
   "cell_type": "code",
   "execution_count": 5,
   "metadata": {},
   "outputs": [],
   "source": [
    "# Total amount spent per account the whole period\n",
    "train_label[\"total_spent\"] = train_label[\"survival_time\"] * train_label[\"amount_spent\"]\n",
    "label = train_label[\"acc_id\"]"
   ]
  },
  {
   "cell_type": "code",
   "execution_count": 6,
   "metadata": {},
   "outputs": [],
   "source": [
    "# No need to keep the rows whose \"acc_id\" does not appear in Label data\n",
    "combat = combat[combat[\"acc_id\"].isin(label)]\n",
    "pledge = pledge[pledge[\"acc_id\"].isin(label)]\n",
    "payment = payment[payment[\"acc_id\"].isin(label)]\n",
    "trade = trade[trade[\"source_acc_id\"].isin(label)]\n",
    "trade = trade[trade[\"target_acc_id\"].isin(label)]\n",
    "activity = activity[activity[\"acc_id\"].isin(label)]\n",
    "# isin() - 반환값 : df내 각각의 요소가 값에 포함되어 있는 지 여부를 보여주는 불린형의 df\n",
    "# isin() 메소드를 사용하여 리스트에 "
   ]
  },
  {
   "cell_type": "markdown",
   "metadata": {},
   "source": [
    "## Common Features"
   ]
  },
  {
   "cell_type": "code",
   "execution_count": 10,
   "metadata": {},
   "outputs": [],
   "source": [
    "# The number of characters per account\n",
    "all_char = pd.concat([train_combat[[\"char_id\", \"acc_id\"]], train_pledge[[\"char_id\", \"acc_id\"]], train_activity[[\"char_id\", \"acc_id\"]]])\n",
    "char_count = all_char.groupby(\"char_id\")[\"acc_id\"].count()\n",
    "char_count = pd.DataFrame({\"char_count\" : char_count})  # in case of merging\n",
    "# { 딕셔너리 칼럼명 , : 변수기입 }"
   ]
  },
  {
   "cell_type": "code",
   "execution_count": 11,
   "metadata": {},
   "outputs": [
    {
     "ename": "ValueError",
     "evalue": "y contains previously unseen labels: [0, 1, 2, 3, 4, 5, 6, 7, 8, 9, 10, 11, 12, 13, 14, 15, 16, 17, 18, 19, 20, 21, 22, 23, 24, 25, 26, 27, 28, 31, 32, 33, 34, 35, 36, 37, 38]",
     "output_type": "error",
     "traceback": [
      "\u001b[1;31m---------------------------------------------------------------------------\u001b[0m",
      "\u001b[1;31mValueError\u001b[0m                                Traceback (most recent call last)",
      "\u001b[1;32m<ipython-input-11-00b8c75de202>\u001b[0m in \u001b[0;36m<module>\u001b[1;34m\u001b[0m\n\u001b[0;32m      7\u001b[0m \u001b[0mle\u001b[0m\u001b[1;33m.\u001b[0m\u001b[0mfit\u001b[0m\u001b[1;33m(\u001b[0m\u001b[0mserver_list\u001b[0m\u001b[1;33m)\u001b[0m\u001b[1;33m\u001b[0m\u001b[1;33m\u001b[0m\u001b[0m\n\u001b[0;32m      8\u001b[0m \u001b[1;32mfor\u001b[0m \u001b[0mdf\u001b[0m \u001b[1;32min\u001b[0m \u001b[1;33m[\u001b[0m\u001b[0mcombat\u001b[0m\u001b[1;33m,\u001b[0m \u001b[0mpledge\u001b[0m\u001b[1;33m,\u001b[0m \u001b[0mtrade\u001b[0m\u001b[1;33m,\u001b[0m \u001b[0mactivity\u001b[0m\u001b[1;33m]\u001b[0m\u001b[1;33m:\u001b[0m\u001b[1;33m\u001b[0m\u001b[1;33m\u001b[0m\u001b[0m\n\u001b[1;32m----> 9\u001b[1;33m     \u001b[0mdf\u001b[0m\u001b[1;33m[\u001b[0m\u001b[1;34m\"server\"\u001b[0m\u001b[1;33m]\u001b[0m \u001b[1;33m=\u001b[0m \u001b[0mle\u001b[0m\u001b[1;33m.\u001b[0m\u001b[0mtransform\u001b[0m\u001b[1;33m(\u001b[0m\u001b[0mdf\u001b[0m\u001b[1;33m[\u001b[0m\u001b[1;34m\"server\"\u001b[0m\u001b[1;33m]\u001b[0m\u001b[1;33m)\u001b[0m\u001b[1;33m\u001b[0m\u001b[1;33m\u001b[0m\u001b[0m\n\u001b[0m\u001b[0;32m     10\u001b[0m     \u001b[1;31m# 해당 열들에 대해서 server 열 series를 를 인코더에 넣어 자동맞춤시킴\u001b[0m\u001b[1;33m\u001b[0m\u001b[1;33m\u001b[0m\u001b[1;33m\u001b[0m\u001b[0m\n",
      "\u001b[1;32m~\\Anaconda3\\lib\\site-packages\\sklearn\\preprocessing\\label.py\u001b[0m in \u001b[0;36mtransform\u001b[1;34m(self, y)\u001b[0m\n\u001b[0;32m    255\u001b[0m             \u001b[1;32mreturn\u001b[0m \u001b[0mnp\u001b[0m\u001b[1;33m.\u001b[0m\u001b[0marray\u001b[0m\u001b[1;33m(\u001b[0m\u001b[1;33m[\u001b[0m\u001b[1;33m]\u001b[0m\u001b[1;33m)\u001b[0m\u001b[1;33m\u001b[0m\u001b[1;33m\u001b[0m\u001b[0m\n\u001b[0;32m    256\u001b[0m \u001b[1;33m\u001b[0m\u001b[0m\n\u001b[1;32m--> 257\u001b[1;33m         \u001b[0m_\u001b[0m\u001b[1;33m,\u001b[0m \u001b[0my\u001b[0m \u001b[1;33m=\u001b[0m \u001b[0m_encode\u001b[0m\u001b[1;33m(\u001b[0m\u001b[0my\u001b[0m\u001b[1;33m,\u001b[0m \u001b[0muniques\u001b[0m\u001b[1;33m=\u001b[0m\u001b[0mself\u001b[0m\u001b[1;33m.\u001b[0m\u001b[0mclasses_\u001b[0m\u001b[1;33m,\u001b[0m \u001b[0mencode\u001b[0m\u001b[1;33m=\u001b[0m\u001b[1;32mTrue\u001b[0m\u001b[1;33m)\u001b[0m\u001b[1;33m\u001b[0m\u001b[1;33m\u001b[0m\u001b[0m\n\u001b[0m\u001b[0;32m    258\u001b[0m         \u001b[1;32mreturn\u001b[0m \u001b[0my\u001b[0m\u001b[1;33m\u001b[0m\u001b[1;33m\u001b[0m\u001b[0m\n\u001b[0;32m    259\u001b[0m \u001b[1;33m\u001b[0m\u001b[0m\n",
      "\u001b[1;32m~\\Anaconda3\\lib\\site-packages\\sklearn\\preprocessing\\label.py\u001b[0m in \u001b[0;36m_encode\u001b[1;34m(values, uniques, encode)\u001b[0m\n\u001b[0;32m    108\u001b[0m         \u001b[1;32mreturn\u001b[0m \u001b[0m_encode_python\u001b[0m\u001b[1;33m(\u001b[0m\u001b[0mvalues\u001b[0m\u001b[1;33m,\u001b[0m \u001b[0muniques\u001b[0m\u001b[1;33m,\u001b[0m \u001b[0mencode\u001b[0m\u001b[1;33m)\u001b[0m\u001b[1;33m\u001b[0m\u001b[1;33m\u001b[0m\u001b[0m\n\u001b[0;32m    109\u001b[0m     \u001b[1;32melse\u001b[0m\u001b[1;33m:\u001b[0m\u001b[1;33m\u001b[0m\u001b[1;33m\u001b[0m\u001b[0m\n\u001b[1;32m--> 110\u001b[1;33m         \u001b[1;32mreturn\u001b[0m \u001b[0m_encode_numpy\u001b[0m\u001b[1;33m(\u001b[0m\u001b[0mvalues\u001b[0m\u001b[1;33m,\u001b[0m \u001b[0muniques\u001b[0m\u001b[1;33m,\u001b[0m \u001b[0mencode\u001b[0m\u001b[1;33m)\u001b[0m\u001b[1;33m\u001b[0m\u001b[1;33m\u001b[0m\u001b[0m\n\u001b[0m\u001b[0;32m    111\u001b[0m \u001b[1;33m\u001b[0m\u001b[0m\n\u001b[0;32m    112\u001b[0m \u001b[1;33m\u001b[0m\u001b[0m\n",
      "\u001b[1;32m~\\Anaconda3\\lib\\site-packages\\sklearn\\preprocessing\\label.py\u001b[0m in \u001b[0;36m_encode_numpy\u001b[1;34m(values, uniques, encode)\u001b[0m\n\u001b[0;32m     51\u001b[0m         \u001b[1;32mif\u001b[0m \u001b[0mdiff\u001b[0m\u001b[1;33m:\u001b[0m\u001b[1;33m\u001b[0m\u001b[1;33m\u001b[0m\u001b[0m\n\u001b[0;32m     52\u001b[0m             raise ValueError(\"y contains previously unseen labels: %s\"\n\u001b[1;32m---> 53\u001b[1;33m                              % str(diff))\n\u001b[0m\u001b[0;32m     54\u001b[0m         \u001b[0mencoded\u001b[0m \u001b[1;33m=\u001b[0m \u001b[0mnp\u001b[0m\u001b[1;33m.\u001b[0m\u001b[0msearchsorted\u001b[0m\u001b[1;33m(\u001b[0m\u001b[0muniques\u001b[0m\u001b[1;33m,\u001b[0m \u001b[0mvalues\u001b[0m\u001b[1;33m)\u001b[0m\u001b[1;33m\u001b[0m\u001b[1;33m\u001b[0m\u001b[0m\n\u001b[0;32m     55\u001b[0m         \u001b[1;32mreturn\u001b[0m \u001b[0muniques\u001b[0m\u001b[1;33m,\u001b[0m \u001b[0mencoded\u001b[0m\u001b[1;33m\u001b[0m\u001b[1;33m\u001b[0m\u001b[0m\n",
      "\u001b[1;31mValueError\u001b[0m: y contains previously unseen labels: [0, 1, 2, 3, 4, 5, 6, 7, 8, 9, 10, 11, 12, 13, 14, 15, 16, 17, 18, 19, 20, 21, 22, 23, 24, 25, 26, 27, 28, 31, 32, 33, 34, 35, 36, 37, 38]"
     ]
    }
   ],
   "source": [
    "# Find all the unique servers\n",
    "total_server = pd.concat([train_combat[\"server\"], train_pledge[\"server\"], train_trade[\"server\"], train_activity[\"server\"]])\n",
    "server_list = total_server.unique()\n",
    "\n",
    "# Encode servers into integer values\n",
    "le = LabelEncoder()\n",
    "le.fit(server_list)\n",
    "for df in [combat, pledge, trade, activity]:\n",
    "    df[\"server\"] = le.transform(df[\"server\"])\n",
    "    # 해당 열들에 대해서 server 열 series를 를 인코더에 넣어 자동맞춤시킴"
   ]
  },
  {
   "cell_type": "markdown",
   "metadata": {},
   "source": [
    "## Trade"
   ]
  },
  {
   "cell_type": "code",
   "execution_count": 8,
   "metadata": {},
   "outputs": [],
   "source": [
    "trade.rename(columns={\"source_acc_id\" : \"acc_id\"}, inplace=True)\n",
    "\n",
    "# Remove \"source_char_idd\" and \"target_char_id\"\n",
    "trade.drop([\"source_char_id\", \"target_char_id\"], axis=1, inplace=True)\n",
    "\n",
    "# Substitute NaNs with median at \"item_price\"\n",
    "trade[\"item_price\"].fillna(trade[\"item_price\"].median(), inplace=True)\n",
    "\n",
    "# Categorize transaction time\n",
    "bins = [0, 60000, 120000, 180000, 239999]\n",
    "bin_label = [0, 1, 2, 3]   \n",
    "trade[\"time_bin\"] = pd.cut(pd.to_numeric(trade[\"time\"].str.replace(\":\", \"\")), bins=bins, labels=bin_label)\n",
    "# Those who play during the time other than evening must be differentiated\n",
    "trade[\"time_bin\"] = trade[\"time_bin\"].map({0:1, 1:1, 2:1, 3:0}) \n",
    "trade.drop(\"time\", axis=1, inplace=True)\n",
    "\n",
    "# Total price per each trade\n",
    "trade[\"total_item_price\"] = trade[\"item_amount\"] * trade[\"item_price\"]\n",
    "\n",
    "# Make two trade DataFrames for each source and target\n",
    "source_trade = trade.drop(\"target_acc_id\", axis=1)\n",
    "target_trade = trade.drop(\"acc_id\", axis=1)\n",
    "target_trade.rename(columns={\"target_acc_id\" : \"acc_id\"}, inplace=True)\n",
    "\n",
    "# Total number of trade occurence per account the whole period\n",
    "source_trade_count = source_trade[\"acc_id\"].value_counts()\n",
    "target_trade_count = target_trade[\"acc_id\"].value_counts()\n",
    "\n",
    "source_trade_count = pd.DataFrame({\"acc_id\" : source_trade_count.index,\n",
    "                                   \"count\" : source_trade_count})    # Make a dataframe to merge based on \"acc_id\"\n",
    "target_trade_count = pd.DataFrame({\"acc_id\" : target_trade_count.index,\n",
    "                                   \"count\" : target_trade_count})\n",
    "\n",
    "trade_count = pd.merge(source_trade_count, target_trade_count, on = \"acc_id\")\n",
    "trade_count[\"count\"] = trade_count[\"count_x\"] + trade_count[\"count_y\"]\n",
    "trade_count.drop([\"count_x\", \"count_y\"], axis=1, inplace=True)\n",
    "\n",
    "# Remove columns that do not seem necessary\n",
    "trade.drop([\"server\", \"target_acc_id\", \"item_type\", \"item_amount\", \"item_price\"], axis=1, inplace=True)\n",
    "\n",
    "trade = pd.concat(\n",
    "    [pd.pivot_table(data=trade, index=[\"acc_id\", \"day\"], values=[\"time_bin\", \"total_item_price\"], aggfunc=sum), # sum all the prices\n",
    "    pd.pivot_table(data=trade, index=[\"acc_id\", \"day\"], values=[\"type\"])], # mean for trade type\n",
    "    axis=1)"
   ]
  },
  {
   "cell_type": "markdown",
   "metadata": {},
   "source": [
    "## Pledge"
   ]
  },
  {
   "cell_type": "code",
   "execution_count": 9,
   "metadata": {},
   "outputs": [
    {
     "data": {
      "text/plain": [
       "Index(['day', 'acc_id', 'char_id', 'server', 'pledge_id', 'play_char_cnt',\n",
       "       'combat_char_cnt', 'pledge_combat_cnt', 'random_attacker_cnt',\n",
       "       'random_defender_cnt', 'same_pledge_cnt', 'temp_cnt', 'etc_cnt',\n",
       "       'combat_play_time', 'non_combat_play_time'],\n",
       "      dtype='object')"
      ]
     },
     "execution_count": 9,
     "metadata": {},
     "output_type": "execute_result"
    }
   ],
   "source": [
    "pledge.columns"
   ]
  },
  {
   "cell_type": "markdown",
   "metadata": {},
   "source": [
    "### 'play_char_cnt'\n",
    "혈맹 내 유저의 접속률이 높을수록 생존에 영향이 있을거라 예상  \n",
    "--> 접속률에 따른 점수 부여. 접속률 1위 혈맹에 1.0 , 나머지 혈맹이 1위 혈맹 대비 비례한 점수 부여."
   ]
  },
  {
   "cell_type": "code",
   "execution_count": null,
   "metadata": {},
   "outputs": [],
   "source": [
    "# 각 혈맹의 평균 유저 접속률 지표\n",
    "pledge_pivot = pd.pivot_table(data=pledge, index=['pledge_id'], values='play_char_cnt', aggfunc='mean')\n",
    "\n",
    "# 정렬 후 1위 값으로 나눔 => 접속률 1위인 혈맹 1.0, 나머지 1.0보다 차례로 낮은 값.\n",
    "avg_play_rate_per_pledge = pledge_pivot.play_char_cnt.sort_values(ascending=False)\\\n",
    "                                    / pledge_pivot.play_char_cnt.sort_values(ascending=False).iloc[0]"
   ]
  },
  {
   "cell_type": "code",
   "execution_count": null,
   "metadata": {},
   "outputs": [],
   "source": [
    "to_be_merged = pd.DataFrame({'avg_play_rate_per_pledge' : avg_play_rate_per_pledge})\n",
    "to_be_merged.head(10)"
   ]
  },
  {
   "cell_type": "code",
   "execution_count": null,
   "metadata": {},
   "outputs": [],
   "source": [
    "pledge = pd.merge(pledge, to_be_merged, on='pledge_id')"
   ]
  },
  {
   "cell_type": "code",
   "execution_count": null,
   "metadata": {},
   "outputs": [],
   "source": [
    "# 접속률 1위 혈맹 확인\n",
    "pledge[pledge.pledge_id==17429]"
   ]
  },
  {
   "cell_type": "markdown",
   "metadata": {},
   "source": [
    "### pledge_combat_cnt\n",
    "마찬가지로 혈맹간 전투(공성 등) 같은 엔드 컨텐츠를 많이 즐기는 혈맹의 유저일 수록 생존률이 높을거라 예상  \n",
    "--> 혈맹간 전투 횟수에 점수 부여. 위의 접속률과 같은 방식으로 점수 부여."
   ]
  },
  {
   "cell_type": "code",
   "execution_count": null,
   "metadata": {},
   "outputs": [],
   "source": [
    "# 혈맹간 총 전투 수 체크\n",
    "pledge_pivot = pd.pivot_table(data=pledge, index=['pledge_id'], values='pledge_combat_cnt', aggfunc='sum')\n",
    "\n",
    "total_combat_cnt_per_pledge = pledge_pivot.pledge_combat_cnt.sort_values(ascending=False)\\\n",
    "                                / pledge_pivot.pledge_combat_cnt.sort_values(ascending=False).iloc[0]"
   ]
  },
  {
   "cell_type": "code",
   "execution_count": null,
   "metadata": {},
   "outputs": [],
   "source": [
    "to_be_merged = pd.DataFrame({'total_combat_cnt_per_pledge':total_combat_cnt_per_pledge})\n",
    "to_be_merged.head(10)"
   ]
  },
  {
   "cell_type": "code",
   "execution_count": null,
   "metadata": {},
   "outputs": [],
   "source": [
    "pledge = pd.merge(pledge, to_be_merged, on='pledge_id')"
   ]
  },
  {
   "cell_type": "code",
   "execution_count": null,
   "metadata": {},
   "outputs": [],
   "source": [
    "# 혈맹간 전투 수 1위 혈맹 확인\n",
    "pledge[pledge.pledge_id==36551]"
   ]
  },
  {
   "cell_type": "code",
   "execution_count": null,
   "metadata": {},
   "outputs": [],
   "source": [
    "# The number of members in each pledge\n",
    "pledge_num_people = pledge[\"pledge_id\"].value_counts()\n",
    "\n",
    "# Remove \"char_id\", \"server\", \"pledge_id\" (doesn't seem to matter)\n",
    "pledge.drop([\"char_id\", \"server\", \"pledge_id\"], axis=1, inplace=True)\n",
    "\n",
    "# Sum all the values according to days per account\n",
    "pledge = pd.concat([pd.pivot_table(data=pledge.drop(['avg_play_rate_per_pledge','total_combat_cnt_per_pledge'], axis=1), index=[\"acc_id\", \"day\"], aggfunc=sum),\n",
    "                   pd.pivot_table(data=pledge, index=['acc_id','day'], values=['avg_play_rate_per_pledge','total_combat_cnt_per_pledge'])], axis=1)\n",
    "\n",
    "# Change name of the columns which are same with the ones in combat file\n",
    "rename_dict = {\"etc_cnt\" : \"p_etc_cnt\", \"random_attacker_cnt\" : \"p_random_attacker_cnt\",\n",
    "              'same_pledge_cnt' : 'p_same_pledge_cnt', \"temp_cnt\" : \"p_temp_cnt\", \n",
    "               \"random_defender_cnt\" : \"p_random_defender_cnt\"}\n",
    "pledge.rename(columns=rename_dict, inplace=True)"
   ]
  },
  {
   "cell_type": "markdown",
   "metadata": {},
   "source": [
    "## Activity"
   ]
  },
  {
   "cell_type": "code",
   "execution_count": null,
   "metadata": {},
   "outputs": [],
   "source": [
    "# Remove \"char_id\"\n",
    "activity.drop(\"char_id\", axis=1, inplace=True)\n",
    "\n",
    "# Total play time per account the whole period\n",
    "total_play = activity.groupby(\"acc_id\")[\"playtime\"].sum()\n",
    "total_play = pd.DataFrame({\"total_play_time\" : total_play})  # in case of merging\n",
    "\n",
    "# activity[\"cum_play_time\"] = activity.groupby(\"acc_id\")[\"playtime\"].cumsum()\n",
    "\n",
    "# Sum all the values per day for each account\n",
    "activity = pd.concat([pd.pivot_table(data=activity.drop(\"server\", axis=1), index=[\"acc_id\", \"day\"], aggfunc=sum),\n",
    "                     pd.pivot_table(data=activity, index=[\"acc_id\", \"day\"], values=[\"server\"])],\n",
    "                    axis=1)\n",
    "\n",
    "# Total exp\n",
    "activity[\"total_exp\"] = activity[\"solo_exp\"] + activity[\"party_exp\"] + activity[\"quest_exp\"]\n",
    "\n",
    "# How long do users spend time fishing?\n",
    "activity[\"fishing_prop\"] = activity[\"fishing\"] / activity[\"playtime\"]"
   ]
  },
  {
   "cell_type": "code",
   "execution_count": null,
   "metadata": {},
   "outputs": [],
   "source": [
    "activity.columns"
   ]
  },
  {
   "cell_type": "markdown",
   "metadata": {},
   "source": [
    "## Combat"
   ]
  },
  {
   "cell_type": "code",
   "execution_count": null,
   "metadata": {},
   "outputs": [],
   "source": [
    "combat.columns"
   ]
  },
  {
   "cell_type": "markdown",
   "metadata": {},
   "source": [
    "### class\n",
    "\"많은 사람들이 플레이 하는 주류 클래스 --> 성능이 좋은 클래스\"  \n",
    "\"성능이 좋은 클래스를 하는 유저 --> 생존률 높지 않을까?\"\n",
    "\n",
    "|범주|직업|\n",
    "|:---:|:---:|\n",
    "|0|군주|\n",
    "|1|기사|\n",
    "|2|요정|\n",
    "|3|마법사|\n",
    "|4|다크엘프|\n",
    "|5|용기사|\n",
    "|6|환술사|\n",
    "|7|전사|"
   ]
  },
  {
   "cell_type": "code",
   "execution_count": null,
   "metadata": {},
   "outputs": [],
   "source": [
    "combat['class'] = combat['class'].astype('category')"
   ]
  },
  {
   "cell_type": "code",
   "execution_count": null,
   "metadata": {},
   "outputs": [],
   "source": [
    "# 클래스별 전체 비율 조사\n",
    "prop_class = combat['class'].value_counts() / combat['class'].value_counts().sum()\n",
    "prop_class"
   ]
  },
  {
   "cell_type": "code",
   "execution_count": null,
   "metadata": {},
   "outputs": [],
   "source": [
    "# 전체 누적합 60% 미만을 차지하는 주류 클래스 조사\n",
    "class60 = prop_class[~(prop_class.cumsum()>0.6)].index # 기사, 요정, 마법사 (70%로 하면 전사까지.)\n",
    "\n",
    "def isMajorClass(classs):\n",
    "    if classs in class60:\n",
    "        return 1\n",
    "    else:\n",
    "        return 0\n",
    "\n",
    "combat['isMajorClass'] = combat['class'].apply(isMajorClass)\n",
    "combat['isMajorClass'].head(10)"
   ]
  },
  {
   "cell_type": "code",
   "execution_count": null,
   "metadata": {},
   "outputs": [],
   "source": [
    "# Remove \"char_id\", \"class\", \"server\"\n",
    "combat.drop([\"char_id\", \"class\", \"server\"], axis=1, inplace=True)\n",
    "\n",
    "# Max level? or Mean level?\n",
    "max_level = combat.groupby(\"acc_id\")[\"level\"].max()\n",
    "mean_level = combat.groupby(\"acc_id\")[\"level\"].mean()\n",
    "combat.drop(\"level\", axis=1, inplace=True)\n",
    "\n",
    "# Sum all the values per day for each account\n",
    "combat = pd.concat([pd.pivot_table(data=combat.drop('isMajorClass', axis=1), index=[\"acc_id\", \"day\"], aggfunc=sum),\n",
    "                   pd.pivot_table(data=combat, index=['acc_id', 'day'], values='isMajorClass', aggfunc='mean')], axis=1)\n",
    "# isMajorClass mean 처리해서 주류 클래스만 플레이했을 경우 1.0, 그 외에는 비주류 클래스 캐릭터 수에 따라 평균값 떨어짐"
   ]
  },
  {
   "cell_type": "code",
   "execution_count": null,
   "metadata": {},
   "outputs": [],
   "source": [
    "combat"
   ]
  },
  {
   "cell_type": "markdown",
   "metadata": {},
   "source": [
    "## Payment"
   ]
  },
  {
   "cell_type": "code",
   "execution_count": null,
   "metadata": {},
   "outputs": [],
   "source": [
    "# total_payment = payment.groupby(\"acc_id\")[\"amount_spent\"].sum()\n",
    "# total_payment.head()"
   ]
  },
  {
   "cell_type": "code",
   "execution_count": null,
   "metadata": {},
   "outputs": [],
   "source": [
    "train_label[train_label[\"acc_id\"] == 8]\n",
    "\n",
    "###### Why are they different????? ####"
   ]
  },
  {
   "cell_type": "code",
   "execution_count": null,
   "metadata": {},
   "outputs": [],
   "source": [
    "# Check the results\n",
    "display(combat.tail())\n",
    "display(payment.head())\n",
    "display(pledge.head())\n",
    "display(trade.head())\n",
    "display(activity.head())"
   ]
  },
  {
   "cell_type": "code",
   "execution_count": null,
   "metadata": {},
   "outputs": [],
   "source": [
    "# Squeeze the whole dataframes into one\n",
    "df = combat.join(pledge).join(trade).join(activity)"
   ]
  },
  {
   "cell_type": "code",
   "execution_count": null,
   "metadata": {},
   "outputs": [],
   "source": [
    "df.isnull().sum()"
   ]
  },
  {
   "cell_type": "code",
   "execution_count": null,
   "metadata": {},
   "outputs": [],
   "source": [
    "df[100:200]"
   ]
  },
  {
   "cell_type": "code",
   "execution_count": null,
   "metadata": {},
   "outputs": [],
   "source": [
    "# '196818' 개의 NaN 값 생성 이유:\n",
    "# 해당 유저가 '혈맹 전투 관련 활동'을 안한 날짜 존재.\n",
    "# 평균으로 채워줄지, 0으로 채워줄지 고민\n",
    "display(df.loc[38].total_combat_cnt_per_pledge)\n",
    "display(pledge.loc[38].total_combat_cnt_per_pledge)"
   ]
  },
  {
   "cell_type": "code",
   "execution_count": null,
   "metadata": {},
   "outputs": [],
   "source": [
    "to_be_dropped = ['play_char_cnt', 'pledge_combat_cnt']\n",
    "to_be_filled0 = ['combat_char_cnt', 'combat_play_time', 'p_etc_cnt', 'non_combat_play_time', \n",
    "                 'p_random_attacker_cnt', 'p_random_defender_cnt', 'p_same_pledge_cnt', \n",
    "                 'p_temp_cnt', 'avg_play_rate_per_pledge', 'total_combat_cnt_per_pledge']\n",
    "df = df.drop(to_be_dropped, axis=1) # 이 컬럼은 혈맹 단위로 대체됨\n",
    "df[to_be_filled0] = df[to_be_filled0].fillna(0) # 이 컬럼은 혈맹 관련 활동을 안한 날 --> 0으로."
   ]
  },
  {
   "cell_type": "code",
   "execution_count": null,
   "metadata": {},
   "outputs": [],
   "source": [
    "df.isnull().sum()"
   ]
  },
  {
   "cell_type": "code",
   "execution_count": null,
   "metadata": {},
   "outputs": [],
   "source": []
  }
 ],
 "metadata": {
  "kernelspec": {
   "display_name": "Python 3",
   "language": "python",
   "name": "python3"
  },
  "language_info": {
   "codemirror_mode": {
    "name": "ipython",
    "version": 3
   },
   "file_extension": ".py",
   "mimetype": "text/x-python",
   "name": "python",
   "nbconvert_exporter": "python",
   "pygments_lexer": "ipython3",
   "version": "3.7.3"
  }
 },
 "nbformat": 4,
 "nbformat_minor": 2
}
