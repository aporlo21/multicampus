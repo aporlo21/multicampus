{
 "cells": [
  {
   "cell_type": "code",
   "execution_count": null,
   "metadata": {},
   "outputs": [],
   "source": [
    "tf.reset_default_graph() #그래프에 있는 모든 텐서를 초기화\n",
    "x=tf.placeholder(tf.float32, [None,28*28]) # 2차원 \n",
    "ximg = tf.reshape(x, [-1, 28, 28, 1]) # image 28*28*1 (black/white) # color image 이면 *1 => *3\n",
    "y=tf.placeholder(tf.float32, [None,10])\n",
    "\n",
    "w1 = tf.Variable(tf.random_normal([3,3,1,32])) # 32개 임의의 filter 개수 지정\n",
    "L1 = tf.nn.conv2d(ximg, w1, strides=[1,1,1,1], padding = 'SAME') \n",
    "L1 = tf.nn.relu(L1)\n",
    "L1 = tf.nn.max_pool(L1,ksize=[1,2,2,1], strides=[1,2,2,1], padding='SAME') # 2,2 max pulling \n",
    "# L1 이미지 shape (?,28,28,1)\n",
    "# conv 통해 ( ?,28,28,32 )\n",
    "# pooling (?,14,14,32) \n",
    "\n",
    "# 출력결과가 본래 이미지 ( 28*28 ) => 3,3 가 된다\n",
    "# 초기화 \n",
    "w2 = tf.Variable(tf.random_normal([3,3,32,64])) # 32개 임의의 filter 개수 지정 (32->64)\n",
    "L2 = tf.nn.conv2d(L1, w2, strides=[1,1,1,1], padding = 'SAME') \n",
    "L2 = tf.nn.relu(L2)\n",
    "L2 = tf.nn.max_pool(L2,ksize=[1,2,2,1], strides=[1,2,2,1], padding='SAME') # 2,2 max pulling \n",
    "# conv (?,14,64,16)\n",
    "# conv (?,14,64,16)\n",
    "# conv (?,14,64,16)\n",
    "# conv (?,14,64,16)\n",
    "\n",
    "L2_flat = tf.reshape(L2, [-1, 7*7*64])\n",
    "\n",
    "w3 = tf.get_variable('w3', shape=[7*7*64, 10], initializer=tf.contrib.layers.xavier_initializer())\n",
    "                     \n",
    "b=tf.Variable(tf.random_normal([10]))\n",
    "logits = tf.matmul(L2_flat, w3) + b\n",
    "cost=tf.reduce_mean(tf.nn.softmax_cross_entropy_with_logits(logits=hf, labels=y))\n",
    "\n",
    "tf.Variable(tf.random_normal([3,3,1,32])) # 32개 임의의 filter 개수 지정\n",
    "L3 = tf.nn.conv2d(L2, w3, strides=[1,1,1,1], padding = 'SAME') \n",
    "L3 = tf.nn.relu(L2)\n",
    "L3 = tf.nn.max_pool(L2, ksize=[1,2,2,1], strides=[1,2,2,1], padding='SAME') # 2,2 max pulling \n",
    "\n",
    "hf = tf.matmul(L2,w3) + b3\n",
    "\n",
    "cost=tf.nn.softmax_cross_entropy_withlogits(tf.nn.softmax_cross_entropy_with_logits(logits=hf, labels=y))\n",
    "train=tf.train.AdamOptimizer(learning_rate=learning_rate).minimize(cost)\n",
    "\n",
    "# 해석\n",
    "# 28 * 28 => 3 * 3 컨볼루션 32개 => [ 2*2 풀링 14*14 32개 ]\n",
    "# [ 2*2 풀링 14*14 32개 ] => 두번째 계층의 입력으로 들어간다 ( L2 (3*3))\n",
    "# ( L2 (3*3)) filter 64개 => [2*2 풀링 7*7 64개]"
   ]
  }
 ],
 "metadata": {
  "kernelspec": {
   "display_name": "Python 3",
   "language": "python",
   "name": "python3"
  },
  "language_info": {
   "codemirror_mode": {
    "name": "ipython",
    "version": 3
   },
   "file_extension": ".py",
   "mimetype": "text/x-python",
   "name": "python",
   "nbconvert_exporter": "python",
   "pygments_lexer": "ipython3",
   "version": "3.7.3"
  }
 },
 "nbformat": 4,
 "nbformat_minor": 2
}
