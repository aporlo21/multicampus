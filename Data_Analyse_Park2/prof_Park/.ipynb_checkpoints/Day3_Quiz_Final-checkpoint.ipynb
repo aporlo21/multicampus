{
 "cells": [
  {
   "cell_type": "code",
   "execution_count": null,
   "metadata": {},
   "outputs": [],
   "source": [
    "# day3_QUIZ\n",
    "\n",
    "import numpy as np\n",
    "import pandas as pd\n",
    "from pandas import Series, DataFrame\n",
    "import sklearn.preprocessing\n",
    "from sklearn.preprocessing import StandardScaler, RobustScaler\n",
    "import matplotlib.pyplot as plt\n",
    "\n",
    "# 1.캐글 -> 타이타닉 -> 호칭 -> 호칭별 건수 -> 소트 -> 상위 10개 호칭 조사\n",
    "\n",
    "tt_csv=pd.read_csv(\"train.csv\")\n",
    "tt_csv.describe()\n",
    "type(tt_csv)\n",
    "ttN=tt_csv['Name']\n",
    "temp=ttN.str.split(',').str[1]\n",
    "tt_nickN=temp.str.split('.').str[0]\n",
    "tt_nickH=tt_nickN.value_counts(sort=True).head(10)\n",
    "\n",
    "# 2. 나이(age) -> 구간화 -> 구간별 건수 -> 소트 -> 건수 출력\n",
    "\n",
    "tt_csv['Age']\n",
    "pd.isnull(tt_csv['Age'])\n",
    "pd.isnull(tt_csv['Age']).sum()\n",
    "NA_mean=np.mean(tt_csv['Age'])\n",
    "tt_csv_A=tt_csv['Age'].fillna(np.mean(NA_mean)).astype(int)\n",
    "CutA=pd.cut(tt_csv_A, bins=[0,10,20,30,40,50,60,70])\n",
    "pd.value_counts(CutA, sort=False)\n",
    "\n",
    "# 3. 캐글 -> 타이타닉 -> 성별 -> 0/1\n",
    "\n",
    "tt_csv_S=tt_csv['Sex']\n",
    "tt_csv_FM=tt_csv_S.replace([\"female\",\"male\"], [0,1])\n",
    "\n",
    "# 4.주식데이터 표준화 \n",
    "# sorry fellas i need more time to make it sure to be correct..to be Countinue.."
   ]
  }
 ],
 "metadata": {
  "kernelspec": {
   "display_name": "Python 3",
   "language": "python",
   "name": "python3"
  },
  "language_info": {
   "codemirror_mode": {
    "name": "ipython",
    "version": 3
   },
   "file_extension": ".py",
   "mimetype": "text/x-python",
   "name": "python",
   "nbconvert_exporter": "python",
   "pygments_lexer": "ipython3",
   "version": "3.7.3"
  }
 },
 "nbformat": 4,
 "nbformat_minor": 2
}
