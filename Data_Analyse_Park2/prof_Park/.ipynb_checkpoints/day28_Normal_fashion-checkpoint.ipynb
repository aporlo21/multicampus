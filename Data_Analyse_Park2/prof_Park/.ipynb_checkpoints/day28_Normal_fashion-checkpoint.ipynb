{
 "cells": [
  {
   "cell_type": "markdown",
   "metadata": {},
   "source": [
    "## Normal Version"
   ]
  },
  {
   "cell_type": "code",
   "execution_count": 20,
   "metadata": {},
   "outputs": [],
   "source": [
    "import pandas as pd\n",
    "import numpy as np\n",
    "import matplotlib as mpl\n",
    "import matplotlib.pyplot as plt\n",
    "import seaborn as sns\n",
    "from scipy import stats\n",
    "\n",
    "from jupyterthemes import jtplot\n",
    "jtplot.style(theme='gruvboxd', context='paper', spines=True, \n",
    "             ticks=True, grid=True, gridlines='dotted', figsize=(6,4.5))\n",
    "\n",
    "from nltk.corpus import *\n",
    "from nltk.stem import *\n",
    "from konlpy.tag import Kkma\n",
    "from nltk.tokenize import *\n",
    "from nltk.tag import *\n",
    "import nltk\n",
    "from keras.utils import to_categorical\n",
    "\n",
    "import numpy as np\n",
    "from keras import *\n",
    "from keras.datasets import mnist\n",
    "from collections import Counter\n",
    "import tensorflow as tf\n",
    "\n",
    "from konlpy.tag import Okt # 대문자로 시작하는 건 _ 클래스 Okt_Twitter\n",
    "from keras_preprocessing.text import Tokenizer"
   ]
  },
  {
   "cell_type": "code",
   "execution_count": 21,
   "metadata": {},
   "outputs": [
    {
     "data": {
      "text/plain": [
       "<matplotlib.image.AxesImage at 0x2dcbab8b828>"
      ]
     },
     "execution_count": 21,
     "metadata": {},
     "output_type": "execute_result"
    },
    {
     "data": {
      "image/png": "[encoded data removed]",
      "text/plain": [
       "<Figure size 345.6x259.2 with 1 Axes>"
      ]
     },
     "metadata": {},
     "output_type": "display_data"
    }
   ],
   "source": [
    "from tensorflow import keras\n",
    "fasion_mnist = keras.datasets.fashion_mnist\n",
    "(train_images, train_labels), (test_images, test_labels) = fasion_mnist.load_data()\n",
    "\n",
    "train_images.shape \n",
    "train_labels.shape\n",
    "\n",
    "import matplotlib.pyplot as plt\n",
    "plt.imshow(train_images[0], cmap='gray')\n",
    "plt.imshow(train_images[512], cmap='gray')\n",
    "\n",
    "# 2. 상품분류 ( 10 가지 _ ) 미니 프로젝트"
   ]
  },
  {
   "cell_type": "code",
   "execution_count": 22,
   "metadata": {},
   "outputs": [],
   "source": [
    "# 미리 섞여진 fashoin-mnist의 학습 데이터와 테스트 데이터 로드\n",
    "# (학습 이미지, 학습 레이블), (테스트 이미지, 테스트 레이블)"
   ]
  },
  {
   "cell_type": "code",
   "execution_count": 23,
   "metadata": {},
   "outputs": [],
   "source": [
    "from keras.utils import to_categorical\n",
    "train_labels = to_categorical(train_labels) # 범주형변환 \n",
    "test_labels = to_categorical(test_labels)"
   ]
  },
  {
   "cell_type": "markdown",
   "metadata": {},
   "source": [
    "## model 설정"
   ]
  },
  {
   "cell_type": "code",
   "execution_count": 24,
   "metadata": {},
   "outputs": [],
   "source": [
    "# CNN 구현\n",
    "# shape 주는 부분이 까다롭다\n",
    "\n",
    "learning_rate=0.001\n",
    "training_epochs=10\n",
    "batch_size=64\n",
    "\n",
    "tf.reset_default_graph() #그래프에 있는 모든 텐서를 초기화\n",
    "\n",
    "x=tf.placeholder(tf.float32, [None, 28*28])\n",
    "ximg=tf.reshape(x, [-1, 28, 28, 1])#img 28*28*1(black/white)\n",
    "y=tf.placeholder(tf.float32, [None, 10])\n",
    "\n",
    "w1=tf.Variable(tf.random_normal([3,3,1,32]))\n",
    "L1=tf.nn.conv2d(ximg, w1, strides=[1,1,1,1],padding='SAME')\n",
    "L1=tf.nn.relu(L1)\n",
    "L1=tf.nn.max_pool(L1, ksize=[1,2,2,1], strides=[1,2,2,1], padding='SAME')\n",
    "# L1 이미지 shape (?,28,28,1)\n",
    "# conv 통해 ( ?,28,28,32 )\n",
    "# pooling (?,14,14,32) \n",
    "\n",
    "# 출력결과가 본래 이미지 ( 28*28 ) => 3,3 가 된다\n",
    "# 초기화 \n",
    "w2=tf.Variable(tf.random_normal([3,3,32,64]))\n",
    "L2=tf.nn.conv2d(L1, w2, strides=[1,1,1,1],padding='SAME')\n",
    "L2=tf.nn.relu(L2)\n",
    "L2=tf.nn.max_pool(L2, ksize=[1,2,2,1], strides=[1,2,2,1], padding='SAME')\n",
    "#conv2d (?,14,14,64)\n",
    "#relu (?,14,14,64)\n",
    "#max_pool (?,7,7,64)\n",
    "L2_flat=tf.reshape(L2, [-1, 7*7*64])\n",
    "#reshape => (?, 7*7*64)\n",
    "\n",
    "\n",
    "w3=tf.get_variable(\"w3\", shape=[7*7*64, 10],initializer=tf.contrib.layers.xavier_initializer())\n",
    "b=tf.Variable(tf.random_normal([10]))\n",
    "logits=tf.matmul(L2_flat, w3)+b\n",
    "cost=tf.reduce_mean(tf.nn.softmax_cross_entropy_with_logits(logits=logits, labels=y))\n",
    "train=tf.train.AdamOptimizer(learning_rate=learning_rate).minimize(cost)\n",
    "\n",
    "# 해석\n",
    "# 28 * 28 => 3 * 3 컨볼루션 32개 => [ 2*2 풀링 14*14 32개 ]\n",
    "# [ 2*2 풀링 14*14 32개 ] => 두번째 계층의 입력으로 들어간다 ( L2 (3*3))\n",
    "# ( L2 (3*3)) filter 64개 => [2*2 풀링 7*7 64개]\n"
   ]
  },
  {
   "cell_type": "code",
   "execution_count": 25,
   "metadata": {},
   "outputs": [],
   "source": [
    "# train_images"
   ]
  },
  {
   "cell_type": "code",
   "execution_count": null,
   "metadata": {},
   "outputs": [],
   "source": [
    "# astype"
   ]
  },
  {
   "cell_type": "code",
   "execution_count": 39,
   "metadata": {},
   "outputs": [
    {
     "ename": "SyntaxError",
     "evalue": "invalid syntax (<ipython-input-39-643d11ad0060>, line 7)",
     "output_type": "error",
     "traceback": [
      "\u001b[1;36m  File \u001b[1;32m\"<ipython-input-39-643d11ad0060>\"\u001b[1;36m, line \u001b[1;32m7\u001b[0m\n\u001b[1;33m    batchxs,batchys=int(len(train_images).batch_size+=100)\u001b[0m\n\u001b[1;37m                                                     ^\u001b[0m\n\u001b[1;31mSyntaxError\u001b[0m\u001b[1;31m:\u001b[0m invalid syntax\n"
     ]
    }
   ],
   "source": [
    "sess=tf.Session()\n",
    "sess.run(tf.global_variables_initializer())\n",
    "for epoch in range(training_epochs):\n",
    "    avg_cost=0\n",
    "    total_batch=int(len(train_images)/batch_size)\n",
    "    for i in range(total_batch):\n",
    "        batch_size\n",
    "        batchxs,batchys=int(len(train_images).batch_size+=100)\n",
    "        myfeed={x:batchxs, y:batchys}\n",
    "        cv,_=sess.run([cost, train], feed_dict=myfeed)\n",
    "        avg_cost+=cv/total_batch\n",
    "    print('cost:','{:.9f}'.format(avg_cost))\n",
    "\n",
    "c_pre=tf.equal(tf.argmax(logits, 1), tf.argmax(y,1))\n",
    "acc=tf.reduce_mean(tf.cast(c_pre, tf.float32))\n",
    "print('acc:', sess.run(acc, feed_dict=\n",
    "                       {x:test_images, \n",
    "                        y:test_labels,\n",
    "                       }))"
   ]
  },
  {
   "cell_type": "code",
   "execution_count": 30,
   "metadata": {},
   "outputs": [],
   "source": [
    "# network = models.Sequential() # seq 객체생성 # 즉 , 하나의 신경망 \n",
    "# network.add(layers.Dense(512, activation='relu', input_shape=(28*28,)))\n",
    "# network.add(layers.Dense(10, activation='softmax', input_shape=(512,))) # 출력부 # input은 첫 입력계층에서만 선언해주면된다 \n"
   ]
  },
  {
   "cell_type": "markdown",
   "metadata": {},
   "source": [
    "## optimizer"
   ]
  },
  {
   "cell_type": "markdown",
   "metadata": {},
   "source": [
    "## data Normalization\n"
   ]
  },
  {
   "cell_type": "code",
   "execution_count": 6,
   "metadata": {},
   "outputs": [],
   "source": [
    "# 정규화작업\n",
    "train_images.shape\n",
    "train_images = train_images.reshape((60000, 28,28,1))\n",
    "train_images = train_images.astype('float32')/255 # int - > float\n",
    "## 모델 정규화 ( 0 - 1 사이 ) < - ( 0 - 255 ) 데이터를 // 변환하고 싶을시 선언\n",
    "test_images.shape\n",
    "test_images = test_images.reshape((10000, 28,28,1))\n",
    "test_images = test_images.astype('float32')/255\n"
   ]
  },
  {
   "cell_type": "markdown",
   "metadata": {},
   "source": [
    "## OHE"
   ]
  },
  {
   "cell_type": "code",
   "execution_count": 7,
   "metadata": {},
   "outputs": [],
   "source": [
    "from keras.utils import to_categorical\n",
    "train_labels = to_categorical(train_labels) # 범주형변환 \n",
    "test_labels = to_categorical(test_labels)"
   ]
  },
  {
   "cell_type": "markdown",
   "metadata": {},
   "source": [
    "## Split the data into train / test datasets"
   ]
  },
  {
   "cell_type": "markdown",
   "metadata": {},
   "source": [
    "## Create the model architecture"
   ]
  },
  {
   "cell_type": "code",
   "execution_count": null,
   "metadata": {},
   "outputs": [],
   "source": [
    "print(test_acc)"
   ]
  },
  {
   "cell_type": "markdown",
   "metadata": {},
   "source": [
    "## Compile Model"
   ]
  },
  {
   "cell_type": "code",
   "execution_count": 55,
   "metadata": {},
   "outputs": [],
   "source": [
    "# 이제 model.compile()을 사용하여 모델을 학습시키기 전에 \n",
    "# 학습 프로세스를 구성합니다. \n",
    "# 이 과정에서는 손실 함수, 옵티마이저의 종류 및 \n",
    "# 학습 과 테스트 중 모델을 평가할 지표(metrics)를 정의합니다."
   ]
  },
  {
   "cell_type": "code",
   "execution_count": 56,
   "metadata": {},
   "outputs": [],
   "source": [
    "network.compile(loss='categorical_crossentropy',\n",
    "             optimizer='adam',\n",
    "             metrics=['accuracy'])"
   ]
  },
  {
   "cell_type": "markdown",
   "metadata": {},
   "source": [
    "## Train the model"
   ]
  },
  {
   "cell_type": "code",
   "execution_count": 57,
   "metadata": {},
   "outputs": [
    {
     "name": "stdout",
     "output_type": "stream",
     "text": [
      "Epoch 1/10\n",
      "60000/60000 [==============================] - 47s 790us/sample - loss: 1.4422 - acc: 0.4750\n",
      "Epoch 2/10\n",
      "60000/60000 [==============================] - 47s 786us/sample - loss: 0.8151 - acc: 0.6961\n",
      "Epoch 3/10\n",
      "60000/60000 [==============================] - 48s 793us/sample - loss: 0.7191 - acc: 0.7278\n",
      "Epoch 4/10\n",
      "60000/60000 [==============================] - 47s 791us/sample - loss: 0.6759 - acc: 0.7438\n",
      "Epoch 5/10\n",
      "60000/60000 [==============================] - 50s 827us/sample - loss: 0.6518 - acc: 0.7543\n",
      "Epoch 6/10\n",
      "60000/60000 [==============================] - 50s 830us/sample - loss: 0.6336 - acc: 0.7592\n",
      "Epoch 7/10\n",
      "60000/60000 [==============================] - 48s 798us/sample - loss: 0.6189 - acc: 0.7669\n",
      "Epoch 8/10\n",
      "60000/60000 [==============================] - 49s 817us/sample - loss: 0.6063 - acc: 0.7707\n",
      "Epoch 9/10\n",
      "60000/60000 [==============================] - 49s 814us/sample - loss: 0.5976 - acc: 0.7756\n",
      "Epoch 10/10\n",
      "60000/60000 [==============================] - 51s 852us/sample - loss: 0.5854 - acc: 0.7817\n"
     ]
    },
    {
     "data": {
      "text/plain": [
       "<tensorflow.python.keras.callbacks.History at 0x1be96750198>"
      ]
     },
     "execution_count": 57,
     "metadata": {},
     "output_type": "execute_result"
    }
   ],
   "source": [
    "\n",
    "# 배치(batch) 사이즈는 64, 에포크(epochs)는 10으로 하여 모델을 학습\n",
    "network.fit(train_images,\n",
    "         train_labels,\n",
    "          epochs = 10,\n",
    "         batch_size = 64)\n",
    "\n",
    "## dimension : 차원 ## 4차원필요한데 인자 3개만 받았다 "
   ]
  },
  {
   "cell_type": "markdown",
   "metadata": {},
   "source": [
    "## Test Accuracy"
   ]
  },
  {
   "cell_type": "code",
   "execution_count": 58,
   "metadata": {},
   "outputs": [
    {
     "name": "stdout",
     "output_type": "stream",
     "text": [
      "\n",
      " Test accuracy: 0.8071\n"
     ]
    }
   ],
   "source": [
    "# 테스트 셋으로 모델 평가\n",
    "score = network.evaluate(test_images, test_labels, verbose=0)\n",
    "\n",
    "# 테스트 정확도\n",
    "print('\\n', 'Test accuracy:', score[1])"
   ]
  }
 ],
 "metadata": {
  "kernelspec": {
   "display_name": "Python 3",
   "language": "python",
   "name": "python3"
  },
  "language_info": {
   "codemirror_mode": {
    "name": "ipython",
    "version": 3
   },
   "file_extension": ".py",
   "mimetype": "text/x-python",
   "name": "python",
   "nbconvert_exporter": "python",
   "pygments_lexer": "ipython3",
   "version": "3.7.3"
  }
 },
 "nbformat": 4,
 "nbformat_minor": 2
}
