{
 "cells": [
  {
   "cell_type": "code",
   "execution_count": 15,
   "metadata": {},
   "outputs": [],
   "source": [
    "# day 32\n",
    "# RNN \n",
    "from keras.models import Sequential # 케라스 층생성 모듈\n",
    "import numpy as np\n"
   ]
  },
  {
   "cell_type": "code",
   "execution_count": 16,
   "metadata": {},
   "outputs": [],
   "source": [
    "# model=Sequential()\n",
    "# # model.add(Embedding(voc, hidden_size, input_length)) # 기본적 케라스 작업방법\n",
    "# # 일반적 계층 추가\n",
    "\n",
    "# # model.add(Dense(2, input_dim=4, init='uniform', activation='softmax')) \n",
    "# # 자연어처리 voca 생성 당시, 1000개..input_dim = 1000),init='normal') 가중치 초기화법\n",
    "# # 다중분류 - 출력층 softmax\n",
    "# # 이진분류 - sigmoid\n",
    "# # linear (default value)\n",
    "\n",
    "# model.add(Dense(4, input_dim=10, init='normal', activation = 'softmax'))\n",
    "# # 출력이 4개 입력데이터 차원 10 \n",
    "# model.add(Dense(1, activation='sigmoid'))\n",
    "# model.summary() # : 요약정보\n",
    "# model.compile() # : 함수설정\n",
    "# model.fit() # : 학습\n",
    "# model.evaluate() # : 모델 평가\n",
    "# model.predict() # : 예측\n",
    "# model.save()\n",
    "# model.load()\n",
    "\n"
   ]
  },
  {
   "cell_type": "code",
   "execution_count": null,
   "metadata": {},
   "outputs": [],
   "source": [
    " "
   ]
  },
  {
   "cell_type": "code",
   "execution_count": null,
   "metadata": {},
   "outputs": [],
   "source": []
  },
  {
   "cell_type": "code",
   "execution_count": 17,
   "metadata": {},
   "outputs": [
    {
     "data": {
      "text/plain": [
       "<tensorflow.python.framework.ops.Graph at 0x21efee62780>"
      ]
     },
     "execution_count": 17,
     "metadata": {},
     "output_type": "execute_result"
    }
   ],
   "source": [
    "import tensorflow as tf\n",
    "tf.__version__ # tf의 버젼이 나온다\n",
    "tf.get_default_graph() # 기본그래프정보 출력"
   ]
  },
  {
   "cell_type": "code",
   "execution_count": 18,
   "metadata": {},
   "outputs": [],
   "source": [
    "# 내가 직접 그래프 만들어 거기에다가 노드를 지정해주자 ! \n",
    "testGraph = tf.Graph() # 그래프 클래스 객체 생성 \n",
    "with testGraph.as_default(): # 사용자 그래프에 노드정의 \n",
    "    x = tf.constant(10)\n",
    "    y = x + 20\n",
    "# testGraph\n"
   ]
  },
  {
   "cell_type": "code",
   "execution_count": 19,
   "metadata": {},
   "outputs": [
    {
     "name": "stdout",
     "output_type": "stream",
     "text": [
      "5\n",
      "15\n"
     ]
    }
   ],
   "source": [
    "# 그래프 실행을 위해서 세션을 생성해줘야한다 \n",
    "# Session() : 세션객체 생성, 분산처리 환경 => 통신을 연결하겠다\n",
    "# 노드를 실행할수 있는 연결객체를 생성하겠다 \n",
    "# run() : (그래프 구성 노드) 기입시 연산을 처리한다 => 결과를 반환\n",
    "# ex) sess.run() \n",
    "# close() : session 종료문\n",
    "\n",
    "x = tf.constant(5)\n",
    "y = x + 10\n",
    "sess=tf.Session()\n",
    "print(sess.run(x))\n",
    "print(sess.run(y))\n",
    "sess.close()\n"
   ]
  },
  {
   "cell_type": "code",
   "execution_count": 20,
   "metadata": {},
   "outputs": [
    {
     "name": "stdout",
     "output_type": "stream",
     "text": [
      "5\n"
     ]
    }
   ],
   "source": [
    "# with 구문은 close() 문을 달아주지않아도 자동적으로 처리해준다\n",
    "with tf.Session() as sess:\n",
    "    print(sess.run(x))\n",
    "    # 위세션이 사용하는 그래프는 default 기본그래프를 사용한다\n",
    "    # 특별히 그래프를 지정하지 않았으므로, 기본그래프로 세션실행하겠다 구문 \n",
    "    "
   ]
  },
  {
   "cell_type": "code",
   "execution_count": 21,
   "metadata": {},
   "outputs": [
    {
     "ename": "ValueError",
     "evalue": "Fetch argument <tf.Tensor 'Const_1:0' shape=() dtype=int32> cannot be interpreted as a Tensor. (Tensor Tensor(\"Const_1:0\", shape=(), dtype=int32) is not an element of this graph.)",
     "output_type": "error",
     "traceback": [
      "\u001b[1;31m---------------------------------------------------------------------------\u001b[0m",
      "\u001b[1;31mValueError\u001b[0m                                Traceback (most recent call last)",
      "\u001b[1;32m~\\Anaconda3\\lib\\site-packages\\tensorflow\\python\\client\\session.py\u001b[0m in \u001b[0;36m__init__\u001b[1;34m(self, fetches, contraction_fn)\u001b[0m\n\u001b[0;32m    302\u001b[0m         self._unique_fetches.append(ops.get_default_graph().as_graph_element(\n\u001b[1;32m--> 303\u001b[1;33m             fetch, allow_tensor=True, allow_operation=True))\n\u001b[0m\u001b[0;32m    304\u001b[0m       \u001b[1;32mexcept\u001b[0m \u001b[0mTypeError\u001b[0m \u001b[1;32mas\u001b[0m \u001b[0me\u001b[0m\u001b[1;33m:\u001b[0m\u001b[1;33m\u001b[0m\u001b[1;33m\u001b[0m\u001b[0m\n",
      "\u001b[1;32m~\\Anaconda3\\lib\\site-packages\\tensorflow\\python\\framework\\ops.py\u001b[0m in \u001b[0;36mas_graph_element\u001b[1;34m(self, obj, allow_tensor, allow_operation)\u001b[0m\n\u001b[0;32m   3795\u001b[0m     \u001b[1;32mwith\u001b[0m \u001b[0mself\u001b[0m\u001b[1;33m.\u001b[0m\u001b[0m_lock\u001b[0m\u001b[1;33m:\u001b[0m\u001b[1;33m\u001b[0m\u001b[1;33m\u001b[0m\u001b[0m\n\u001b[1;32m-> 3796\u001b[1;33m       \u001b[1;32mreturn\u001b[0m \u001b[0mself\u001b[0m\u001b[1;33m.\u001b[0m\u001b[0m_as_graph_element_locked\u001b[0m\u001b[1;33m(\u001b[0m\u001b[0mobj\u001b[0m\u001b[1;33m,\u001b[0m \u001b[0mallow_tensor\u001b[0m\u001b[1;33m,\u001b[0m \u001b[0mallow_operation\u001b[0m\u001b[1;33m)\u001b[0m\u001b[1;33m\u001b[0m\u001b[1;33m\u001b[0m\u001b[0m\n\u001b[0m\u001b[0;32m   3797\u001b[0m \u001b[1;33m\u001b[0m\u001b[0m\n",
      "\u001b[1;32m~\\Anaconda3\\lib\\site-packages\\tensorflow\\python\\framework\\ops.py\u001b[0m in \u001b[0;36m_as_graph_element_locked\u001b[1;34m(self, obj, allow_tensor, allow_operation)\u001b[0m\n\u001b[0;32m   3874\u001b[0m       \u001b[1;32mif\u001b[0m \u001b[0mobj\u001b[0m\u001b[1;33m.\u001b[0m\u001b[0mgraph\u001b[0m \u001b[1;32mis\u001b[0m \u001b[1;32mnot\u001b[0m \u001b[0mself\u001b[0m\u001b[1;33m:\u001b[0m\u001b[1;33m\u001b[0m\u001b[1;33m\u001b[0m\u001b[0m\n\u001b[1;32m-> 3875\u001b[1;33m         \u001b[1;32mraise\u001b[0m \u001b[0mValueError\u001b[0m\u001b[1;33m(\u001b[0m\u001b[1;34m\"Tensor %s is not an element of this graph.\"\u001b[0m \u001b[1;33m%\u001b[0m \u001b[0mobj\u001b[0m\u001b[1;33m)\u001b[0m\u001b[1;33m\u001b[0m\u001b[1;33m\u001b[0m\u001b[0m\n\u001b[0m\u001b[0;32m   3876\u001b[0m       \u001b[1;32mreturn\u001b[0m \u001b[0mobj\u001b[0m\u001b[1;33m\u001b[0m\u001b[1;33m\u001b[0m\u001b[0m\n",
      "\u001b[1;31mValueError\u001b[0m: Tensor Tensor(\"Const_1:0\", shape=(), dtype=int32) is not an element of this graph.",
      "\nDuring handling of the above exception, another exception occurred:\n",
      "\u001b[1;31mValueError\u001b[0m                                Traceback (most recent call last)",
      "\u001b[1;32m<ipython-input-21-b753e459997a>\u001b[0m in \u001b[0;36m<module>\u001b[1;34m\u001b[0m\n\u001b[0;32m      1\u001b[0m \u001b[1;32mwith\u001b[0m \u001b[0mtf\u001b[0m\u001b[1;33m.\u001b[0m\u001b[0mSession\u001b[0m\u001b[1;33m(\u001b[0m\u001b[0mgraph\u001b[0m\u001b[1;33m=\u001b[0m\u001b[0mtestGraph\u001b[0m\u001b[1;33m)\u001b[0m \u001b[1;32mas\u001b[0m \u001b[0msess\u001b[0m\u001b[1;33m:\u001b[0m\u001b[1;33m\u001b[0m\u001b[1;33m\u001b[0m\u001b[0m\n\u001b[1;32m----> 2\u001b[1;33m     \u001b[0mprint\u001b[0m\u001b[1;33m(\u001b[0m\u001b[0msess\u001b[0m\u001b[1;33m.\u001b[0m\u001b[0mrun\u001b[0m\u001b[1;33m(\u001b[0m\u001b[0mx\u001b[0m\u001b[1;33m)\u001b[0m\u001b[1;33m)\u001b[0m\u001b[1;33m\u001b[0m\u001b[1;33m\u001b[0m\u001b[0m\n\u001b[0m",
      "\u001b[1;32m~\\Anaconda3\\lib\\site-packages\\tensorflow\\python\\client\\session.py\u001b[0m in \u001b[0;36mrun\u001b[1;34m(self, fetches, feed_dict, options, run_metadata)\u001b[0m\n\u001b[0;32m    948\u001b[0m     \u001b[1;32mtry\u001b[0m\u001b[1;33m:\u001b[0m\u001b[1;33m\u001b[0m\u001b[1;33m\u001b[0m\u001b[0m\n\u001b[0;32m    949\u001b[0m       result = self._run(None, fetches, feed_dict, options_ptr,\n\u001b[1;32m--> 950\u001b[1;33m                          run_metadata_ptr)\n\u001b[0m\u001b[0;32m    951\u001b[0m       \u001b[1;32mif\u001b[0m \u001b[0mrun_metadata\u001b[0m\u001b[1;33m:\u001b[0m\u001b[1;33m\u001b[0m\u001b[1;33m\u001b[0m\u001b[0m\n\u001b[0;32m    952\u001b[0m         \u001b[0mproto_data\u001b[0m \u001b[1;33m=\u001b[0m \u001b[0mtf_session\u001b[0m\u001b[1;33m.\u001b[0m\u001b[0mTF_GetBuffer\u001b[0m\u001b[1;33m(\u001b[0m\u001b[0mrun_metadata_ptr\u001b[0m\u001b[1;33m)\u001b[0m\u001b[1;33m\u001b[0m\u001b[1;33m\u001b[0m\u001b[0m\n",
      "\u001b[1;32m~\\Anaconda3\\lib\\site-packages\\tensorflow\\python\\client\\session.py\u001b[0m in \u001b[0;36m_run\u001b[1;34m(self, handle, fetches, feed_dict, options, run_metadata)\u001b[0m\n\u001b[0;32m   1156\u001b[0m     \u001b[1;31m# Create a fetch handler to take care of the structure of fetches.\u001b[0m\u001b[1;33m\u001b[0m\u001b[1;33m\u001b[0m\u001b[1;33m\u001b[0m\u001b[0m\n\u001b[0;32m   1157\u001b[0m     fetch_handler = _FetchHandler(\n\u001b[1;32m-> 1158\u001b[1;33m         self._graph, fetches, feed_dict_tensor, feed_handles=feed_handles)\n\u001b[0m\u001b[0;32m   1159\u001b[0m \u001b[1;33m\u001b[0m\u001b[0m\n\u001b[0;32m   1160\u001b[0m     \u001b[1;31m# Run request and get response.\u001b[0m\u001b[1;33m\u001b[0m\u001b[1;33m\u001b[0m\u001b[1;33m\u001b[0m\u001b[0m\n",
      "\u001b[1;32m~\\Anaconda3\\lib\\site-packages\\tensorflow\\python\\client\\session.py\u001b[0m in \u001b[0;36m__init__\u001b[1;34m(self, graph, fetches, feeds, feed_handles)\u001b[0m\n\u001b[0;32m    472\u001b[0m     \"\"\"\n\u001b[0;32m    473\u001b[0m     \u001b[1;32mwith\u001b[0m \u001b[0mgraph\u001b[0m\u001b[1;33m.\u001b[0m\u001b[0mas_default\u001b[0m\u001b[1;33m(\u001b[0m\u001b[1;33m)\u001b[0m\u001b[1;33m:\u001b[0m\u001b[1;33m\u001b[0m\u001b[1;33m\u001b[0m\u001b[0m\n\u001b[1;32m--> 474\u001b[1;33m       \u001b[0mself\u001b[0m\u001b[1;33m.\u001b[0m\u001b[0m_fetch_mapper\u001b[0m \u001b[1;33m=\u001b[0m \u001b[0m_FetchMapper\u001b[0m\u001b[1;33m.\u001b[0m\u001b[0mfor_fetch\u001b[0m\u001b[1;33m(\u001b[0m\u001b[0mfetches\u001b[0m\u001b[1;33m)\u001b[0m\u001b[1;33m\u001b[0m\u001b[1;33m\u001b[0m\u001b[0m\n\u001b[0m\u001b[0;32m    475\u001b[0m     \u001b[0mself\u001b[0m\u001b[1;33m.\u001b[0m\u001b[0m_fetches\u001b[0m \u001b[1;33m=\u001b[0m \u001b[1;33m[\u001b[0m\u001b[1;33m]\u001b[0m\u001b[1;33m\u001b[0m\u001b[1;33m\u001b[0m\u001b[0m\n\u001b[0;32m    476\u001b[0m     \u001b[0mself\u001b[0m\u001b[1;33m.\u001b[0m\u001b[0m_targets\u001b[0m \u001b[1;33m=\u001b[0m \u001b[1;33m[\u001b[0m\u001b[1;33m]\u001b[0m\u001b[1;33m\u001b[0m\u001b[1;33m\u001b[0m\u001b[0m\n",
      "\u001b[1;32m~\\Anaconda3\\lib\\site-packages\\tensorflow\\python\\client\\session.py\u001b[0m in \u001b[0;36mfor_fetch\u001b[1;34m(fetch)\u001b[0m\n\u001b[0;32m    272\u001b[0m         \u001b[1;32mif\u001b[0m \u001b[0misinstance\u001b[0m\u001b[1;33m(\u001b[0m\u001b[0mfetch\u001b[0m\u001b[1;33m,\u001b[0m \u001b[0mtensor_type\u001b[0m\u001b[1;33m)\u001b[0m\u001b[1;33m:\u001b[0m\u001b[1;33m\u001b[0m\u001b[1;33m\u001b[0m\u001b[0m\n\u001b[0;32m    273\u001b[0m           \u001b[0mfetches\u001b[0m\u001b[1;33m,\u001b[0m \u001b[0mcontraction_fn\u001b[0m \u001b[1;33m=\u001b[0m \u001b[0mfetch_fn\u001b[0m\u001b[1;33m(\u001b[0m\u001b[0mfetch\u001b[0m\u001b[1;33m)\u001b[0m\u001b[1;33m\u001b[0m\u001b[1;33m\u001b[0m\u001b[0m\n\u001b[1;32m--> 274\u001b[1;33m           \u001b[1;32mreturn\u001b[0m \u001b[0m_ElementFetchMapper\u001b[0m\u001b[1;33m(\u001b[0m\u001b[0mfetches\u001b[0m\u001b[1;33m,\u001b[0m \u001b[0mcontraction_fn\u001b[0m\u001b[1;33m)\u001b[0m\u001b[1;33m\u001b[0m\u001b[1;33m\u001b[0m\u001b[0m\n\u001b[0m\u001b[0;32m    275\u001b[0m     \u001b[1;31m# Did not find anything.\u001b[0m\u001b[1;33m\u001b[0m\u001b[1;33m\u001b[0m\u001b[1;33m\u001b[0m\u001b[0m\n\u001b[0;32m    276\u001b[0m     raise TypeError('Fetch argument %r has invalid type %r' % (fetch,\n",
      "\u001b[1;32m~\\Anaconda3\\lib\\site-packages\\tensorflow\\python\\client\\session.py\u001b[0m in \u001b[0;36m__init__\u001b[1;34m(self, fetches, contraction_fn)\u001b[0m\n\u001b[0;32m    308\u001b[0m       \u001b[1;32mexcept\u001b[0m \u001b[0mValueError\u001b[0m \u001b[1;32mas\u001b[0m \u001b[0me\u001b[0m\u001b[1;33m:\u001b[0m\u001b[1;33m\u001b[0m\u001b[1;33m\u001b[0m\u001b[0m\n\u001b[0;32m    309\u001b[0m         raise ValueError('Fetch argument %r cannot be interpreted as a '\n\u001b[1;32m--> 310\u001b[1;33m                          'Tensor. (%s)' % (fetch, str(e)))\n\u001b[0m\u001b[0;32m    311\u001b[0m       \u001b[1;32mexcept\u001b[0m \u001b[0mKeyError\u001b[0m \u001b[1;32mas\u001b[0m \u001b[0me\u001b[0m\u001b[1;33m:\u001b[0m\u001b[1;33m\u001b[0m\u001b[1;33m\u001b[0m\u001b[0m\n\u001b[0;32m    312\u001b[0m         raise ValueError('Fetch argument %r cannot be interpreted as a '\n",
      "\u001b[1;31mValueError\u001b[0m: Fetch argument <tf.Tensor 'Const_1:0' shape=() dtype=int32> cannot be interpreted as a Tensor. (Tensor Tensor(\"Const_1:0\", shape=(), dtype=int32) is not an element of this graph.)"
     ]
    }
   ],
   "source": [
    "with tf.Session(graph=testGraph) as sess:\n",
    "    print(sess.run(x))\n"
   ]
  },
  {
   "cell_type": "code",
   "execution_count": 22,
   "metadata": {},
   "outputs": [],
   "source": [
    "# tensorflow.session() \n",
    "# sess.run # 노드 실행 \n",
    "# ... # 매번 하기 불편하므로 \n",
    "\n",
    "# sess=tf.InteractiveSession()\n",
    "# x.eval()\n",
    "# y.eval()"
   ]
  },
  {
   "cell_type": "code",
   "execution_count": 23,
   "metadata": {},
   "outputs": [
    {
     "name": "stdout",
     "output_type": "stream",
     "text": [
      "ns1/var3\n"
     ]
    }
   ],
   "source": [
    "# scope() \n",
    "# name space (이름공간)\n",
    "# 폴더 (file system) 개념과 유사하다 \n",
    "# 같은 폴더 내에서 같은이름은 안돼 \n",
    "\n",
    "with tf.name_scope('ns1'):\n",
    "    v3 = tf.Variable(1, name='var3')\n",
    "    v4 = tf.add(v3, 2, name='var4')\n",
    "print(v3.op.name)\n",
    "    \n",
    "    "
   ]
  },
  {
   "cell_type": "code",
   "execution_count": 24,
   "metadata": {},
   "outputs": [
    {
     "data": {
      "text/plain": [
       "'var1'"
      ]
     },
     "execution_count": 24,
     "metadata": {},
     "output_type": "execute_result"
    }
   ],
   "source": [
    "var1 = tf.Variable(5,name='var1') \n",
    "var2 = tf.add(var1, 5, name='var2') \n",
    "var1.op.name"
   ]
  },
  {
   "cell_type": "code",
   "execution_count": null,
   "metadata": {},
   "outputs": [],
   "source": []
  },
  {
   "cell_type": "code",
   "execution_count": 25,
   "metadata": {},
   "outputs": [
    {
     "name": "stdout",
     "output_type": "stream",
     "text": [
      "step: 0 cost: 1.6111151 prediction: [[2 3 3 3 3 3]] true Y: [[1, 0, 2, 3, 3, 4]]\n",
      "prediciton str: elllll\n",
      "step: 1 cost: 1.5777253 prediction: [[3 3 3 3 3 3]] true Y: [[1, 0, 2, 3, 3, 4]]\n",
      "prediciton str: llllll\n",
      "step: 2 cost: 1.5502506 prediction: [[3 3 3 3 3 3]] true Y: [[1, 0, 2, 3, 3, 4]]\n",
      "prediciton str: llllll\n",
      "step: 3 cost: 1.5127641 prediction: [[3 3 3 3 3 3]] true Y: [[1, 0, 2, 3, 3, 4]]\n",
      "prediciton str: llllll\n",
      "step: 4 cost: 1.4621226 prediction: [[3 3 3 3 3 3]] true Y: [[1, 0, 2, 3, 3, 4]]\n",
      "prediciton str: llllll\n",
      "step: 5 cost: 1.4106606 prediction: [[3 3 3 3 3 3]] true Y: [[1, 0, 2, 3, 3, 4]]\n",
      "prediciton str: llllll\n",
      "step: 6 cost: 1.3585681 prediction: [[3 3 3 3 3 3]] true Y: [[1, 0, 2, 3, 3, 4]]\n",
      "prediciton str: llllll\n",
      "step: 7 cost: 1.3060474 prediction: [[3 3 3 3 3 3]] true Y: [[1, 0, 2, 3, 3, 4]]\n",
      "prediciton str: llllll\n",
      "step: 8 cost: 1.2498603 prediction: [[3 0 3 3 3 3]] true Y: [[1, 0, 2, 3, 3, 4]]\n",
      "prediciton str: lhllll\n",
      "step: 9 cost: 1.186063 prediction: [[2 0 3 3 3 3]] true Y: [[1, 0, 2, 3, 3, 4]]\n",
      "prediciton str: ehllll\n",
      "step: 10 cost: 1.1139357 prediction: [[2 0 2 3 3 3]] true Y: [[1, 0, 2, 3, 3, 4]]\n",
      "prediciton str: ehelll\n",
      "step: 11 cost: 1.0365052 prediction: [[2 0 2 3 3 4]] true Y: [[1, 0, 2, 3, 3, 4]]\n",
      "prediciton str: ehello\n",
      "step: 12 cost: 0.95966667 prediction: [[2 0 2 3 3 4]] true Y: [[1, 0, 2, 3, 3, 4]]\n",
      "prediciton str: ehello\n",
      "step: 13 cost: 0.8909405 prediction: [[2 0 2 3 3 4]] true Y: [[1, 0, 2, 3, 3, 4]]\n",
      "prediciton str: ehello\n",
      "step: 14 cost: 0.833371 prediction: [[2 0 2 3 3 4]] true Y: [[1, 0, 2, 3, 3, 4]]\n",
      "prediciton str: ehello\n",
      "step: 15 cost: 0.78034955 prediction: [[2 0 2 3 3 4]] true Y: [[1, 0, 2, 3, 3, 4]]\n",
      "prediciton str: ehello\n",
      "step: 16 cost: 0.73002464 prediction: [[2 0 2 3 3 4]] true Y: [[1, 0, 2, 3, 3, 4]]\n",
      "prediciton str: ehello\n",
      "step: 17 cost: 0.67204046 prediction: [[2 0 2 3 3 4]] true Y: [[1, 0, 2, 3, 3, 4]]\n",
      "prediciton str: ehello\n",
      "step: 18 cost: 0.6181993 prediction: [[2 0 2 3 3 4]] true Y: [[1, 0, 2, 3, 3, 4]]\n",
      "prediciton str: ehello\n",
      "step: 19 cost: 0.56704754 prediction: [[2 0 2 3 3 4]] true Y: [[1, 0, 2, 3, 3, 4]]\n",
      "prediciton str: ehello\n",
      "step: 20 cost: 0.5194134 prediction: [[2 0 2 3 3 4]] true Y: [[1, 0, 2, 3, 3, 4]]\n",
      "prediciton str: ehello\n",
      "step: 21 cost: 0.4767877 prediction: [[2 0 2 3 3 4]] true Y: [[1, 0, 2, 3, 3, 4]]\n",
      "prediciton str: ehello\n",
      "step: 22 cost: 0.43766627 prediction: [[2 0 2 3 3 4]] true Y: [[1, 0, 2, 3, 3, 4]]\n",
      "prediciton str: ehello\n",
      "step: 23 cost: 0.40102604 prediction: [[2 0 2 3 3 4]] true Y: [[1, 0, 2, 3, 3, 4]]\n",
      "prediciton str: ehello\n",
      "step: 24 cost: 0.36688402 prediction: [[1 0 2 3 3 4]] true Y: [[1, 0, 2, 3, 3, 4]]\n",
      "prediciton str: ihello\n",
      "step: 25 cost: 0.33542565 prediction: [[1 0 2 3 3 4]] true Y: [[1, 0, 2, 3, 3, 4]]\n",
      "prediciton str: ihello\n",
      "step: 26 cost: 0.30625048 prediction: [[1 0 2 3 3 4]] true Y: [[1, 0, 2, 3, 3, 4]]\n",
      "prediciton str: ihello\n",
      "step: 27 cost: 0.27894637 prediction: [[1 0 2 3 3 4]] true Y: [[1, 0, 2, 3, 3, 4]]\n",
      "prediciton str: ihello\n",
      "step: 28 cost: 0.2535254 prediction: [[1 0 2 3 3 4]] true Y: [[1, 0, 2, 3, 3, 4]]\n",
      "prediciton str: ihello\n",
      "step: 29 cost: 0.23018347 prediction: [[1 0 2 3 3 4]] true Y: [[1, 0, 2, 3, 3, 4]]\n",
      "prediciton str: ihello\n",
      "step: 30 cost: 0.20867306 prediction: [[1 0 2 3 3 4]] true Y: [[1, 0, 2, 3, 3, 4]]\n",
      "prediciton str: ihello\n",
      "step: 31 cost: 0.18863279 prediction: [[1 0 2 3 3 4]] true Y: [[1, 0, 2, 3, 3, 4]]\n",
      "prediciton str: ihello\n",
      "step: 32 cost: 0.16997333 prediction: [[1 0 2 3 3 4]] true Y: [[1, 0, 2, 3, 3, 4]]\n",
      "prediciton str: ihello\n",
      "step: 33 cost: 0.15272616 prediction: [[1 0 2 3 3 4]] true Y: [[1, 0, 2, 3, 3, 4]]\n",
      "prediciton str: ihello\n",
      "step: 34 cost: 0.13684736 prediction: [[1 0 2 3 3 4]] true Y: [[1, 0, 2, 3, 3, 4]]\n",
      "prediciton str: ihello\n",
      "step: 35 cost: 0.12229597 prediction: [[1 0 2 3 3 4]] true Y: [[1, 0, 2, 3, 3, 4]]\n",
      "prediciton str: ihello\n",
      "step: 36 cost: 0.10907229 prediction: [[1 0 2 3 3 4]] true Y: [[1, 0, 2, 3, 3, 4]]\n",
      "prediciton str: ihello\n",
      "step: 37 cost: 0.09720135 prediction: [[1 0 2 3 3 4]] true Y: [[1, 0, 2, 3, 3, 4]]\n",
      "prediciton str: ihello\n",
      "step: 38 cost: 0.08666533 prediction: [[1 0 2 3 3 4]] true Y: [[1, 0, 2, 3, 3, 4]]\n",
      "prediciton str: ihello\n",
      "step: 39 cost: 0.07738668 prediction: [[1 0 2 3 3 4]] true Y: [[1, 0, 2, 3, 3, 4]]\n",
      "prediciton str: ihello\n",
      "step: 40 cost: 0.069253154 prediction: [[1 0 2 3 3 4]] true Y: [[1, 0, 2, 3, 3, 4]]\n",
      "prediciton str: ihello\n",
      "step: 41 cost: 0.06214517 prediction: [[1 0 2 3 3 4]] true Y: [[1, 0, 2, 3, 3, 4]]\n",
      "prediciton str: ihello\n",
      "step: 42 cost: 0.055937737 prediction: [[1 0 2 3 3 4]] true Y: [[1, 0, 2, 3, 3, 4]]\n",
      "prediciton str: ihello\n",
      "step: 43 cost: 0.05052052 prediction: [[1 0 2 3 3 4]] true Y: [[1, 0, 2, 3, 3, 4]]\n",
      "prediciton str: ihello\n",
      "step: 44 cost: 0.045791104 prediction: [[1 0 2 3 3 4]] true Y: [[1, 0, 2, 3, 3, 4]]\n",
      "prediciton str: ihello\n",
      "step: 45 cost: 0.041654874 prediction: [[1 0 2 3 3 4]] true Y: [[1, 0, 2, 3, 3, 4]]\n",
      "prediciton str: ihello\n",
      "step: 46 cost: 0.038027152 prediction: [[1 0 2 3 3 4]] true Y: [[1, 0, 2, 3, 3, 4]]\n",
      "prediciton str: ihello\n",
      "step: 47 cost: 0.034835853 prediction: [[1 0 2 3 3 4]] true Y: [[1, 0, 2, 3, 3, 4]]\n",
      "prediciton str: ihello\n",
      "step: 48 cost: 0.0320232 prediction: [[1 0 2 3 3 4]] true Y: [[1, 0, 2, 3, 3, 4]]\n",
      "prediciton str: ihello\n",
      "step: 49 cost: 0.029537462 prediction: [[1 0 2 3 3 4]] true Y: [[1, 0, 2, 3, 3, 4]]\n",
      "prediciton str: ihello\n",
      "step: 50 cost: 0.027337296 prediction: [[1 0 2 3 3 4]] true Y: [[1, 0, 2, 3, 3, 4]]\n",
      "prediciton str: ihello\n",
      "step: 51 cost: 0.025387032 prediction: [[1 0 2 3 3 4]] true Y: [[1, 0, 2, 3, 3, 4]]\n",
      "prediciton str: ihello\n",
      "step: 52 cost: 0.02365447 prediction: [[1 0 2 3 3 4]] true Y: [[1, 0, 2, 3, 3, 4]]\n",
      "prediciton str: ihello\n",
      "step: 53 cost: 0.022111276 prediction: [[1 0 2 3 3 4]] true Y: [[1, 0, 2, 3, 3, 4]]\n",
      "prediciton str: ihello\n",
      "step: 54 cost: 0.02073247 prediction: [[1 0 2 3 3 4]] true Y: [[1, 0, 2, 3, 3, 4]]\n",
      "prediciton str: ihello\n",
      "step: 55 cost: 0.019497061 prediction: [[1 0 2 3 3 4]] true Y: [[1, 0, 2, 3, 3, 4]]\n",
      "prediciton str: ihello\n",
      "step: 56 cost: 0.018388132 prediction: [[1 0 2 3 3 4]] true Y: [[1, 0, 2, 3, 3, 4]]\n",
      "prediciton str: ihello\n",
      "step: 57 cost: 0.017391993 prediction: [[1 0 2 3 3 4]] true Y: [[1, 0, 2, 3, 3, 4]]\n",
      "prediciton str: ihello\n",
      "step: 58 cost: 0.016494015 prediction: [[1 0 2 3 3 4]] true Y: [[1, 0, 2, 3, 3, 4]]\n",
      "prediciton str: ihello\n",
      "step: 59 cost: 0.015683 prediction: [[1 0 2 3 3 4]] true Y: [[1, 0, 2, 3, 3, 4]]\n",
      "prediciton str: ihello\n",
      "step: 60 cost: 0.014948758 prediction: [[1 0 2 3 3 4]] true Y: [[1, 0, 2, 3, 3, 4]]\n",
      "prediciton str: ihello\n",
      "step: 61 cost: 0.0142821325 prediction: [[1 0 2 3 3 4]] true Y: [[1, 0, 2, 3, 3, 4]]\n",
      "prediciton str: ihello\n",
      "step: 62 cost: 0.013675208 prediction: [[1 0 2 3 3 4]] true Y: [[1, 0, 2, 3, 3, 4]]\n",
      "prediciton str: ihello\n",
      "step: 63 cost: 0.0131208375 prediction: [[1 0 2 3 3 4]] true Y: [[1, 0, 2, 3, 3, 4]]\n",
      "prediciton str: ihello\n",
      "step: 64 cost: 0.012613251 prediction: [[1 0 2 3 3 4]] true Y: [[1, 0, 2, 3, 3, 4]]\n",
      "prediciton str: ihello\n",
      "step: 65 cost: 0.012147169 prediction: [[1 0 2 3 3 4]] true Y: [[1, 0, 2, 3, 3, 4]]\n",
      "prediciton str: ihello\n",
      "step: 66 cost: 0.011718363 prediction: [[1 0 2 3 3 4]] true Y: [[1, 0, 2, 3, 3, 4]]\n",
      "prediciton str: ihello\n",
      "step: 67 cost: 0.011326522 prediction: [[1 0 2 3 3 4]] true Y: [[1, 0, 2, 3, 3, 4]]\n",
      "prediciton str: ihello\n",
      "step: 68 cost: 0.010971273 prediction: [[1 0 2 3 3 4]] true Y: [[1, 0, 2, 3, 3, 4]]\n",
      "prediciton str: ihello\n",
      "step: 69 cost: 0.010641231 prediction: [[1 0 2 3 3 4]] true Y: [[1, 0, 2, 3, 3, 4]]\n",
      "prediciton str: ihello\n",
      "step: 70 cost: 0.010334118 prediction: [[1 0 2 3 3 4]] true Y: [[1, 0, 2, 3, 3, 4]]\n",
      "prediciton str: ihello\n",
      "step: 71 cost: 0.0100476155 prediction: [[1 0 2 3 3 4]] true Y: [[1, 0, 2, 3, 3, 4]]\n",
      "prediciton str: ihello\n",
      "step: 72 cost: 0.009779768 prediction: [[1 0 2 3 3 4]] true Y: [[1, 0, 2, 3, 3, 4]]\n",
      "prediciton str: ihello\n",
      "step: 73 cost: 0.009529007 prediction: [[1 0 2 3 3 4]] true Y: [[1, 0, 2, 3, 3, 4]]\n",
      "prediciton str: ihello\n",
      "step: 74 cost: 0.0092936 prediction: [[1 0 2 3 3 4]] true Y: [[1, 0, 2, 3, 3, 4]]\n",
      "prediciton str: ihello\n",
      "step: 75 cost: 0.009072367 prediction: [[1 0 2 3 3 4]] true Y: [[1, 0, 2, 3, 3, 4]]\n",
      "prediciton str: ihello\n",
      "step: 76 cost: 0.008864042 prediction: [[1 0 2 3 3 4]] true Y: [[1, 0, 2, 3, 3, 4]]\n",
      "prediciton str: ihello\n",
      "step: 77 cost: 0.008667593 prediction: [[1 0 2 3 3 4]] true Y: [[1, 0, 2, 3, 3, 4]]\n",
      "prediciton str: ihello\n",
      "step: 78 cost: 0.0084819095 prediction: [[1 0 2 3 3 4]] true Y: [[1, 0, 2, 3, 3, 4]]\n",
      "prediciton str: ihello\n",
      "step: 79 cost: 0.008306175 prediction: [[1 0 2 3 3 4]] true Y: [[1, 0, 2, 3, 3, 4]]\n",
      "prediciton str: ihello\n",
      "step: 80 cost: 0.008139509 prediction: [[1 0 2 3 3 4]] true Y: [[1, 0, 2, 3, 3, 4]]\n",
      "prediciton str: ihello\n",
      "step: 81 cost: 0.007981072 prediction: [[1 0 2 3 3 4]] true Y: [[1, 0, 2, 3, 3, 4]]\n",
      "prediciton str: ihello\n",
      "step: 82 cost: 0.007830221 prediction: [[1 0 2 3 3 4]] true Y: [[1, 0, 2, 3, 3, 4]]\n",
      "prediciton str: ihello\n",
      "step: 83 cost: 0.007686194 prediction: [[1 0 2 3 3 4]] true Y: [[1, 0, 2, 3, 3, 4]]\n",
      "prediciton str: ihello\n",
      "step: 84 cost: 0.0075486186 prediction: [[1 0 2 3 3 4]] true Y: [[1, 0, 2, 3, 3, 4]]\n",
      "prediciton str: ihello\n",
      "step: 85 cost: 0.00741683 prediction: [[1 0 2 3 3 4]] true Y: [[1, 0, 2, 3, 3, 4]]\n",
      "prediciton str: ihello\n",
      "step: 86 cost: 0.007290457 prediction: [[1 0 2 3 3 4]] true Y: [[1, 0, 2, 3, 3, 4]]\n",
      "prediciton str: ihello\n",
      "step: 87 cost: 0.0071690492 prediction: [[1 0 2 3 3 4]] true Y: [[1, 0, 2, 3, 3, 4]]\n",
      "prediciton str: ihello\n",
      "step: 88 cost: 0.007052312 prediction: [[1 0 2 3 3 4]] true Y: [[1, 0, 2, 3, 3, 4]]\n",
      "prediciton str: ihello\n",
      "step: 89 cost: 0.0069399937 prediction: [[1 0 2 3 3 4]] true Y: [[1, 0, 2, 3, 3, 4]]\n",
      "prediciton str: ihello\n",
      "step: 90 cost: 0.0068316595 prediction: [[1 0 2 3 3 4]] true Y: [[1, 0, 2, 3, 3, 4]]\n",
      "prediciton str: ihello\n",
      "step: 91 cost: 0.0067271763 prediction: [[1 0 2 3 3 4]] true Y: [[1, 0, 2, 3, 3, 4]]\n",
      "prediciton str: ihello\n",
      "step: 92 cost: 0.006626326 prediction: [[1 0 2 3 3 4]] true Y: [[1, 0, 2, 3, 3, 4]]\n",
      "prediciton str: ihello\n",
      "step: 93 cost: 0.006528776 prediction: [[1 0 2 3 3 4]] true Y: [[1, 0, 2, 3, 3, 4]]\n",
      "prediciton str: ihello\n",
      "step: 94 cost: 0.00643437 prediction: [[1 0 2 3 3 4]] true Y: [[1, 0, 2, 3, 3, 4]]\n",
      "prediciton str: ihello\n",
      "step: 95 cost: 0.0063429303 prediction: [[1 0 2 3 3 4]] true Y: [[1, 0, 2, 3, 3, 4]]\n",
      "prediciton str: ihello\n"
     ]
    },
    {
     "name": "stdout",
     "output_type": "stream",
     "text": [
      "step: 96 cost: 0.00625436 prediction: [[1 0 2 3 3 4]] true Y: [[1, 0, 2, 3, 3, 4]]\n",
      "prediciton str: ihello\n",
      "step: 97 cost: 0.006168365 prediction: [[1 0 2 3 3 4]] true Y: [[1, 0, 2, 3, 3, 4]]\n",
      "prediciton str: ihello\n",
      "step: 98 cost: 0.006084885 prediction: [[1 0 2 3 3 4]] true Y: [[1, 0, 2, 3, 3, 4]]\n",
      "prediciton str: ihello\n",
      "step: 99 cost: 0.0060037836 prediction: [[1 0 2 3 3 4]] true Y: [[1, 0, 2, 3, 3, 4]]\n",
      "prediciton str: ihello\n",
      "step: 100 cost: 0.005925002 prediction: [[1 0 2 3 3 4]] true Y: [[1, 0, 2, 3, 3, 4]]\n",
      "prediciton str: ihello\n"
     ]
    }
   ],
   "source": [
    "## PPT \n",
    "# 입력 4 # 출력 2 (hidden s[0])\n",
    "# 'hihello'\n",
    "# 이정도면 time-Step : 6, input_dim : 5, hideensize : 5\n",
    "idx2char = [ 'h','i','e','l','o']\n",
    "xdata = [[0,1,0,2,3,3]]\n",
    "x_onehot =[[\n",
    "    [1,0,0,0,0],\n",
    "    [0,1,0,0,0],\n",
    "    [1,0,0,0,0],\n",
    "    [0,0,1,0,0],\n",
    "    [0,0,0,1,0],\n",
    "    [0,0,0,1,0]]]\n",
    "ydata = [[1,0,2,3,3,4]] \n",
    "tf.reset_default_graph()\n",
    "num_classes = 5\n",
    "input_dim = 5 # 입력데이터의 차원(단어벡터의길이)\n",
    "hidden_size = 5\n",
    "batch_size = 1\n",
    "sequence_length = 6 # hihell 을 학습시키는것\n",
    "learning_rate = 0.05\n",
    "\n",
    "x = tf.placeholder(tf.float32, [None, sequence_length, input_dim])\n",
    "y = tf.placeholder(tf.int32, [None, sequence_length])\n",
    "\n",
    "cell = tf.contrib.rnn.BasicLSTMCell(num_units = hidden_size) \n",
    "# 출력되어지는 hidden size : 5 // 출력값의 갯수 ()\n",
    "ini_state = cell.zero_state(batch_size, tf.float32)\n",
    "outputs, _states = tf.nn.dynamic_rnn(cell, x, initial_state = ini_state, \n",
    "                                     dtype = tf.float32)\n",
    "x_fc = tf.reshape(outputs, [-1, hidden_size]) # -1 : None(전체)\n",
    "outputs = tf.contrib.layers.fully_connected(inputs=x_fc, \n",
    "                                  num_outputs=num_classes)\n",
    "outputs = tf.reshape(outputs, [batch_size, sequence_length, num_classes])\n",
    "                            # [1,6,5]=>[[[0.1,0.2,0.5,0.1,0.1]],[],,,,]\n",
    "weights = tf.ones([batch_size, sequence_length]) # weight 중요도 조절 # 동일한 중요도\n",
    "sequence_loss = tf.contrib.seq2seq.sequence_loss(logits = outputs, targets = y, \n",
    "                                                 weights = weights)\n",
    "loss = tf.reduce_mean(sequence_loss)\n",
    "\n",
    "prediction = tf.argmax(outputs, axis=2)\n",
    "\n",
    "train = tf.train.AdamOptimizer(learning_rate = learning_rate).minimize(loss)\n",
    "with tf.Session() as sess : \n",
    "    sess.run(tf.global_variables_initializer())\n",
    "    for i in range(101):\n",
    "        lv, _= sess.run([loss, train], feed_dict ={x:x_onehot, y:ydata})\n",
    "        res=sess.run(prediction,feed_dict ={x:x_onehot})\n",
    "        print('step:',i,'cost:',lv,'prediction:', res, 'true Y:',ydata)\n",
    "        resStr = [idx2char[c] for c in np.squeeze(res)]\n",
    "        print('prediciton str:',''.join(resStr))\n",
    "        \n",
    "# num_units 는 출력개수 \n",
    "# logits = score\n",
    "\n",
    "# hihell\n",
    "# ex) hihell - > ihello \n",
    "# hihell - > uihello \n"
   ]
  },
  {
   "cell_type": "code",
   "execution_count": 26,
   "metadata": {},
   "outputs": [
    {
     "data": {
      "text/plain": [
       "['l', 'i', 'h', 'e', 'i']"
      ]
     },
     "execution_count": 26,
     "metadata": {},
     "output_type": "execute_result"
    }
   ],
   "source": [
    "test = [[3,1,0,2,1]]\n",
    "np.squeeze(test)\n",
    "test2 = [idx2char [c] for c in np.squeeze(test)]\n",
    "test2\n"
   ]
  },
  {
   "cell_type": "code",
   "execution_count": 27,
   "metadata": {},
   "outputs": [],
   "source": [
    "import numpy as np\n",
    "from tensorflow.contrib import rnn\n",
    "import pprint\n",
    "tf.reset_default_graph()\n",
    "pp=pprint.PrettyPrinter(indent=4)\n",
    "sess=tf.InteractiveSession()"
   ]
  },
  {
   "cell_type": "markdown",
   "metadata": {},
   "source": [
    "# "
   ]
  },
  {
   "cell_type": "code",
   "execution_count": 28,
   "metadata": {},
   "outputs": [],
   "source": [
    "h = [ 1,0,0,0 ]\n",
    "e = [ 0,1,0,0 ]\n",
    "l = [ 0,0,1,0 ]\n",
    "o = [ 0,0,0,1 ]\n"
   ]
  },
  {
   "cell_type": "code",
   "execution_count": 29,
   "metadata": {},
   "outputs": [
    {
     "name": "stderr",
     "output_type": "stream",
     "text": [
      "W0819 19:25:30.918316 11560 deprecation.py:323] From <ipython-input-29-f46551c574b8>:3: BasicRNNCell.__init__ (from tensorflow.python.ops.rnn_cell_impl) is deprecated and will be removed in a future version.\n",
      "Instructions for updating:\n",
      "This class is equivalent as tf.keras.layers.SimpleRNNCell, and will be replaced by that in Tensorflow 2.0.\n"
     ]
    },
    {
     "name": "stdout",
     "output_type": "stream",
     "text": [
      "2 2\n",
      "(3, 5, 4)\n",
      "array([[[1., 0., 0., 0.],\n",
      "        [0., 1., 0., 0.],\n",
      "        [0., 0., 1., 0.],\n",
      "        [0., 0., 1., 0.],\n",
      "        [0., 0., 0., 1.]],\n",
      "\n",
      "       [[0., 1., 0., 0.],\n",
      "        [0., 0., 0., 1.],\n",
      "        [0., 0., 1., 0.],\n",
      "        [0., 0., 1., 0.],\n",
      "        [0., 0., 0., 1.]],\n",
      "\n",
      "       [[0., 0., 1., 0.],\n",
      "        [0., 0., 1., 0.],\n",
      "        [0., 1., 0., 0.],\n",
      "        [0., 1., 0., 0.],\n",
      "        [0., 0., 1., 0.]]], dtype=float32)\n",
      "array([[[-0.30956295,  0.07987997],\n",
      "        [-0.5629116 , -0.37921098],\n",
      "        [ 0.69747996, -0.5360058 ],\n",
      "        [ 0.4846841 ,  0.35727847],\n",
      "        [-0.3506697 ,  0.32269892]],\n",
      "\n",
      "       [[-0.5989028 , -0.16203645],\n",
      "        [ 0.34105095, -0.5012389 ],\n",
      "        [ 0.5578495 ,  0.09776378],\n",
      "        [ 0.15488012,  0.30306643],\n",
      "        [-0.21238388,  0.0728706 ]],\n",
      "\n",
      "       [[ 0.39254382, -0.12941985],\n",
      "        [ 0.3492495 ,  0.16502088],\n",
      "        [-0.7270347 ,  0.12118661],\n",
      "        [-0.477411  , -0.61814255],\n",
      "        [ 0.75803185, -0.5004653 ]]], dtype=float32)\n"
     ]
    }
   ],
   "source": [
    "with tf.variable_scope('first_cell') as scope:\n",
    "    hidden_size = 2 # hidden layer에 뉴런의 개수 => 추출하고자하는 특징 \n",
    "    cell=tf.contrib.rnn.BasicRNNCell(num_units = hidden_size)\n",
    "    print(cell.output_size, cell.state_size)\n",
    "    xdata=np.array([[h,e,l,l,o],\n",
    "                   [e,o,l,l,o],\n",
    "                   [l,l,e,e,l]], dtype=np.float32)\n",
    "    print(xdata.shape)\n",
    "    # (1,5,4)\n",
    "    # (batch_size, seq_len, input_dim)\n",
    "    pp.pprint(xdata)\n",
    "    outputs, _states = tf.nn.dynamic_rnn(cell, xdata, dtype=tf.float32)\n",
    "    sess.run(tf.global_variables_initializer())\n",
    "    pp.pprint(outputs.eval())\n",
    "#     pp.pprint(_states.eval())\n"
   ]
  },
  {
   "cell_type": "code",
   "execution_count": 30,
   "metadata": {},
   "outputs": [
    {
     "name": "stdout",
     "output_type": "stream",
     "text": [
      "array([[[1., 0., 0., 0.],\n",
      "        [0., 1., 0., 0.],\n",
      "        [0., 0., 1., 0.],\n",
      "        [0., 0., 1., 0.],\n",
      "        [0., 0., 0., 1.]],\n",
      "\n",
      "       [[0., 1., 0., 0.],\n",
      "        [0., 0., 0., 1.],\n",
      "        [0., 0., 1., 0.],\n",
      "        [0., 0., 1., 0.],\n",
      "        [0., 0., 0., 1.]],\n",
      "\n",
      "       [[0., 0., 1., 0.],\n",
      "        [0., 0., 1., 0.],\n",
      "        [0., 1., 0., 0.],\n",
      "        [0., 1., 0., 0.],\n",
      "        [0., 0., 1., 0.]]], dtype=float32)\n",
      "array([[[ 0.02017836, -0.03614286],\n",
      "        [ 0.00775723, -0.14905676],\n",
      "        [ 0.07618628, -0.11244795],\n",
      "        [ 0.12646106, -0.12488471],\n",
      "        [ 0.04141374, -0.0603175 ]],\n",
      "\n",
      "       [[-0.00103223, -0.12522997],\n",
      "        [-0.04559198,  0.00471454],\n",
      "        [ 0.03758546, -0.03537206],\n",
      "        [ 0.09918653, -0.06980477],\n",
      "        [ 0.02328135,  0.02203378]],\n",
      "\n",
      "       [[ 0.07236499, -0.04258591],\n",
      "        [ 0.1245627 , -0.07785878],\n",
      "        [ 0.06046247, -0.19048057],\n",
      "        [ 0.03405369, -0.22185272],\n",
      "        [ 0.10152323, -0.15049268]]], dtype=float32)\n"
     ]
    }
   ],
   "source": [
    "# M(시트), V(그래프), C(컨트롤러(막대)) 분리\n",
    "\n",
    "with tf.variable_scope('lstm_cell') as scope:\n",
    "    hidden_size = 2 # hidden layer에 뉴런의 개수 => 추출하고자하는 특징 \n",
    "    cell=tf.contrib.rnn.BasicLSTMCell(num_units = hidden_size)\n",
    "#     print(cell.output_size, cell.state_size)\n",
    "    xdata=np.array([[h,e,l,l,o],\n",
    "                   [e,o,l,l,o],\n",
    "                   [l,l,e,e,l]], dtype=np.float32)\n",
    "#     print(xdata.shape)\n",
    "    # (1,5,4)\n",
    "    # (batch_size, seq_len, input_dim)\n",
    "    pp.pprint(xdata)\n",
    "    outputs, _states = tf.nn.dynamic_rnn(cell, xdata, dtype=tf.float32)\n",
    "    sess.run(tf.global_variables_initializer())\n",
    "    pp.pprint(outputs.eval())\n",
    "#     pp.pprint(_states.eval())"
   ]
  },
  {
   "cell_type": "code",
   "execution_count": 31,
   "metadata": {},
   "outputs": [
    {
     "name": "stdout",
     "output_type": "stream",
     "text": [
      "array([[[1., 0., 0., 0.],\n",
      "        [0., 1., 0., 0.],\n",
      "        [0., 0., 1., 0.],\n",
      "        [0., 0., 1., 0.],\n",
      "        [0., 0., 0., 1.]],\n",
      "\n",
      "       [[0., 1., 0., 0.],\n",
      "        [0., 0., 0., 1.],\n",
      "        [0., 0., 1., 0.],\n",
      "        [0., 0., 1., 0.],\n",
      "        [0., 0., 0., 1.]],\n",
      "\n",
      "       [[0., 0., 1., 0.],\n",
      "        [0., 0., 1., 0.],\n",
      "        [0., 1., 0., 0.],\n",
      "        [0., 1., 0., 0.],\n",
      "        [0., 0., 1., 0.]]], dtype=float32)\n"
     ]
    },
    {
     "name": "stderr",
     "output_type": "stream",
     "text": [
      "W0819 19:25:31.348167 11560 deprecation.py:323] From C:\\Users\\user\\Anaconda3\\lib\\site-packages\\tensorflow\\python\\ops\\rnn.py:244: add_dispatch_support.<locals>.wrapper (from tensorflow.python.ops.array_ops) is deprecated and will be removed in a future version.\n",
      "Instructions for updating:\n",
      "Use tf.where in 2.0, which has the same broadcast rule as np.where\n"
     ]
    },
    {
     "name": "stdout",
     "output_type": "stream",
     "text": [
      "array([[[-2.41659973e-02, -1.13974325e-01],\n",
      "        [-7.68289417e-02, -5.22176363e-03],\n",
      "        [-7.87679330e-02, -1.08298130e-01],\n",
      "        [-6.18757047e-02, -1.77251294e-01],\n",
      "        [ 2.37103719e-02, -2.37350404e-01]],\n",
      "\n",
      "       [[-7.09921792e-02,  1.27833262e-01],\n",
      "        [-1.29905390e-02,  1.93023894e-04],\n",
      "        [-2.45636627e-02, -9.49059650e-02],\n",
      "        [ 0.00000000e+00,  0.00000000e+00],\n",
      "        [ 0.00000000e+00,  0.00000000e+00]],\n",
      "\n",
      "       [[-1.59896892e-02, -9.31037813e-02],\n",
      "        [-1.40158376e-02, -1.57956660e-01],\n",
      "        [-6.23002537e-02,  2.34910864e-02],\n",
      "        [-1.26427367e-01,  1.31095245e-01],\n",
      "        [ 0.00000000e+00,  0.00000000e+00]]], dtype=float32)\n"
     ]
    }
   ],
   "source": [
    "with tf.variable_scope('lstm_cell_2') as scope:\n",
    "    hidden_size = 2 \n",
    "    cell=tf.contrib.rnn.BasicLSTMCell(num_units = hidden_size)\n",
    "    xdata=np.array([[h,e,l,l,o],\n",
    "                   [e,o,l,l,o],\n",
    "                   [l,l,e,e,l]], dtype=np.float32)\n",
    "    pp.pprint(xdata)\n",
    "    outputs, _states = tf.nn.dynamic_rnn(cell, xdata, sequence_length=[5,3,4],\n",
    "                                         dtype=tf.float32)\n",
    "    sess.run(tf.global_variables_initializer())  \n",
    "    pp.pprint(outputs.eval())"
   ]
  },
  {
   "cell_type": "code",
   "execution_count": 32,
   "metadata": {},
   "outputs": [
    {
     "name": "stdout",
     "output_type": "stream",
     "text": [
      "array([[[1., 0., 0., 0.],\n",
      "        [0., 1., 0., 0.],\n",
      "        [0., 0., 1., 0.],\n",
      "        [0., 0., 1., 0.],\n",
      "        [0., 0., 0., 1.]],\n",
      "\n",
      "       [[0., 1., 0., 0.],\n",
      "        [0., 0., 0., 1.],\n",
      "        [0., 0., 1., 0.],\n",
      "        [0., 0., 1., 0.],\n",
      "        [0., 0., 0., 1.]],\n",
      "\n",
      "       [[0., 0., 1., 0.],\n",
      "        [0., 0., 1., 0.],\n",
      "        [0., 1., 0., 0.],\n",
      "        [0., 1., 0., 0.],\n",
      "        [0., 0., 1., 0.]]], dtype=float32)\n",
      "array([[[-0.02912452, -0.17994003],\n",
      "        [-0.16620423, -0.01071649],\n",
      "        [-0.00490315, -0.03298961],\n",
      "        [ 0.08654272, -0.07412206],\n",
      "        [ 0.05814182, -0.00786786]],\n",
      "\n",
      "       [[-0.1391202 ,  0.13458526],\n",
      "        [-0.0929196 ,  0.11940601],\n",
      "        [ 0.02974492,  0.07538293],\n",
      "        [ 0.10296037, -0.00029293],\n",
      "        [ 0.0682527 ,  0.0343336 ]],\n",
      "\n",
      "       [[ 0.0879749 , -0.05106742],\n",
      "        [ 0.14681752, -0.09920508],\n",
      "        [-0.00689052,  0.00718846],\n",
      "        [-0.14373058,  0.14190026],\n",
      "        [ 0.00261996,  0.06467292]]], dtype=float32)\n"
     ]
    }
   ],
   "source": [
    "with tf.variable_scope('init_lstm_cell') as scope:\n",
    "    hidden_size = 2 \n",
    "    batch_size = 3\n",
    "    cell=tf.contrib.rnn.BasicLSTMCell(num_units = hidden_size)\n",
    "    xdata=np.array([[h,e,l,l,o],\n",
    "                   [e,o,l,l,o],\n",
    "                   [l,l,e,e,l]], dtype=np.float32)\n",
    "    pp.pprint(xdata)\n",
    "    init_state = cell.zero_state(batch_size, tf.float32)\n",
    "    outputs, _states = tf.nn.dynamic_rnn(cell, xdata, dtype=tf.float32)\n",
    "    sess.run(tf.global_variables_initializer())\n",
    "    pp.pprint(outputs.eval())\n",
    "    \n",
    "    # 데이터 100개 / 1에폭 : 100개 데이터를 학습 \n",
    "    # batch_size : 20개, batch_length : 100/20 = 5번 \n",
    "    # (20개 단위로 학습) forward..reduce.mean..backward...weight, bias updating(20)\n",
    "    "
   ]
  },
  {
   "cell_type": "code",
   "execution_count": 33,
   "metadata": {},
   "outputs": [
    {
     "name": "stdout",
     "output_type": "stream",
     "text": [
      "[[[ 0  1  2]\n",
      "  [ 3  4  5]\n",
      "  [ 6  7  8]\n",
      "  [ 9 10 11]\n",
      "  [12 13 14]]\n",
      "\n",
      " [[15 16 17]\n",
      "  [18 19 20]\n",
      "  [21 22 23]\n",
      "  [24 25 26]\n",
      "  [27 28 29]]\n",
      "\n",
      " [[30 31 32]\n",
      "  [33 34 35]\n",
      "  [36 37 38]\n",
      "  [39 40 41]\n",
      "  [42 43 44]]]\n"
     ]
    }
   ],
   "source": [
    "batch_size = 3\n",
    "seq_len=5\n",
    "in_dim=3\n",
    "xdata = np.arange(45).reshape(batch_size, seq_len, in_dim) # ohe되어져있는것\n",
    "print(xdata)"
   ]
  },
  {
   "cell_type": "code",
   "execution_count": 34,
   "metadata": {},
   "outputs": [
    {
     "name": "stderr",
     "output_type": "stream",
     "text": [
      "W0819 19:25:32.432221 11560 deprecation.py:323] From <ipython-input-34-dfd9818523dc>:4: MultiRNNCell.__init__ (from tensorflow.python.ops.rnn_cell_impl) is deprecated and will be removed in a future version.\n",
      "Instructions for updating:\n",
      "This class is equivalent as tf.keras.layers.StackedRNNCells, and will be replaced by that in Tensorflow 2.0.\n",
      "W0819 19:25:32.434217 11560 rnn_cell_impl.py:1642] At least two cells provided to MultiRNNCell are the same object and will share weights.\n"
     ]
    },
    {
     "ename": "ValueError",
     "evalue": "If there is no initial_state, you must give a dtype.",
     "output_type": "error",
     "traceback": [
      "\u001b[1;31m---------------------------------------------------------------------------\u001b[0m",
      "\u001b[1;31mValueError\u001b[0m                                Traceback (most recent call last)",
      "\u001b[1;32m<ipython-input-34-dfd9818523dc>\u001b[0m in \u001b[0;36m<module>\u001b[1;34m\u001b[0m\n\u001b[0;32m      4\u001b[0m     \u001b[0mcell\u001b[0m\u001b[1;33m=\u001b[0m\u001b[0mtf\u001b[0m\u001b[1;33m.\u001b[0m\u001b[0mcontrib\u001b[0m\u001b[1;33m.\u001b[0m\u001b[0mrnn\u001b[0m\u001b[1;33m.\u001b[0m\u001b[0mMultiRNNCell\u001b[0m\u001b[1;33m(\u001b[0m\u001b[1;33m[\u001b[0m\u001b[0mcell\u001b[0m\u001b[1;33m]\u001b[0m\u001b[1;33m*\u001b[0m\u001b[1;36m3\u001b[0m\u001b[1;33m)\u001b[0m \u001b[1;31m# layer 3개\u001b[0m\u001b[1;33m\u001b[0m\u001b[1;33m\u001b[0m\u001b[0m\n\u001b[0;32m      5\u001b[0m \u001b[1;33m\u001b[0m\u001b[0m\n\u001b[1;32m----> 6\u001b[1;33m     \u001b[0moutputs\u001b[0m\u001b[1;33m,\u001b[0m \u001b[0m_states\u001b[0m \u001b[1;33m=\u001b[0m \u001b[0mtf\u001b[0m\u001b[1;33m.\u001b[0m\u001b[0mnn\u001b[0m\u001b[1;33m.\u001b[0m\u001b[0mdynamic_rnn\u001b[0m\u001b[1;33m(\u001b[0m\u001b[0mcell\u001b[0m\u001b[1;33m,\u001b[0m \u001b[0mxdata\u001b[0m\u001b[1;33m)\u001b[0m\u001b[1;33m\u001b[0m\u001b[1;33m\u001b[0m\u001b[0m\n\u001b[0m\u001b[0;32m      7\u001b[0m     \u001b[0msess\u001b[0m\u001b[1;33m.\u001b[0m\u001b[0mrun\u001b[0m\u001b[1;33m(\u001b[0m\u001b[0mtf\u001b[0m\u001b[1;33m.\u001b[0m\u001b[0mglobal_variables_initializer\u001b[0m\u001b[1;33m(\u001b[0m\u001b[0mdtype\u001b[0m\u001b[1;33m=\u001b[0m\u001b[0mnp\u001b[0m\u001b[1;33m.\u001b[0m\u001b[0mfloat32\u001b[0m\u001b[1;33m)\u001b[0m\u001b[1;33m)\u001b[0m\u001b[1;33m\u001b[0m\u001b[1;33m\u001b[0m\u001b[0m\n\u001b[0;32m      8\u001b[0m     \u001b[0mpp\u001b[0m\u001b[1;33m.\u001b[0m\u001b[0mprint\u001b[0m\u001b[1;33m(\u001b[0m\u001b[0moutputs\u001b[0m\u001b[1;33m.\u001b[0m\u001b[0meval\u001b[0m\u001b[1;33m(\u001b[0m\u001b[1;33m)\u001b[0m\u001b[1;33m)\u001b[0m\u001b[1;33m\u001b[0m\u001b[1;33m\u001b[0m\u001b[0m\n",
      "\u001b[1;32m~\\Anaconda3\\lib\\site-packages\\tensorflow\\python\\util\\deprecation.py\u001b[0m in \u001b[0;36mnew_func\u001b[1;34m(*args, **kwargs)\u001b[0m\n\u001b[0;32m    322\u001b[0m               \u001b[1;34m'in a future version'\u001b[0m \u001b[1;32mif\u001b[0m \u001b[0mdate\u001b[0m \u001b[1;32mis\u001b[0m \u001b[1;32mNone\u001b[0m \u001b[1;32melse\u001b[0m \u001b[1;33m(\u001b[0m\u001b[1;34m'after %s'\u001b[0m \u001b[1;33m%\u001b[0m \u001b[0mdate\u001b[0m\u001b[1;33m)\u001b[0m\u001b[1;33m,\u001b[0m\u001b[1;33m\u001b[0m\u001b[1;33m\u001b[0m\u001b[0m\n\u001b[0;32m    323\u001b[0m               instructions)\n\u001b[1;32m--> 324\u001b[1;33m       \u001b[1;32mreturn\u001b[0m \u001b[0mfunc\u001b[0m\u001b[1;33m(\u001b[0m\u001b[1;33m*\u001b[0m\u001b[0margs\u001b[0m\u001b[1;33m,\u001b[0m \u001b[1;33m**\u001b[0m\u001b[0mkwargs\u001b[0m\u001b[1;33m)\u001b[0m\u001b[1;33m\u001b[0m\u001b[1;33m\u001b[0m\u001b[0m\n\u001b[0m\u001b[0;32m    325\u001b[0m     return tf_decorator.make_decorator(\n\u001b[0;32m    326\u001b[0m         \u001b[0mfunc\u001b[0m\u001b[1;33m,\u001b[0m \u001b[0mnew_func\u001b[0m\u001b[1;33m,\u001b[0m \u001b[1;34m'deprecated'\u001b[0m\u001b[1;33m,\u001b[0m\u001b[1;33m\u001b[0m\u001b[1;33m\u001b[0m\u001b[0m\n",
      "\u001b[1;32m~\\Anaconda3\\lib\\site-packages\\tensorflow\\python\\ops\\rnn.py\u001b[0m in \u001b[0;36mdynamic_rnn\u001b[1;34m(cell, inputs, sequence_length, initial_state, dtype, parallel_iterations, swap_memory, time_major, scope)\u001b[0m\n\u001b[0;32m    673\u001b[0m     \u001b[1;32melse\u001b[0m\u001b[1;33m:\u001b[0m\u001b[1;33m\u001b[0m\u001b[1;33m\u001b[0m\u001b[0m\n\u001b[0;32m    674\u001b[0m       \u001b[1;32mif\u001b[0m \u001b[1;32mnot\u001b[0m \u001b[0mdtype\u001b[0m\u001b[1;33m:\u001b[0m\u001b[1;33m\u001b[0m\u001b[1;33m\u001b[0m\u001b[0m\n\u001b[1;32m--> 675\u001b[1;33m         \u001b[1;32mraise\u001b[0m \u001b[0mValueError\u001b[0m\u001b[1;33m(\u001b[0m\u001b[1;34m\"If there is no initial_state, you must give a dtype.\"\u001b[0m\u001b[1;33m)\u001b[0m\u001b[1;33m\u001b[0m\u001b[1;33m\u001b[0m\u001b[0m\n\u001b[0m\u001b[0;32m    676\u001b[0m       \u001b[1;32mif\u001b[0m \u001b[0mgetattr\u001b[0m\u001b[1;33m(\u001b[0m\u001b[0mcell\u001b[0m\u001b[1;33m,\u001b[0m \u001b[1;34m\"get_initial_state\"\u001b[0m\u001b[1;33m,\u001b[0m \u001b[1;32mNone\u001b[0m\u001b[1;33m)\u001b[0m \u001b[1;32mis\u001b[0m \u001b[1;32mnot\u001b[0m \u001b[1;32mNone\u001b[0m\u001b[1;33m:\u001b[0m\u001b[1;33m\u001b[0m\u001b[1;33m\u001b[0m\u001b[0m\n\u001b[0;32m    677\u001b[0m         state = cell.get_initial_state(\n",
      "\u001b[1;31mValueError\u001b[0m: If there is no initial_state, you must give a dtype."
     ]
    }
   ],
   "source": [
    "with tf.variable_scope('multi_rnn_cell') as scope:\n",
    "    \n",
    "    cell=tf.contrib.rnn.BasicLSTMCell(num_units = 5)\n",
    "    cell=tf.contrib.rnn.MultiRNNCell([cell]*3) # layer 3개\n",
    "    \n",
    "    outputs, _states = tf.nn.dynamic_rnn(cell, xdata)\n",
    "    sess.run(tf.global_variables_initializer(dtype=np.float32))\n",
    "    pp.print(outputs.eval())\n",
    "    \n",
    "#     xdata=np.array([[h,e,l,l,o],\n",
    "#                    [e,o,l,l,o],\n",
    "#                    [l,l,e,e,l]], dtype=np.float32)\n",
    "#     pp.pprint(xdata)\n",
    "#     init_state = cell.zero_state(batch_size, tf.float32)\n",
    "#     outputs, _states = tf.nn.dynamic_rnn(cell, xdata, initial_s,dtype=tf.float32)\n",
    "#     sess.run(tf.global_variables_initializer())\n",
    "#     pp.pprint(outputs.eval())\n",
    "    \n",
    "    "
   ]
  },
  {
   "cell_type": "code",
   "execution_count": 35,
   "metadata": {},
   "outputs": [
    {
     "ename": "TypeError",
     "evalue": "sequence_loss() missing 1 required positional argument: 'weights'",
     "output_type": "error",
     "traceback": [
      "\u001b[1;31m---------------------------------------------------------------------------\u001b[0m",
      "\u001b[1;31mTypeError\u001b[0m                                 Traceback (most recent call last)",
      "\u001b[1;32m<ipython-input-35-9baf25270231>\u001b[0m in \u001b[0;36m<module>\u001b[1;34m\u001b[0m\n\u001b[0;32m      2\u001b[0m \u001b[0mprediction1\u001b[0m \u001b[1;33m=\u001b[0m \u001b[0mtf\u001b[0m\u001b[1;33m.\u001b[0m\u001b[0mconstant\u001b[0m\u001b[1;33m(\u001b[0m\u001b[1;33m[\u001b[0m \u001b[1;33m[\u001b[0m\u001b[1;33m[\u001b[0m\u001b[1;36m0.2\u001b[0m\u001b[1;33m,\u001b[0m \u001b[1;36m0.7\u001b[0m\u001b[1;33m]\u001b[0m\u001b[1;33m,\u001b[0m \u001b[1;33m[\u001b[0m\u001b[1;36m0.1\u001b[0m\u001b[1;33m,\u001b[0m \u001b[1;36m0.9\u001b[0m\u001b[1;33m]\u001b[0m\u001b[1;33m,\u001b[0m \u001b[1;33m[\u001b[0m\u001b[1;36m0.3\u001b[0m\u001b[1;33m,\u001b[0m \u001b[1;36m0.7\u001b[0m\u001b[1;33m]\u001b[0m \u001b[1;33m]\u001b[0m\u001b[1;33m]\u001b[0m\u001b[1;33m)\u001b[0m\u001b[1;33m\u001b[0m\u001b[1;33m\u001b[0m\u001b[0m\n\u001b[0;32m      3\u001b[0m \u001b[0mprediction2\u001b[0m \u001b[1;33m=\u001b[0m \u001b[0mtf\u001b[0m\u001b[1;33m.\u001b[0m\u001b[0mconstant\u001b[0m\u001b[1;33m(\u001b[0m\u001b[1;33m[\u001b[0m \u001b[1;33m[\u001b[0m\u001b[1;33m[\u001b[0m\u001b[1;36m0.4\u001b[0m\u001b[1;33m,\u001b[0m \u001b[1;36m0.6\u001b[0m\u001b[1;33m]\u001b[0m\u001b[1;33m,\u001b[0m \u001b[1;33m[\u001b[0m\u001b[1;36m0.4\u001b[0m\u001b[1;33m,\u001b[0m \u001b[1;36m0.6\u001b[0m\u001b[1;33m]\u001b[0m\u001b[1;33m,\u001b[0m \u001b[1;33m[\u001b[0m\u001b[1;36m0.6\u001b[0m\u001b[1;33m,\u001b[0m \u001b[1;36m0.4\u001b[0m\u001b[1;33m]\u001b[0m \u001b[1;33m]\u001b[0m\u001b[1;33m]\u001b[0m\u001b[1;33m)\u001b[0m\u001b[1;33m\u001b[0m\u001b[1;33m\u001b[0m\u001b[0m\n\u001b[1;32m----> 4\u001b[1;33m \u001b[0mloss1\u001b[0m \u001b[1;33m=\u001b[0m \u001b[0mtf\u001b[0m\u001b[1;33m.\u001b[0m\u001b[0mcontrib\u001b[0m\u001b[1;33m.\u001b[0m\u001b[0mseq2seq\u001b[0m\u001b[1;33m.\u001b[0m\u001b[0msequence_loss\u001b[0m\u001b[1;33m(\u001b[0m\u001b[0mprediction1\u001b[0m\u001b[1;33m,\u001b[0m \u001b[0mydata\u001b[0m\u001b[1;33m)\u001b[0m\u001b[1;33m\u001b[0m\u001b[1;33m\u001b[0m\u001b[0m\n\u001b[0m\u001b[0;32m      5\u001b[0m \u001b[0msess\u001b[0m\u001b[1;33m.\u001b[0m\u001b[0mrun\u001b[0m\u001b[1;33m(\u001b[0m\u001b[0mtf\u001b[0m\u001b[1;33m.\u001b[0m\u001b[0mglobal_variables_initializer\u001b[0m\u001b[1;33m(\u001b[0m\u001b[1;33m)\u001b[0m\u001b[1;33m)\u001b[0m\u001b[1;33m\u001b[0m\u001b[1;33m\u001b[0m\u001b[0m\n\u001b[0;32m      6\u001b[0m \u001b[0mloss1\u001b[0m\u001b[1;33m.\u001b[0m\u001b[0meval\u001b[0m\u001b[1;33m(\u001b[0m\u001b[1;33m)\u001b[0m\u001b[1;33m\u001b[0m\u001b[1;33m\u001b[0m\u001b[0m\n",
      "\u001b[1;31mTypeError\u001b[0m: sequence_loss() missing 1 required positional argument: 'weights'"
     ]
    }
   ],
   "source": [
    "ydata=tf.constant([[1,1,1]])\n",
    "prediction1 = tf.constant([ [[0.2, 0.7], [0.1, 0.9], [0.3, 0.7] ]])\n",
    "prediction2 = tf.constant([ [[0.4, 0.6], [0.4, 0.6], [0.6, 0.4] ]])\n",
    "loss1 = tf.contrib.seq2seq.sequence_loss(prediction1, ydata)\n",
    "sess.run(tf.global_variables_initializer())\n",
    "loss1.eval()\n",
    "\n",
    "# 각각의 cost 에 대하여 reduce.mean을 구한다 \n",
    "# RNN 내 cost 구하기  \n",
    "hihell  "
   ]
  },
  {
   "cell_type": "code",
   "execution_count": null,
   "metadata": {},
   "outputs": [],
   "source": []
  },
  {
   "cell_type": "code",
   "execution_count": null,
   "metadata": {},
   "outputs": [],
   "source": []
  },
  {
   "cell_type": "code",
   "execution_count": null,
   "metadata": {},
   "outputs": [],
   "source": []
  },
  {
   "cell_type": "code",
   "execution_count": null,
   "metadata": {},
   "outputs": [],
   "source": []
  },
  {
   "cell_type": "code",
   "execution_count": null,
   "metadata": {},
   "outputs": [],
   "source": []
  },
  {
   "cell_type": "code",
   "execution_count": null,
   "metadata": {},
   "outputs": [],
   "source": []
  },
  {
   "cell_type": "code",
   "execution_count": null,
   "metadata": {},
   "outputs": [],
   "source": []
  }
 ],
 "metadata": {
  "kernelspec": {
   "display_name": "Python 3",
   "language": "python",
   "name": "python3"
  },
  "language_info": {
   "codemirror_mode": {
    "name": "ipython",
    "version": 3
   },
   "file_extension": ".py",
   "mimetype": "text/x-python",
   "name": "python",
   "nbconvert_exporter": "python",
   "pygments_lexer": "ipython3",
   "version": "3.7.3"
  }
 },
 "nbformat": 4,
 "nbformat_minor": 2
}
