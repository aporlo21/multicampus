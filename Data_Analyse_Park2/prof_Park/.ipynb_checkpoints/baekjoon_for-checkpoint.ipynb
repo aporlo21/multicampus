{
 "cells": [
  {
   "cell_type": "code",
   "execution_count": null,
   "metadata": {},
   "outputs": [],
   "source": [
    "## 자연수 N이 주어졌을 때, \n",
    "# N부터 1까지 한 줄에 하나씩 출력하는 프로그램을 작성하시오.\n",
    "## 입력\n",
    "# 첫째 줄에 100,000보다 작거나 같은 자연수 N이 주어진다.\n",
    "## 출력\n",
    "# 첫째 줄부터 N번째 줄 까지 차례대로 출력한다."
   ]
  },
  {
   "cell_type": "code",
   "execution_count": 3,
   "metadata": {},
   "outputs": [],
   "source": [
    "# 실패 )\n",
    "# nums = int(nums)\n",
    "# nums <= 100000\n",
    "# if input(nums):\n",
    "#     for num in nums:\n",
    "#         print(num)\n"
   ]
  },
  {
   "cell_type": "code",
   "execution_count": 15,
   "metadata": {},
   "outputs": [
    {
     "name": "stdout",
     "output_type": "stream",
     "text": [
      "5\n",
      "5\n",
      "4\n",
      "3\n",
      "2\n",
      "1\n"
     ]
    }
   ],
   "source": [
    "# 풀이 )         \n",
    "num = int(input())\n",
    "for num in range(num, 0, -1):\n",
    "    print(num)\n"
   ]
  },
  {
   "cell_type": "code",
   "execution_count": 14,
   "metadata": {},
   "outputs": [
    {
     "name": "stdout",
     "output_type": "stream",
     "text": [
      "5\n",
      "0\n",
      "1\n",
      "2\n",
      "3\n",
      "4\n"
     ]
    }
   ],
   "source": [
    "# nums = int(input())\n",
    "# nums < 100000\n",
    "# for num in range(0,nums,1):\n",
    "#     print(num)"
   ]
  },
  {
   "cell_type": "code",
   "execution_count": null,
   "metadata": {},
   "outputs": [],
   "source": []
  }
 ],
 "metadata": {
  "kernelspec": {
   "display_name": "Python 3",
   "language": "python",
   "name": "python3"
  },
  "language_info": {
   "codemirror_mode": {
    "name": "ipython",
    "version": 3
   },
   "file_extension": ".py",
   "mimetype": "text/x-python",
   "name": "python",
   "nbconvert_exporter": "python",
   "pygments_lexer": "ipython3",
   "version": "3.7.3"
  }
 },
 "nbformat": 4,
 "nbformat_minor": 2
}
