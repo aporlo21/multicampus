{
 "cells": [
  {
   "cell_type": "code",
   "execution_count": 7,
   "metadata": {},
   "outputs": [
    {
     "data": {
      "text/plain": [
       "<Response [200]>"
      ]
     },
     "execution_count": 7,
     "metadata": {},
     "output_type": "execute_result"
    }
   ],
   "source": [
    "\n",
    "from bs4 import BeautifulSoup\n",
    "import numpy as np\n",
    "import urllib.request as req\n",
    "from urllib.request import urlopen\n",
    "import requests\n",
    "\n",
    "\n",
    "login_info={'m_id':\"aporlo21\",\n",
    "           'm_passwd':\"1234!@#$\"}\n",
    "url_login= \"http://www.hanbit.co.kr/member/login_proc.php\"\n",
    "# post방식으로 서버 연결\n",
    "session=requests.session()\n",
    "res=session.post(url_login, data=login_info)\n",
    "res"
   ]
  },
  {
   "cell_type": "code",
   "execution_count": 16,
   "metadata": {},
   "outputs": [
    {
     "name": "stdout",
     "output_type": "stream",
     "text": [
      "마일리지:2,000 이코인:0\n"
     ]
    }
   ],
   "source": [
    "url_mypage= \"http://www.hanbit.co.kr/myhanbit/myhanbit.html\"\n",
    "res=session.get(url_mypage)\n",
    "# res.text\n",
    "soup = BeautifulSoup(res.text,'html.parser')\n",
    "mi=soup.select_one(\".mileage_section1 > dd > span\").text\n",
    "ec=soup.select_one(\".mileage_section2 > dd > span\").text #get.text : method 형 도출\n",
    "ec\n",
    "print(\"마일리지:\"+mi,\"이코인:\"+ec)\n",
    "#container > div > div.sm_mymileage > dl.mileage_section1 > dd > span\n",
    "# 4로 시작하는 error\n",
    "# 5로 시작하는 ser측 문제 "
   ]
  },
  {
   "cell_type": "code",
   "execution_count": null,
   "metadata": {},
   "outputs": [],
   "source": []
  }
 ],
 "metadata": {
  "kernelspec": {
   "display_name": "Python 3",
   "language": "python",
   "name": "python3"
  },
  "language_info": {
   "codemirror_mode": {
    "name": "ipython",
    "version": 3
   },
   "file_extension": ".py",
   "mimetype": "text/x-python",
   "name": "python",
   "nbconvert_exporter": "python",
   "pygments_lexer": "ipython3",
   "version": "3.7.3"
  }
 },
 "nbformat": 4,
 "nbformat_minor": 2
}
