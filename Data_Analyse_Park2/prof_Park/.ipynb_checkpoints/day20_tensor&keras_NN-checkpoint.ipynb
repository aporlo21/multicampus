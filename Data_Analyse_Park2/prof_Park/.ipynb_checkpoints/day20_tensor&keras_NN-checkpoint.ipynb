{
 "cells": [
  {
   "cell_type": "code",
   "execution_count": 9,
   "metadata": {},
   "outputs": [
    {
     "data": {
      "text/plain": [
       "<tf.Tensor 'range:0' shape=(5,) dtype=int32>"
      ]
     },
     "execution_count": 9,
     "metadata": {},
     "output_type": "execute_result"
    }
   ],
   "source": [
    "# day20\n",
    "import tensorflow as tf\n",
    "tf.range(5) # 0-4 까지 range 생성\n"
   ]
  },
  {
   "cell_type": "code",
   "execution_count": 3,
   "metadata": {},
   "outputs": [
    {
     "data": {
      "text/plain": [
       "<tf.Tensor 'LinSpace_1:0' shape=(11,) dtype=float32>"
      ]
     },
     "execution_count": 3,
     "metadata": {},
     "output_type": "execute_result"
    }
   ],
   "source": [
    "tf.linspace(0.0,5,11) # 선형공간 생성 # floating pointing number \n",
    "# 0 - 5 공간을 11구간으로 해체 "
   ]
  },
  {
   "cell_type": "code",
   "execution_count": 5,
   "metadata": {},
   "outputs": [
    {
     "data": {
      "text/plain": [
       "<tf.Tensor 'zeros_1:0' shape=(2, 3) dtype=float32>"
      ]
     },
     "execution_count": 5,
     "metadata": {},
     "output_type": "execute_result"
    }
   ],
   "source": [
    "tf.zeros((2,3)) # 상수텐서 # 32비트 상수 자료형 (default)\n"
   ]
  },
  {
   "cell_type": "code",
   "execution_count": 16,
   "metadata": {},
   "outputs": [
    {
     "data": {
      "text/plain": [
       "<tf.Tensor 'ones_1:0' shape=(2, 3) dtype=float32>"
      ]
     },
     "execution_count": 16,
     "metadata": {},
     "output_type": "execute_result"
    }
   ],
   "source": [
    "tf.ones((2,3))"
   ]
  },
  {
   "cell_type": "code",
   "execution_count": 17,
   "metadata": {},
   "outputs": [
    {
     "data": {
      "text/plain": [
       "<tf.Tensor 'Fill_8:0' shape=(3, 3) dtype=int32>"
      ]
     },
     "execution_count": 17,
     "metadata": {},
     "output_type": "execute_result"
    }
   ],
   "source": [
    "tf.fill([3,3],5) # 3행 3열 전부 5로채워\n"
   ]
  },
  {
   "cell_type": "code",
   "execution_count": 18,
   "metadata": {},
   "outputs": [
    {
     "data": {
      "text/plain": [
       "<tf.Tensor 'zeros_like:0' shape=(2, 3) dtype=int32>"
      ]
     },
     "execution_count": 18,
     "metadata": {},
     "output_type": "execute_result"
    }
   ],
   "source": [
    "tf.zeros_like([[3,4,5],[0,0,1]]) # 2행 3열에 모두 0이 채워진채로 배열생성"
   ]
  },
  {
   "cell_type": "code",
   "execution_count": 23,
   "metadata": {},
   "outputs": [
    {
     "data": {
      "text/plain": [
       "<tf.Tensor 'RandomShuffle_1:0' shape=(4,) dtype=int32>"
      ]
     },
     "execution_count": 23,
     "metadata": {},
     "output_type": "execute_result"
    }
   ],
   "source": [
    "# random 모듈\n",
    "tf.set_random_seed(777)\n",
    "tf.random.set_random_seed(777)\n",
    "# 동일 난수 생성 // weight, bias 동일값 생성위해 // 모델객관적 평가 가능 \n",
    "tf.random.shuffle([1,2,3,4])\n",
    "# tensorflow.org - API"
   ]
  },
  {
   "cell_type": "code",
   "execution_count": 32,
   "metadata": {},
   "outputs": [
    {
     "data": {
      "text/plain": [
       "<tf.Tensor 'transpose:0' shape=(2,) dtype=int32>"
      ]
     },
     "execution_count": 32,
     "metadata": {},
     "output_type": "execute_result"
    }
   ],
   "source": [
    "# 차원관련 함수 리스트 \n",
    "x=(3,2) # x가 1차원 벡터 => 3행2열 .. 전치행렬\n",
    "tf.transpose(x)"
   ]
  },
  {
   "cell_type": "code",
   "execution_count": 37,
   "metadata": {},
   "outputs": [
    {
     "name": "stdout",
     "output_type": "stream",
     "text": [
      "[[ 0  1  2  3]\n",
      " [ 4  5  6  7]\n",
      " [ 8  9 10 11]]\n",
      "[[0 1]\n",
      " [4 5]\n",
      " [8 9]]\n",
      "[[ 2  3]\n",
      " [ 6  7]\n",
      " [10 11]]\n"
     ]
    }
   ],
   "source": [
    "r0=tf.reshape(tf.range(12), (3,4))\n",
    "sess=tf.Session()\n",
    "sess.run(r0)\n",
    "r1=tf.slice(r0,[0,1],[2,3])\n",
    "# print(sess.run(r1))\n",
    "s1,s2=tf.split(r0,num_or_size_splits=2, axis=1) # 몇개로 분할할래 \n",
    "# print(s1,\n",
    "#       s2)\n",
    "print(sess.run(r0))\n",
    "print(sess.run(s1))\n",
    "print(sess.run(s2))"
   ]
  },
  {
   "cell_type": "code",
   "execution_count": 42,
   "metadata": {},
   "outputs": [
    {
     "name": "stdout",
     "output_type": "stream",
     "text": [
      "[2 3 4 5 6 7]\n",
      "[-2 -1  0  1  2  3]\n",
      "[ 0  2  4  6  8 10]\n",
      "[0.  0.5 1.  1.5 2.  2.5]\n"
     ]
    }
   ],
   "source": [
    "a=tf.range(6, dtype=tf.int32)\n",
    "b=2*tf.ones(6, dtype=tf.int32)\n",
    "# sess.run(a) # 내용보려면 sess 함수 이용해서 run 시켜야함\n",
    "# sess.run(b)\n",
    "\n",
    "# 사칙연산\n",
    "print(sess.run(tf.add(a,b)))\n",
    "print(sess.run(tf.subtract(a,b)))\n",
    "print(sess.run(tf.multiply(a,b)))\n",
    "print(sess.run(tf.divide(a,b)))\n"
   ]
  },
  {
   "cell_type": "code",
   "execution_count": 89,
   "metadata": {},
   "outputs": [],
   "source": [
    "# Computation\n",
    "\n",
    "# # 괄호안 숫자에 대해 절대값 구하는 함수 \n",
    "# tf.abs\n",
    "# # 제곱연산\n",
    "# tf.square\n",
    "# # 누적합\n",
    "# tf.cumsum()\n",
    "# # 제곱근\n",
    "# tf.sqrt\n",
    "# # 최대. 최소값 도출 \n",
    "# tf.maximum, minimum()\n",
    "\n",
    "# # axis 설정된 축 기준으로 평균 \n",
    "# tf.reduce_mean() \n",
    "# tf.reduce_sum() \n",
    "# tf.reduce_min() \n",
    "# tf.reduce_max() \n"
   ]
  },
  {
   "cell_type": "code",
   "execution_count": 92,
   "metadata": {},
   "outputs": [
    {
     "name": "stdout",
     "output_type": "stream",
     "text": [
      "[[0.5 0. ]\n",
      " [0.  1. ]]\n"
     ]
    }
   ],
   "source": [
    "x=tf.constant([[2,0],[0,1]], dtype=tf.float32)\n",
    "y=tf.constant([[1,1],[1,1]], dtype=tf.float32)\n",
    "z=tf.matmul(x,y) # 행렬간 곱셉 수행 함수 \n",
    "# sess.run(z)\n",
    "# 역행렬 (algbra)\n",
    "xinv=tf.linalg.inv(x)\n",
    "print(sess.run(xinv))"
   ]
  },
  {
   "cell_type": "code",
   "execution_count": 111,
   "metadata": {},
   "outputs": [
    {
     "name": "stdout",
     "output_type": "stream",
     "text": [
      "0 3.6894833e-06 [0.9977745] [0.00505906]\n",
      "20 3.6894833e-06 [0.9977745] [0.00505906]\n",
      "40 3.6894833e-06 [0.9977745] [0.00505906]\n",
      "60 3.6894833e-06 [0.9977745] [0.00505906]\n",
      "80 3.6894833e-06 [0.9977745] [0.00505906]\n",
      "100 3.6894833e-06 [0.9977745] [0.00505906]\n",
      "120 3.6894833e-06 [0.9977745] [0.00505906]\n",
      "140 3.6894833e-06 [0.9977745] [0.00505906]\n",
      "160 3.6894833e-06 [0.9977745] [0.00505906]\n",
      "180 3.6894833e-06 [0.9977745] [0.00505906]\n",
      "200 3.6894833e-06 [0.9977745] [0.00505906]\n",
      "220 3.6894833e-06 [0.9977745] [0.00505906]\n",
      "240 3.6894833e-06 [0.9977745] [0.00505906]\n",
      "260 3.6894833e-06 [0.9977745] [0.00505906]\n",
      "280 3.6894833e-06 [0.9977745] [0.00505906]\n",
      "300 3.6894833e-06 [0.9977745] [0.00505906]\n",
      "320 3.6894833e-06 [0.9977745] [0.00505906]\n",
      "340 3.6894833e-06 [0.9977745] [0.00505906]\n",
      "360 3.6894833e-06 [0.9977745] [0.00505906]\n",
      "380 3.6894833e-06 [0.9977745] [0.00505906]\n",
      "400 3.6894833e-06 [0.9977745] [0.00505906]\n",
      "420 3.6894833e-06 [0.9977745] [0.00505906]\n",
      "440 3.6894833e-06 [0.9977745] [0.00505906]\n",
      "460 3.6894833e-06 [0.9977745] [0.00505906]\n",
      "480 3.6894833e-06 [0.9977745] [0.00505906]\n",
      "500 3.6894833e-06 [0.9977745] [0.00505906]\n",
      "520 3.6894833e-06 [0.9977745] [0.00505906]\n",
      "540 3.6894833e-06 [0.9977745] [0.00505906]\n",
      "560 3.6894833e-06 [0.9977745] [0.00505906]\n",
      "580 3.6894833e-06 [0.9977745] [0.00505906]\n",
      "600 3.6894833e-06 [0.9977745] [0.00505906]\n",
      "620 3.6894833e-06 [0.9977745] [0.00505906]\n",
      "640 3.6894833e-06 [0.9977745] [0.00505906]\n",
      "660 3.6894833e-06 [0.9977745] [0.00505906]\n",
      "680 3.6894833e-06 [0.9977745] [0.00505906]\n",
      "700 3.6894833e-06 [0.9977745] [0.00505906]\n",
      "720 3.6894833e-06 [0.9977745] [0.00505906]\n",
      "740 3.6894833e-06 [0.9977745] [0.00505906]\n",
      "760 3.6894833e-06 [0.9977745] [0.00505906]\n",
      "780 3.6894833e-06 [0.9977745] [0.00505906]\n",
      "800 3.6894833e-06 [0.9977745] [0.00505906]\n",
      "820 3.6894833e-06 [0.9977745] [0.00505906]\n",
      "840 3.6894833e-06 [0.9977745] [0.00505906]\n",
      "860 3.6894833e-06 [0.9977745] [0.00505906]\n",
      "880 3.6894833e-06 [0.9977745] [0.00505906]\n",
      "900 3.6894833e-06 [0.9977745] [0.00505906]\n",
      "920 3.6894833e-06 [0.9977745] [0.00505906]\n",
      "940 3.6894833e-06 [0.9977745] [0.00505906]\n",
      "960 3.6894833e-06 [0.9977745] [0.00505906]\n",
      "980 3.6894833e-06 [0.9977745] [0.00505906]\n",
      "1000 3.6894833e-06 [0.9977745] [0.00505906]\n",
      "1020 3.6894833e-06 [0.9977745] [0.00505906]\n",
      "1040 3.6894833e-06 [0.9977745] [0.00505906]\n",
      "1060 3.6894833e-06 [0.9977745] [0.00505906]\n",
      "1080 3.6894833e-06 [0.9977745] [0.00505906]\n",
      "1100 3.6894833e-06 [0.9977745] [0.00505906]\n",
      "1120 3.6894833e-06 [0.9977745] [0.00505906]\n",
      "1140 3.6894833e-06 [0.9977745] [0.00505906]\n",
      "1160 3.6894833e-06 [0.9977745] [0.00505906]\n",
      "1180 3.6894833e-06 [0.9977745] [0.00505906]\n",
      "1200 3.6894833e-06 [0.9977745] [0.00505906]\n",
      "1220 3.6894833e-06 [0.9977745] [0.00505906]\n",
      "1240 3.6894833e-06 [0.9977745] [0.00505906]\n",
      "1260 3.6894833e-06 [0.9977745] [0.00505906]\n",
      "1280 3.6894833e-06 [0.9977745] [0.00505906]\n",
      "1300 3.6894833e-06 [0.9977745] [0.00505906]\n",
      "1320 3.6894833e-06 [0.9977745] [0.00505906]\n",
      "1340 3.6894833e-06 [0.9977745] [0.00505906]\n",
      "1360 3.6894833e-06 [0.9977745] [0.00505906]\n",
      "1380 3.6894833e-06 [0.9977745] [0.00505906]\n",
      "1400 3.6894833e-06 [0.9977745] [0.00505906]\n",
      "1420 3.6894833e-06 [0.9977745] [0.00505906]\n",
      "1440 3.6894833e-06 [0.9977745] [0.00505906]\n",
      "1460 3.6894833e-06 [0.9977745] [0.00505906]\n",
      "1480 3.6894833e-06 [0.9977745] [0.00505906]\n",
      "1500 3.6894833e-06 [0.9977745] [0.00505906]\n",
      "1520 3.6894833e-06 [0.9977745] [0.00505906]\n",
      "1540 3.6894833e-06 [0.9977745] [0.00505906]\n",
      "1560 3.6894833e-06 [0.9977745] [0.00505906]\n",
      "1580 3.6894833e-06 [0.9977745] [0.00505906]\n",
      "1600 3.6894833e-06 [0.9977745] [0.00505906]\n",
      "1620 3.6894833e-06 [0.9977745] [0.00505906]\n",
      "1640 3.6894833e-06 [0.9977745] [0.00505906]\n",
      "1660 3.6894833e-06 [0.9977745] [0.00505906]\n",
      "1680 3.6894833e-06 [0.9977745] [0.00505906]\n",
      "1700 3.6894833e-06 [0.9977745] [0.00505906]\n",
      "1720 3.6894833e-06 [0.9977745] [0.00505906]\n",
      "1740 3.6894833e-06 [0.9977745] [0.00505906]\n",
      "1760 3.6894833e-06 [0.9977745] [0.00505906]\n",
      "1780 3.6894833e-06 [0.9977745] [0.00505906]\n",
      "1800 3.6894833e-06 [0.9977745] [0.00505906]\n",
      "1820 3.6894833e-06 [0.9977745] [0.00505906]\n",
      "1840 3.6894833e-06 [0.9977745] [0.00505906]\n",
      "1860 3.6894833e-06 [0.9977745] [0.00505906]\n",
      "1880 3.6894833e-06 [0.9977745] [0.00505906]\n",
      "1900 3.6894833e-06 [0.9977745] [0.00505906]\n",
      "1920 3.6894833e-06 [0.9977745] [0.00505906]\n",
      "1940 3.6894833e-06 [0.9977745] [0.00505906]\n",
      "1960 3.6894833e-06 [0.9977745] [0.00505906]\n",
      "1980 3.6894833e-06 [0.9977745] [0.00505906]\n",
      "2000 3.6894833e-06 [0.9977745] [0.00505906]\n"
     ]
    },
    {
     "data": {
      "text/plain": [
       "\"\\nprint('step : 1')\\n# x=1, y=1\\n# -0.04*1 + 1.059 = > 1.019\\nprint('w=', sess.run(w)) # => error\\nprint('b=', sess.run(b))\\nprint('cost=', sess.run(cost))\\nsess.run(train) # gradient model 생성 핵심문 [갱신 issue 다룬다]\\n\\n# session 객체 통해 변수 초기화 과정 필요! \\n# 모델과 실제값 사이의 오차 줄이자!! \\n\\nprint('step : 2')\\nprint('w=', sess.run(w)) # => error\\nprint('b=', sess.run(b))\\nprint('cost=', sess.run(cost))\\nsess.run(train)\\n\\nprint('step : 3')\\nprint('w=', sess.run(w)) # => error\\nprint('b=', sess.run(b))\\nprint('cost=', sess.run(cost))\\nsess.run(train)\\n\\nprint('step : 4')\\nprint('w=', sess.run(w)) # => error\\nprint('b=', sess.run(b))\\nprint('cost=', sess.run(cost))\\nsess.run(train)\\n\\n# 해석 아래서 부터 위로 쭉 올라가면서 해석한다  \\n\""
      ]
     },
     "execution_count": 111,
     "metadata": {},
     "output_type": "execute_result"
    }
   ],
   "source": [
    "# tf.nn.sigmoid() # 로지스틱함수\n",
    "\n",
    "# 회귀모델 (예측)\n",
    "# 단순회귀모델 (hf=wx+b)\n",
    "# hf = 우리의 예측값\n",
    "# hf <-> ytrain 오차 존재 \n",
    "xtrain = [1,2,3] # x ( 실제 입력 데이터값 )\n",
    "ytrain = [1,2,3] # hf ( 실제 결과값 ) // 출력 결과값\n",
    "b = tf.Variable(tf.random_normal([1]))  # 가변값 \n",
    "w = tf.Variable(tf.random_normal([1]))\n",
    "# 상수 직접입력하여 초기값 설정가능하다 or Random값 줘도 가능 \n",
    "# random_normal : normal distribution ( 정규화 )\n",
    "# 모델만든다 => w, b 를 찾겠다 // 초기값주지않는다 ? \n",
    "\n",
    "# 우리의 모델 \n",
    "hf = xtrain*w+b\n",
    "cost=tf.reduce_mean(tf.square(hf-ytrain)) # 차원이 줄여진다 \n",
    "# reduce 명명 이유 - ex) 2차원 -> 1 차원 // 1차원-> 0 차원 \n",
    "# cost=tf.reduce_mean(tf.square(hf - ytrain))\n",
    "\n",
    "# algorithm : 문제를 해결하기위한 효과적인 방법\n",
    "# gradient.descent = (경사를 따라서 아래쪽으로 내려가는 optimizer 알고리즘 )\n",
    "opt=tf.train.GradientDescentOptimizer(0.01) # 어떻게 내려가야 가장 효과적으로 값을 찾아내느냐\n",
    "train=opt.minimize(cost) # 최소화(minimize) = TrainNode\n",
    "# cost에 대해서 minimize한다  \n",
    "\n",
    "# train=tf.train.GradientDescentOptimizer(0.01).minimize()\n",
    "# cost 를 최소화하는 w, b를 찾겠다 \n",
    "\n",
    "############# Graph Definition Part ####################\n",
    "\n",
    "############### Graph Excuting Part ####################\n",
    "# ART 비교사학습 알고리즘 \n",
    "sess=tf.Session()\n",
    "sess.run(tf.global_variables_initializer()) # 임의의 난수 생성 # 변수 초기화 \n",
    "\n",
    "# 트레이닝 ( 머신러닝 )\n",
    "# for step in range(2001):\n",
    "#     print('step : ', step)\n",
    "#     print('w=', sess.run(w)) # => error\n",
    "#     print('b=', sess.run(b))\n",
    "#     print('cost=', sess.run(cost))\n",
    "#     sess.run(train) # gradient model 생성 핵심문 [갱신 issue 다룬다]\n",
    "\n",
    "for step in range(2001):\n",
    "    sess.run(train)\n",
    "    if step % 20==0:\n",
    "        print(step, cv, wv, bv)\n",
    "'''\n",
    "print('step : 1')\n",
    "# x=1, y=1\n",
    "# -0.04*1 + 1.059 = > 1.019\n",
    "print('w=', sess.run(w)) # => error\n",
    "print('b=', sess.run(b))\n",
    "print('cost=', sess.run(cost))\n",
    "sess.run(train) # gradient model 생성 핵심문 [갱신 issue 다룬다]\n",
    "\n",
    "# session 객체 통해 변수 초기화 과정 필요! \n",
    "# 모델과 실제값 사이의 오차 줄이자!! \n",
    "\n",
    "print('step : 2')\n",
    "print('w=', sess.run(w)) # => error\n",
    "print('b=', sess.run(b))\n",
    "print('cost=', sess.run(cost))\n",
    "sess.run(train)\n",
    "\n",
    "print('step : 3')\n",
    "print('w=', sess.run(w)) # => error\n",
    "print('b=', sess.run(b))\n",
    "print('cost=', sess.run(cost))\n",
    "sess.run(train)\n",
    "\n",
    "print('step : 4')\n",
    "print('w=', sess.run(w)) # => error\n",
    "print('b=', sess.run(b))\n",
    "print('cost=', sess.run(cost))\n",
    "sess.run(train)\n",
    "\n",
    "# 해석 아래서 부터 위로 쭉 올라가면서 해석한다  \n",
    "'''"
   ]
  },
  {
   "cell_type": "code",
   "execution_count": 121,
   "metadata": {},
   "outputs": [
    {
     "name": "stdout",
     "output_type": "stream",
     "text": [
      "0 6.430762 [-0.07369778] [0.06876893]\n",
      "20 0.08494538 [0.7266923] [0.39543262]\n",
      "40 0.024964632 [0.8109446] [0.40826118]\n",
      "60 0.022200124 [0.8266289] [0.39206547]\n",
      "80 0.020158226 [0.8354241] [0.37392455]\n",
      "100 0.018307976 [0.8432203] [0.35637853]\n",
      "120 0.016627586 [0.8505943] [0.3396326]\n",
      "140 0.015101447 [0.8576163] [0.32367134]\n",
      "160 0.013715359 [0.8643079] [0.30846003]\n",
      "180 0.0124565335 [0.87068486] [0.29396358]\n",
      "200 0.011313215 [0.8767622] [0.28014836]\n",
      "220 0.010274858 [0.882554] [0.26698247]\n",
      "240 0.009331778 [0.88807356] [0.2544352]\n",
      "260 0.00847527 [0.8933337] [0.24247767]\n",
      "280 0.0076973755 [0.8983466] [0.23108208]\n",
      "300 0.0069908784 [0.9031239] [0.22022207]\n",
      "320 0.006349229 [0.90767676] [0.20987245]\n",
      "340 0.005766474 [0.9120156] [0.20000923]\n",
      "360 0.0052371942 [0.9161505] [0.19060954]\n",
      "380 0.0047565135 [0.92009115] [0.18165162]\n",
      "400 0.004319945 [0.9238466] [0.17311466]\n",
      "420 0.0039234417 [0.92742544] [0.16497888]\n",
      "440 0.0035633247 [0.93083626] [0.1572255]\n",
      "460 0.003236274 [0.9340867] [0.14983647]\n",
      "480 0.0029392305 [0.93718433] [0.14279474]\n",
      "500 0.0026694632 [0.94013643] [0.13608395]\n",
      "520 0.0024244466 [0.94294983] [0.12968849]\n",
      "540 0.002201922 [0.94563097] [0.12359358]\n",
      "560 0.0019998197 [0.9481861] [0.11778515]\n",
      "580 0.001816267 [0.95062125] [0.11224964]\n",
      "600 0.001649558 [0.95294183] [0.1069743]\n",
      "620 0.001498157 [0.95515335] [0.1019469]\n",
      "640 0.0013606563 [0.95726097] [0.09715579]\n",
      "660 0.0012357662 [0.95926964] [0.09258983]\n",
      "680 0.0011223425 [0.9611838] [0.0882384]\n",
      "700 0.0010193288 [0.963008] [0.08409151]\n",
      "720 0.00092577195 [0.9647465] [0.08013953]\n",
      "740 0.0008408003 [0.96640325] [0.07637329]\n",
      "760 0.00076362846 [0.9679822] [0.07278402]\n",
      "780 0.000693539 [0.96948695] [0.06936343]\n",
      "800 0.00062988297 [0.970921] [0.06610356]\n",
      "820 0.00057207095 [0.97228754] [0.06299692]\n",
      "840 0.0005195645 [0.9735899] [0.06003631]\n",
      "860 0.0004718754 [0.9748311] [0.05721484]\n",
      "880 0.00042856555 [0.97601396] [0.05452594]\n",
      "900 0.00038922808 [0.9771412] [0.05196342]\n",
      "920 0.00035350653 [0.97821546] [0.04952134]\n",
      "940 0.00032105856 [0.97923917] [0.04719403]\n",
      "960 0.00029159224 [0.980215] [0.04497612]\n",
      "980 0.0002648268 [0.9811448] [0.04286238]\n",
      "1000 0.00024051782 [0.98203087] [0.04084799]\n",
      "1020 0.00021844286 [0.98287535] [0.03892828]\n",
      "1040 0.00019839464 [0.9836802] [0.03709881]\n",
      "1060 0.00018018553 [0.9844471] [0.0353553]\n",
      "1080 0.00016364777 [0.9851781] [0.03369375]\n",
      "1100 0.00014862597 [0.98587465] [0.03211024]\n",
      "1120 0.00013498399 [0.98653847] [0.03060118]\n",
      "1140 0.00012259651 [0.9871711] [0.02916306]\n",
      "1160 0.00011134483 [0.98777395] [0.02779252]\n",
      "1180 0.00010112306 [0.98834854] [0.0264864]\n",
      "1200 9.184368e-05 [0.98889613] [0.02524165]\n",
      "1220 8.341317e-05 [0.9894179] [0.02405543]\n",
      "1240 7.575645e-05 [0.9899154] [0.02292488]\n",
      "1260 6.880256e-05 [0.9903892] [0.02184743]\n",
      "1280 6.2488325e-05 [0.990841] [0.02082066]\n",
      "1300 5.675289e-05 [0.99127144] [0.01984214]\n",
      "1320 5.1542997e-05 [0.99168164] [0.01890963]\n",
      "1340 4.681318e-05 [0.9920726] [0.01802094]\n",
      "1360 4.25157e-05 [0.9924451] [0.01717401]\n",
      "1380 3.8613645e-05 [0.9928002] [0.01636692]\n",
      "1400 3.5070636e-05 [0.9931385] [0.01559773]\n",
      "1420 3.185165e-05 [0.993461] [0.0148647]\n",
      "1440 2.8927716e-05 [0.99376833] [0.0141661]\n",
      "1460 2.6272135e-05 [0.9940612] [0.01350033]\n",
      "1480 2.3860915e-05 [0.9943403] [0.01286585]\n",
      "1500 2.167125e-05 [0.9946063] [0.01226119]\n",
      "1520 1.9682151e-05 [0.9948597] [0.01168499]\n",
      "1540 1.7875474e-05 [0.9951013] [0.01113588]\n",
      "1560 1.6234995e-05 [0.9953316] [0.01061253]\n",
      "1580 1.4744653e-05 [0.99555093] [0.01011377]\n",
      "1600 1.3391572e-05 [0.99576] [0.00963846]\n",
      "1620 1.2162066e-05 [0.9959593] [0.00918549]\n",
      "1640 1.1046023e-05 [0.9961492] [0.0087538]\n",
      "1660 1.0031948e-05 [0.99633014] [0.00834241]\n",
      "1680 9.111423e-06 [0.99650264] [0.00795034]\n",
      "1700 8.274736e-06 [0.99666697] [0.00757671]\n",
      "1720 7.515792e-06 [0.99682367] [0.00722062]\n",
      "1740 6.825498e-06 [0.9969729] [0.00688128]\n",
      "1760 6.1995465e-06 [0.99711514] [0.0065579]\n",
      "1780 5.630427e-06 [0.99725074] [0.00624971]\n",
      "1800 5.1134593e-06 [0.99737996] [0.00595598]\n",
      "1820 4.644214e-06 [0.99750304] [0.00567608]\n",
      "1840 4.218001e-06 [0.9976204] [0.00540934]\n",
      "1860 3.8308367e-06 [0.9977323] [0.00515512]\n",
      "1880 3.4791938e-06 [0.9978388] [0.00491286]\n",
      "1900 3.1597635e-06 [0.99794036] [0.00468199]\n",
      "1920 2.8699976e-06 [0.99803716] [0.00446196]\n",
      "1940 2.60648e-06 [0.9981294] [0.00425228]\n",
      "1960 2.367412e-06 [0.9982173] [0.00405245]\n",
      "1980 2.150068e-06 [0.9983011] [0.00386201]\n",
      "2000 1.9527456e-06 [0.99838096] [0.0036805]\n"
     ]
    }
   ],
   "source": [
    "# placeholder 사용한 학습\n",
    "xtrain=[1,2,3]\n",
    "ytrain=[1,2,3]\n",
    "w = tf.Variable(tf.random_normal([1]), name='weight')\n",
    "b = tf.Variable(tf.random_normal([1]), name='bias')\n",
    "\n",
    "x = tf.placeholder(tf.float32, shape=[None]) \n",
    "y = tf.placeholder(tf.float32, shape=[None]) \n",
    "hf = x*w+b # matrix multiplier \n",
    "\n",
    "cost=tf.reduce_mean(tf.square(hf-y))\n",
    "# sess.run(cost)\n",
    "opt=tf.train.GradientDescentOptimizer(0.01) # 어떻게 내려가야 가장 효과적으로 값을 찾아내느냐\n",
    "train=opt.minimize(cost) # 최소화(minimize) = TrainNode\n",
    "\n",
    "sess = tf.Session()\n",
    "sess.run(tf.global_variables_initializer())\n",
    "\n",
    "for step in range(2001):\n",
    "    cv, wv, bv, _ =sess.run([cost,w,b,train], feed_dict={x:[1,2,3],y:[1,2,3]}) \n",
    "    if step%20 == 0 :\n",
    "        print(step, cv, wv, bv)\n",
    "    # 변수는 keyvalue 로 구분해! # _ : 무시요소 "
   ]
  },
  {
   "cell_type": "code",
   "execution_count": 28,
   "metadata": {},
   "outputs": [
    {
     "data": {
      "image/png": "[encoded data removed]",
      "text/plain": [
       "<Figure size 432x288 with 1 Axes>"
      ]
     },
     "metadata": {
      "needs_background": "light"
     },
     "output_type": "display_data"
    }
   ],
   "source": [
    "import matplotlib.pyplot as plt\n",
    "xtrain = [1,2,3] # x ( 실제 입력 데이터값 )\n",
    "ytrain = [1,2,3] # hf ( 실제 결과값 ) // 출력 결과값\n",
    "\n",
    "w = tf.placeholder(tf.float32)\n",
    "hf = xtrain*w\n",
    "cost = tf.reduce_mean(tf.square(hf-ytrain)) # 차원이 줄여진다 \n",
    "\n",
    "sess=tf.Session() # 세션생성 \n",
    "sess.run(tf.global_variables_initializer()) # 임의의 난수 생성 # 변수 초기화 \n",
    "wvList = []\n",
    "cvList = []\n",
    "\n",
    "for step in range(-50,50):\n",
    "    fw=step*0.1\n",
    "    cv, wv = sess.run([cost, w], feed_dict={w:fw})\n",
    "    wvList.append(wv)\n",
    "    cvList.append(cv)\n",
    "plt.plot(wvList, cvList)\n",
    "plt.show()\n",
    "\n",
    "if step % 20==0:\n",
    "    print(step, sess.run(cost), sess.run(w))"
   ]
  },
  {
   "cell_type": "code",
   "execution_count": 100,
   "metadata": {},
   "outputs": [
    {
     "name": "stdout",
     "output_type": "stream",
     "text": [
      "w:[100.] b:[-0.30000022] loss:303410.75\n",
      "w:[100.] b:[-0.3000044] loss:303410.75\n",
      "w:[100.] b:[-0.30000857] loss:303410.75\n",
      "w:[100.] b:[-0.30001274] loss:303410.75\n",
      "w:[100.] b:[-0.3000169] loss:303410.75\n",
      "w:[100.] b:[-0.30002108] loss:303410.75\n",
      "w:[100.] b:[-0.30002525] loss:303410.75\n",
      "w:[100.] b:[-0.30002943] loss:303410.72\n",
      "w:[100.] b:[-0.3000336] loss:303410.7\n",
      "w:[100.] b:[-0.30003777] loss:303410.7\n",
      "w:[100.] b:[-0.30004194] loss:303410.66\n",
      "w:[100.] b:[-0.30004612] loss:303410.66\n",
      "w:[100.] b:[-0.3000503] loss:303410.66\n",
      "w:[100.] b:[-0.30005446] loss:303410.66\n",
      "w:[100.] b:[-0.30005863] loss:303410.66\n",
      "w:[100.] b:[-0.3000628] loss:303410.66\n",
      "w:[100.] b:[-0.30006698] loss:303410.62\n",
      "w:[100.] b:[-0.30007115] loss:303410.6\n",
      "w:[100.] b:[-0.30007532] loss:303410.6\n",
      "w:[100.] b:[-0.3000795] loss:303410.6\n",
      "w:[100.] b:[-0.30008367] loss:303410.6\n",
      "w:[100.] b:[-0.30008784] loss:303410.6\n",
      "w:[100.] b:[-0.300092] loss:303410.6\n",
      "w:[100.] b:[-0.30009618] loss:303410.56\n",
      "w:[100.] b:[-0.30010036] loss:303410.56\n",
      "w:[100.] b:[-0.30010453] loss:303410.56\n",
      "w:[100.] b:[-0.3001087] loss:303410.56\n",
      "w:[100.] b:[-0.30011287] loss:303410.56\n",
      "w:[100.] b:[-0.30011705] loss:303410.53\n",
      "w:[100.] b:[-0.30012122] loss:303410.53\n",
      "w:[100.] b:[-0.3001254] loss:303410.5\n",
      "w:[100.] b:[-0.30012956] loss:303410.5\n",
      "w:[100.] b:[-0.30013373] loss:303410.47\n",
      "w:[100.] b:[-0.3001379] loss:303410.47\n",
      "w:[100.] b:[-0.30014208] loss:303410.47\n",
      "w:[100.] b:[-0.30014625] loss:303410.47\n",
      "w:[100.] b:[-0.30015042] loss:303410.44\n",
      "w:[100.] b:[-0.3001546] loss:303410.44\n",
      "w:[100.] b:[-0.30015877] loss:303410.44\n",
      "w:[100.] b:[-0.30016294] loss:303410.44\n",
      "w:[100.] b:[-0.3001671] loss:303410.44\n",
      "w:[100.] b:[-0.3001713] loss:303410.44\n",
      "w:[100.] b:[-0.30017546] loss:303410.44\n",
      "w:[100.] b:[-0.30017963] loss:303410.4\n",
      "w:[100.] b:[-0.3001838] loss:303410.4\n",
      "w:[100.] b:[-0.30018798] loss:303410.38\n",
      "w:[100.] b:[-0.30019215] loss:303410.38\n",
      "w:[100.] b:[-0.30019632] loss:303410.34\n",
      "w:[100.] b:[-0.3002005] loss:303410.34\n",
      "w:[100.] b:[-0.30020466] loss:303410.34\n",
      "w:[100.] b:[-0.30020884] loss:303410.34\n",
      "w:[100.] b:[-0.300213] loss:303410.34\n",
      "w:[100.] b:[-0.30021718] loss:303410.3\n",
      "w:[100.] b:[-0.30022135] loss:303410.3\n",
      "w:[100.] b:[-0.30022553] loss:303410.3\n",
      "w:[100.] b:[-0.3002297] loss:303410.3\n",
      "w:[100.] b:[-0.30023387] loss:303410.3\n",
      "w:[100.] b:[-0.30023804] loss:303410.3\n",
      "w:[100.] b:[-0.30024222] loss:303410.3\n",
      "w:[100.] b:[-0.3002464] loss:303410.3\n",
      "w:[100.] b:[-0.30025056] loss:303410.25\n",
      "w:[100.] b:[-0.30025473] loss:303410.25\n",
      "w:[100.] b:[-0.3002589] loss:303410.25\n",
      "w:[100.] b:[-0.30026308] loss:303410.25\n",
      "w:[100.] b:[-0.30026725] loss:303410.25\n",
      "w:[100.] b:[-0.30027142] loss:303410.25\n",
      "w:[100.] b:[-0.3002756] loss:303410.25\n",
      "w:[100.] b:[-0.30027977] loss:303410.2\n",
      "w:[100.] b:[-0.30028394] loss:303410.2\n",
      "w:[100.] b:[-0.3002881] loss:303410.2\n",
      "w:[100.] b:[-0.30029228] loss:303410.16\n",
      "w:[100.] b:[-0.30029646] loss:303410.16\n",
      "w:[100.] b:[-0.30030063] loss:303410.16\n",
      "w:[100.] b:[-0.3003048] loss:303410.16\n",
      "w:[100.] b:[-0.30030897] loss:303410.12\n",
      "w:[100.] b:[-0.30031314] loss:303410.12\n",
      "w:[100.] b:[-0.30031732] loss:303410.12\n",
      "w:[100.] b:[-0.3003215] loss:303410.12\n",
      "w:[100.] b:[-0.30032566] loss:303410.12\n",
      "w:[100.] b:[-0.30032983] loss:303410.12\n",
      "w:[100.] b:[-0.300334] loss:303410.12\n",
      "w:[100.] b:[-0.30033818] loss:303410.12\n",
      "w:[100.] b:[-0.30034235] loss:303410.06\n",
      "w:[100.] b:[-0.30034652] loss:303410.06\n",
      "w:[100.] b:[-0.3003507] loss:303410.06\n",
      "w:[100.] b:[-0.30035487] loss:303410.06\n",
      "w:[100.] b:[-0.30035904] loss:303410.06\n",
      "w:[100.] b:[-0.3003632] loss:303410.03\n",
      "w:[100.] b:[-0.3003674] loss:303410.03\n",
      "w:[100.] b:[-0.30037156] loss:303410.0\n",
      "w:[100.] b:[-0.30037573] loss:303410.0\n",
      "w:[100.] b:[-0.3003799] loss:303410.0\n",
      "w:[100.] b:[-0.30038407] loss:303410.0\n",
      "w:[100.] b:[-0.30038825] loss:303410.0\n",
      "w:[100.] b:[-0.30039242] loss:303410.0\n",
      "w:[100.] b:[-0.3003966] loss:303410.0\n",
      "w:[100.] b:[-0.30040076] loss:303409.94\n",
      "w:[100.] b:[-0.30040494] loss:303409.94\n",
      "w:[100.] b:[-0.3004091] loss:303409.94\n",
      "w:[100.] b:[-0.30041328] loss:303409.94\n",
      "w:[100.] b:[-0.30041745] loss:303409.94\n"
     ]
    }
   ],
   "source": [
    "x = tf.placeholder(tf.float32) # x ( 실제 입력 데이터값 )\n",
    "y = tf.placeholder(tf.float32) # hf ( 실제 결과값 ) // 출력 결과값\n",
    "b = tf.Variable([-.3], tf.float32)\n",
    "w = tf.Variable([100.], tf.float32)\n",
    "\n",
    "hf = x * w+ b\n",
    "loss = tf.reduce_sum(tf.square(hf-y)) # 차원이 줄여진다  # reduce_mean과 같아 \n",
    "\n",
    "train=tf.train.GradientDescentOptimizer(1e-10).minimize(loss)\n",
    "xtrain=[1,2,3,4]\n",
    "ytrain=[0,-1,-2,-3]\n",
    "\n",
    "sess=tf.Session() # 세션생성 \n",
    "sess.run(tf.global_variables_initializer()) # 임의의 난수 생성 # 변수 초기화 \n",
    "\n",
    "for step in range(2001):\n",
    "    sess.run(train, feed_dict={x:xtrain, y:ytrain})\n",
    "    if step % 20 == 0 :\n",
    "        wv,bv,lv = sess.run([w,b,loss], feed_dict= {x:xtrain, y:ytrain})\n",
    "        print('w:%s b:%s loss:%s' % (wv, bv, lv))\n"
   ]
  },
  {
   "cell_type": "code",
   "execution_count": null,
   "metadata": {},
   "outputs": [],
   "source": []
  },
  {
   "cell_type": "code",
   "execution_count": 102,
   "metadata": {},
   "outputs": [
    {
     "name": "stdout",
     "output_type": "stream",
     "text": [
      "0 33.032196\n",
      "1 30.031977\n",
      "2 27.305252\n",
      "3 24.827078\n",
      "4 22.5748\n",
      "5 20.52783\n",
      "6 18.667458\n",
      "7 16.976671\n",
      "8 15.440003\n",
      "9 14.043416\n",
      "10 12.774129\n",
      "11 11.620548\n",
      "12 10.572125\n",
      "13 9.619267\n",
      "14 8.753268\n",
      "15 7.966211\n",
      "16 7.250899\n",
      "17 6.600792\n",
      "18 6.0099435\n",
      "19 5.472954\n"
     ]
    }
   ],
   "source": [
    "xtrain = [1,2,3]\n",
    "ytrain = [2,4,7]\n",
    "w = tf.Variable(5.0)\n",
    "x = tf.placeholder(tf.float32)\n",
    "y = tf.placeholder(tf.float32)\n",
    "\n",
    "hf = x*w\n",
    "cost = tf.reduce_mean(tf.square(hf-y))\n",
    "\n",
    "lr = 0.01\n",
    "gradient = tf.reduce_mean((w*x-y)*x)\n",
    "descent = w-lr*gradient\n",
    "update = w.assign(descent)\n",
    "\n",
    "sess=tf.Session()\n",
    "sess.run(tf.global_variables_initializer())\n",
    "\n",
    "for step in range(20):\n",
    "    sess.run(update, feed_dict = {x:xtrain, y:ytrain})\n",
    "    print(step, sess.run(cost, feed_dict={x:xtrain, y:ytrain}))"
   ]
  },
  {
   "cell_type": "code",
   "execution_count": null,
   "metadata": {},
   "outputs": [],
   "source": []
  },
  {
   "cell_type": "code",
   "execution_count": 52,
   "metadata": {},
   "outputs": [
    {
     "data": {
      "text/plain": [
       "<function matplotlib.pyplot.legend(*args, **kwargs)>"
      ]
     },
     "execution_count": 52,
     "metadata": {},
     "output_type": "execute_result"
    },
    {
     "data": {
      "image/png": "[encoded data removed]",
      "text/plain": [
       "<Figure size 432x288 with 1 Axes>"
      ]
     },
     "metadata": {
      "needs_background": "light"
     },
     "output_type": "display_data"
    }
   ],
   "source": [
    "# 학습데이터 랜덤으로 만들고 이를 기반으로 회귀 시각화통해 데이터 분석 ㄱ\n",
    "import numpy as np\n",
    "num_points = 200\n",
    "vectors_set = []\n",
    "for i in range(num_points) :\n",
    "    x = np.random.normal(5, 5) + 15\n",
    "    y = x*1000 + np.random.normal(0.3)*1000 # 기울기 1000 \n",
    "    vectors_set.append([x,y])\n",
    "xdata = [v[0] for v in vectors_set]\n",
    "ydata = [v[1] for v in vectors_set]\n",
    "plt.plot(xdata,ydata,'ro')\n",
    "plt.xlabel('x')\n",
    "plt.ylabel('y')\n",
    "plt.xlim([0,40])\n",
    "plt.ylim([0,40000])\n",
    "plt.legend # 범례 넣기 함수 \n",
    "# vectors_set\n"
   ]
  },
  {
   "cell_type": "code",
   "execution_count": 106,
   "metadata": {},
   "outputs": [
    {
     "name": "stderr",
     "output_type": "stream",
     "text": [
      "WARNING: Logging before flag parsing goes to stderr.\n",
      "W0729 17:34:00.614617 13664 deprecation.py:323] From C:\\Users\\user\\Anaconda3\\lib\\site-packages\\tensorflow\\python\\util\\tf_should_use.py:193: initialize_all_variables (from tensorflow.python.ops.variables) is deprecated and will be removed after 2017-03-02.\n",
      "Instructions for updating:\n",
      "Use `tf.global_variables_initializer` instead.\n"
     ]
    }
   ],
   "source": [
    "w=tf.Variable(tf.random_uniform([1], -1.0, 1.0))\n",
    "b=tf.Variable(tf.zeros([1]))\n",
    "y=w*xdata+b\n",
    "loss=tf.reduce_mean(tf.square(y-ydata))\n",
    "train=tf.train.GradientDescentOptimizer(1).minimize(loss)\n",
    "sess.run(tf.initialize_all_variables())\n",
    "\n"
   ]
  },
  {
   "cell_type": "code",
   "execution_count": 107,
   "metadata": {},
   "outputs": [
    {
     "name": "stdout",
     "output_type": "stream",
     "text": [
      "0 [845833.1] [40140.477]\n",
      "0 298508680000000.0\n"
     ]
    },
    {
     "data": {
      "image/png": "[encoded data removed]",
      "text/plain": [
       "<Figure size 432x288 with 1 Axes>"
      ]
     },
     "metadata": {
      "needs_background": "light"
     },
     "output_type": "display_data"
    },
    {
     "name": "stdout",
     "output_type": "stream",
     "text": [
      "1 [-7.0425e+08] [-33350480.]\n",
      "1 2.0743404e+20\n"
     ]
    },
    {
     "data": {
      "image/png": "[encoded data removed]",
      "text/plain": [
       "<Figure size 432x288 with 1 Axes>"
      ]
     },
     "metadata": {
      "needs_background": "light"
     },
     "output_type": "display_data"
    },
    {
     "name": "stdout",
     "output_type": "stream",
     "text": [
      "2 [5.8706874e+11] [2.7801375e+10]\n",
      "2 1.44146105e+26\n"
     ]
    },
    {
     "data": {
      "image/png": "[encoded data removed]",
      "text/plain": [
       "<Figure size 432x288 with 1 Axes>"
      ]
     },
     "metadata": {
      "needs_background": "light"
     },
     "output_type": "display_data"
    },
    {
     "name": "stdout",
     "output_type": "stream",
     "text": [
      "3 [-4.8938478e+14] [-2.3175428e+13]\n",
      "3 1.0016731e+32\n"
     ]
    },
    {
     "data": {
      "image/png": "[encoded data removed]",
      "text/plain": [
       "<Figure size 432x288 with 1 Axes>"
      ]
     },
     "metadata": {
      "needs_background": "light"
     },
     "output_type": "display_data"
    },
    {
     "name": "stdout",
     "output_type": "stream",
     "text": [
      "4 [4.0795472e+17] [1.9319205e+16]\n",
      "4 inf\n"
     ]
    },
    {
     "data": {
      "image/png": "[encoded data removed]",
      "text/plain": [
       "<Figure size 432x288 with 1 Axes>"
      ]
     },
     "metadata": {
      "needs_background": "light"
     },
     "output_type": "display_data"
    },
    {
     "name": "stdout",
     "output_type": "stream",
     "text": [
      "5 [-3.4007402e+20] [-1.6104629e+19]\n",
      "5 inf\n"
     ]
    },
    {
     "data": {
      "image/png": "[encoded data removed]",
      "text/plain": [
       "<Figure size 432x288 with 1 Axes>"
      ]
     },
     "metadata": {
      "needs_background": "light"
     },
     "output_type": "display_data"
    },
    {
     "name": "stdout",
     "output_type": "stream",
     "text": [
      "6 [2.834882e+23] [1.3424938e+22]\n",
      "6 inf\n"
     ]
    },
    {
     "data": {
      "image/png": "[encoded data removed]",
      "text/plain": [
       "<Figure size 432x288 with 1 Axes>"
      ]
     },
     "metadata": {
      "needs_background": "light"
     },
     "output_type": "display_data"
    },
    {
     "name": "stdout",
     "output_type": "stream",
     "text": [
      "7 [-2.3631784e+26] [-1.1191125e+25]\n",
      "7 inf\n"
     ]
    },
    {
     "data": {
      "image/png": "[encoded data removed]",
      "text/plain": [
       "<Figure size 432x288 with 1 Axes>"
      ]
     },
     "metadata": {
      "needs_background": "light"
     },
     "output_type": "display_data"
    },
    {
     "name": "stdout",
     "output_type": "stream",
     "text": [
      "8 [1.969963e+29] [9.329004e+27]\n",
      "8 inf\n"
     ]
    },
    {
     "data": {
      "image/png": "[encoded data removed]",
      "text/plain": [
       "<Figure size 432x288 with 1 Axes>"
      ]
     },
     "metadata": {
      "needs_background": "light"
     },
     "output_type": "display_data"
    },
    {
     "name": "stdout",
     "output_type": "stream",
     "text": [
      "9 [-1.6421758e+32] [-7.776727e+30]\n",
      "9 inf\n"
     ]
    },
    {
     "data": {
      "image/png": "[encoded data removed]",
      "text/plain": [
       "<Figure size 432x288 with 1 Axes>"
      ]
     },
     "metadata": {
      "needs_background": "light"
     },
     "output_type": "display_data"
    }
   ],
   "source": [
    "for step in range(10):\n",
    "    sess.run(train)\n",
    "    print(step, sess.run(w), sess.run(b))\n",
    "    print(step, sess.run(loss))\n",
    "    \n",
    "    plt.plot(xdata, ydata, 'ro')\n",
    "    plt.plot(xdata, sess.run(w)*xdata + sess.run(b))\n",
    "    plt.show()\n"
   ]
  },
  {
   "cell_type": "code",
   "execution_count": 108,
   "metadata": {},
   "outputs": [],
   "source": [
    "# keras 패키지 : 텐서플로우를 엔진으로 사용하는 파이썬 패키지\n",
    "# 신경망을 쉽게 구현 \n",
    "# 연습용 데이터셋 제공(CIFAR10, CIFAR100,영화, 뉴스, MNIST,보스턴)\n",
    "\n",
    "from tensorflow import keras\n",
    "\n",
    "mnist=keras.datasets.mnist\n",
    "(xtrain,ytrain),(xtest,ytest)=mnist.load_data()\n",
    "\n"
   ]
  },
  {
   "cell_type": "code",
   "execution_count": 109,
   "metadata": {},
   "outputs": [
    {
     "data": {
      "image/png": "[encoded data removed]",
      "text/plain": [
       "<Figure size 576x72 with 36 Axes>"
      ]
     },
     "metadata": {
      "needs_background": "light"
     },
     "output_type": "display_data"
    }
   ],
   "source": [
    "plt.figure(figsize=(8,1))\n",
    "for i in  range(36):\n",
    "    plt.subplot(3,12,i+1)\n",
    "    plt.imshow(xtrain[i], cmap='gray')\n",
    "    plt.axis('off')\n",
    "plt.show()\n",
    "\n",
    "    "
   ]
  },
  {
   "cell_type": "code",
   "execution_count": 110,
   "metadata": {},
   "outputs": [
    {
     "name": "stdout",
     "output_type": "stream",
     "text": [
      "(10000, 28, 28)\n",
      "(10000,)\n"
     ]
    }
   ],
   "source": [
    "print(xtest.shape)\n",
    "print(ytest.shape)"
   ]
  },
  {
   "cell_type": "code",
   "execution_count": 111,
   "metadata": {},
   "outputs": [
    {
     "name": "stdout",
     "output_type": "stream",
     "text": [
      "(60000, 784) float32\n",
      "(10000, 784) float32\n",
      "[5 0 4 1 9 2 1 3 1 4]\n"
     ]
    }
   ],
   "source": [
    "xtrain=xtrain.reshape(60000, 28*28).astype('float32')/255.0\n",
    "xtest=xtest.reshape(10000, 28*28).astype('float32')/255.0\n",
    "print(xtrain.shape, xtrain.dtype)\n",
    "print(xtest.shape, xtest.dtype)\n",
    "print(ytrain[:10])\n"
   ]
  },
  {
   "cell_type": "code",
   "execution_count": 112,
   "metadata": {},
   "outputs": [
    {
     "data": {
      "text/plain": [
       "array([[0., 0., 0., 0., 0., 1., 0., 0., 0., 0.],\n",
       "       [1., 0., 0., 0., 0., 0., 0., 0., 0., 0.],\n",
       "       [0., 0., 0., 0., 1., 0., 0., 0., 0., 0.],\n",
       "       [0., 1., 0., 0., 0., 0., 0., 0., 0., 0.],\n",
       "       [0., 0., 0., 0., 0., 0., 0., 0., 0., 1.],\n",
       "       [0., 0., 1., 0., 0., 0., 0., 0., 0., 0.],\n",
       "       [0., 1., 0., 0., 0., 0., 0., 0., 0., 0.],\n",
       "       [0., 0., 0., 1., 0., 0., 0., 0., 0., 0.],\n",
       "       [0., 1., 0., 0., 0., 0., 0., 0., 0., 0.],\n",
       "       [0., 0., 0., 0., 1., 0., 0., 0., 0., 0.]], dtype=float32)"
      ]
     },
     "execution_count": 112,
     "metadata": {},
     "output_type": "execute_result"
    }
   ],
   "source": [
    "from tensorflow.keras.utils import to_categorical\n",
    "ytrain=to_categorical(ytrain,10)\n",
    "ytest=to_categorical(ytest,10)\n",
    "ytrain[:10]"
   ]
  },
  {
   "cell_type": "code",
   "execution_count": 113,
   "metadata": {},
   "outputs": [
    {
     "data": {
      "text/plain": [
       "'\\n1) Sequential 클래스 => 객체 생성 \\n2) add 메서드 => 층( 레이어 )을 추가\\n- 입력부터 순서대로 추가 \\n- shape 체크\\n- activation 활성화 설정 \\n# 2개 변수 = > 4개 입력, 10개 출력 => 10개입 ,10개출\\n3) compile 메서드 -> 모델 생성\\n- loss, optimizer(알고리즘), 성능 기준 설정 \\n4) fit 메서드 -> 트레이닝\\n- 에폭설정 ( 6만개 data가 있다면 1에폭 - 6만개 data training 1회반복 )\\n- 배치 설정 (분할 -> 모델링 // tensorflow - Qlearner 메카니즘 사용)\\n'"
      ]
     },
     "execution_count": 113,
     "metadata": {},
     "output_type": "execute_result"
    }
   ],
   "source": [
    "# # keras로 신경망 구성하는 순서 \n",
    "'''\n",
    "1) Sequential 클래스 => 객체 생성 \n",
    "2) add 메서드 => 층( 레이어 )을 추가\n",
    "- 입력부터 순서대로 추가 \n",
    "- shape 체크\n",
    "- activation 활성화 설정 \n",
    "# 2개 변수 = > 4개 입력, 10개 출력 => 10개입 ,10개출\n",
    "3) compile 메서드 -> 모델 생성\n",
    "- loss, optimizer(알고리즘), 성능 기준 설정 \n",
    "4) fit 메서드 -> 트레이닝\n",
    "- 에폭설정 ( 6만개 data가 있다면 1에폭 - 6만개 data training 1회반복 )\n",
    "- 배치 설정 (분할 -> 모델링 // tensorflow - Qlearner 메카니즘 사용)\n",
    "'''\n"
   ]
  },
  {
   "cell_type": "code",
   "execution_count": 116,
   "metadata": {},
   "outputs": [],
   "source": [
    "from tensorflow.keras.models import Sequential\n",
    "from tensorflow.keras.layers import Dense\n",
    "from tensorflow.keras.optimizers import SGD\n",
    "np.random.seed(0)\n",
    "model=Sequential()\n",
    "model.add(Dense(15, input_dim=784, activation='sigmoid'))\n",
    "model.add(Dense(10, activation='sigmoid'))\n",
    "model.compile(optimizer=SGD(lr=0.1), \n",
    "              loss='mean_squared_error', \n",
    "              metrics=['accuracy'])\n"
   ]
  },
  {
   "cell_type": "code",
   "execution_count": 117,
   "metadata": {},
   "outputs": [
    {
     "name": "stdout",
     "output_type": "stream",
     "text": [
      "Model: \"sequential_1\"\n",
      "_________________________________________________________________\n",
      "Layer (type)                 Output Shape              Param #   \n",
      "=================================================================\n",
      "dense_1 (Dense)              (None, 15)                11775     \n",
      "_________________________________________________________________\n",
      "dense_2 (Dense)              (None, 10)                160       \n",
      "=================================================================\n",
      "Total params: 11,935\n",
      "Trainable params: 11,935\n",
      "Non-trainable params: 0\n",
      "_________________________________________________________________\n"
     ]
    }
   ],
   "source": [
    "model.summary()"
   ]
  },
  {
   "cell_type": "code",
   "execution_count": null,
   "metadata": {},
   "outputs": [],
   "source": []
  },
  {
   "cell_type": "code",
   "execution_count": null,
   "metadata": {},
   "outputs": [],
   "source": []
  },
  {
   "cell_type": "code",
   "execution_count": null,
   "metadata": {},
   "outputs": [],
   "source": []
  },
  {
   "cell_type": "code",
   "execution_count": null,
   "metadata": {},
   "outputs": [],
   "source": []
  },
  {
   "cell_type": "code",
   "execution_count": null,
   "metadata": {},
   "outputs": [],
   "source": []
  },
  {
   "cell_type": "code",
   "execution_count": null,
   "metadata": {},
   "outputs": [],
   "source": []
  }
 ],
 "metadata": {
  "kernelspec": {
   "display_name": "Python 3",
   "language": "python",
   "name": "python3"
  },
  "language_info": {
   "codemirror_mode": {
    "name": "ipython",
    "version": 3
   },
   "file_extension": ".py",
   "mimetype": "text/x-python",
   "name": "python",
   "nbconvert_exporter": "python",
   "pygments_lexer": "ipython3",
   "version": "3.7.3"
  }
 },
 "nbformat": 4,
 "nbformat_minor": 2
}
