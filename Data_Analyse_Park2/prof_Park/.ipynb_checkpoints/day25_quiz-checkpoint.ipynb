{
 "cells": [
  {
   "cell_type": "code",
   "execution_count": null,
   "metadata": {},
   "outputs": [],
   "source": [
    "## mnist -> deep & wide 설계 => 정확도 90 이상 "
   ]
  },
  {
   "cell_type": "code",
   "execution_count": 16,
   "metadata": {},
   "outputs": [
    {
     "name": "stdout",
     "output_type": "stream",
     "text": [
      "Extracting MNIST_data/train-images-idx3-ubyte.gz\n",
      "Extracting MNIST_data/train-labels-idx1-ubyte.gz\n",
      "Extracting MNIST_data/t10k-images-idx3-ubyte.gz\n",
      "Extracting MNIST_data/t10k-labels-idx1-ubyte.gz\n"
     ]
    },
    {
     "data": {
      "text/plain": [
       "Datasets(train=<tensorflow.contrib.learn.python.learn.datasets.mnist.DataSet object at 0x000001484F1C67B8>, validation=<tensorflow.contrib.learn.python.learn.datasets.mnist.DataSet object at 0x000001484F1C6320>, test=<tensorflow.contrib.learn.python.learn.datasets.mnist.DataSet object at 0x000001484F1C69E8>)"
      ]
     },
     "execution_count": 16,
     "metadata": {},
     "output_type": "execute_result"
    }
   ],
   "source": [
    "import random\n",
    "import matplotlib.pyplot as plt\n",
    "from tensorflow.examples.tutorials.mnist import input_data # 함수 \n",
    "import numpy as np\n",
    "import pandas as pd\n",
    "import tensorflow as tf\n",
    "mnist = input_data.read_data_sets('MNIST_data/', one_hot=True) # ohe해주는 속성..결과값 0,1\n",
    "# mnist # ( cell - 28 * 28 = 784)"
   ]
  },
  {
   "cell_type": "code",
   "execution_count": 17,
   "metadata": {},
   "outputs": [],
   "source": [
    "nb_classes = 10 # 분류결과인 이미지의 갯수"
   ]
  },
  {
   "cell_type": "code",
   "execution_count": 24,
   "metadata": {},
   "outputs": [],
   "source": [
    "# x = tf.placeholder(tf.float32, [None, 28*28])\n",
    "# y = tf.placeholder(tf.float32, [None, nb_classes])\n",
    "\n",
    "# w1 = tf.Variable(tf.random_normal([28*28, 100]))\n",
    "# b1 = tf.Variable(tf.random_normal([100]))\n",
    "# L1 = tf.sigmoid(tf.matmul(x, w1) + b1) ## nn aj\n",
    "\n",
    "# w2 = tf.Variable(tf.random_normal([100,]))\n",
    "# b2 = tf.Variable(tf.random_normal([100]))\n",
    "# L2 = tf.sigmoid(tf.matmul(L1, w2) + b2) # 최종가설함수 \n",
    "\n",
    "# w3 = tf.Variable(tf.random_normal([100,100]))\n",
    "# b3 = tf.Variable(tf.random_normal([100]))\n",
    "# # deep & wide\n",
    "# L3 = tf.sigmoid(tf.matmul(L2, w3) + b3) # 최종가설함수 \n",
    "\n",
    "# w4 = tf.Variable(tf.random_normal([100,100]))\n",
    "# b4 = tf.Variable(tf.random_normal([100]))\n",
    "# # deep & wide\n",
    "# L4 = tf.sigmoid(tf.matmul(L3, w4) + b4) # 최종가설함수 \n",
    "\n",
    "# w5 = tf.Variable(tf.random_normal([100,100]))\n",
    "# b5 = tf.Variable(tf.random_normal([100]))\n",
    "\n",
    "# L5 = tf.sigmoid(tf.matmul(L4, w5) + b5) # 출력이자 입력 층\n",
    "\n",
    "# w6 = tf.Variable(tf.random_normal([100,100]))\n",
    "# b6 = tf.Variable(tf.random_normal([100]))\n",
    "# L6 = tf.sigmoid(tf.matmul(L5, w6) + b6) # 최종가설함수 \n",
    "# # -> layer 층\n",
    "\n",
    "# w7 = tf.Variable(tf.random_normal([100,100]))\n",
    "# b7 = tf.Variable(tf.random_normal([100]))\n",
    "# # deep & wide\n",
    "# L7 = tf.sigmoid(tf.matmul(L6, w7) + b7) # 최종가설함수 \n",
    "\n",
    "# w8 = tf.Variable(tf.random_normal([100,100]))\n",
    "# b8 = tf.Variable(tf.random_normal([100]))\n",
    "# # deep & wide\n",
    "# L8 = tf.sigmoid(tf.matmul(L7, w8) + b8) # 최종가설함수 \n",
    "\n",
    "# w9 = tf.Variable(tf.random_normal([100,100]))\n",
    "# b9 = tf.Variable(tf.random_normal([100]))\n",
    "# # deep & wide\n",
    "# L9 = tf.sigmoid(tf.matmul(L8, w9) + b9) # 최종가설함수 \n",
    "\n",
    "# w10 = tf.Variable(tf.random_normal([100,nb_classes]))\n",
    "# b10 = tf.Variable(tf.random_normal([nb_classes]))\n",
    "# # deep & wide\n",
    "# hf = tf.nn.relu(tf.matmul(L9, w10) + b10) # 최종가설함수 \n",
    "\n",
    "# cost = tf.reduce_mean(-tf.reduce_sum(y*tf.log(hf), axis=1))\n",
    "# train = tf.train.GradientDescentOptimizer(0.1).minimize(cost)\n",
    "\n",
    "# # 최댓값에 해당하는 숫자 출력 도출(argmax) \n",
    "# is_correct = tf.equal(tf.arg_max(hf,1), tf.arg_max(y,1))\n",
    "# accuracy = tf.reduce_mean(tf.cast(is_correct, tf.float32))\n",
    "# # 1차원으로 쭉 나열 "
   ]
  },
  {
   "cell_type": "code",
   "execution_count": 39,
   "metadata": {},
   "outputs": [],
   "source": [
    "x = tf.placeholder(tf.float32, [None, 28*28])\n",
    "y = tf.placeholder(tf.float32, [None, nb_classes])\n",
    "\n",
    "w1 = tf.Variable(tf.random_normal([28*28, 100]))\n",
    "b1 = tf.Variable(tf.random_normal([100]))\n",
    "L1 = tf.nn.sigmoid(tf.matmul(x, w1) + b1) ## nn aj\n",
    "\n",
    "w2 = tf.Variable(tf.random_normal([100,nb_classes]))\n",
    "b2 = tf.Variable(tf.random_normal([nb_classes]))\n",
    "hf= tf.nn.softmax(tf.matmul(L1, w2) + b2) # 최종가설함수 \n",
    "\n",
    "cost = tf.reduce_mean(-tf.reduce_sum(y*tf.log(hf), axis=1))\n",
    "train = tf.train.GradientDescentOptimizer(0.1).minimize(cost)\n",
    "\n",
    "# 최댓값에 해당하는 숫자 출력 도출(argmax) \n",
    "is_correct = tf.equal(tf.arg_max(hf,1), tf.arg_max(y,1))\n",
    "accuracy = tf.reduce_mean(tf.cast(is_correct, tf.float32))\n",
    "# 1차원으로 쭉 나열 \n",
    "\n",
    "# Softmax(소프트맥스)는 입력받은 값을 출력으로 0~1사이의 값으로 \n",
    "# 모두 정규화하며 출력 값들의 총합은 항상 1이 되는 특성을 가진 함수이다.\n"
   ]
  },
  {
   "cell_type": "code",
   "execution_count": 40,
   "metadata": {},
   "outputs": [
    {
     "name": "stdout",
     "output_type": "stream",
     "text": [
      "Epoch:    1 cost: 1.852291491\n",
      "Epoch:    2 cost: 0.810889927\n",
      "Epoch:    3 cost: 0.639268150\n",
      "Epoch:    4 cost: 0.553495402\n",
      "Epoch:    5 cost: 0.498513042\n",
      "Epoch:    6 cost: 0.459047072\n",
      "Epoch:    7 cost: 0.429552491\n",
      "Epoch:    8 cost: 0.405499367\n",
      "Epoch:    9 cost: 0.386430899\n",
      "Epoch:   10 cost: 0.369777359\n",
      "Epoch:   11 cost: 0.356052354\n",
      "Epoch:   12 cost: 0.343280151\n",
      "Epoch:   13 cost: 0.332823752\n",
      "Epoch:   14 cost: 0.322614063\n",
      "Epoch:   15 cost: 0.313505220\n",
      "learning finished\n",
      "accuracy : 0.9057\n",
      "Label: [7]\n",
      "prediction: [7]\n"
     ]
    },
    {
     "data": {
      "image/png": "[encoded data removed]",
      "text/plain": [
       "<Figure size 432x288 with 1 Axes>"
      ]
     },
     "metadata": {
      "needs_background": "light"
     },
     "output_type": "display_data"
    }
   ],
   "source": [
    "# 에폭 (전체 데이터를 1번 트레이닝 -> 1 에폭)\n",
    "training_epochs=15\n",
    "batch_size= 100\n",
    "\n",
    "# init = tf.global_variables_initializer()\n",
    "# 세션만들고\n",
    "# training 하기 \n",
    "with tf.Session() as sess:\n",
    "    sess.run(tf.global_variables_initializer())\n",
    "    for epoch in  range(training_epochs):#5만개 이미지 * 15번 트레이닝\n",
    "        avg_cost=0\n",
    "        total_batch=int(mnist.train.num_examples / batch_size) #5만/100\n",
    "        for i in range(total_batch): #500번(1번에 100개씩 이미지를 읽겠다)\n",
    "            batch_xs, batch_ys=mnist.train.next_batch(batch_size)\n",
    "            cv, _= sess.run([cost, train], feed_dict={x:batch_xs, y:batch_ys})\n",
    "            avg_cost+=cv/total_batch #  100데이터코스트/500\n",
    "        print(\"Epoch:\", '%4d' % (epoch+1),'cost:', '{:.9f}'.format(avg_cost))    \n",
    "    print(\"learning finished\")# 1, 3, 7, 10, 14   35/5=7\n",
    "    print(\"accuracy :\", sess.run(accuracy, feed_dict={x:mnist.test.images, \n",
    "                                                      y:mnist.test.labels}))\n",
    "    \n",
    "    r=random.randint(0, mnist.test.num_examples-1)\n",
    "    print(\"Label:\",sess.run(tf.argmax(mnist.test.labels[r:r+1],1)))\n",
    "    print(\"prediction:\",sess.run(tf.argmax(hf,1),feed_dict={x:mnist.test.images[r:r+1]}))    \n",
    "    \n",
    "    plt.imshow(mnist.test.images[r:r+1].reshape(28,28))\n",
    "    plt.show()"
   ]
  },
  {
   "cell_type": "code",
   "execution_count": null,
   "metadata": {},
   "outputs": [],
   "source": []
  },
  {
   "cell_type": "code",
   "execution_count": null,
   "metadata": {},
   "outputs": [],
   "source": []
  },
  {
   "cell_type": "code",
   "execution_count": null,
   "metadata": {},
   "outputs": [],
   "source": []
  }
 ],
 "metadata": {
  "kernelspec": {
   "display_name": "Python 3",
   "language": "python",
   "name": "python3"
  },
  "language_info": {
   "codemirror_mode": {
    "name": "ipython",
    "version": 3
   },
   "file_extension": ".py",
   "mimetype": "text/x-python",
   "name": "python",
   "nbconvert_exporter": "python",
   "pygments_lexer": "ipython3",
   "version": "3.7.3"
  }
 },
 "nbformat": 4,
 "nbformat_minor": 2
}
