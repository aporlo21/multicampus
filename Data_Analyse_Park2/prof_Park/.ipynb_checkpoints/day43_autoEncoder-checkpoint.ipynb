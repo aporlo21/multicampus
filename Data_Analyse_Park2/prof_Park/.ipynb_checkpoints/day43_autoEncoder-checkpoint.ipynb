{
 "cells": [
  {
   "cell_type": "markdown",
   "metadata": {},
   "source": [
    "# 오토인코더"
   ]
  },
  {
   "cell_type": "markdown",
   "metadata": {},
   "source": [
    "### 지도 \n",
    "### 비지도 학습 : \"답이없다 => 입력 데이터 안에 숨어있는 특징을 찾자\" 학습 \n",
    "- ref) clustering, \n",
    " - Kmeans (3개의 점을 random하게 부여하고(centeroid) 해당점과 다른점들간의 거리를 구하여, 인근 점들을 군집화시키면, 어느곳에 해당하게된다)\n",
    " - KNN (주변에 가장 가까이있는 k개 만큼은 data point를 묶어서 해석) \n",
    "  - ex) 거래 (정상 / 비정상)\n",
    "  - cf) x => 특징(정상 or 비정상), y ( data 없어 ) \n"
   ]
  },
  {
   "cell_type": "markdown",
   "metadata": {},
   "source": [
    "### 오토인코더 :출력값을 입력값에 근사하도록 하는 함수를 만드는 알고리즘 (NN)\n",
    "- 해당함수는 정상인지 비정상인지를 구별하는 함수 \n",
    "- 인코더 : 입력값에 대한 특징 추출 \n",
    "- 디코더 : 원본 data(입력)를 재구성\n",
    " - data 압축/ 압축해제 \n",
    "#### 오토인코딩 과정\n",
    "- 입력층 (X0 ~ Xn) \n",
    "- 은닉층 [을 작게하는게 일반적(cell, node의 개수가 작게끔)]\n",
    "- 츨력층 (X0 ~ Xn)\n",
    " - 입력층에서 은닉층으로 오는 과정 ( 가중치 업데이트 이뤄짐 ) \n",
    " - 원본과 유사하게 만들어지면서 update 생성 \n",
    " - 만들어진 출력값과 입력값을 비슷하게 만들어주는 weight update 과정이 이뤄진다 \n",
    "\n",
    "- 특징 : 1. 데이터 압축 2. 노이즈(자신이 필요로하지않은 특징들) 제거\n",
    " - => 출력값이 입력값과 최대한 비슷하게 하는 내부 튜닝과정이 이뤄진다 "
   ]
  },
  {
   "cell_type": "markdown",
   "metadata": {},
   "source": [
    "### 오토 인코더 과정 정리\n",
    "1. 입력값과 hidden 계층의 가중치를 계산해 sigmoid 를 통과 \n",
    "2. 1번 결과와 출력 계층의 가중치 계산하여 sigmoid\n",
    "3. 2번 결과값을 이용해 MSE 구함\n",
    "4. 3번의 결과로 얻어진 LOSS를 SGD로 최적화\n",
    "5. 오류 역전파(back propagation을 이용해 가중치 갱신) \n",
    " - 이미지 (입력 data) ==(특징추출)==> 이미지 (출력 data)\n",
    " - ex) mnist data 1 ====> 1 : data 일치 확인 "
   ]
  },
  {
   "cell_type": "code",
   "execution_count": 1,
   "metadata": {},
   "outputs": [],
   "source": [
    "import pandas as pd\n",
    "import matplotlib.pyplot as plt\n",
    "import seaborn as sns\n",
    "import tensorflow as tf\n",
    "import numpy as np"
   ]
  },
  {
   "cell_type": "code",
   "execution_count": 2,
   "metadata": {},
   "outputs": [
    {
     "name": "stderr",
     "output_type": "stream",
     "text": [
      "WARNING: Logging before flag parsing goes to stderr.\n",
      "W0906 09:12:51.239363   908 deprecation.py:323] From <ipython-input-2-a4d675ea9db5>:3: read_data_sets (from tensorflow.contrib.learn.python.learn.datasets.mnist) is deprecated and will be removed in a future version.\n",
      "Instructions for updating:\n",
      "Please use alternatives such as official/mnist/dataset.py from tensorflow/models.\n",
      "W0906 09:12:51.243351   908 deprecation.py:323] From C:\\Users\\user\\Anaconda3\\lib\\site-packages\\tensorflow\\contrib\\learn\\python\\learn\\datasets\\mnist.py:260: maybe_download (from tensorflow.contrib.learn.python.learn.datasets.base) is deprecated and will be removed in a future version.\n",
      "Instructions for updating:\n",
      "Please write your own downloading logic.\n",
      "W0906 09:12:51.244349   908 deprecation.py:323] From C:\\Users\\user\\Anaconda3\\lib\\site-packages\\tensorflow\\contrib\\learn\\python\\learn\\datasets\\mnist.py:262: extract_images (from tensorflow.contrib.learn.python.learn.datasets.mnist) is deprecated and will be removed in a future version.\n",
      "Instructions for updating:\n",
      "Please use tf.data to implement this functionality.\n"
     ]
    },
    {
     "name": "stdout",
     "output_type": "stream",
     "text": [
      "Extracting ./mnist/data/train-images-idx3-ubyte.gz\n"
     ]
    },
    {
     "name": "stderr",
     "output_type": "stream",
     "text": [
      "W0906 09:12:51.560503   908 deprecation.py:323] From C:\\Users\\user\\Anaconda3\\lib\\site-packages\\tensorflow\\contrib\\learn\\python\\learn\\datasets\\mnist.py:267: extract_labels (from tensorflow.contrib.learn.python.learn.datasets.mnist) is deprecated and will be removed in a future version.\n",
      "Instructions for updating:\n",
      "Please use tf.data to implement this functionality.\n",
      "W0906 09:12:51.576623   908 deprecation.py:323] From C:\\Users\\user\\Anaconda3\\lib\\site-packages\\tensorflow\\contrib\\learn\\python\\learn\\datasets\\mnist.py:110: dense_to_one_hot (from tensorflow.contrib.learn.python.learn.datasets.mnist) is deprecated and will be removed in a future version.\n",
      "Instructions for updating:\n",
      "Please use tf.one_hot on tensors.\n",
      "W0906 09:12:51.657620   908 deprecation.py:323] From C:\\Users\\user\\Anaconda3\\lib\\site-packages\\tensorflow\\contrib\\learn\\python\\learn\\datasets\\mnist.py:290: DataSet.__init__ (from tensorflow.contrib.learn.python.learn.datasets.mnist) is deprecated and will be removed in a future version.\n",
      "Instructions for updating:\n",
      "Please use alternatives such as official/mnist/dataset.py from tensorflow/models.\n"
     ]
    },
    {
     "name": "stdout",
     "output_type": "stream",
     "text": [
      "Extracting ./mnist/data/train-labels-idx1-ubyte.gz\n",
      "Extracting ./mnist/data/t10k-images-idx3-ubyte.gz\n",
      "Extracting ./mnist/data/t10k-labels-idx1-ubyte.gz\n"
     ]
    }
   ],
   "source": [
    "# mnist : 입력(784) -> 은닉(256) -> 출력(784)\n",
    "from tensorflow.examples.tutorials.mnist import input_data\n",
    "mnist=input_data.read_data_sets(\"./mnist/data/\", one_hot=True)\n"
   ]
  },
  {
   "cell_type": "code",
   "execution_count": 3,
   "metadata": {},
   "outputs": [],
   "source": [
    "learning_rate=0.01\n",
    "training_epoch=20\n",
    "batch_size=100\n",
    "#신경망\n",
    "n_hidden=256 #은닉층 유닛(뉴런) 개수\n",
    "n_input=28*28"
   ]
  },
  {
   "cell_type": "code",
   "execution_count": 4,
   "metadata": {},
   "outputs": [],
   "source": [
    "#신경망\n",
    "import tensorflow as tf\n",
    "x=tf.placeholder(tf.float32, [None, n_input])"
   ]
  },
  {
   "cell_type": "code",
   "execution_count": 5,
   "metadata": {},
   "outputs": [],
   "source": [
    "#인코더, 디코더\n",
    "#input -> encode -> decode -> output"
   ]
  },
  {
   "cell_type": "code",
   "execution_count": 6,
   "metadata": {},
   "outputs": [],
   "source": [
    "#인코더 정의\n",
    "w_encode=tf.Variable(tf.random_normal([n_input, n_hidden]))\n",
    "b_encode=tf.Variable(tf.random_normal([n_hidden]))\n",
    "encoder=tf.nn.sigmoid(tf.add(tf.matmul(x, w_encode), b_encode))"
   ]
  },
  {
   "cell_type": "code",
   "execution_count": 7,
   "metadata": {},
   "outputs": [],
   "source": [
    "#디코더 정의\n",
    "w_decode=tf.Variable(tf.random_normal([n_hidden, n_input]))\n",
    "b_decode=tf.Variable(tf.random_normal([n_input]))\n",
    "decoder=tf.nn.sigmoid(tf.add(tf.matmul(encoder, w_decode),b_decode))"
   ]
  },
  {
   "cell_type": "code",
   "execution_count": 8,
   "metadata": {},
   "outputs": [
    {
     "name": "stderr",
     "output_type": "stream",
     "text": [
      "W0906 09:12:53.223934   908 deprecation.py:323] From C:\\Users\\user\\Anaconda3\\lib\\site-packages\\tensorflow\\python\\ops\\math_grad.py:1205: add_dispatch_support.<locals>.wrapper (from tensorflow.python.ops.array_ops) is deprecated and will be removed in a future version.\n",
      "Instructions for updating:\n",
      "Use tf.where in 2.0, which has the same broadcast rule as np.where\n",
      "W0906 09:12:53.297585   908 deprecation.py:506] From C:\\Users\\user\\Anaconda3\\lib\\site-packages\\tensorflow\\python\\training\\rmsprop.py:119: calling Ones.__init__ (from tensorflow.python.ops.init_ops) with dtype is deprecated and will be removed in a future version.\n",
      "Instructions for updating:\n",
      "Call initializer instance with the dtype argument instead of passing it to the constructor\n"
     ]
    }
   ],
   "source": [
    "#은닉층의 units은 입력층의 특징을 표현\n",
    "cost=tf.reduce_mean(tf.pow(x-decoder,2))\n",
    "optimizer=tf.train.RMSPropOptimizer(learning_rate).minimize(cost)"
   ]
  },
  {
   "cell_type": "code",
   "execution_count": 9,
   "metadata": {},
   "outputs": [],
   "source": [
    "#신경망 모델 학습\n",
    "sess=tf.Session()\n",
    "sess.run(tf.global_variables_initializer())"
   ]
  },
  {
   "cell_type": "code",
   "execution_count": 10,
   "metadata": {},
   "outputs": [],
   "source": [
    "total_batch=int(mnist.train.num_examples/batch_size)"
   ]
  },
  {
   "cell_type": "code",
   "execution_count": 11,
   "metadata": {},
   "outputs": [
    {
     "name": "stdout",
     "output_type": "stream",
     "text": [
      "epoch: 0001 avg cost= 0.1984\n",
      "epoch: 0002 avg cost= 0.0619\n",
      "epoch: 0003 avg cost= 0.0506\n",
      "epoch: 0004 avg cost= 0.0437\n",
      "epoch: 0005 avg cost= 0.0398\n",
      "epoch: 0006 avg cost= 0.0382\n",
      "epoch: 0007 avg cost= 0.0365\n",
      "epoch: 0008 avg cost= 0.0342\n",
      "epoch: 0009 avg cost= 0.0332\n",
      "epoch: 0010 avg cost= 0.0316\n",
      "epoch: 0011 avg cost= 0.0300\n",
      "epoch: 0012 avg cost= 0.0285\n",
      "epoch: 0013 avg cost= 0.0283\n",
      "epoch: 0014 avg cost= 0.0281\n",
      "epoch: 0015 avg cost= 0.0279\n",
      "epoch: 0016 avg cost= 0.0276\n",
      "epoch: 0017 avg cost= 0.0272\n",
      "epoch: 0018 avg cost= 0.0269\n",
      "epoch: 0019 avg cost= 0.0266\n",
      "epoch: 0020 avg cost= 0.0263\n",
      "모델 완성\n"
     ]
    }
   ],
   "source": [
    "for epoch in range(training_epoch):\n",
    "    total_cost=0\n",
    "    for i in range(total_batch):\n",
    "        batch_xs, batch_ys=mnist.train.next_batch(batch_size)\n",
    "        _,cv=sess.run([optimizer, cost],feed_dict={x:batch_xs})\n",
    "        total_cost+=cv\n",
    "    print('epoch:', '%04d' % (epoch+1), 'avg cost=', '{:.4f}'\n",
    "          .format(total_cost/total_batch))\n",
    "print('모델 완성')"
   ]
  },
  {
   "cell_type": "markdown",
   "metadata": {},
   "source": [
    "### 오토인코더 완료"
   ]
  },
  {
   "cell_type": "code",
   "execution_count": 12,
   "metadata": {},
   "outputs": [],
   "source": [
    "# 입력값, 모델 생성한 값을 비교\n",
    "sample_size=10\n",
    "# decoder 노드 실행시, 예측값 생성\n",
    "samples = sess.run(decoder, feed_dict = {x:mnist.test.images[:sample_size]})\n"
   ]
  },
  {
   "cell_type": "code",
   "execution_count": 13,
   "metadata": {},
   "outputs": [
    {
     "data": {
      "image/png": "[encoded data removed]",
      "text/plain": [
       "<Figure size 720x144 with 20 Axes>"
      ]
     },
     "metadata": {
      "needs_background": "light"
     },
     "output_type": "display_data"
    }
   ],
   "source": [
    "# mnist.test.images.shape\n",
    "fig, ax = plt.subplots(2, sample_size, figsize=(sample_size, 2))\n",
    "for i in range(sample_size):\n",
    "    ax[0][i].set_axis_off()\n",
    "    ax[1][i].set_axis_off()\n",
    "    ax[0][i].imshow(np.reshape(mnist.test.images[i], (28,28)))\n",
    "    ax[1][i].imshow(np.reshape(samples[i], (28,28)))\n",
    "    "
   ]
  },
  {
   "cell_type": "code",
   "execution_count": 14,
   "metadata": {},
   "outputs": [
    {
     "data": {
      "text/plain": [
       "(28, 28)"
      ]
     },
     "execution_count": 14,
     "metadata": {},
     "output_type": "execute_result"
    }
   ],
   "source": [
    "np.reshape(mnist.test.images[0], (28, 28)).shape"
   ]
  },
  {
   "cell_type": "markdown",
   "metadata": {},
   "source": [
    "- S2S : 순차적인 정보를 갖는 RNN이 들어오면 출력하는 신경망을 결합하는 (CHATBOT 핵심알고리즘) / 구글, 기계번역\n",
    "- ex) i am a student -> [인코더] -> context vector(문맥 벡터) -> [디코더] -> 나는 학생입니다 (go - x / y- y / z - z)\n",
    " - context vector : 0.5 0.2 -0.7 0.9 (수백차원)\n",
    " \n",
    "- 인공지능 ,,,, 살짝 실수해도 해당 단어에 맞는 번역결과 가져옴\n",
    "#### RNN 기반 아키텍쳐\n",
    "- 인코더 입력 : good morning [입력을 위한]\n",
    "- 디코더 입력 : go 좋은 아침입니다 [출력을 위한]\n",
    "- ex) good [단어] 단위 입력 < goad [글자] 단위입력 RNN\n",
    "- 단어 자동 번역\n",
    "\n"
   ]
  },
  {
   "cell_type": "code",
   "execution_count": null,
   "metadata": {},
   "outputs": [],
   "source": []
  }
 ],
 "metadata": {
  "kernelspec": {
   "display_name": "Python 3",
   "language": "python",
   "name": "python3"
  },
  "language_info": {
   "codemirror_mode": {
    "name": "ipython",
    "version": 3
   },
   "file_extension": ".py",
   "mimetype": "text/x-python",
   "name": "python",
   "nbconvert_exporter": "python",
   "pygments_lexer": "ipython3",
   "version": "3.7.3"
  }
 },
 "nbformat": 4,
 "nbformat_minor": 2
}
