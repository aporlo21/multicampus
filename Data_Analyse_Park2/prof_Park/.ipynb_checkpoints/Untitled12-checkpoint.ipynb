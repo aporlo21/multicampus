{
 "cells": [
  {
   "cell_type": "code",
   "execution_count": null,
   "metadata": {},
   "outputs": [],
   "source": [
    "x_data = x_data_c2\n",
    "x_train, x_test = train_test_split(x_data, test_size=0.2, shuffle = True, random_state=42)\n",
    "y_train, y_test = train_test_split(y_data, test_size=0.2, shuffle = True, random_state=42)"
   ]
  },
  {
   "cell_type": "code",
   "execution_count": null,
   "metadata": {},
   "outputs": [],
   "source": [
    "y_pred = training(x_train, y_train, x_test, lr=0.05, epochs = 5000)"
   ]
  },
  {
   "cell_type": "code",
   "execution_count": null,
   "metadata": {},
   "outputs": [],
   "source": [
    "plt.scatter(y_test, y_pred)"
   ]
  },
  {
   "cell_type": "code",
   "execution_count": null,
   "metadata": {},
   "outputs": [],
   "source": [
    "# 1번 결과\n",
    "# sqft_living 만 넣어서 학습 시킨 경우\n",
    "# y축 : 예측값, x : 실제값"
   ]
  },
  {
   "cell_type": "code",
   "execution_count": null,
   "metadata": {},
   "outputs": [],
   "source": [
    "x_data = x_data_c1\n",
    "\n",
    "x_train, x_test = train_test_split(x_data, test_size=0.2, shuffle = True, random_state=42)\n",
    "y_train, y_test = train_test_split(y_data, test_size=0.2, shuffle = True, random_state=42)\n",
    "\n",
    "y_pred = training(x_train, y_train, x_test, lr=0.05, epochs = 5000)\n",
    "\n",
    "plt.figure(figsize=(8,8))\n",
    "plt.scatter(y_test, y_pred) \n",
    "plt.plot(np.linspace(0,1),np.linspace(0,1))\n",
    "plt.xlim(-0.2,1)\n",
    "plt.ylim(-0.2,1)"
   ]
  },
  {
   "cell_type": "code",
   "execution_count": null,
   "metadata": {},
   "outputs": [],
   "source": [
    "x_data = x_data2\n",
    "\n",
    "x_train, x_test = train_test_split(x_data, test_size=0.2, shuffle = True, random_state=42)\n",
    "y_train, y_test = train_test_split(y_data, test_size=0.2, shuffle = True, random_state=42)\n",
    "\n",
    "y_pred = training(x_train, y_train, x_test, lr=0.01, epochs = 50000)\n",
    "\n",
    "plt.figure(figsize=(8,8))\n",
    "plt.scatter(y_test, y_pred)\n",
    "plt.plot(np.linspace(0,1),np.linspace(0,1))\n",
    "plt.xlim(-0.2,1)\n",
    "plt.ylim(-0.2,1)"
   ]
  },
  {
   "cell_type": "code",
   "execution_count": null,
   "metadata": {},
   "outputs": [],
   "source": [
    "x_data = x_data3\n",
    "\n",
    "x_train, x_test = train_test_split(x_data, test_size=0.2, shuffle = True, random_state=42)\n",
    "y_train, y_test = train_test_split(y_data, test_size=0.2, shuffle = True, random_state=42)\n",
    "\n",
    "y_pred = training(x_train, y_train, x_test, lr=0.1, epochs = 50000)\n",
    "\n",
    "plt.figure(figsize=(8,8))\n",
    "plt.scatter(y_test, y_pred)\n",
    "plt.plot(np.linspace(0,1),np.linspace(0,1))\n",
    "plt.xlim(-0.2,1)\n",
    "plt.ylim(-0.2,1)"
   ]
  },
  {
   "cell_type": "code",
   "execution_count": null,
   "metadata": {},
   "outputs": [],
   "source": []
  },
  {
   "cell_type": "code",
   "execution_count": null,
   "metadata": {},
   "outputs": [],
   "source": []
  },
  {
   "cell_type": "code",
   "execution_count": null,
   "metadata": {},
   "outputs": [],
   "source": []
  },
  {
   "cell_type": "code",
   "execution_count": null,
   "metadata": {},
   "outputs": [],
   "source": []
  },
  {
   "cell_type": "code",
   "execution_count": null,
   "metadata": {},
   "outputs": [],
   "source": []
  }
 ],
 "metadata": {
  "kernelspec": {
   "display_name": "Python 3",
   "language": "python",
   "name": "python3"
  },
  "language_info": {
   "codemirror_mode": {
    "name": "ipython",
    "version": 3
   },
   "file_extension": ".py",
   "mimetype": "text/x-python",
   "name": "python",
   "nbconvert_exporter": "python",
   "pygments_lexer": "ipython3",
   "version": "3.7.3"
  }
 },
 "nbformat": 4,
 "nbformat_minor": 2
}
