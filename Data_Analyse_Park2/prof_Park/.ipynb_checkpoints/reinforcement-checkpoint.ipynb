{
 "cells": [
  {
   "cell_type": "code",
   "execution_count": 1,
   "metadata": {
    "colab": {
     "base_uri": "https://localhost:8080/",
     "height": 243
    },
    "colab_type": "code",
    "executionInfo": {
     "elapsed": 4067,
     "status": "ok",
     "timestamp": 1569548593005,
     "user": {
      "displayName": "박정우",
      "photoUrl": "",
      "userId": "11391346448703267126"
     },
     "user_tz": -540
    },
    "id": "-tM6w6JPYnDF",
    "outputId": "4a5bbe90-0b25-44a6-c5b0-3dacc126fb7b"
   },
   "outputs": [],
   "source": [
    "# pip install Gym"
   ]
  },
  {
   "cell_type": "code",
   "execution_count": null,
   "metadata": {
    "colab": {},
    "colab_type": "code",
    "id": "TL84JJrhYtmS"
   },
   "outputs": [],
   "source": []
  },
  {
   "cell_type": "code",
   "execution_count": 2,
   "metadata": {
    "colab": {
     "base_uri": "https://localhost:8080/",
     "height": 131
    },
    "colab_type": "code",
    "executionInfo": {
     "elapsed": 23474,
     "status": "ok",
     "timestamp": 1569550306654,
     "user": {
      "displayName": "박정우",
      "photoUrl": "",
      "userId": "11391346448703267126"
     },
     "user_tz": -540
    },
    "id": "0tAXo38TfHIB",
    "outputId": "f19bdf13-8b57-4a17-b663-865c1621c86d"
   },
   "outputs": [],
   "source": [
    "# from google.colab import drive\n",
    "# drive.mount('/content/drive')"
   ]
  },
  {
   "cell_type": "code",
   "execution_count": 3,
   "metadata": {
    "colab": {},
    "colab_type": "code",
    "id": "o-AjXqDpfSVU"
   },
   "outputs": [],
   "source": [
    "import numpy as np\n",
    "import matplotlib.pyplot as plt\n",
    "import gym\n",
    "from gym.envs.registration import register"
   ]
  },
  {
   "cell_type": "code",
   "execution_count": 4,
   "metadata": {
    "colab": {
     "base_uri": "https://localhost:8080/",
     "height": 405
    },
    "colab_type": "code",
    "executionInfo": {
     "elapsed": 630,
     "status": "error",
     "timestamp": 1569551471955,
     "user": {
      "displayName": "박정우",
      "photoUrl": "",
      "userId": "11391346448703267126"
     },
     "user_tz": -540
    },
    "id": "abIEog4XfSTC",
    "outputId": "3f8a1b03-030a-4e8f-f09b-3db48e1f0085"
   },
   "outputs": [],
   "source": [
    "register(id = \"FrozenLakeNotSlippery-v1\",\n",
    "        entry_point = \"gym.envs.toy_text:FrozenLakeEnv\",\n",
    "        kwargs = {\"map_name\" : \"4x4\", \"is_slippery\" : False})\n",
    "#id가 게임 환경의 이름이다. 동일 이름으로는 등록하면 안됨\n",
    "# \"SFFF\""
   ]
  },
  {
   "cell_type": "code",
   "execution_count": 5,
   "metadata": {
    "colab": {
     "base_uri": "https://localhost:8080/",
     "height": 36
    },
    "colab_type": "code",
    "executionInfo": {
     "elapsed": 633,
     "status": "ok",
     "timestamp": 1569551479712,
     "user": {
      "displayName": "박정우",
      "photoUrl": "",
      "userId": "11391346448703267126"
     },
     "user_tz": -540
    },
    "id": "6WC3rtu6fSQi",
    "outputId": "1bc4c9fe-ec0a-41c2-9fba-db806cdac8a3"
   },
   "outputs": [
    {
     "data": {
      "text/plain": [
       "0"
      ]
     },
     "execution_count": 5,
     "metadata": {},
     "output_type": "execute_result"
    }
   ],
   "source": [
    "env = gym.make(\"FrozenLakeNotSlippery-v1\") # 환경 생성\n",
    "env.reset()"
   ]
  },
  {
   "cell_type": "code",
   "execution_count": 6,
   "metadata": {
    "colab": {
     "base_uri": "https://localhost:8080/",
     "height": 596
    },
    "colab_type": "code",
    "executionInfo": {
     "elapsed": 753,
     "status": "ok",
     "timestamp": 1569551660743,
     "user": {
      "displayName": "박정우",
      "photoUrl": "",
      "userId": "11391346448703267126"
     },
     "user_tz": -540
    },
    "id": "oz9HjhcGjwEo",
    "outputId": "06a31e4d-f043-4a6c-ebf3-b869694bec22"
   },
   "outputs": [
    {
     "name": "stdout",
     "output_type": "stream",
     "text": [
      "  (Right)\n",
      "S\u001b[41mF\u001b[0mFF\n",
      "FHFH\n",
      "FFFH\n",
      "HFFG\n",
      "  (Right)\n",
      "SF\u001b[41mF\u001b[0mF\n",
      "FHFH\n",
      "FFFH\n",
      "HFFG\n",
      "  (Down)\n",
      "SFFF\n",
      "FH\u001b[41mF\u001b[0mH\n",
      "FFFH\n",
      "HFFG\n",
      "  (Down)\n",
      "SFFF\n",
      "FHFH\n",
      "FF\u001b[41mF\u001b[0mH\n",
      "HFFG\n",
      "  (Down)\n",
      "SFFF\n",
      "FHFH\n",
      "FFFH\n",
      "HF\u001b[41mF\u001b[0mG\n",
      "  (Right)\n",
      "SFFF\n",
      "FHFH\n",
      "FFFH\n",
      "HFF\u001b[41mG\u001b[0m\n",
      "도착, reward: 1.0\n"
     ]
    }
   ],
   "source": [
    "complete_actions=[2,2,1,1,1,2]\n",
    "for action in complete_actions:\n",
    "  new_state, reward, done, _ = env.step(action)#action을 적용\n",
    "  env.render() #현재 state 정보가 출력된다.\n",
    "  if done is True :\n",
    "    print('도착, reward: {}'.format(reward))"
   ]
  },
  {
   "cell_type": "code",
   "execution_count": 7,
   "metadata": {
    "colab": {},
    "colab_type": "code",
    "id": "1Trc3FkojwCL"
   },
   "outputs": [],
   "source": [
    "##미끄러운 경우 어떻게 되나 해보자!\n",
    "register(id = \"FrozenLakeNotSlippery-v3\",\n",
    "        entry_point = \"gym.envs.toy_text:FrozenLakeEnv\",\n",
    "        kwargs = {\"map_name\" : \"4x4\", \"is_slippery\" : True}) "
   ]
  },
  {
   "cell_type": "code",
   "execution_count": 8,
   "metadata": {
    "colab": {
     "base_uri": "https://localhost:8080/",
     "height": 615
    },
    "colab_type": "code",
    "executionInfo": {
     "elapsed": 656,
     "status": "ok",
     "timestamp": 1569551847955,
     "user": {
      "displayName": "박정우",
      "photoUrl": "",
      "userId": "11391346448703267126"
     },
     "user_tz": -540
    },
    "id": "YllF3fsLjwAR",
    "outputId": "5d269d7d-f712-4c6d-ac72-32846e8c9a58"
   },
   "outputs": [
    {
     "name": "stdout",
     "output_type": "stream",
     "text": [
      "  (Right)\n",
      "SFFF\n",
      "\u001b[41mF\u001b[0mHFH\n",
      "FFFH\n",
      "HFFG\n",
      "  (Right)\n",
      "\u001b[41mS\u001b[0mFFF\n",
      "FHFH\n",
      "FFFH\n",
      "HFFG\n",
      "  (Down)\n",
      "\u001b[41mS\u001b[0mFFF\n",
      "FHFH\n",
      "FFFH\n",
      "HFFG\n",
      "  (Down)\n",
      "SFFF\n",
      "\u001b[41mF\u001b[0mHFH\n",
      "FFFH\n",
      "HFFG\n",
      "  (Down)\n",
      "SFFF\n",
      "\u001b[41mF\u001b[0mHFH\n",
      "FFFH\n",
      "HFFG\n",
      "  (Right)\n",
      "\u001b[41mS\u001b[0mFFF\n",
      "FHFH\n",
      "FFFH\n",
      "HFFG\n"
     ]
    }
   ],
   "source": [
    "env = gym.make(\"FrozenLakeNotSlippery-v3\") # 환경 생성\n",
    "env.reset()\n",
    "complete_actions=[2,2,1,1,1,2]\n",
    "for action in complete_actions:\n",
    "  new_state, reward, done, _ = env.step(action)#action을 적용\n",
    "  env.render() #현재 state 정보가 출력된다.\n",
    "  if done is True :\n",
    "    print('도착, reward: {}'.format(reward))"
   ]
  },
  {
   "cell_type": "code",
   "execution_count": 9,
   "metadata": {
    "colab": {},
    "colab_type": "code",
    "id": "OKN3bmu9ll2_"
   },
   "outputs": [],
   "source": [
    "register(id = \"FrozenLakeNotSlippery-v4\",\n",
    "        entry_point = \"gym.envs.toy_text:FrozenLakeEnv\",\n",
    "        kwargs = {\"map_name\" : \"4x4\", \"is_slippery\" : False}) "
   ]
  },
  {
   "cell_type": "code",
   "execution_count": 10,
   "metadata": {
    "colab": {
     "base_uri": "https://localhost:8080/",
     "height": 111
    },
    "colab_type": "code",
    "executionInfo": {
     "elapsed": 742,
     "status": "ok",
     "timestamp": 1569552059963,
     "user": {
      "displayName": "박정우",
      "photoUrl": "",
      "userId": "11391346448703267126"
     },
     "user_tz": -540
    },
    "id": "Rcos2dktll0i",
    "outputId": "9cbf868b-3d7c-46ed-d5a3-dbff41f314bf"
   },
   "outputs": [
    {
     "name": "stdout",
     "output_type": "stream",
     "text": [
      "\n",
      "\u001b[41mS\u001b[0mFFF\n",
      "FHFH\n",
      "FFFH\n",
      "HFFG\n"
     ]
    }
   ],
   "source": [
    "env = gym.make(\"FrozenLakeNotSlippery-v4\")\n",
    "env.render()"
   ]
  },
  {
   "cell_type": "code",
   "execution_count": 11,
   "metadata": {
    "colab": {
     "base_uri": "https://localhost:8080/",
     "height": 36
    },
    "colab_type": "code",
    "executionInfo": {
     "elapsed": 680,
     "status": "ok",
     "timestamp": 1569552385765,
     "user": {
      "displayName": "박정우",
      "photoUrl": "",
      "userId": "11391346448703267126"
     },
     "user_tz": -540
    },
    "id": "TsMAWJvpmyL8",
    "outputId": "fdcf68a8-393d-4b29-d910-c37a6a96475f"
   },
   "outputs": [
    {
     "data": {
      "text/plain": [
       "4"
      ]
     },
     "execution_count": 11,
     "metadata": {},
     "output_type": "execute_result"
    }
   ],
   "source": [
    "import random\n",
    "env.action_space.n # action의 종류, 수\n",
    "#random.randint(0, env.action_space.n - 1 ) #0~3사이의 랜덤값이 도출되도록 한다.\n"
   ]
  },
  {
   "cell_type": "code",
   "execution_count": 12,
   "metadata": {
    "colab": {
     "base_uri": "https://localhost:8080/",
     "height": 307
    },
    "colab_type": "code",
    "executionInfo": {
     "elapsed": 1010,
     "status": "ok",
     "timestamp": 1569553036161,
     "user": {
      "displayName": "박정우",
      "photoUrl": "",
      "userId": "11391346448703267126"
     },
     "user_tz": -540
    },
    "id": "3I6ffvlyllzO",
    "outputId": "5915314b-d6a3-409d-9841-e67a583aa237"
   },
   "outputs": [
    {
     "name": "stdout",
     "output_type": "stream",
     "text": [
      "Success rate:0.021\n"
     ]
    },
    {
     "data": {
      "image/png": "[encoded data removed]",
      "text/plain": [
       "<Figure size 432x288 with 1 Axes>"
      ]
     },
     "metadata": {
      "needs_background": "light"
     },
     "output_type": "display_data"
    }
   ],
   "source": [
    "num_episodes=2000\n",
    "rList=[]\n",
    "\n",
    "for i in range(num_episodes):\n",
    "  env.reset()\n",
    "  done = False\n",
    "  rAll = 0\n",
    "  while not done:\n",
    "      action=random.randint(0,env.action_space.n-1) #0-3 정수\n",
    "      _state, reward, done, _info = env.step(action)\n",
    "      rAll += reward\n",
    "  rList.append(rAll)\n",
    "print(\"Success rate:\" + str(sum(rList)/num_episodes))\n",
    "plt.plot(rList)\n",
    "plt.show()"
   ]
  },
  {
   "cell_type": "code",
   "execution_count": 14,
   "metadata": {
    "colab": {},
    "colab_type": "code",
    "id": "rdKNSj8YllwS"
   },
   "outputs": [],
   "source": [
    "register(id = \"FrozenLakeNotSlippery-v5\",\n",
    "        entry_point = \"gym.envs.toy_text:FrozenLakeEnv\",\n",
    "        kwargs = {\"map_name\" : \"4x4\", \"is_slippery\" : False}) "
   ]
  },
  {
   "cell_type": "code",
   "execution_count": 15,
   "metadata": {
    "colab": {},
    "colab_type": "code",
    "id": "HoqDRuW1llt3"
   },
   "outputs": [
    {
     "name": "stdout",
     "output_type": "stream",
     "text": [
      "\n",
      "\u001b[41mS\u001b[0mFFF\n",
      "FHFH\n",
      "FFFH\n",
      "HFFG\n"
     ]
    }
   ],
   "source": [
    "env = gym.make(\"FrozenLakeNotSlippery-v5\")\n",
    "env.render()"
   ]
  },
  {
   "cell_type": "markdown",
   "metadata": {},
   "source": [
    "## Q-Table 생성\n"
   ]
  },
  {
   "cell_type": "code",
   "execution_count": 24,
   "metadata": {
    "colab": {},
    "colab_type": "code",
    "id": "VBDc7ZdOllsB"
   },
   "outputs": [],
   "source": [
    "env.action_space.n\n",
    "env.observation_space.n\n",
    "Q = np.zeros([env.observation_space.n, env.action_space.n])\n",
    "num_episodes = 2000\n"
   ]
  },
  {
   "cell_type": "code",
   "execution_count": 25,
   "metadata": {},
   "outputs": [],
   "source": [
    "import random as pr\n",
    "# 험수 생성 \n",
    "def rargmax(vector):\n",
    "    m = np.amax(vector)\n",
    "    indices = np.nonzero(vector==m)[0]\n",
    "    return pr.choice(indices)\n",
    "    "
   ]
  },
  {
   "cell_type": "code",
   "execution_count": 28,
   "metadata": {
    "colab": {},
    "colab_type": "code",
    "id": "poDTBP3Sllpo"
   },
   "outputs": [],
   "source": [
    "for i in range(num_episodes):\n",
    "    state = env.reset() # 0 번 state 에서 시작 \n",
    "    done = False\n",
    "    # Q table 학습 알고리즘 \n",
    "    while not done:\n",
    "        # 해야할 일\n",
    "        action = rargmax(Q[state, :]) # 시작 위치 # : = [0,0,0,0] 전체 \n",
    "        new_state, reward, done, _ = env.step(action)\n",
    "        \n",
    "        Q[state, action] = reward + np.max(Q[new_state, :])\n",
    "        rAll+= reward\n",
    "        state = new_state\n",
    "    \n",
    "    "
   ]
  },
  {
   "cell_type": "code",
   "execution_count": 29,
   "metadata": {
    "colab": {},
    "colab_type": "code",
    "id": "cKJCyaxPlloA"
   },
   "outputs": [
    {
     "data": {
      "text/plain": [
       "(array([0, 3, 4], dtype=int64),)"
      ]
     },
     "execution_count": 29,
     "metadata": {},
     "output_type": "execute_result"
    }
   ],
   "source": [
    "a = np.arange(3,10)\n",
    "a\n",
    "np.amax(a)\n",
    "a = np.array([1,0,0,1,2,0])\n",
    "np.nonzero(a)\n"
   ]
  },
  {
   "cell_type": "code",
   "execution_count": 30,
   "metadata": {},
   "outputs": [],
   "source": [
    "# gamma(discounted factkr) 츠가"
   ]
  },
  {
   "cell_type": "code",
   "execution_count": 31,
   "metadata": {
    "colab": {},
    "colab_type": "code",
    "id": "Hi4ggxAtllmL"
   },
   "outputs": [],
   "source": [
    "register(id = \"FrozenLakeNotSlippery-v6\",\n",
    "        entry_point = \"gym.envs.toy_text:FrozenLakeEnv\",\n",
    "        kwargs = {\"map_name\" : \"4x4\", \"is_slippery\" : False}) \n",
    "\n",
    "env = gym.make(\"FrozenLakeNotSlippery-v6\")\n",
    "\n",
    "Q = np.zeros([env.observation_space.n, env.action_space.n])\n",
    "num_episodes = 2000\n"
   ]
  },
  {
   "cell_type": "code",
   "execution_count": 32,
   "metadata": {},
   "outputs": [],
   "source": [
    "dis = .89 # discounted factor"
   ]
  },
  {
   "cell_type": "code",
   "execution_count": 35,
   "metadata": {},
   "outputs": [],
   "source": [
    "# np.random=rde"
   ]
  },
  {
   "cell_type": "code",
   "execution_count": 38,
   "metadata": {},
   "outputs": [
    {
     "name": "stdout",
     "output_type": "stream",
     "text": [
      "Success rate:0.999\n",
      "LEFT DOWN RIGHT UP\n",
      "[[0.49698129 0.55840594 0.55840594 0.49698129]\n",
      " [0.49698129 0.         0.62742241 0.55840594]\n",
      " [0.55840594 0.704969   0.55840594 0.62742241]\n",
      " [0.62742241 0.         0.62742241 0.55840594]\n",
      " [0.55840594 0.62742241 0.         0.49698129]\n",
      " [0.         0.         0.         0.        ]\n",
      " [0.         0.7921     0.         0.62742241]\n",
      " [0.         0.         0.         0.        ]\n",
      " [0.62742241 0.         0.704969   0.55840594]\n",
      " [0.62742241 0.7921     0.7921     0.        ]\n",
      " [0.704969   0.89       0.         0.704969  ]\n",
      " [0.         0.         0.         0.        ]\n",
      " [0.         0.         0.         0.        ]\n",
      " [0.         0.7921     0.89       0.704969  ]\n",
      " [0.7921     0.89       1.         0.7921    ]\n",
      " [0.         0.         0.         0.        ]]\n"
     ]
    },
    {
     "data": {
      "image/png": "[encoded data removed]",
      "text/plain": [
       "<Figure size 432x288 with 1 Axes>"
      ]
     },
     "metadata": {
      "needs_background": "light"
     },
     "output_type": "display_data"
    }
   ],
   "source": [
    "rList=[]\n",
    "\n",
    "for i in range(num_episodes):\n",
    "    state = env.reset() # 0번 state에서 시작\n",
    "    done = False\n",
    "    rAll = 0\n",
    "    while not done:\n",
    "        action = np.argmax(Q[state, :] + np.random.randn(1, env.action_space.n) / (i+1))\n",
    "        #0-3 정수\n",
    "        new_state, reward, done, _ = env.step(action)\n",
    "        Q[state, action] = reward+ dis*np.max(Q[new_state, : ])\n",
    "        rAll+=reward\n",
    "        state=new_state\n",
    "    rList.append(rAll)\n",
    "print(\"Success rate:\" + str(sum(rList)/num_episodes))\n",
    "print(\"LEFT DOWN RIGHT UP\")\n",
    "print(Q)\n",
    "plt.bar(range(len(rList)), rList, color = 'blue')\n",
    "plt.show()"
   ]
  },
  {
   "cell_type": "code",
   "execution_count": 39,
   "metadata": {},
   "outputs": [],
   "source": [
    "## E greddy \n",
    "register(id = \"FrozenLakeNotSlippery-v7\",\n",
    "        entry_point = \"gym.envs.toy_text:FrozenLakeEnv\",\n",
    "        kwargs = {\"map_name\" : \"4x4\", \"is_slippery\" : False}) \n",
    "\n",
    "env = gym.make(\"FrozenLakeNotSlippery-v7\")\n",
    "# Create Q table\n",
    "Q = np.zeros([env.observation_space.n, env.action_space.n])\n",
    "num_episodes = 2000\n",
    "\n",
    "dis = .89 # discounted factor\n"
   ]
  },
  {
   "cell_type": "code",
   "execution_count": 49,
   "metadata": {},
   "outputs": [
    {
     "name": "stdout",
     "output_type": "stream",
     "text": [
      "Success rate:0.8175\n",
      "LEFT DOWN RIGHT UP\n",
      "[[0.49698129 0.55840594 0.55840594 0.49698129]\n",
      " [0.49698129 0.         0.62742241 0.55840594]\n",
      " [0.55840594 0.704969   0.55840594 0.62742241]\n",
      " [0.62742241 0.         0.55840594 0.55840594]\n",
      " [0.55840594 0.62742241 0.         0.49698129]\n",
      " [0.         0.         0.         0.        ]\n",
      " [0.         0.7921     0.         0.62742241]\n",
      " [0.         0.         0.         0.        ]\n",
      " [0.62742241 0.         0.704969   0.55840594]\n",
      " [0.62742241 0.7921     0.7921     0.        ]\n",
      " [0.704969   0.89       0.         0.704969  ]\n",
      " [0.         0.         0.         0.        ]\n",
      " [0.         0.         0.         0.        ]\n",
      " [0.         0.7921     0.89       0.704969  ]\n",
      " [0.7921     0.89       1.         0.7921    ]\n",
      " [0.         0.         0.         0.        ]]\n"
     ]
    },
    {
     "data": {
      "image/png": "[encoded data removed]",
      "text/plain": [
       "<Figure size 432x288 with 1 Axes>"
      ]
     },
     "metadata": {
      "needs_background": "light"
     },
     "output_type": "display_data"
    }
   ],
   "source": [
    "rList=[]\n",
    "\n",
    "for i in range(num_episodes):\n",
    "    state = env.reset() # 0번 state에서 시작\n",
    "    done = False\n",
    "    rAll = 0\n",
    "    e = 1. / ((i//100) + 1) # e: 1. => 0.5 => .. => 0.05\n",
    "    # Q 테이블 학습 알고리즘 \n",
    "    while not done:\n",
    "#         action = np.argmax(Q[state, :] + np.random.randn(1, env.action_space.n) / (i+1))\n",
    "        if np.random.rand(1) < e:\n",
    "            action = env.action_space.sample()\n",
    "        else : \n",
    "            action = np.argmax(Q[state, :])\n",
    "        \n",
    "        #0-3 정수\n",
    "        new_state, reward, done, _ = env.step(action)\n",
    "        Q[state, action] = reward+ dis*np.max(Q[new_state, : ])\n",
    "        rAll+=reward\n",
    "        state=new_state\n",
    "    rList.append(rAll)\n",
    "print(\"Success rate:\" + str(sum(rList)/num_episodes))\n",
    "print(\"LEFT DOWN RIGHT UP\")\n",
    "print(Q)\n",
    "plt.bar(range(len(rList)), rList, color = 'blue')\n",
    "plt.show()"
   ]
  },
  {
   "cell_type": "code",
   "execution_count": 44,
   "metadata": {},
   "outputs": [],
   "source": [
    "# for i in range(num_episodes):\n",
    "#     print(1. / ((i//100)+1) )\n",
    "    "
   ]
  },
  {
   "cell_type": "code",
   "execution_count": 46,
   "metadata": {},
   "outputs": [
    {
     "data": {
      "text/plain": [
       "2"
      ]
     },
     "execution_count": 46,
     "metadata": {},
     "output_type": "execute_result"
    }
   ],
   "source": [
    "env.action_space.sample()\n",
    "# random 동작, 가보지 않은 식당 도전 "
   ]
  },
  {
   "cell_type": "code",
   "execution_count": null,
   "metadata": {},
   "outputs": [],
   "source": []
  }
 ],
 "metadata": {
  "colab": {
   "collapsed_sections": [],
   "name": "강화학습 1.ipynb",
   "provenance": []
  },
  "kernelspec": {
   "display_name": "Python 3",
   "language": "python",
   "name": "python3"
  },
  "language_info": {
   "codemirror_mode": {
    "name": "ipython",
    "version": 3
   },
   "file_extension": ".py",
   "mimetype": "text/x-python",
   "name": "python",
   "nbconvert_exporter": "python",
   "pygments_lexer": "ipython3",
   "version": "3.7.3"
  }
 },
 "nbformat": 4,
 "nbformat_minor": 1
}
