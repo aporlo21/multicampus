{
 "cells": [
  {
   "cell_type": "code",
   "execution_count": 2,
   "metadata": {},
   "outputs": [
    {
     "data": {
      "image/png": "[encoded data removed]",
      "text/plain": [
       "<Figure size 576x144 with 8 Axes>"
      ]
     },
     "metadata": {},
     "output_type": "display_data"
    },
    {
     "data": {
      "application/vnd.jupyter.widget-view+json": {
       "model_id": "9cd29828d02541ffa625cef8106c3120",
       "version_major": 2,
       "version_minor": 0
      },
      "text/plain": [
       "interactive(children=(IntSlider(value=0, description='x', max=7), Output()), _dom_classes=('widget-interact',)…"
      ]
     },
     "metadata": {},
     "output_type": "display_data"
    }
   ],
   "source": [
    "\n",
    "import numpy as np\n",
    "import matplotlib.pyplot as plt\n",
    "import matplotlib as mpl\n",
    "import pandas as pd\n",
    "import seaborn as sns\n",
    "import time\n",
    "from scipy.stats import norm, multivariate_normal\n",
    "# installing packages for interactive graphs\n",
    "import ipywidgets as widgets\n",
    "from IPython.display import display\n",
    "from ipywidgets import interact, interactive, fixed, interact_manual, IntSlider\n",
    "\n",
    "digits = load_digits()\n",
    "digits\n",
    "\n",
    "samples = [0, 10, 20, 30, 1, 11, 21, 31] ## 이미지 번호\n",
    "d = []\n",
    "for i in range(8):\n",
    "    d.append(digits.images[samples[i]])  # [0, 10, 20, 30, 1, 11, 21, 31]\n",
    " \n",
    "# %matplotlib inline\n",
    "plt.figure(figsize = ( 8,2 ))\n",
    " \n",
    "for i in range(8):\n",
    "    ## 8개의 박스 생성, i + 1은 각 박스의 위치\n",
    "    plt.subplot(1,8, i + 1)\n",
    "    plt.imshow(d[i], cmap = plt.cm.bone,interpolation = \"nearest\")\n",
    "    plt.title(\"ime {}\".format( i + 1 ))\n",
    "    plt.grid(False)\n",
    "    plt.xticks([])\n",
    "    plt.yticks([])\n",
    " \n",
    "plt.show()\n",
    " \n",
    "## 2차원 이미지를 1차원 벡터로.\n",
    "v = []\n",
    "for i in range(8):\n",
    "    v.append(d[i].reshape(64,1))  # 벡터화\n",
    " \n",
    "np.shape(v)\n",
    " \n",
    "def check_sim(x):\n",
    "    sum_inner = np.array([ x.ravel() @ d[i].ravel() for i in range( 8 ) ])\n",
    "    print(sum_inner)\n",
    "    return sum_inner\n",
    " \n",
    "## 쉬프트 엔터 누르시면 슬라이더바가 생깁니다.\n",
    " \n",
    "@interact( x =IntSlider(0,0,7) )\n",
    "def test_model( x ):\n",
    "    i_max = np.argmax(check_sim( d[x] )) \n",
    "    plt.imshow(d[i_max], cmap = plt.cm.bone,interpolation = \"nearest\")\n",
    "    print(\"최근접 이미지 : \", i_max)"
   ]
  },
  {
   "cell_type": "code",
   "execution_count": null,
   "metadata": {},
   "outputs": [],
   "source": []
  }
 ],
 "metadata": {
  "kernelspec": {
   "display_name": "Python 3",
   "language": "python",
   "name": "python3"
  },
  "language_info": {
   "codemirror_mode": {
    "name": "ipython",
    "version": 3
   },
   "file_extension": ".py",
   "mimetype": "text/x-python",
   "name": "python",
   "nbconvert_exporter": "python",
   "pygments_lexer": "ipython3",
   "version": "3.7.3"
  }
 },
 "nbformat": 4,
 "nbformat_minor": 2
}
