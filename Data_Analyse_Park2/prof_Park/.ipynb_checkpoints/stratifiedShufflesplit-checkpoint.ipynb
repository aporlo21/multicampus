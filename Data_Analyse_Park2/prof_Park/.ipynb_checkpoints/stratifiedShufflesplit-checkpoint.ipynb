{
 "cells": [
  {
   "cell_type": "code",
   "execution_count": null,
   "metadata": {},
   "outputs": [],
   "source": [
    "# 교차 검증을 검증하기 위한 도움 테스트 셋 생성"
   ]
  },
  {
   "cell_type": "code",
   "execution_count": 4,
   "metadata": {},
   "outputs": [],
   "source": [
    "# stratified : 층이 있는 // 계층화\n",
    "import numpy as np\n",
    "seed=0\n",
    "np.random.seed(seed)"
   ]
  },
  {
   "cell_type": "code",
   "execution_count": 5,
   "metadata": {},
   "outputs": [],
   "source": [
    "# 원소 9개인 넘파이 배열생성\n",
    "# y값은 0이 3, 1은 6개로 비율은 1:2 (불균형 데이터)\n",
    "X = np.array([-5,-3,-1,1,3,5,7,9,11])\n",
    "Y = np.array([0,0,0,1,1,1,1,1,1])"
   ]
  },
  {
   "cell_type": "code",
   "execution_count": 7,
   "metadata": {},
   "outputs": [
    {
     "name": "stdout",
     "output_type": "stream",
     "text": [
      "StratifiedKFold(n_splits=3, random_state=0, shuffle=True)\n",
      "====================================================================================================\n",
      "train Index: [0 1 3 4 6 7]\n",
      "test index: [2 5 8]\n",
      "----------------------------------------------------------------------------------------------------\n",
      "train Index: [0 2 3 5 7 8]\n",
      "test index: [1 4 6]\n",
      "----------------------------------------------------------------------------------------------------\n",
      "train Index: [1 2 4 5 6 8]\n",
      "test index: [0 3 7]\n",
      "----------------------------------------------------------------------------------------------------\n"
     ]
    }
   ],
   "source": [
    "# StratifiedKFold\n",
    "# Stratified하게 트레이닝셋과 테스트셋으로 나눈다\n",
    "# KFold기법에 의해 test에 선택된 인덱스는 겹치지 않도록 한다\n",
    "from sklearn.model_selection import StratifiedKFold\n",
    "kfold = StratifiedKFold(n_splits=splits, shuffle=True, random_state=seed)\n",
    " \n",
    "print(kfold)\n",
    "print(\"=\"*100)\n",
    "for train_index, test_index in kfold.split(X, Y):\n",
    "    print(\"train Index:\", train_index)\n",
    "    print(\"test index:\", test_index)\n",
    "    X_train, X_test = X[train_index], X[test_index]\n",
    "    Y_train, Y_test = Y[train_index], Y[test_index]\n",
    "    print(\"-\"*100)"
   ]
  },
  {
   "cell_type": "code",
   "execution_count": 8,
   "metadata": {},
   "outputs": [
    {
     "name": "stdout",
     "output_type": "stream",
     "text": [
      "StratifiedShuffleSplit(n_splits=3, random_state=0, test_size=0.3,\n",
      "            train_size=None)\n",
      "====================================================================================================\n",
      "train Index [1 5 4 2 7 6]\n",
      "test Index [3 8 0]\n",
      "----------------------------------------------------------------------------------------------------\n",
      "train Index [8 6 5 7 1 0]\n",
      "test Index [3 2 4]\n",
      "----------------------------------------------------------------------------------------------------\n",
      "train Index [8 7 4 2 1 5]\n",
      "test Index [6 3 0]\n",
      "----------------------------------------------------------------------------------------------------\n"
     ]
    }
   ],
   "source": [
    "from sklearn.model_selection import StratifiedShuffleSplit\n",
    "\n",
    "shufflesplit = StratifiedShuffleSplit(n_splits=splits, random_state=seed, test_size=0.3)\n",
    "\n",
    "print(shufflesplit)\n",
    "print(\"=\"*100)\n",
    "for train_index, test_index in shufflesplit.split(X,Y):\n",
    "    print('train Index', train_index)\n",
    "    print('test Index', test_index)\n",
    "    X_train, X_test = X[train_index], X[test_index]\n",
    "    Y_train, Y_test = Y[train_index], Y[test_index]\n",
    "    print('-'*100)\n",
    "          \n",
    "\n"
   ]
  },
  {
   "cell_type": "code",
   "execution_count": 9,
   "metadata": {},
   "outputs": [
    {
     "name": "stdout",
     "output_type": "stream",
     "text": [
      "train Index: [1 5 4 2 7 6]\n",
      "test index: [3 8 0]\n",
      "----------------------------------------------------------------------------------------------------\n"
     ]
    }
   ],
   "source": [
    " \n",
    "# train_test_split\n",
    "# Stratified하게 트레이닝셋과 테스트셋으로 나눈다(1회만 실시)\n",
    "from sklearn.model_selection import train_test_split\n",
    "train_index, test_index = train_test_split(np.array(range(X.shape[0])), shuffle=True, stratify=Y, \n",
    "                                                                 test_size=0.3, random_state=seed)\n",
    "print(\"train Index:\", train_index)\n",
    "print(\"test index:\", test_index)\n",
    "X_train, X_test = X[train_index], X[test_index]\n",
    "Y_train, Y_test = Y[train_index], Y[test_index]\n",
    "print(\"-\"*100)\n",
    " "
   ]
  },
  {
   "cell_type": "code",
   "execution_count": null,
   "metadata": {},
   "outputs": [],
   "source": []
  }
 ],
 "metadata": {
  "kernelspec": {
   "display_name": "Python 3",
   "language": "python",
   "name": "python3"
  },
  "language_info": {
   "codemirror_mode": {
    "name": "ipython",
    "version": 3
   },
   "file_extension": ".py",
   "mimetype": "text/x-python",
   "name": "python",
   "nbconvert_exporter": "python",
   "pygments_lexer": "ipython3",
   "version": "3.7.3"
  }
 },
 "nbformat": 4,
 "nbformat_minor": 2
}
