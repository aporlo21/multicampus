{
 "cells": [
  {
   "cell_type": "code",
   "execution_count": 53,
   "metadata": {},
   "outputs": [],
   "source": [
    "## day11_quiz\n",
    "import pandas as pd\n",
    "import numpy as np\n",
    "import matplotlib.pyplot as plt\n",
    "import seaborn as sns\n",
    "import re\n",
    "import missingno as msno\n",
    "from plotnine import *\n",
    "from jupyterthemes import jtplot\n",
    "import urllib.request as req\n",
    "from bs4 import BeautifulSoup\n",
    "import requests\n",
    "jtplot.style(theme='gruvboxd', context='paper', spines=True, \n",
    "             ticks=True, grid=True, gridlines='dotted', figsize=(6,4.5))"
   ]
  },
  {
   "cell_type": "code",
   "execution_count": 54,
   "metadata": {},
   "outputs": [
    {
     "name": "stdout",
     "output_type": "stream",
     "text": [
      "하늘과 바람과 별과 시\n"
     ]
    }
   ],
   "source": [
    "# day12 \n",
    "# https://ko.wikisource.org/wiki\n",
    "# 윤동주\n",
    "url=\"https://ko.wikisource.org/wiki/%EC%A0%80%EC%9E%90:%EC%9C%A4%EB%8F%99%EC%A3%BC\"\n",
    "res=req.urlopen(url)\n",
    "res # response 객체 생성 \n",
    "soup=BeautifulSoup(res, \"html.parser\")\n",
    "soup\n",
    "myList=soup.select(\"#mw-content-text > div > ul:nth-child(6) > li > b > a\")\n",
    "# 유일한 키라면 selector 다 써줄 필욘 x // 계층구조 다써줄 필요 x\n",
    "print(myList[0].string)\n",
    "\n",
    "# for a in myList:\n",
    "#     v = a.string\n",
    "#     print(v)\n",
    "\n",
    "# 리스트는 스트링 바로 할수 없어 => for 문 돌려 \n",
    "# 6번째 ul 태그\n",
    "# 인코딩 // 16진수 변환\n",
    "# css : mw-content-text > div > ul:nth-child(6) > li > b > a\n",
    "#       div class = \"\" id \n",
    "# 클래스에 대한 id 추출시 # 을 사용해서 추출한다 "
   ]
  },
  {
   "cell_type": "code",
   "execution_count": 55,
   "metadata": {},
   "outputs": [
    {
     "data": {
      "text/plain": [
       "\n",
       "<ul id=\"books\">\n",
       "<li id=\"b1\">상실의시대</li>\n",
       "<li id=\"b2\">데미안</li>\n",
       "<li id=\"b3\">이방인</li>\n",
       "<li id=\"b4\">태백산맥</li>\n",
       "<li id=\"b5\">어린왕자</li>\n",
       "</ul>"
      ]
     },
     "execution_count": 55,
     "metadata": {},
     "output_type": "execute_result"
    }
   ],
   "source": [
    "# selctor 이용해서 작업하면 손쉬워 진다 \n",
    "# css Selector 추출\n",
    "html=\\\n",
    "\"\"\"\n",
    "<ul id='books'>\n",
    "<li id='b1'>상실의시대</li>\n",
    "<li id='b2'>데미안</li>\n",
    "<li id='b3'>이방인</li>\n",
    "<li id='b4'>태백산맥</li>\n",
    "<li id='b5'>어린왕자</li>\n",
    "\"\"\"\n",
    "# 다양한 css 선택자 이용 추출\n",
    "soup=BeautifulSoup(html,'html.parser')\n",
    "soup\n"
   ]
  },
  {
   "cell_type": "code",
   "execution_count": 56,
   "metadata": {},
   "outputs": [],
   "source": [
    "sel=lambda q:print(soup.select_one(q).string)\n",
    "# 람다 함수 이름 sel\n",
    "# q 에 해당하는거 추출 \n",
    "# 의미) (=select) 선택자에 해당하는 것 추출해서 string으로 반환 하겠다 \n",
    "# \n",
    "# soup에 저장된 html문서에서 해당 텍스트를 추출하여 출력 \n",
    "\n",
    "# 람다함수 사용식 익히자"
   ]
  },
  {
   "cell_type": "code",
   "execution_count": 57,
   "metadata": {},
   "outputs": [
    {
     "name": "stdout",
     "output_type": "stream",
     "text": [
      "태백산맥\n",
      "태백산맥\n",
      "태백산맥\n",
      "태백산맥\n",
      "태백산맥\n",
      "태백산맥\n",
      "태백산맥\n",
      "태백산맥\n",
      "========================================\n",
      "태백산맥\n",
      "태백산맥\n"
     ]
    }
   ],
   "source": [
    "sel(\"#b4\")\n",
    "# li 태그 밑에 id가 #b4인 행 추출\n",
    "sel(\"li#b4\")\n",
    "sel(\"ul>li#b4\")\n",
    "# 신버젼이면 띄어쓰기도 가능함 \n",
    "# 부모 태그 (ul) # 태그구분 (>) 이용\n",
    "# 시작태그 / 끝 태그 (둘러싸고있는 태그 )\n",
    "sel(\"#books #b4\")\n",
    "sel(\"#books > #b4\") \n",
    "sel(\"li[id='b4']\") # 홑따옴표 쓰기!  외부 내부 는 \"''\" 반대로 구분 \n",
    "sel(\"li:nth-child(4)\")\n",
    "sel(\"li:nth-of-type(4)\")\n",
    "\n",
    "print(\"=\"*40)\n",
    "print(soup.select(\"li\")[3].string)\n",
    "print(soup.find_all(\"li\")[3].string)\n"
   ]
  },
  {
   "cell_type": "code",
   "execution_count": 58,
   "metadata": {},
   "outputs": [],
   "source": [
    "# http://stackoverflow.com/questions/tagged/python\n",
    "# question-summary-57067264 > div.summary > h3 > a\n",
    "# question-summary-57067260 > div.summary > h3 > a\n",
    "# questions"
   ]
  },
  {
   "cell_type": "code",
   "execution_count": 84,
   "metadata": {},
   "outputs": [
    {
     "ename": "TypeError",
     "evalue": "select() missing 1 required positional argument: 'selector'",
     "output_type": "error",
     "traceback": [
      "\u001b[1;31m---------------------------------------------------------------------------\u001b[0m",
      "\u001b[1;31mTypeError\u001b[0m                                 Traceback (most recent call last)",
      "\u001b[1;32m<ipython-input-84-133ffd7eb5f9>\u001b[0m in \u001b[0;36m<module>\u001b[1;34m\u001b[0m\n\u001b[0;32m      3\u001b[0m \u001b[0mdocument\u001b[0m\u001b[1;33m=\u001b[0m\u001b[0mpage\u001b[0m\u001b[1;33m.\u001b[0m\u001b[0mread\u001b[0m\u001b[1;33m(\u001b[0m\u001b[1;33m)\u001b[0m\u001b[1;33m\u001b[0m\u001b[1;33m\u001b[0m\u001b[0m\n\u001b[0;32m      4\u001b[0m \u001b[0msoup\u001b[0m\u001b[1;33m=\u001b[0m\u001b[0mBeautifulSoup\u001b[0m\u001b[1;33m(\u001b[0m\u001b[0mdocument\u001b[0m\u001b[1;33m,\u001b[0m \u001b[1;34m\"html.parser\"\u001b[0m\u001b[1;33m)\u001b[0m\u001b[1;33m\u001b[0m\u001b[1;33m\u001b[0m\u001b[0m\n\u001b[1;32m----> 5\u001b[1;33m \u001b[0mquestions\u001b[0m\u001b[1;33m=\u001b[0m\u001b[0msoup\u001b[0m\u001b[1;33m.\u001b[0m\u001b[0mselect\u001b[0m\u001b[1;33m(\u001b[0m\u001b[0mid\u001b[0m\u001b[1;33m=\u001b[0m\u001b[1;34m\"questions\"\u001b[0m\u001b[1;33m)\u001b[0m\u001b[1;33m\u001b[0m\u001b[1;33m\u001b[0m\u001b[0m\n\u001b[0m\u001b[0;32m      6\u001b[0m \u001b[0mquestions\u001b[0m\u001b[1;33m\u001b[0m\u001b[1;33m\u001b[0m\u001b[0m\n\u001b[0;32m      7\u001b[0m \u001b[0mquestions_list\u001b[0m\u001b[1;33m=\u001b[0m\u001b[0mquestions\u001b[0m\u001b[1;33m.\u001b[0m\u001b[0mselect\u001b[0m\u001b[1;33m(\u001b[0m\u001b[1;34m\"a\"\u001b[0m\u001b[1;33m,\u001b[0m \u001b[0mclass_\u001b[0m\u001b[1;33m=\u001b[0m\u001b[1;34m\"question-hyperlink\"\u001b[0m\u001b[1;33m)\u001b[0m\u001b[1;33m\u001b[0m\u001b[1;33m\u001b[0m\u001b[0m\n",
      "\u001b[1;31mTypeError\u001b[0m: select() missing 1 required positional argument: 'selector'"
     ]
    }
   ],
   "source": [
    "from urllib.request import urlopen\n",
    "page=urlopen(\"https://stackoverflow.com/questions/tagged/python\")\n",
    "document=page.read()\n",
    "soup=BeautifulSoup(document, \"html.parser\")\n",
    "\n",
    "questions=soup.select(id=\"questions\")\n",
    "questions\n",
    "questions_list=questions.select(\"a\", class_=\"question-hyperlink\")\n",
    "# 출력되어진 결과 디스플레이 \n",
    "# <a class> = \"question-hyperlink\" \"post-tag\"\n",
    "# 대괄호로 묶인 자료구조 // 리스트\n",
    "for questions in questions_list:\n",
    "    print(questions.get_text())\n",
    "#     print(questions.string)\n",
    "#     print(questions)\n",
    "#     print(\"=\"*40)\n",
    "# 클릭하면 이동한다 /./ 해당 질문 페이지로 : 링크\n",
    "# 링크가 걸리도록 설정하는 태그 가 a 태그\n",
    "# href ( hyper text reference ) : 동적으로 참조하고자 하는 주소값\n",
    "    print(\"답변:\", 'https://stackoverflow.com'+questions.get('href'))\n",
    "    print(\"=\"*40)\n",
    "    print(\"답변:\", 'https://stackoverflow.com'+questions.get('href'))\n",
    "    print(\"=\"*40)\n",
    "\n",
    "# 1. 연습문제 ( 답변 x => '답변이 아직없네요' // 답변 o => )\n",
    "# 리스트의 사이즈가 0이냐 아니냐 <발상>\n",
    "\n"
   ]
  },
  {
   "cell_type": "code",
   "execution_count": 100,
   "metadata": {},
   "outputs": [
    {
     "ename": "TypeError",
     "evalue": "'list' object is not callable",
     "output_type": "error",
     "traceback": [
      "\u001b[1;31m---------------------------------------------------------------------------\u001b[0m",
      "\u001b[1;31mTypeError\u001b[0m                                 Traceback (most recent call last)",
      "\u001b[1;32m<ipython-input-100-1da0d37f07d0>\u001b[0m in \u001b[0;36m<module>\u001b[1;34m\u001b[0m\n\u001b[0;32m     12\u001b[0m \u001b[1;33m\u001b[0m\u001b[0m\n\u001b[0;32m     13\u001b[0m \u001b[1;33m\u001b[0m\u001b[0m\n\u001b[1;32m---> 14\u001b[1;33m \u001b[0mboxes_list\u001b[0m\u001b[1;33m=\u001b[0m\u001b[0mboxes\u001b[0m\u001b[1;33m(\u001b[0m\u001b[0mid\u001b[0m\u001b[1;33m=\u001b[0m\u001b[1;34m\"homepage-top-box-office > h2\"\u001b[0m\u001b[1;33m)\u001b[0m\u001b[1;33m\u001b[0m\u001b[1;33m\u001b[0m\u001b[0m\n\u001b[0m\u001b[0;32m     15\u001b[0m \u001b[0mboxes_list\u001b[0m\u001b[1;33m=\u001b[0m\u001b[0mboxes\u001b[0m\u001b[1;33m.\u001b[0m\u001b[0mfind_all\u001b[0m\u001b[1;33m(\u001b[0m\u001b[1;34m\"a\"\u001b[0m\u001b[1;33m,\u001b[0m \u001b[0mclass_\u001b[0m\u001b[1;33m=\u001b[0m\u001b[1;34m\"pull-right showtimesLink\"\u001b[0m\u001b[1;33m)\u001b[0m\u001b[1;33m\u001b[0m\u001b[1;33m\u001b[0m\u001b[0m\n\u001b[0;32m     16\u001b[0m \u001b[1;33m\u001b[0m\u001b[0m\n",
      "\u001b[1;31mTypeError\u001b[0m: 'list' object is not callable"
     ]
    }
   ],
   "source": [
    "# http://www.rottentomatoes.com\n",
    "page=urlopen(\"https://www.rottentomatoes.com/\")\n",
    "document=page.read()\n",
    "soup=BeautifulSoup(document, \"html.parser\")\n",
    "\n",
    "boxes=[]\n",
    "boxes1=soup.find_all(\"homepage-top-box-office > h2\")\n",
    "for box in boxes1:\n",
    "    List=box.string\n",
    "    boxes.append(List)\n",
    "\n",
    "boxes_list=boxes(id=\"homepage-top-box-office > h2\")\n",
    "boxes_list=boxes.find_all(\"a\", class_=\"pull-right showtimesLink\")\n",
    "\n",
    "for boxes in boxes_list:\n",
    "    print(boxes_list.get_text())\n",
    "    \n",
    "    print(\"링크\", 'https://www.ro ttentomatoes.com/'+ boxes.get('href'))\n",
    "    print(\"=\"*40)\n",
    "\n"
   ]
  },
  {
   "cell_type": "code",
   "execution_count": 97,
   "metadata": {},
   "outputs": [],
   "source": [
    "# boxes=soup.sel(id=\"homepage-top-box-office > h2\")\n"
   ]
  },
  {
   "cell_type": "code",
   "execution_count": null,
   "metadata": {},
   "outputs": [],
   "source": []
  },
  {
   "cell_type": "code",
   "execution_count": null,
   "metadata": {},
   "outputs": [],
   "source": []
  },
  {
   "cell_type": "code",
   "execution_count": null,
   "metadata": {},
   "outputs": [],
   "source": []
  },
  {
   "cell_type": "code",
   "execution_count": null,
   "metadata": {},
   "outputs": [],
   "source": []
  }
 ],
 "metadata": {
  "kernelspec": {
   "display_name": "Python 3",
   "language": "python",
   "name": "python3"
  },
  "language_info": {
   "codemirror_mode": {
    "name": "ipython",
    "version": 3
   },
   "file_extension": ".py",
   "mimetype": "text/x-python",
   "name": "python",
   "nbconvert_exporter": "python",
   "pygments_lexer": "ipython3",
   "version": "3.7.3"
  }
 },
 "nbformat": 4,
 "nbformat_minor": 2
}
