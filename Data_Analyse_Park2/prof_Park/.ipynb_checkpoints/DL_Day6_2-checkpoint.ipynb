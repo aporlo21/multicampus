{
 "cells": [
  {
   "cell_type": "code",
   "execution_count": 20,
   "metadata": {},
   "outputs": [],
   "source": [
    "from konlpy.tag import Okt"
   ]
  },
  {
   "cell_type": "code",
   "execution_count": 32,
   "metadata": {},
   "outputs": [
    {
     "ename": "IndentationError",
     "evalue": "expected an indented block (<ipython-input-32-5cdb9c3c5c30>, line 28)",
     "output_type": "error",
     "traceback": [
      "\u001b[1;36m  File \u001b[1;32m\"<ipython-input-32-5cdb9c3c5c30>\"\u001b[1;36m, line \u001b[1;32m28\u001b[0m\n\u001b[1;33m    def predict(self, text):\u001b[0m\n\u001b[1;37m      ^\u001b[0m\n\u001b[1;31mIndentationError\u001b[0m\u001b[1;31m:\u001b[0m expected an indented block\n"
     ]
    }
   ],
   "source": [
    "class BayesianFilter:     #붕어빵기계(클래스)\n",
    "    def __init__(self):   #self:자신(만들어질 객체,붕어빵)\n",
    "        self.words=set()  #붕어빵.길이=15센티, 단어 저장\n",
    "        self.word_dict={} #카테고리(광고/중요) 단어 빈도수\n",
    "        self.category_dict={}  \n",
    "    def split(self, text):#어미/조사/구두점 제외,형태소분석\n",
    "        result=[]\n",
    "        okt=Okt()\n",
    "        malist=okt.pos(text, norm=True, stem=True)\n",
    "        for word in malist: \n",
    "            if not word[1] in [\"Josa\", \"Eomi\", \"Punctuation\"]:\n",
    "                result.append(word[0])\n",
    "        return result\n",
    "            #print(word[1])        \n",
    "            #조사,어미,구두점을 제외한 나머지 단어만 \n",
    "            #result에 저장\n",
    "    def inc_word(self, word, category):#오늘, 광고\n",
    "        #단어를 카테고리에 추가\n",
    "        if not category in self.word_dict:\n",
    "            self.word_dict[category]={} \n",
    "        if not word in self.word_dict[category]:\n",
    "            self.word_dict[category][word]=0\n",
    "        self.word_dict[category][word]+=1#{'광고':{'파격':1,'오늘':1} , '중요':{ }}\n",
    "        self.words.add(word) #{'파격','오늘'}  \n",
    "    \n",
    "    def inc_category(self, category):\n",
    "        if not category in self.category_dict:\n",
    "            self.category_dict[category]=0\n",
    "        self.category_dict[category]+=1       \n",
    "    \n",
    "    #예측\n",
    "    def predict(self, text):        \n",
    "        \n",
    "    def fit(self,text,category):\n",
    "        word_list=self.split(text)     \n",
    "        for word in word_list:\n",
    "            self.inc_word(word, category)\n",
    "        self.inc_category(category)\n",
    "        #print(word_list)\n",
    "        "
   ]
  },
  {
   "cell_type": "code",
   "execution_count": 30,
   "metadata": {
    "scrolled": true
   },
   "outputs": [
    {
     "name": "stdout",
     "output_type": "stream",
     "text": [
      "['파격', '세', '일', '오늘', '50%', '할인']\n",
      "['무료', '쿠폰', '선물', '무료', '배송']\n",
      "['아사히', '맥주', '세', '일']\n",
      "['회의', '일정', '확인', '부탁드리다']\n",
      "['오늘', '일정', '없다']\n"
     ]
    }
   ],
   "source": [
    "bs=BayesianFilter()   #붕어빵기계에서 붕어빵 1개 만들어라\n",
    "bs.fit(\"파격 세일 - 오늘까지만 50% 할인\", \"광고\")\n",
    "bs.fit(\"무료 쿠폰 선물 & 무료 배송\", \"광고\")\n",
    "bs.fit(\"아사히 맥주 세일\", \"광고\")\n",
    "bs.fit(\"회의 일정 확인 부탁드립니다\", \"중요\")\n",
    "bs.fit(\"오늘 일정이 없습니다\", \"중요\")\n",
    "res, scorelist=bs.predict(\"재고 정리 할인,  배송\")\n",
    "print(\"결과:\" res) #중요 or 광고\n",
    "print(scorelist)#중요메일/광고메일 베이지안 필터기 각 확률"
   ]
  },
  {
   "cell_type": "code",
   "execution_count": null,
   "metadata": {},
   "outputs": [],
   "source": []
  },
  {
   "cell_type": "code",
   "execution_count": null,
   "metadata": {},
   "outputs": [],
   "source": []
  }
 ],
 "metadata": {
  "kernelspec": {
   "display_name": "Python 3",
   "language": "python",
   "name": "python3"
  },
  "language_info": {
   "codemirror_mode": {
    "name": "ipython",
    "version": 3
   },
   "file_extension": ".py",
   "mimetype": "text/x-python",
   "name": "python",
   "nbconvert_exporter": "python",
   "pygments_lexer": "ipython3",
   "version": "3.7.3"
  }
 },
 "nbformat": 4,
 "nbformat_minor": 2
}
