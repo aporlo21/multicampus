{
 "cells": [
  {
   "cell_type": "code",
   "execution_count": 2,
   "metadata": {},
   "outputs": [],
   "source": [
    "import pandas as pd\n",
    "from pandas import Series, DataFrame\n",
    "import numpy as np \n",
    "import sklearn.preprocessing\n",
    "from sklearn.preprocessing import StandardScaler, RobustScaler"
   ]
  },
  {
   "cell_type": "code",
   "execution_count": 3,
   "metadata": {},
   "outputs": [],
   "source": [
    "df=pd.DataFrame(np.random.randn(5,3),\n",
    "               columns=['c1','c2','c3']) \n",
    "# 5행 3열 15개 data 도출"
   ]
  },
  {
   "cell_type": "code",
   "execution_count": 4,
   "metadata": {},
   "outputs": [
    {
     "data": {
      "text/html": [
       "<div>\n",
       "<style scoped>\n",
       "    .dataframe tbody tr th:only-of-type {\n",
       "        vertical-align: middle;\n",
       "    }\n",
       "\n",
       "    .dataframe tbody tr th {\n",
       "        vertical-align: top;\n",
       "    }\n",
       "\n",
       "    .dataframe thead th {\n",
       "        text-align: right;\n",
       "    }\n",
       "</style>\n",
       "<table border=\"1\" class=\"dataframe\">\n",
       "  <thead>\n",
       "    <tr style=\"text-align: right;\">\n",
       "      <th></th>\n",
       "      <th>c1</th>\n",
       "      <th>c2</th>\n",
       "      <th>c3</th>\n",
       "    </tr>\n",
       "  </thead>\n",
       "  <tbody>\n",
       "    <tr>\n",
       "      <th>0</th>\n",
       "      <td>-0.981857</td>\n",
       "      <td>-1.408112</td>\n",
       "      <td>0.135563</td>\n",
       "    </tr>\n",
       "    <tr>\n",
       "      <th>1</th>\n",
       "      <td>-0.113071</td>\n",
       "      <td>-1.210681</td>\n",
       "      <td>-1.224162</td>\n",
       "    </tr>\n",
       "    <tr>\n",
       "      <th>2</th>\n",
       "      <td>-0.493226</td>\n",
       "      <td>-0.035034</td>\n",
       "      <td>1.316825</td>\n",
       "    </tr>\n",
       "    <tr>\n",
       "      <th>3</th>\n",
       "      <td>-0.850582</td>\n",
       "      <td>-2.539402</td>\n",
       "      <td>-1.189169</td>\n",
       "    </tr>\n",
       "    <tr>\n",
       "      <th>4</th>\n",
       "      <td>0.253600</td>\n",
       "      <td>0.239939</td>\n",
       "      <td>1.561135</td>\n",
       "    </tr>\n",
       "  </tbody>\n",
       "</table>\n",
       "</div>"
      ],
      "text/plain": [
       "         c1        c2        c3\n",
       "0 -0.981857 -1.408112  0.135563\n",
       "1 -0.113071 -1.210681 -1.224162\n",
       "2 -0.493226 -0.035034  1.316825\n",
       "3 -0.850582 -2.539402 -1.189169\n",
       "4  0.253600  0.239939  1.561135"
      ]
     },
     "execution_count": 4,
     "metadata": {},
     "output_type": "execute_result"
    }
   ],
   "source": [
    "df"
   ]
  },
  {
   "cell_type": "code",
   "execution_count": 5,
   "metadata": {},
   "outputs": [
    {
     "data": {
      "text/plain": [
       "DatetimeIndex(['2019-07-03', '2019-07-04', '2019-07-05', '2019-07-10'], dtype='datetime64[ns]', freq=None)"
      ]
     },
     "execution_count": 5,
     "metadata": {},
     "output_type": "execute_result"
    }
   ],
   "source": [
    "dfdate=['07/3/2019','07/4/2019','07/5/2019','07/10/2019']\n",
    "dfdate\n",
    "myDate=pd.to_datetime(dfdate)\n",
    "myDate\n",
    "# 문자열 데이터로 자동저장되어짐\n",
    "# 년 월 일 형태로 따로 인식하는 .to_datetime (날짜형식)"
   ]
  },
  {
   "cell_type": "code",
   "execution_count": 6,
   "metadata": {},
   "outputs": [
    {
     "data": {
      "text/plain": [
       "2019-07-03     1.0\n",
       "2019-07-04     NaN\n",
       "2019-07-05     NaN\n",
       "2019-07-10    20.0\n",
       "dtype: float64"
      ]
     },
     "execution_count": 6,
     "metadata": {},
     "output_type": "execute_result"
    }
   ],
   "source": [
    "times = Series([1, np.nan, np.nan ,20], index=myDate)\n",
    "times"
   ]
  },
  {
   "cell_type": "code",
   "execution_count": 7,
   "metadata": {},
   "outputs": [
    {
     "data": {
      "text/plain": [
       "2019-07-03     1.000000\n",
       "2019-07-04     7.333333\n",
       "2019-07-05    13.666667\n",
       "2019-07-10    20.000000\n",
       "dtype: float64"
      ]
     },
     "execution_count": 7,
     "metadata": {},
     "output_type": "execute_result"
    }
   ],
   "source": [
    "# 보간법(interpolate)\n",
    "ti=times.interpolate()\n",
    "ti\n",
    "# 선형적으로 비례함\n",
    "# 보간법, 데이터 간 평균을 결측치에 저장시킴\n",
    "# 선형적으로 비례함"
   ]
  },
  {
   "cell_type": "code",
   "execution_count": 8,
   "metadata": {},
   "outputs": [
    {
     "data": {
      "text/plain": [
       "2019-07-03     1.000000\n",
       "2019-07-04     3.714286\n",
       "2019-07-05     6.428571\n",
       "2019-07-10    20.000000\n",
       "dtype: float64"
      ]
     },
     "execution_count": 8,
     "metadata": {},
     "output_type": "execute_result"
    }
   ],
   "source": [
    "times.interpolate(method=\"time\")\n",
    "# 행 index가 시계열 데이터일때 가능한 옵션 \n",
    "# 시간의 흐름에 따라 적절히 배분하여 보간"
   ]
  },
  {
   "cell_type": "code",
   "execution_count": 9,
   "metadata": {},
   "outputs": [
    {
     "data": {
      "text/html": [
       "<div>\n",
       "<style scoped>\n",
       "    .dataframe tbody tr th:only-of-type {\n",
       "        vertical-align: middle;\n",
       "    }\n",
       "\n",
       "    .dataframe tbody tr th {\n",
       "        vertical-align: top;\n",
       "    }\n",
       "\n",
       "    .dataframe thead th {\n",
       "        text-align: right;\n",
       "    }\n",
       "</style>\n",
       "<table border=\"1\" class=\"dataframe\">\n",
       "  <thead>\n",
       "    <tr style=\"text-align: right;\">\n",
       "      <th></th>\n",
       "      <th>c1</th>\n",
       "      <th>c2</th>\n",
       "    </tr>\n",
       "  </thead>\n",
       "  <tbody>\n",
       "    <tr>\n",
       "      <th>0</th>\n",
       "      <td>1.0</td>\n",
       "      <td>6.0</td>\n",
       "    </tr>\n",
       "    <tr>\n",
       "      <th>1</th>\n",
       "      <td>2.0</td>\n",
       "      <td>8.0</td>\n",
       "    </tr>\n",
       "    <tr>\n",
       "      <th>2</th>\n",
       "      <td>NaN</td>\n",
       "      <td>10.0</td>\n",
       "    </tr>\n",
       "    <tr>\n",
       "      <th>3</th>\n",
       "      <td>NaN</td>\n",
       "      <td>NaN</td>\n",
       "    </tr>\n",
       "    <tr>\n",
       "      <th>4</th>\n",
       "      <td>5.0</td>\n",
       "      <td>20.0</td>\n",
       "    </tr>\n",
       "  </tbody>\n",
       "</table>\n",
       "</div>"
      ],
      "text/plain": [
       "    c1    c2\n",
       "0  1.0   6.0\n",
       "1  2.0   8.0\n",
       "2  NaN  10.0\n",
       "3  NaN   NaN\n",
       "4  5.0  20.0"
      ]
     },
     "execution_count": 9,
     "metadata": {},
     "output_type": "execute_result"
    }
   ],
   "source": [
    "df=DataFrame({'c1':[1,2,np.nan,np.nan,5],\n",
    "          'c2':[6,8,10,np.nan,20]})\n",
    "df\n",
    "# datafram = 딕셔너리 형태로 만듬"
   ]
  },
  {
   "cell_type": "code",
   "execution_count": 10,
   "metadata": {},
   "outputs": [
    {
     "data": {
      "text/html": [
       "<div>\n",
       "<style scoped>\n",
       "    .dataframe tbody tr th:only-of-type {\n",
       "        vertical-align: middle;\n",
       "    }\n",
       "\n",
       "    .dataframe tbody tr th {\n",
       "        vertical-align: top;\n",
       "    }\n",
       "\n",
       "    .dataframe thead th {\n",
       "        text-align: right;\n",
       "    }\n",
       "</style>\n",
       "<table border=\"1\" class=\"dataframe\">\n",
       "  <thead>\n",
       "    <tr style=\"text-align: right;\">\n",
       "      <th></th>\n",
       "      <th>c1</th>\n",
       "      <th>c2</th>\n",
       "    </tr>\n",
       "  </thead>\n",
       "  <tbody>\n",
       "    <tr>\n",
       "      <th>0</th>\n",
       "      <td>1.0</td>\n",
       "      <td>6.0</td>\n",
       "    </tr>\n",
       "    <tr>\n",
       "      <th>1</th>\n",
       "      <td>2.0</td>\n",
       "      <td>8.0</td>\n",
       "    </tr>\n",
       "    <tr>\n",
       "      <th>2</th>\n",
       "      <td>3.0</td>\n",
       "      <td>10.0</td>\n",
       "    </tr>\n",
       "    <tr>\n",
       "      <th>3</th>\n",
       "      <td>4.0</td>\n",
       "      <td>15.0</td>\n",
       "    </tr>\n",
       "    <tr>\n",
       "      <th>4</th>\n",
       "      <td>5.0</td>\n",
       "      <td>20.0</td>\n",
       "    </tr>\n",
       "  </tbody>\n",
       "</table>\n",
       "</div>"
      ],
      "text/plain": [
       "    c1    c2\n",
       "0  1.0   6.0\n",
       "1  2.0   8.0\n",
       "2  3.0  10.0\n",
       "3  4.0  15.0\n",
       "4  5.0  20.0"
      ]
     },
     "execution_count": 10,
     "metadata": {},
     "output_type": "execute_result"
    }
   ],
   "source": [
    "df.interpolate(method='values')"
   ]
  },
  {
   "cell_type": "code",
   "execution_count": 11,
   "metadata": {},
   "outputs": [
    {
     "data": {
      "text/html": [
       "<div>\n",
       "<style scoped>\n",
       "    .dataframe tbody tr th:only-of-type {\n",
       "        vertical-align: middle;\n",
       "    }\n",
       "\n",
       "    .dataframe tbody tr th {\n",
       "        vertical-align: top;\n",
       "    }\n",
       "\n",
       "    .dataframe thead th {\n",
       "        text-align: right;\n",
       "    }\n",
       "</style>\n",
       "<table border=\"1\" class=\"dataframe\">\n",
       "  <thead>\n",
       "    <tr style=\"text-align: right;\">\n",
       "      <th></th>\n",
       "      <th>c1</th>\n",
       "      <th>c2</th>\n",
       "    </tr>\n",
       "  </thead>\n",
       "  <tbody>\n",
       "    <tr>\n",
       "      <th>0</th>\n",
       "      <td>1.0</td>\n",
       "      <td>6.0</td>\n",
       "    </tr>\n",
       "    <tr>\n",
       "      <th>1</th>\n",
       "      <td>2.0</td>\n",
       "      <td>8.0</td>\n",
       "    </tr>\n",
       "    <tr>\n",
       "      <th>2</th>\n",
       "      <td>NaN</td>\n",
       "      <td>10.0</td>\n",
       "    </tr>\n",
       "    <tr>\n",
       "      <th>3</th>\n",
       "      <td>4.0</td>\n",
       "      <td>15.0</td>\n",
       "    </tr>\n",
       "    <tr>\n",
       "      <th>4</th>\n",
       "      <td>5.0</td>\n",
       "      <td>20.0</td>\n",
       "    </tr>\n",
       "  </tbody>\n",
       "</table>\n",
       "</div>"
      ],
      "text/plain": [
       "    c1    c2\n",
       "0  1.0   6.0\n",
       "1  2.0   8.0\n",
       "2  NaN  10.0\n",
       "3  4.0  15.0\n",
       "4  5.0  20.0"
      ]
     },
     "execution_count": 11,
     "metadata": {},
     "output_type": "execute_result"
    }
   ],
   "source": [
    "df.interpolate(method='values', limit=1, limit_direction='backward')\n",
    "# limit = 1 : 한개만 바꾸겠다\n",
    "# 기본설정은 forward이므로 backward로 변경"
   ]
  },
  {
   "cell_type": "code",
   "execution_count": 11,
   "metadata": {},
   "outputs": [
    {
     "data": {
      "text/plain": [
       "0    1.0\n",
       "1    2.0\n",
       "2    3.0\n",
       "3    4.0\n",
       "4    NaN\n",
       "dtype: float64"
      ]
     },
     "execution_count": 11,
     "metadata": {},
     "output_type": "execute_result"
    }
   ],
   "source": [
    "s=Series([1,2,3,4,np.nan])\n",
    "s"
   ]
  },
  {
   "cell_type": "code",
   "execution_count": 12,
   "metadata": {},
   "outputs": [
    {
     "data": {
      "text/plain": [
       "0      1.0\n",
       "1      2.0\n",
       "2    100.0\n",
       "3      4.0\n",
       "4      NaN\n",
       "dtype: float64"
      ]
     },
     "execution_count": 12,
     "metadata": {},
     "output_type": "execute_result"
    }
   ],
   "source": [
    "s.replace(np.nan, 10)\n",
    "s.replace(3,100)\n",
    "# nan 처리 가능 (다른수로 대체)"
   ]
  },
  {
   "cell_type": "code",
   "execution_count": 13,
   "metadata": {},
   "outputs": [
    {
     "data": {
      "text/plain": [
       "0     10.0\n",
       "1      2.0\n",
       "2      3.0\n",
       "3      4.0\n",
       "4    999.0\n",
       "dtype: float64"
      ]
     },
     "execution_count": 13,
     "metadata": {},
     "output_type": "execute_result"
    }
   ],
   "source": [
    "s.replace([1,2,3],[5,6,7])\n",
    "# 리스트로 하면 해당위치에 딱맞춰 변경\n",
    "s.replace({1:10, np.nan:999})\n",
    "# 딕셔너리\n",
    "# s에 대해서 replace한다 \n",
    "# 해당 값에 대한 치환\n"
   ]
  },
  {
   "cell_type": "code",
   "execution_count": 12,
   "metadata": {},
   "outputs": [
    {
     "data": {
      "text/html": [
       "<div>\n",
       "<style scoped>\n",
       "    .dataframe tbody tr th:only-of-type {\n",
       "        vertical-align: middle;\n",
       "    }\n",
       "\n",
       "    .dataframe tbody tr th {\n",
       "        vertical-align: top;\n",
       "    }\n",
       "\n",
       "    .dataframe thead th {\n",
       "        text-align: right;\n",
       "    }\n",
       "</style>\n",
       "<table border=\"1\" class=\"dataframe\">\n",
       "  <thead>\n",
       "    <tr style=\"text-align: right;\">\n",
       "      <th></th>\n",
       "      <th>k1</th>\n",
       "      <th>k2</th>\n",
       "      <th>c</th>\n",
       "    </tr>\n",
       "  </thead>\n",
       "  <tbody>\n",
       "    <tr>\n",
       "      <th>0</th>\n",
       "      <td>a</td>\n",
       "      <td>v</td>\n",
       "      <td>1</td>\n",
       "    </tr>\n",
       "    <tr>\n",
       "      <th>1</th>\n",
       "      <td>b</td>\n",
       "      <td>w</td>\n",
       "      <td>2</td>\n",
       "    </tr>\n",
       "    <tr>\n",
       "      <th>2</th>\n",
       "      <td>b</td>\n",
       "      <td>w</td>\n",
       "      <td>3</td>\n",
       "    </tr>\n",
       "    <tr>\n",
       "      <th>3</th>\n",
       "      <td>c</td>\n",
       "      <td>x</td>\n",
       "      <td>4</td>\n",
       "    </tr>\n",
       "    <tr>\n",
       "      <th>4</th>\n",
       "      <td>c</td>\n",
       "      <td>y</td>\n",
       "      <td>5</td>\n",
       "    </tr>\n",
       "  </tbody>\n",
       "</table>\n",
       "</div>"
      ],
      "text/plain": [
       "  k1 k2  c\n",
       "0  a  v  1\n",
       "1  b  w  2\n",
       "2  b  w  3\n",
       "3  c  x  4\n",
       "4  c  y  5"
      ]
     },
     "execution_count": 12,
     "metadata": {},
     "output_type": "execute_result"
    }
   ],
   "source": [
    "# 중복값 확인 => 중복값 처리 \n",
    "# 수집된 데이터 병합 => 중복 데이터 생성 // unique key로 data관리 \n",
    "df=pd.DataFrame({'k1':['a','b','b','c','c'],\n",
    "             'k2':['v','w','w','x','y'],\n",
    "             'c':[1,2,3,4,5]})\n",
    "df\n",
    "\n",
    "# 'k1' OR 'k2' 가 주키가 될수 없다 (유일키 unique key)\n"
   ]
  },
  {
   "cell_type": "code",
   "execution_count": 13,
   "metadata": {},
   "outputs": [
    {
     "name": "stdout",
     "output_type": "stream",
     "text": [
      "<class 'pandas.core.frame.DataFrame'>\n",
      "RangeIndex: 5 entries, 0 to 4\n",
      "Data columns (total 3 columns):\n",
      "k1    5 non-null object\n",
      "k2    5 non-null object\n",
      "c     5 non-null int64\n",
      "dtypes: int64(1), object(2)\n",
      "memory usage: 200.0+ bytes\n"
     ]
    }
   ],
   "source": [
    "df.info()"
   ]
  },
  {
   "cell_type": "code",
   "execution_count": 14,
   "metadata": {},
   "outputs": [
    {
     "data": {
      "text/html": [
       "<div>\n",
       "<style scoped>\n",
       "    .dataframe tbody tr th:only-of-type {\n",
       "        vertical-align: middle;\n",
       "    }\n",
       "\n",
       "    .dataframe tbody tr th {\n",
       "        vertical-align: top;\n",
       "    }\n",
       "\n",
       "    .dataframe thead th {\n",
       "        text-align: right;\n",
       "    }\n",
       "</style>\n",
       "<table border=\"1\" class=\"dataframe\">\n",
       "  <thead>\n",
       "    <tr style=\"text-align: right;\">\n",
       "      <th></th>\n",
       "      <th>k1</th>\n",
       "      <th>k2</th>\n",
       "      <th>c</th>\n",
       "    </tr>\n",
       "  </thead>\n",
       "  <tbody>\n",
       "    <tr>\n",
       "      <th>0</th>\n",
       "      <td>a</td>\n",
       "      <td>v</td>\n",
       "      <td>1</td>\n",
       "    </tr>\n",
       "    <tr>\n",
       "      <th>1</th>\n",
       "      <td>b</td>\n",
       "      <td>w</td>\n",
       "      <td>2</td>\n",
       "    </tr>\n",
       "    <tr>\n",
       "      <th>2</th>\n",
       "      <td>b</td>\n",
       "      <td>w</td>\n",
       "      <td>3</td>\n",
       "    </tr>\n",
       "    <tr>\n",
       "      <th>3</th>\n",
       "      <td>c</td>\n",
       "      <td>x</td>\n",
       "      <td>4</td>\n",
       "    </tr>\n",
       "    <tr>\n",
       "      <th>4</th>\n",
       "      <td>c</td>\n",
       "      <td>y</td>\n",
       "      <td>5</td>\n",
       "    </tr>\n",
       "  </tbody>\n",
       "</table>\n",
       "</div>"
      ],
      "text/plain": [
       "  k1 k2  c\n",
       "0  a  v  1\n",
       "1  b  w  2\n",
       "2  b  w  3\n",
       "3  c  x  4\n",
       "4  c  y  5"
      ]
     },
     "metadata": {},
     "output_type": "display_data"
    },
    {
     "data": {
      "text/plain": [
       "0    False\n",
       "1    False\n",
       "2     True\n",
       "3    False\n",
       "4    False\n",
       "dtype: bool"
      ]
     },
     "execution_count": 14,
     "metadata": {},
     "output_type": "execute_result"
    }
   ],
   "source": [
    "display(df)\n",
    "df.duplicated(['k1'])\n",
    "df.duplicated(['k1','k2'])\n",
    "# 기준이 되는 키 입력 (대괄호안에)"
   ]
  },
  {
   "cell_type": "code",
   "execution_count": 55,
   "metadata": {},
   "outputs": [
    {
     "data": {
      "text/plain": [
       "0    False\n",
       "1    False\n",
       "2     True\n",
       "3    False\n",
       "4     True\n",
       "dtype: bool"
      ]
     },
     "execution_count": 55,
     "metadata": {},
     "output_type": "execute_result"
    }
   ],
   "source": [
    "df.duplicated(['k1'])\n",
    "df.duplicated(['k1'], keep='first') # default"
   ]
  },
  {
   "cell_type": "code",
   "execution_count": 56,
   "metadata": {},
   "outputs": [
    {
     "data": {
      "text/plain": [
       "0    False\n",
       "1     True\n",
       "2    False\n",
       "3     True\n",
       "4    False\n",
       "dtype: bool"
      ]
     },
     "execution_count": 56,
     "metadata": {},
     "output_type": "execute_result"
    }
   ],
   "source": [
    "df.duplicated(['k1'], keep='last')"
   ]
  },
  {
   "cell_type": "code",
   "execution_count": 57,
   "metadata": {},
   "outputs": [
    {
     "data": {
      "text/plain": [
       "0    False\n",
       "1     True\n",
       "2     True\n",
       "3     True\n",
       "4     True\n",
       "dtype: bool"
      ]
     },
     "execution_count": 57,
     "metadata": {},
     "output_type": "execute_result"
    }
   ],
   "source": [
    "df.duplicated(['k1'], keep=False)\n",
    "# 모두 날려버리겠다"
   ]
  },
  {
   "cell_type": "code",
   "execution_count": 60,
   "metadata": {},
   "outputs": [
    {
     "data": {
      "text/html": [
       "<div>\n",
       "<style scoped>\n",
       "    .dataframe tbody tr th:only-of-type {\n",
       "        vertical-align: middle;\n",
       "    }\n",
       "\n",
       "    .dataframe tbody tr th {\n",
       "        vertical-align: top;\n",
       "    }\n",
       "\n",
       "    .dataframe thead th {\n",
       "        text-align: right;\n",
       "    }\n",
       "</style>\n",
       "<table border=\"1\" class=\"dataframe\">\n",
       "  <thead>\n",
       "    <tr style=\"text-align: right;\">\n",
       "      <th></th>\n",
       "      <th>k1</th>\n",
       "      <th>k2</th>\n",
       "      <th>c</th>\n",
       "    </tr>\n",
       "  </thead>\n",
       "  <tbody>\n",
       "    <tr>\n",
       "      <th>0</th>\n",
       "      <td>a</td>\n",
       "      <td>v</td>\n",
       "      <td>1</td>\n",
       "    </tr>\n",
       "    <tr>\n",
       "      <th>1</th>\n",
       "      <td>b</td>\n",
       "      <td>w</td>\n",
       "      <td>2</td>\n",
       "    </tr>\n",
       "    <tr>\n",
       "      <th>2</th>\n",
       "      <td>b</td>\n",
       "      <td>w</td>\n",
       "      <td>3</td>\n",
       "    </tr>\n",
       "    <tr>\n",
       "      <th>3</th>\n",
       "      <td>c</td>\n",
       "      <td>x</td>\n",
       "      <td>4</td>\n",
       "    </tr>\n",
       "    <tr>\n",
       "      <th>4</th>\n",
       "      <td>c</td>\n",
       "      <td>y</td>\n",
       "      <td>5</td>\n",
       "    </tr>\n",
       "  </tbody>\n",
       "</table>\n",
       "</div>"
      ],
      "text/plain": [
       "  k1 k2  c\n",
       "0  a  v  1\n",
       "1  b  w  2\n",
       "2  b  w  3\n",
       "3  c  x  4\n",
       "4  c  y  5"
      ]
     },
     "execution_count": 60,
     "metadata": {},
     "output_type": "execute_result"
    }
   ],
   "source": [
    "df"
   ]
  },
  {
   "cell_type": "code",
   "execution_count": 61,
   "metadata": {},
   "outputs": [
    {
     "data": {
      "text/html": [
       "<div>\n",
       "<style scoped>\n",
       "    .dataframe tbody tr th:only-of-type {\n",
       "        vertical-align: middle;\n",
       "    }\n",
       "\n",
       "    .dataframe tbody tr th {\n",
       "        vertical-align: top;\n",
       "    }\n",
       "\n",
       "    .dataframe thead th {\n",
       "        text-align: right;\n",
       "    }\n",
       "</style>\n",
       "<table border=\"1\" class=\"dataframe\">\n",
       "  <thead>\n",
       "    <tr style=\"text-align: right;\">\n",
       "      <th></th>\n",
       "      <th>k1</th>\n",
       "      <th>k2</th>\n",
       "      <th>c</th>\n",
       "    </tr>\n",
       "  </thead>\n",
       "  <tbody>\n",
       "    <tr>\n",
       "      <th>0</th>\n",
       "      <td>a</td>\n",
       "      <td>v</td>\n",
       "      <td>1</td>\n",
       "    </tr>\n",
       "    <tr>\n",
       "      <th>1</th>\n",
       "      <td>b</td>\n",
       "      <td>w</td>\n",
       "      <td>2</td>\n",
       "    </tr>\n",
       "    <tr>\n",
       "      <th>3</th>\n",
       "      <td>c</td>\n",
       "      <td>x</td>\n",
       "      <td>4</td>\n",
       "    </tr>\n",
       "  </tbody>\n",
       "</table>\n",
       "</div>"
      ],
      "text/plain": [
       "  k1 k2  c\n",
       "0  a  v  1\n",
       "1  b  w  2\n",
       "3  c  x  4"
      ]
     },
     "execution_count": 61,
     "metadata": {},
     "output_type": "execute_result"
    }
   ],
   "source": [
    "df.drop_duplicates(['k1'])\n",
    "# drop : 제거 관련함수\n",
    "# 중복을 제거한다\n",
    "# 나중에 나온것들이 제거되고 먼저나온것들은 살았다"
   ]
  },
  {
   "cell_type": "code",
   "execution_count": 62,
   "metadata": {},
   "outputs": [
    {
     "data": {
      "text/html": [
       "<div>\n",
       "<style scoped>\n",
       "    .dataframe tbody tr th:only-of-type {\n",
       "        vertical-align: middle;\n",
       "    }\n",
       "\n",
       "    .dataframe tbody tr th {\n",
       "        vertical-align: top;\n",
       "    }\n",
       "\n",
       "    .dataframe thead th {\n",
       "        text-align: right;\n",
       "    }\n",
       "</style>\n",
       "<table border=\"1\" class=\"dataframe\">\n",
       "  <thead>\n",
       "    <tr style=\"text-align: right;\">\n",
       "      <th></th>\n",
       "      <th>k1</th>\n",
       "      <th>k2</th>\n",
       "      <th>c</th>\n",
       "    </tr>\n",
       "  </thead>\n",
       "  <tbody>\n",
       "    <tr>\n",
       "      <th>0</th>\n",
       "      <td>a</td>\n",
       "      <td>v</td>\n",
       "      <td>1</td>\n",
       "    </tr>\n",
       "    <tr>\n",
       "      <th>1</th>\n",
       "      <td>b</td>\n",
       "      <td>w</td>\n",
       "      <td>2</td>\n",
       "    </tr>\n",
       "    <tr>\n",
       "      <th>3</th>\n",
       "      <td>c</td>\n",
       "      <td>x</td>\n",
       "      <td>4</td>\n",
       "    </tr>\n",
       "  </tbody>\n",
       "</table>\n",
       "</div>"
      ],
      "text/plain": [
       "  k1 k2  c\n",
       "0  a  v  1\n",
       "1  b  w  2\n",
       "3  c  x  4"
      ]
     },
     "execution_count": 62,
     "metadata": {},
     "output_type": "execute_result"
    }
   ],
   "source": [
    "df.drop_duplicates(['k1'], keep='first') # default"
   ]
  },
  {
   "cell_type": "code",
   "execution_count": 63,
   "metadata": {},
   "outputs": [
    {
     "data": {
      "text/html": [
       "<div>\n",
       "<style scoped>\n",
       "    .dataframe tbody tr th:only-of-type {\n",
       "        vertical-align: middle;\n",
       "    }\n",
       "\n",
       "    .dataframe tbody tr th {\n",
       "        vertical-align: top;\n",
       "    }\n",
       "\n",
       "    .dataframe thead th {\n",
       "        text-align: right;\n",
       "    }\n",
       "</style>\n",
       "<table border=\"1\" class=\"dataframe\">\n",
       "  <thead>\n",
       "    <tr style=\"text-align: right;\">\n",
       "      <th></th>\n",
       "      <th>k1</th>\n",
       "      <th>k2</th>\n",
       "      <th>c</th>\n",
       "    </tr>\n",
       "  </thead>\n",
       "  <tbody>\n",
       "    <tr>\n",
       "      <th>0</th>\n",
       "      <td>a</td>\n",
       "      <td>v</td>\n",
       "      <td>1</td>\n",
       "    </tr>\n",
       "    <tr>\n",
       "      <th>2</th>\n",
       "      <td>b</td>\n",
       "      <td>w</td>\n",
       "      <td>3</td>\n",
       "    </tr>\n",
       "    <tr>\n",
       "      <th>4</th>\n",
       "      <td>c</td>\n",
       "      <td>y</td>\n",
       "      <td>5</td>\n",
       "    </tr>\n",
       "  </tbody>\n",
       "</table>\n",
       "</div>"
      ],
      "text/plain": [
       "  k1 k2  c\n",
       "0  a  v  1\n",
       "2  b  w  3\n",
       "4  c  y  5"
      ]
     },
     "execution_count": 63,
     "metadata": {},
     "output_type": "execute_result"
    }
   ],
   "source": [
    "df.drop_duplicates(['k1'], keep='last') \n",
    "# 나중에 나온것을 살린다"
   ]
  },
  {
   "cell_type": "code",
   "execution_count": 64,
   "metadata": {},
   "outputs": [
    {
     "data": {
      "text/html": [
       "<div>\n",
       "<style scoped>\n",
       "    .dataframe tbody tr th:only-of-type {\n",
       "        vertical-align: middle;\n",
       "    }\n",
       "\n",
       "    .dataframe tbody tr th {\n",
       "        vertical-align: top;\n",
       "    }\n",
       "\n",
       "    .dataframe thead th {\n",
       "        text-align: right;\n",
       "    }\n",
       "</style>\n",
       "<table border=\"1\" class=\"dataframe\">\n",
       "  <thead>\n",
       "    <tr style=\"text-align: right;\">\n",
       "      <th></th>\n",
       "      <th>k1</th>\n",
       "      <th>k2</th>\n",
       "      <th>c</th>\n",
       "    </tr>\n",
       "  </thead>\n",
       "  <tbody>\n",
       "    <tr>\n",
       "      <th>0</th>\n",
       "      <td>a</td>\n",
       "      <td>v</td>\n",
       "      <td>1</td>\n",
       "    </tr>\n",
       "  </tbody>\n",
       "</table>\n",
       "</div>"
      ],
      "text/plain": [
       "  k1 k2  c\n",
       "0  a  v  1"
      ]
     },
     "execution_count": 64,
     "metadata": {},
     "output_type": "execute_result"
    }
   ],
   "source": [
    "df.drop_duplicates(['k1'],keep=False) \n",
    "#"
   ]
  },
  {
   "cell_type": "code",
   "execution_count": 65,
   "metadata": {},
   "outputs": [
    {
     "data": {
      "text/html": [
       "<div>\n",
       "<style scoped>\n",
       "    .dataframe tbody tr th:only-of-type {\n",
       "        vertical-align: middle;\n",
       "    }\n",
       "\n",
       "    .dataframe tbody tr th {\n",
       "        vertical-align: top;\n",
       "    }\n",
       "\n",
       "    .dataframe thead th {\n",
       "        text-align: right;\n",
       "    }\n",
       "</style>\n",
       "<table border=\"1\" class=\"dataframe\">\n",
       "  <thead>\n",
       "    <tr style=\"text-align: right;\">\n",
       "      <th></th>\n",
       "      <th>s</th>\n",
       "      <th>d</th>\n",
       "      <th>c</th>\n",
       "    </tr>\n",
       "  </thead>\n",
       "  <tbody>\n",
       "    <tr>\n",
       "      <th>0</th>\n",
       "      <td>f</td>\n",
       "      <td>a</td>\n",
       "      <td>1</td>\n",
       "    </tr>\n",
       "    <tr>\n",
       "      <th>1</th>\n",
       "      <td>m</td>\n",
       "      <td>a</td>\n",
       "      <td>1</td>\n",
       "    </tr>\n",
       "    <tr>\n",
       "      <th>2</th>\n",
       "      <td>m</td>\n",
       "      <td>a</td>\n",
       "      <td>3</td>\n",
       "    </tr>\n",
       "    <tr>\n",
       "      <th>3</th>\n",
       "      <td>f</td>\n",
       "      <td>a</td>\n",
       "      <td>4</td>\n",
       "    </tr>\n",
       "    <tr>\n",
       "      <th>4</th>\n",
       "      <td>m</td>\n",
       "      <td>NaN</td>\n",
       "      <td>4</td>\n",
       "    </tr>\n",
       "  </tbody>\n",
       "</table>\n",
       "</div>"
      ],
      "text/plain": [
       "   s    d  c\n",
       "0  f    a  1\n",
       "1  m    a  1\n",
       "2  m    a  3\n",
       "3  f    a  4\n",
       "4  m  NaN  4"
      ]
     },
     "execution_count": 65,
     "metadata": {},
     "output_type": "execute_result"
    }
   ],
   "source": [
    "df=pd.DataFrame({\n",
    "    's':['f','m','m','f','m'],\n",
    "    'd':['a','a','a','a',np.nan],\n",
    "    'c':[1,1,3,4,4]})\n",
    "df"
   ]
  },
  {
   "cell_type": "code",
   "execution_count": 66,
   "metadata": {},
   "outputs": [
    {
     "name": "stdout",
     "output_type": "stream",
     "text": [
      "<class 'pandas.core.frame.DataFrame'>\n",
      "RangeIndex: 5 entries, 0 to 4\n",
      "Data columns (total 3 columns):\n",
      "s    5 non-null object\n",
      "d    4 non-null object\n",
      "c    5 non-null int64\n",
      "dtypes: int64(1), object(2)\n",
      "memory usage: 200.0+ bytes\n"
     ]
    }
   ],
   "source": [
    "df.info()"
   ]
  },
  {
   "cell_type": "code",
   "execution_count": 67,
   "metadata": {},
   "outputs": [
    {
     "data": {
      "text/plain": [
       "array(['f', 'm'], dtype=object)"
      ]
     },
     "execution_count": 67,
     "metadata": {},
     "output_type": "execute_result"
    }
   ],
   "source": [
    "df['s'].unique()\n",
    "# column 기준"
   ]
  },
  {
   "cell_type": "code",
   "execution_count": 68,
   "metadata": {},
   "outputs": [
    {
     "data": {
      "text/plain": [
       "array(['a', nan], dtype=object)"
      ]
     },
     "execution_count": 68,
     "metadata": {},
     "output_type": "execute_result"
    }
   ],
   "source": [
    "df['d'].unique()"
   ]
  },
  {
   "cell_type": "code",
   "execution_count": 69,
   "metadata": {},
   "outputs": [],
   "source": [
    "# 각각의 데이터마다 몇건이 있는지 ==> value count 함수 => 대상이 series 여야한다\n",
    "# df에서 열벡터만 정렬 => series\n",
    "# df.unique() => error발생 // 해당 열벡터를 지정해줘야한다\n",
    "# 클래스 & 객체\n",
    "# ==> 붕어빵기계 & 붕어빵 \n",
    "# ==> df 객체 (dataframe : 붕어빵기계 class )\n"
   ]
  },
  {
   "cell_type": "code",
   "execution_count": 70,
   "metadata": {},
   "outputs": [
    {
     "data": {
      "text/plain": [
       "pandas.core.frame.DataFrame"
      ]
     },
     "execution_count": 70,
     "metadata": {},
     "output_type": "execute_result"
    }
   ],
   "source": [
    "type(df)"
   ]
  },
  {
   "cell_type": "code",
   "execution_count": 71,
   "metadata": {},
   "outputs": [
    {
     "data": {
      "text/plain": [
       "pandas.core.series.Series"
      ]
     },
     "execution_count": 71,
     "metadata": {},
     "output_type": "execute_result"
    }
   ],
   "source": [
    "type(df['s'])"
   ]
  },
  {
   "cell_type": "code",
   "execution_count": 72,
   "metadata": {},
   "outputs": [
    {
     "data": {
      "text/plain": [
       "array([['f', 'a', 1],\n",
       "       ['m', 'a', 1],\n",
       "       ['m', 'a', 3],\n",
       "       ['f', 'a', 4],\n",
       "       ['m', nan, 4]], dtype=object)"
      ]
     },
     "execution_count": 72,
     "metadata": {},
     "output_type": "execute_result"
    }
   ],
   "source": [
    "df.values"
   ]
  },
  {
   "cell_type": "code",
   "execution_count": 73,
   "metadata": {},
   "outputs": [
    {
     "data": {
      "text/plain": [
       "array(['f', 'm', 'm', 'f', 'm'], dtype=object)"
      ]
     },
     "execution_count": 73,
     "metadata": {},
     "output_type": "execute_result"
    }
   ],
   "source": [
    "df['s'].values\n",
    "# 해당열에 대한 값들만 참조 반환됨"
   ]
  },
  {
   "cell_type": "code",
   "execution_count": 75,
   "metadata": {},
   "outputs": [
    {
     "data": {
      "text/plain": [
       "m    3\n",
       "f    2\n",
       "Name: s, dtype: int64"
      ]
     },
     "execution_count": 75,
     "metadata": {},
     "output_type": "execute_result"
    }
   ],
   "source": [
    "df['s'].value_counts()\n",
    "# 해당 함수는 시리즈 벡터에 관해서만 실행된다\n",
    "# df 붕어빵 df['s']:자동차 value_counts():달린다\n",
    "# df.value_counts(): 말이 안됨\n",
    "# df['s'].value_counts(): 말이 됨\n",
    "# 요소별 개수 출력"
   ]
  },
  {
   "cell_type": "code",
   "execution_count": 76,
   "metadata": {},
   "outputs": [
    {
     "data": {
      "text/plain": [
       "a    4\n",
       "Name: d, dtype: int64"
      ]
     },
     "execution_count": 76,
     "metadata": {},
     "output_type": "execute_result"
    }
   ],
   "source": [
    "df['d'].value_counts()\n",
    "# Nan은 안나옴 ( 계산에 미포함)\n"
   ]
  },
  {
   "cell_type": "code",
   "execution_count": 77,
   "metadata": {},
   "outputs": [
    {
     "data": {
      "text/plain": [
       "m    0.6\n",
       "f    0.4\n",
       "Name: s, dtype: float64"
      ]
     },
     "execution_count": 77,
     "metadata": {},
     "output_type": "execute_result"
    }
   ],
   "source": [
    "df['s'].value_counts(normalize=True)\n",
    "# 비율로 출력하고자하는 함수 옵션 ( 비율의 합은 1 )\n"
   ]
  },
  {
   "cell_type": "code",
   "execution_count": 78,
   "metadata": {},
   "outputs": [
    {
     "data": {
      "text/plain": [
       "0    1\n",
       "1    1\n",
       "2    3\n",
       "3    4\n",
       "4    4\n",
       "Name: c, dtype: int64"
      ]
     },
     "execution_count": 78,
     "metadata": {},
     "output_type": "execute_result"
    }
   ],
   "source": [
    "df['c']"
   ]
  },
  {
   "cell_type": "code",
   "execution_count": 79,
   "metadata": {},
   "outputs": [
    {
     "data": {
      "text/plain": [
       "4    2\n",
       "1    2\n",
       "3    1\n",
       "Name: c, dtype: int64"
      ]
     },
     "execution_count": 79,
     "metadata": {},
     "output_type": "execute_result"
    }
   ],
   "source": [
    "df['c'].value_counts(sort=True)\n",
    "# 개수에 따라 내림차수 정렬(default)\n",
    "# True = 내림차순"
   ]
  },
  {
   "cell_type": "code",
   "execution_count": 81,
   "metadata": {},
   "outputs": [
    {
     "data": {
      "text/plain": [
       "4    2\n",
       "1    2\n",
       "3    1\n",
       "Name: c, dtype: int64"
      ]
     },
     "execution_count": 81,
     "metadata": {},
     "output_type": "execute_result"
    }
   ],
   "source": [
    "df['c'].value_counts(sort=True, ascending=False)\n",
    "# 값에 대한 내림차순\n"
   ]
  },
  {
   "cell_type": "code",
   "execution_count": 82,
   "metadata": {},
   "outputs": [
    {
     "data": {
      "text/plain": [
       "3    1\n",
       "1    2\n",
       "4    2\n",
       "Name: c, dtype: int64"
      ]
     },
     "execution_count": 82,
     "metadata": {},
     "output_type": "execute_result"
    }
   ],
   "source": [
    "df['c'].value_counts(sort=True, ascending=True)\n",
    "# 오름차순 정렬 ( 개수에 따라 )\n",
    "# titanic ) Mr, Mrs, Miss Dr. => 분류한뒤 상위 10개 추출 에 적용가능한 속성"
   ]
  },
  {
   "cell_type": "code",
   "execution_count": 83,
   "metadata": {},
   "outputs": [
    {
     "data": {
      "text/plain": [
       "a    4\n",
       "Name: d, dtype: int64"
      ]
     },
     "execution_count": 83,
     "metadata": {},
     "output_type": "execute_result"
    }
   ],
   "source": [
    "df['d'].value_counts()\n",
    "# NaN 값은 합계도출되지 않는다 "
   ]
  },
  {
   "cell_type": "code",
   "execution_count": 84,
   "metadata": {},
   "outputs": [
    {
     "data": {
      "text/plain": [
       "a    4\n",
       "Name: d, dtype: int64"
      ]
     },
     "execution_count": 84,
     "metadata": {},
     "output_type": "execute_result"
    }
   ],
   "source": [
    "# # NaN 값은 합계도출하고 싶을 때 옵션 drop NA 사용\n",
    "df['d'].value_counts(dropna=True) # default"
   ]
  },
  {
   "cell_type": "code",
   "execution_count": 85,
   "metadata": {},
   "outputs": [
    {
     "data": {
      "text/plain": [
       "a      4\n",
       "NaN    1\n",
       "Name: d, dtype: int64"
      ]
     },
     "execution_count": 85,
     "metadata": {},
     "output_type": "execute_result"
    }
   ],
   "source": [
    "df['d'].value_counts(dropna=False) \n",
    "# NaN 포함되어 도출"
   ]
  },
  {
   "cell_type": "code",
   "execution_count": 86,
   "metadata": {},
   "outputs": [],
   "source": [
    "# 구간별로 분류해서 데이터 추출 경우\n",
    "# 세데별 인구 통계 추출 ( option : bins)\n",
    "# 연속형변수에 대해 사용이 가능하다 \n",
    "# 기존의 것들은 범주형 변수였음\n",
    "# 구간별 데이터 건수를 조사하라 \n",
    "# titanic 데이터 // age열에 따른 데이터 반별에 따라 생존율 결정되는 모델링 과정 진행시\n",
    "# age 열 나이대별 구간 분간의 필요성이 존재 // ex) 10, 20, 30대 ...\n",
    "\n",
    "# 캐글> 타이타닉> 호칭> 호칭별> 건수> 소트> 상위 10개호칭 조사 \n",
    "# 나이(age)> 구간화> 구간별건수> 소트> 출력 [matplob.lib]\n"
   ]
  },
  {
   "cell_type": "code",
   "execution_count": 87,
   "metadata": {},
   "outputs": [
    {
     "data": {
      "text/html": [
       "<div>\n",
       "<style scoped>\n",
       "    .dataframe tbody tr th:only-of-type {\n",
       "        vertical-align: middle;\n",
       "    }\n",
       "\n",
       "    .dataframe tbody tr th {\n",
       "        vertical-align: top;\n",
       "    }\n",
       "\n",
       "    .dataframe thead th {\n",
       "        text-align: right;\n",
       "    }\n",
       "</style>\n",
       "<table border=\"1\" class=\"dataframe\">\n",
       "  <thead>\n",
       "    <tr style=\"text-align: right;\">\n",
       "      <th></th>\n",
       "      <th>s</th>\n",
       "      <th>d</th>\n",
       "      <th>c</th>\n",
       "    </tr>\n",
       "  </thead>\n",
       "  <tbody>\n",
       "    <tr>\n",
       "      <th>0</th>\n",
       "      <td>f</td>\n",
       "      <td>a</td>\n",
       "      <td>1</td>\n",
       "    </tr>\n",
       "    <tr>\n",
       "      <th>1</th>\n",
       "      <td>m</td>\n",
       "      <td>a</td>\n",
       "      <td>1</td>\n",
       "    </tr>\n",
       "    <tr>\n",
       "      <th>2</th>\n",
       "      <td>m</td>\n",
       "      <td>a</td>\n",
       "      <td>3</td>\n",
       "    </tr>\n",
       "    <tr>\n",
       "      <th>3</th>\n",
       "      <td>f</td>\n",
       "      <td>a</td>\n",
       "      <td>4</td>\n",
       "    </tr>\n",
       "    <tr>\n",
       "      <th>4</th>\n",
       "      <td>m</td>\n",
       "      <td>NaN</td>\n",
       "      <td>4</td>\n",
       "    </tr>\n",
       "  </tbody>\n",
       "</table>\n",
       "</div>"
      ],
      "text/plain": [
       "   s    d  c\n",
       "0  f    a  1\n",
       "1  m    a  1\n",
       "2  m    a  3\n",
       "3  f    a  4\n",
       "4  m  NaN  4"
      ]
     },
     "execution_count": 87,
     "metadata": {},
     "output_type": "execute_result"
    }
   ],
   "source": [
    "# 오전수업\n",
    "df"
   ]
  },
  {
   "cell_type": "code",
   "execution_count": 88,
   "metadata": {},
   "outputs": [
    {
     "data": {
      "text/plain": [
       "4    2\n",
       "1    2\n",
       "3    1\n",
       "Name: c, dtype: int64"
      ]
     },
     "execution_count": 88,
     "metadata": {},
     "output_type": "execute_result"
    }
   ],
   "source": [
    "df['c'].value_counts()\n",
    "# 내림차순 정리 도출"
   ]
  },
  {
   "cell_type": "code",
   "execution_count": 91,
   "metadata": {},
   "outputs": [
    {
     "data": {
      "text/plain": [
       "(-0.001, 1.0]    2\n",
       "(1.0, 2.0]       0\n",
       "(2.0, 3.0]       1\n",
       "(3.0, 4.0]       2\n",
       "Name: c, dtype: int64"
      ]
     },
     "execution_count": 91,
     "metadata": {},
     "output_type": "execute_result"
    }
   ],
   "source": [
    "df['c'].value_counts(sort=False,bins=[0,1,2,3,4])\n",
    "# 소괄호 : 개구간 \n",
    "# 대괄호 : 폐구간\n",
    "# => 0~1 1~4\n",
    "# => 1초과 2이하 | 0 건\n",
    "# => 3초과 4이하 | 2 건\n"
   ]
  },
  {
   "cell_type": "code",
   "execution_count": 92,
   "metadata": {},
   "outputs": [
    {
     "data": {
      "text/plain": [
       "0    (0, 1]\n",
       "1    (0, 1]\n",
       "2    (2, 3]\n",
       "3    (3, 4]\n",
       "4    (3, 4]\n",
       "Name: c, dtype: category\n",
       "Categories (4, interval[int64]): [(0, 1] < (1, 2] < (2, 3] < (3, 4]]"
      ]
     },
     "execution_count": 92,
     "metadata": {},
     "output_type": "execute_result"
    }
   ],
   "source": [
    "pd.cut(df['c'], bins=[0,1,2,3,4])\n",
    "# 말그대로 짜른다\n",
    "# count는 안하고 구간만 나눠준다."
   ]
  },
  {
   "cell_type": "code",
   "execution_count": 93,
   "metadata": {},
   "outputs": [
    {
     "data": {
      "text/plain": [
       "(3, 4]    2\n",
       "(0, 1]    2\n",
       "(2, 3]    1\n",
       "(1, 2]    0\n",
       "Name: c, dtype: int64"
      ]
     },
     "execution_count": 93,
     "metadata": {},
     "output_type": "execute_result"
    }
   ],
   "source": [
    "# cut 이후 value_counts 하는게 일반적 작업순서\n",
    "res=pd.cut(df['c'], bins=[0,1,2,3,4])\n",
    "pd.value_counts(res)\n",
    "# 각 구간 별로 몇 건수가 있는지 확인가능"
   ]
  },
  {
   "cell_type": "code",
   "execution_count": 94,
   "metadata": {},
   "outputs": [],
   "source": [
    "# 기술통계 // 주로 많이 다루는것 : 중심경향치 (중심으로 얼마나 많이 모여있느냐)\n",
    "# 중심경향치 : 평균, 중앙값(극단치에 의해 평균값이 왜곡되는 현상을 피하기위해), 최빈수 \n",
    "# 정규분포, 선형변환, 표준정규분포\n"
   ]
  },
  {
   "cell_type": "code",
   "execution_count": 18,
   "metadata": {},
   "outputs": [
    {
     "data": {
      "text/plain": [
       "array([[ 9, 14, 11,  7,  2],\n",
       "       [14, 17, 10, 11,  6],\n",
       "       [10,  3, 19, 19, 14],\n",
       "       [14,  9, 12,  4,  1],\n",
       "       [ 4,  3,  7, 14,  4],\n",
       "       [ 5,  2, 13,  0, 18]])"
      ]
     },
     "execution_count": 18,
     "metadata": {},
     "output_type": "execute_result"
    }
   ],
   "source": [
    "data=np.random.randint(20, size=(6,5))\n",
    "# randint : 정수 난수 생성 \n",
    "data\n",
    "    "
   ]
  },
  {
   "cell_type": "code",
   "execution_count": 19,
   "metadata": {},
   "outputs": [
    {
     "name": "stdout",
     "output_type": "stream",
     "text": [
      "9.2\n",
      "[[ 9 14 11  7  2]\n",
      " [14 17 10 11  6]\n",
      " [10  3 19 19 14]\n",
      " [14  9 12  4  1]\n",
      " [ 4  3  7 14  4]\n",
      " [ 5  2 13  0 18]]\n",
      "[ 9.33333333  8.         12.          9.16666667  7.5       ]\n",
      "==================================================\n"
     ]
    }
   ],
   "source": [
    "from numpy import *\n",
    "#1. numpy 표준화\n",
    "print(mean(data)) \n",
    "# 전체평균\n",
    "print(data)\n",
    "#표준화:(각 열의 데이터 - 각 열의 평균) / (각 열의 = axis) 표준편차 (전체 표준편차 x)\n",
    "# z = (x - mean()) / std()\n",
    "print(mean(data, axis=0))\n",
    "\n",
    "print(\"=\"*50)\n",
    "std_data = (data-mean(data, axis=0)) / std(data,axis=0) # 표준편차\n",
    "# 여까지 분자 부분 // 분모부분\n"
   ]
  },
  {
   "cell_type": "code",
   "execution_count": 20,
   "metadata": {},
   "outputs": [
    {
     "name": "stdout",
     "output_type": "stream",
     "text": [
      "[ 8.6 11.6 13.   8.   6.4  7.6]\n"
     ]
    }
   ],
   "source": [
    "print(mean(data, axis=1))\n",
    "# 열을 합산 \n",
    "# 1행 합) 14\n",
    "# 2행 합) 7.4 ......"
   ]
  },
  {
   "cell_type": "code",
   "execution_count": 21,
   "metadata": {},
   "outputs": [
    {
     "name": "stdout",
     "output_type": "stream",
     "text": [
      "[ 9.33333333  8.         12.          9.16666667  7.5       ]\n"
     ]
    }
   ],
   "source": [
    "print(mean(data, axis=0))\n",
    "# 행을 합산\n",
    "# 1열 합) 9.33\n",
    "# 2열 합) 8"
   ]
  },
  {
   "cell_type": "code",
   "execution_count": 110,
   "metadata": {},
   "outputs": [
    {
     "data": {
      "text/plain": [
       "array([[-0.69065644, -1.31060724,  0.14471492,  1.90110499,  0.72264186],\n",
       "       [-0.69065644,  0.60217089,  0.14471492, -0.380221  , -1.16251081],\n",
       "       [ 0.57054227,  1.66482542, -0.50650222, -0.90668084,  0.72264186],\n",
       "       [-1.41134141, -0.46048363,  1.44714921, -0.02924777,  1.09967239],\n",
       "       [ 0.75071352,  0.38963999, -1.80893651, -1.08216745, -1.53954135],\n",
       "       [ 1.47139849, -0.88554543,  0.57885968,  0.49721207,  0.15709606]])"
      ]
     },
     "execution_count": 110,
     "metadata": {},
     "output_type": "execute_result"
    }
   ],
   "source": [
    "std_data\n"
   ]
  },
  {
   "cell_type": "code",
   "execution_count": 111,
   "metadata": {},
   "outputs": [
    {
     "data": {
      "text/plain": [
       "array([-1.11022302e-16,  1.29526020e-16, -9.25185854e-17,  1.20274161e-16,\n",
       "        1.06396373e-16])"
      ]
     },
     "execution_count": 111,
     "metadata": {},
     "output_type": "execute_result"
    }
   ],
   "source": [
    "mean(std_data, axis=0)\n",
    "# 처음 숫자 = 0 (정밀도 때문에 저렇게 도출됨)\n",
    "# numpy 버전으로 표준화하는것 "
   ]
  },
  {
   "cell_type": "code",
   "execution_count": 112,
   "metadata": {},
   "outputs": [
    {
     "data": {
      "text/plain": [
       "array([1., 1., 1., 1., 1.])"
      ]
     },
     "execution_count": 112,
     "metadata": {},
     "output_type": "execute_result"
    }
   ],
   "source": [
    "std(std_data, axis=0)"
   ]
  },
  {
   "cell_type": "code",
   "execution_count": 115,
   "metadata": {},
   "outputs": [
    {
     "data": {
      "text/plain": [
       "array([[-0.69065644, -1.31060724,  0.14471492,  1.90110499,  0.72264186],\n",
       "       [-0.69065644,  0.60217089,  0.14471492, -0.380221  , -1.16251081],\n",
       "       [ 0.57054227,  1.66482542, -0.50650222, -0.90668084,  0.72264186],\n",
       "       [-1.41134141, -0.46048363,  1.44714921, -0.02924777,  1.09967239],\n",
       "       [ 0.75071352,  0.38963999, -1.80893651, -1.08216745, -1.53954135],\n",
       "       [ 1.47139849, -0.88554543,  0.57885968,  0.49721207,  0.15709606]])"
      ]
     },
     "execution_count": 115,
     "metadata": {},
     "output_type": "execute_result"
    }
   ],
   "source": [
    "import scipy.stats as ss\n",
    "std_data=ss.zscore(data)\n",
    "std_data"
   ]
  },
  {
   "cell_type": "code",
   "execution_count": 116,
   "metadata": {},
   "outputs": [],
   "source": [
    "from sklearn.preprocessing import StandardScaler"
   ]
  },
  {
   "cell_type": "code",
   "execution_count": 117,
   "metadata": {},
   "outputs": [
    {
     "data": {
      "text/plain": [
       "StandardScaler(copy=True, with_mean=True, with_std=True)"
      ]
     },
     "execution_count": 117,
     "metadata": {},
     "output_type": "execute_result"
    }
   ],
   "source": [
    "StandardScaler()\n",
    "# 객체 생성 => 함수 사용 가능"
   ]
  },
  {
   "cell_type": "code",
   "execution_count": 22,
   "metadata": {},
   "outputs": [
    {
     "name": "stderr",
     "output_type": "stream",
     "text": [
      "C:\\Users\\user\\Anaconda3\\lib\\site-packages\\sklearn\\utils\\validation.py:595: DataConversionWarning: Data with input dtype int32 was converted to float64 by StandardScaler.\n",
      "  warnings.warn(msg, DataConversionWarning)\n",
      "C:\\Users\\user\\Anaconda3\\lib\\site-packages\\sklearn\\utils\\validation.py:595: DataConversionWarning: Data with input dtype int32 was converted to float64 by StandardScaler.\n",
      "  warnings.warn(msg, DataConversionWarning)\n"
     ]
    },
    {
     "data": {
      "text/plain": [
       "array([[-0.08543577,  1.02899151, -0.27386128, -0.34341579, -0.87053364],\n",
       "       [ 1.19610072,  1.54348727, -0.54772256,  0.29058259, -0.23741826],\n",
       "       [ 0.17087153, -0.85749293,  1.91702895,  1.55857934,  1.02881248],\n",
       "       [ 1.19610072,  0.17149859,  0.        , -0.81891457, -1.02881248],\n",
       "       [-1.36697225, -0.85749293, -1.36930639,  0.76608137, -0.55397595],\n",
       "       [-1.11066496, -1.02899151,  0.27386128, -1.45291295,  1.66192785]])"
      ]
     },
     "execution_count": 22,
     "metadata": {},
     "output_type": "execute_result"
    }
   ],
   "source": [
    "std_data=StandardScaler().fit_transform(data)\n",
    "std_data\n",
    "# 데이터가 이상치(특이값, outliar)가 없다는 가정아래 작업을 수행한다\n",
    "# 이상치 데이터제거로 인해 해당 데이터셋까지 삭제되는 경우 발생하므로, \n",
    "# 이상치 제거가 정답은 아니다\n",
    "# ex) 근로자 연봉에 관한 데이터 // 이상치인 천억부자의 데이터 삭제 시 \n",
    "# 그의 연봉이 아닌 다른 데이터에 대한 삭제가 함께 이루어지는 경우는 피해야한다\n"
   ]
  },
  {
   "cell_type": "code",
   "execution_count": 23,
   "metadata": {},
   "outputs": [],
   "source": [
    "# 이상치, 특이값이 포함되어있는 데이터의 표준화\n",
    "# 평균, 표준편차는 이상치의 영향을 크게받음(민감함)\n",
    "# 중앙값 \n",
    "# 표준편차 IQR(Q3-Q1) : 데이터 오름차순 정렬시, Q1:25%, Q2:50% (중앙값), Q3: 75%\n",
    "# -> robustscaler = x-median() / IQR"
   ]
  },
  {
   "cell_type": "code",
   "execution_count": 26,
   "metadata": {},
   "outputs": [
    {
     "data": {
      "text/plain": [
       "<function matplotlib.pyplot.show(*args, **kw)>"
      ]
     },
     "execution_count": 26,
     "metadata": {},
     "output_type": "execute_result"
    },
    {
     "data": {
      "image/png": "[encoded data removed]",
      "text/plain": [
       "<Figure size 432x288 with 1 Axes>"
      ]
     },
     "metadata": {
      "needs_background": "light"
     },
     "output_type": "display_data"
    }
   ],
   "source": [
    "np.random.seed(73)\n",
    "# 동일한 씨를 사용하면 동일한 열매 나온다\n",
    "# nano.second 단위로 난수 생성 // 시스템 설정시간에 따라 반환하므로 수 지정해주면 같은 난수 발생한다\n",
    "# ==> seed를 동일하게 설정하면 같은 난수배열 생성\n",
    "# 동일하게 줘야 비교가 가능하다[random num]\n",
    "mu,sigma = 10, 3 \n",
    "# (평균. 표준편차)\n",
    "x=mu+sigma*np.random.randn(100)\n",
    "x\n",
    "import matplotlib.pyplot as plt\n",
    "plt.hist(x)\n",
    "mean(x)\n",
    "plt.show"
   ]
  },
  {
   "cell_type": "code",
   "execution_count": 27,
   "metadata": {},
   "outputs": [
    {
     "data": {
      "text/plain": [
       "10.147389546015"
      ]
     },
     "execution_count": 27,
     "metadata": {},
     "output_type": "execute_result"
    }
   ],
   "source": [
    "mean(x)"
   ]
  },
  {
   "cell_type": "code",
   "execution_count": 28,
   "metadata": {},
   "outputs": [
    {
     "data": {
      "text/plain": [
       "3.014695610662603"
      ]
     },
     "execution_count": 28,
     "metadata": {},
     "output_type": "execute_result"
    }
   ],
   "source": [
    "std(x)"
   ]
  },
  {
   "cell_type": "code",
   "execution_count": 29,
   "metadata": {},
   "outputs": [
    {
     "data": {
      "text/plain": [
       "array([1.17304392e+01, 1.63933264e+01, 1.73206590e+01, 1.07899806e+01,\n",
       "       5.51163806e+00, 9.88979408e+00, 1.12920874e+01, 5.41157701e+00,\n",
       "       7.80922097e+00, 1.31539457e+01, 1.48593780e+01, 5.18495989e+00,\n",
       "       1.09930286e+01, 9.36714293e+00, 1.08945301e+01, 6.56177945e+00,\n",
       "       1.17260861e+01, 8.90828010e+00, 1.01091976e+01, 8.43830804e+00,\n",
       "       9.95270700e+00, 9.86247581e+00, 8.14476643e+00, 7.54049167e+00,\n",
       "       1.15294257e+01, 1.31518183e+01, 1.04350957e+01, 8.97743181e+00,\n",
       "       1.37323753e+01, 1.49674550e+01, 9.18100947e+00, 8.92022193e+00,\n",
       "       7.33842885e-02, 1.31550968e+01, 9.32104691e+00, 8.01247213e+00,\n",
       "       1.27391756e+01, 1.27635065e+01, 1.27163572e+01, 8.54749669e+00,\n",
       "       7.85535142e+00, 1.05471619e+01, 1.17301502e+01, 5.30930238e+00,\n",
       "       1.56590461e+01, 6.80288206e+00, 1.03384932e+01, 8.23193967e+00,\n",
       "       1.19328003e+01, 1.09154191e+01, 1.18521557e+01, 1.32972652e+01,\n",
       "       8.69230361e+00, 1.11955065e+01, 1.00184890e+01, 4.93669823e+00,\n",
       "       1.00159642e+01, 1.23676160e+01, 1.17718161e+01, 6.89236123e+00,\n",
       "       1.31223094e+01, 8.03537406e+00, 8.08006912e+00, 1.13229199e+01,\n",
       "       9.03981268e+00, 1.42036144e+01, 1.05615933e+01, 1.29697810e+01,\n",
       "       9.91591744e+00, 1.05035811e+01, 1.15073566e+01, 3.56759120e+00,\n",
       "       8.21116157e+00, 5.44896509e+00, 5.56285490e+00, 1.22580274e+01,\n",
       "       1.24732330e+01, 1.04441867e+01, 9.02892504e+00, 9.76647714e+00,\n",
       "       1.45545959e+01, 8.21246438e+00, 1.11429535e+01, 9.91375489e+00,\n",
       "       1.78803937e+01, 1.23888896e+01, 9.48135079e+00, 1.52441180e+01,\n",
       "       9.54254465e+00, 9.33075236e+00, 7.18685342e+00, 8.42851238e+00,\n",
       "       6.92798126e+00, 1.62176380e+01, 8.87672899e+00, 1.00000000e+02,\n",
       "       1.00000000e+02, 1.00000000e+02, 1.00000000e+02, 1.00000000e+02])"
      ]
     },
     "execution_count": 29,
     "metadata": {},
     "output_type": "execute_result"
    }
   ],
   "source": [
    "x[95:100]=100\n",
    "x\n",
    "# +02 : 10 제곱"
   ]
  },
  {
   "cell_type": "code",
   "execution_count": 30,
   "metadata": {},
   "outputs": [
    {
     "data": {
      "text/plain": [
       "14.717851743813155"
      ]
     },
     "execution_count": 30,
     "metadata": {},
     "output_type": "execute_result"
    }
   ],
   "source": [
    "mean(x)"
   ]
  },
  {
   "cell_type": "code",
   "execution_count": 31,
   "metadata": {},
   "outputs": [
    {
     "data": {
      "text/plain": [
       "19.790826557586872"
      ]
     },
     "execution_count": 31,
     "metadata": {},
     "output_type": "execute_result"
    }
   ],
   "source": [
    "std(x)"
   ]
  },
  {
   "cell_type": "code",
   "execution_count": 32,
   "metadata": {},
   "outputs": [
    {
     "data": {
      "text/plain": [
       "(array([48., 47.,  0.,  0.,  0.,  0.,  0.,  0.,  0.,  5.]),\n",
       " array([7.33842885e-02, 1.00660459e+01, 2.00587074e+01, 3.00513690e+01,\n",
       "        4.00440306e+01, 5.00366921e+01, 6.00293537e+01, 7.00220153e+01,\n",
       "        8.00146769e+01, 9.00073384e+01, 1.00000000e+02]),\n",
       " <a list of 10 Patch objects>)"
      ]
     },
     "execution_count": 32,
     "metadata": {},
     "output_type": "execute_result"
    },
    {
     "data": {
      "image/png": "[encoded data removed]",
      "text/plain": [
       "<Figure size 432x288 with 1 Axes>"
      ]
     },
     "metadata": {
      "needs_background": "light"
     },
     "output_type": "display_data"
    }
   ],
   "source": [
    "# std(x) => 분모로 자리잡음 // 10에[ 비해 매우 큰 변화 이므로 이상치 제거해줘야함]\n",
    "plt.hist(x)"
   ]
  },
  {
   "cell_type": "code",
   "execution_count": 137,
   "metadata": {},
   "outputs": [
    {
     "data": {
      "text/plain": [
       "(array([ 1.,  1.,  7.,  8., 29., 25., 14.,  6.,  4.,  0.,  0.,  0.,  0.,\n",
       "         0.,  0.,  0.,  0.,  0.,  0.,  0.,  0.,  0.,  0.,  0.,  0.,  0.,\n",
       "         0.,  0.,  0.,  0.,  0.,  0.,  0.,  0.,  0.,  0.,  0.,  0.,  0.,\n",
       "         0.,  0.,  0.,  0.,  0.,  0.,  0.,  0.,  0.,  0.,  5.]),\n",
       " array([  0,   2,   4,   6,   8,  10,  12,  14,  16,  18,  20,  22,  24,\n",
       "         26,  28,  30,  32,  34,  36,  38,  40,  42,  44,  46,  48,  50,\n",
       "         52,  54,  56,  58,  60,  62,  64,  66,  68,  70,  72,  74,  76,\n",
       "         78,  80,  82,  84,  86,  88,  90,  92,  94,  96,  98, 100]),\n",
       " <a list of 50 Patch objects>)"
      ]
     },
     "execution_count": 137,
     "metadata": {},
     "output_type": "execute_result"
    },
    {
     "data": {
      "image/png": "[encoded data removed]",
      "text/plain": [
       "<Figure size 432x288 with 1 Axes>"
      ]
     },
     "metadata": {
      "needs_background": "light"
     },
     "output_type": "display_data"
    }
   ],
   "source": [
    "plt.hist(x,bins=np.arange(0,101,2))"
   ]
  },
  {
   "cell_type": "code",
   "execution_count": 34,
   "metadata": {},
   "outputs": [
    {
     "name": "stdout",
     "output_type": "stream",
     "text": [
      "(100, 1)\n"
     ]
    },
    {
     "data": {
      "text/plain": [
       "array([[1.17304392e+01],\n",
       "       [1.63933264e+01],\n",
       "       [1.73206590e+01],\n",
       "       [1.07899806e+01],\n",
       "       [5.51163806e+00],\n",
       "       [9.88979408e+00],\n",
       "       [1.12920874e+01],\n",
       "       [5.41157701e+00],\n",
       "       [7.80922097e+00],\n",
       "       [1.31539457e+01],\n",
       "       [1.48593780e+01],\n",
       "       [5.18495989e+00],\n",
       "       [1.09930286e+01],\n",
       "       [9.36714293e+00],\n",
       "       [1.08945301e+01],\n",
       "       [6.56177945e+00],\n",
       "       [1.17260861e+01],\n",
       "       [8.90828010e+00],\n",
       "       [1.01091976e+01],\n",
       "       [8.43830804e+00],\n",
       "       [9.95270700e+00],\n",
       "       [9.86247581e+00],\n",
       "       [8.14476643e+00],\n",
       "       [7.54049167e+00],\n",
       "       [1.15294257e+01],\n",
       "       [1.31518183e+01],\n",
       "       [1.04350957e+01],\n",
       "       [8.97743181e+00],\n",
       "       [1.37323753e+01],\n",
       "       [1.49674550e+01],\n",
       "       [9.18100947e+00],\n",
       "       [8.92022193e+00],\n",
       "       [7.33842885e-02],\n",
       "       [1.31550968e+01],\n",
       "       [9.32104691e+00],\n",
       "       [8.01247213e+00],\n",
       "       [1.27391756e+01],\n",
       "       [1.27635065e+01],\n",
       "       [1.27163572e+01],\n",
       "       [8.54749669e+00],\n",
       "       [7.85535142e+00],\n",
       "       [1.05471619e+01],\n",
       "       [1.17301502e+01],\n",
       "       [5.30930238e+00],\n",
       "       [1.56590461e+01],\n",
       "       [6.80288206e+00],\n",
       "       [1.03384932e+01],\n",
       "       [8.23193967e+00],\n",
       "       [1.19328003e+01],\n",
       "       [1.09154191e+01],\n",
       "       [1.18521557e+01],\n",
       "       [1.32972652e+01],\n",
       "       [8.69230361e+00],\n",
       "       [1.11955065e+01],\n",
       "       [1.00184890e+01],\n",
       "       [4.93669823e+00],\n",
       "       [1.00159642e+01],\n",
       "       [1.23676160e+01],\n",
       "       [1.17718161e+01],\n",
       "       [6.89236123e+00],\n",
       "       [1.31223094e+01],\n",
       "       [8.03537406e+00],\n",
       "       [8.08006912e+00],\n",
       "       [1.13229199e+01],\n",
       "       [9.03981268e+00],\n",
       "       [1.42036144e+01],\n",
       "       [1.05615933e+01],\n",
       "       [1.29697810e+01],\n",
       "       [9.91591744e+00],\n",
       "       [1.05035811e+01],\n",
       "       [1.15073566e+01],\n",
       "       [3.56759120e+00],\n",
       "       [8.21116157e+00],\n",
       "       [5.44896509e+00],\n",
       "       [5.56285490e+00],\n",
       "       [1.22580274e+01],\n",
       "       [1.24732330e+01],\n",
       "       [1.04441867e+01],\n",
       "       [9.02892504e+00],\n",
       "       [9.76647714e+00],\n",
       "       [1.45545959e+01],\n",
       "       [8.21246438e+00],\n",
       "       [1.11429535e+01],\n",
       "       [9.91375489e+00],\n",
       "       [1.78803937e+01],\n",
       "       [1.23888896e+01],\n",
       "       [9.48135079e+00],\n",
       "       [1.52441180e+01],\n",
       "       [9.54254465e+00],\n",
       "       [9.33075236e+00],\n",
       "       [7.18685342e+00],\n",
       "       [8.42851238e+00],\n",
       "       [6.92798126e+00],\n",
       "       [1.62176380e+01],\n",
       "       [8.87672899e+00],\n",
       "       [1.00000000e+02],\n",
       "       [1.00000000e+02],\n",
       "       [1.00000000e+02],\n",
       "       [1.00000000e+02],\n",
       "       [1.00000000e+02]])"
      ]
     },
     "execution_count": 34,
     "metadata": {},
     "output_type": "execute_result"
    }
   ],
   "source": [
    "print(np.shape(x))\n",
    "x=x.reshape(-1,1)\n",
    "x\n",
    "## 1: 니가 알아서 계산해\n",
    "# DL : -1 => None\n",
    "# print(np.shape(x))\n",
    "# std_x=StandardScaler().fit_transform(x)"
   ]
  },
  {
   "cell_type": "code",
   "execution_count": 35,
   "metadata": {},
   "outputs": [
    {
     "data": {
      "text/plain": [
       "array([[-0.15094936],\n",
       "       [ 0.08465915],\n",
       "       [ 0.13151584],\n",
       "       [-0.19846928],\n",
       "       [-0.46517581],\n",
       "       [-0.24395432],\n",
       "       [-0.1730986 ],\n",
       "       [-0.47023174],\n",
       "       [-0.34908248],\n",
       "       [-0.07902176],\n",
       "       [ 0.0071511 ],\n",
       "       [-0.48168235],\n",
       "       [-0.18820958],\n",
       "       [-0.27036308],\n",
       "       [-0.19318656],\n",
       "       [-0.41211378],\n",
       "       [-0.15116931],\n",
       "       [-0.29354871],\n",
       "       [-0.2328682 ],\n",
       "       [-0.31729568],\n",
       "       [-0.24077543],\n",
       "       [-0.24533467],\n",
       "       [-0.33212788],\n",
       "       [-0.36266096],\n",
       "       [-0.16110626],\n",
       "       [-0.07912926],\n",
       "       [-0.21640107],\n",
       "       [-0.29005458],\n",
       "       [-0.04979461],\n",
       "       [ 0.01261207],\n",
       "       [-0.27976812],\n",
       "       [-0.29294531],\n",
       "       [-0.7399624 ],\n",
       "       [-0.0789636 ],\n",
       "       [-0.27269224],\n",
       "       [-0.33881251],\n",
       "       [-0.09997946],\n",
       "       [-0.09875006],\n",
       "       [-0.10113244],\n",
       "       [-0.31177854],\n",
       "       [-0.34675158],\n",
       "       [-0.21073854],\n",
       "       [-0.15096396],\n",
       "       [-0.47539952],\n",
       "       [ 0.0475571 ],\n",
       "       [-0.39993123],\n",
       "       [-0.22128225],\n",
       "       [-0.32772315],\n",
       "       [-0.14072436],\n",
       "       [-0.19213107],\n",
       "       [-0.14479921],\n",
       "       [-0.07178005],\n",
       "       [-0.30446167],\n",
       "       [-0.17797868],\n",
       "       [-0.23745157],\n",
       "       [-0.49422663],\n",
       "       [-0.23757914],\n",
       "       [-0.1187538 ],\n",
       "       [-0.14885864],\n",
       "       [-0.39540999],\n",
       "       [-0.0806203 ],\n",
       "       [-0.33765531],\n",
       "       [-0.33539694],\n",
       "       [-0.17154068],\n",
       "       [-0.28690257],\n",
       "       [-0.02598362],\n",
       "       [-0.21000934],\n",
       "       [-0.08832732],\n",
       "       [-0.24263435],\n",
       "       [-0.21294061],\n",
       "       [-0.16222138],\n",
       "       [-0.5634055 ],\n",
       "       [-0.32877304],\n",
       "       [-0.46834257],\n",
       "       [-0.4625879 ],\n",
       "       [-0.12429114],\n",
       "       [-0.11341713],\n",
       "       [-0.21594172],\n",
       "       [-0.28745271],\n",
       "       [-0.25018534],\n",
       "       [-0.00824906],\n",
       "       [-0.32870721],\n",
       "       [-0.18063411],\n",
       "       [-0.24274362],\n",
       "       [ 0.15979838],\n",
       "       [-0.11767887],\n",
       "       [-0.26459233],\n",
       "       [ 0.02659142],\n",
       "       [-0.2615003 ],\n",
       "       [-0.27220184],\n",
       "       [-0.38052975],\n",
       "       [-0.31779064],\n",
       "       [-0.39361016],\n",
       "       [ 0.07578189],\n",
       "       [-0.29514294],\n",
       "       [ 4.30917567],\n",
       "       [ 4.30917567],\n",
       "       [ 4.30917567],\n",
       "       [ 4.30917567],\n",
       "       [ 4.30917567]])"
      ]
     },
     "execution_count": 35,
     "metadata": {},
     "output_type": "execute_result"
    }
   ],
   "source": [
    "std_x=StandardScaler().fit_transform(x)\n",
    "std_x"
   ]
  },
  {
   "cell_type": "code",
   "execution_count": 36,
   "metadata": {},
   "outputs": [
    {
     "data": {
      "text/plain": [
       "(array([48., 47.,  0.,  0.,  0.,  0.,  0.,  0.,  0.,  5.]),\n",
       " array([-0.7399624 , -0.23504859,  0.26986522,  0.77477902,  1.27969283,\n",
       "         1.78460664,  2.28952044,  2.79443425,  3.29934806,  3.80426186,\n",
       "         4.30917567]),\n",
       " <a list of 10 Patch objects>)"
      ]
     },
     "execution_count": 36,
     "metadata": {},
     "output_type": "execute_result"
    },
    {
     "data": {
      "image/png": "[encoded data removed]",
      "text/plain": [
       "<Figure size 432x288 with 1 Axes>"
      ]
     },
     "metadata": {
      "needs_background": "light"
     },
     "output_type": "display_data"
    }
   ],
   "source": [
    "plt.hist(std_x)"
   ]
  },
  {
   "cell_type": "code",
   "execution_count": 37,
   "metadata": {},
   "outputs": [],
   "source": [
    "std_o=std_x[std_x<4]"
   ]
  },
  {
   "cell_type": "code",
   "execution_count": 38,
   "metadata": {},
   "outputs": [
    {
     "data": {
      "text/plain": [
       "(array([ 0.,  1.,  9., 45., 32.,  8.,  0.,  0.,  0.]),\n",
       " array([-1.00000000e+00, -8.00000000e-01, -6.00000000e-01, -4.00000000e-01,\n",
       "        -2.00000000e-01, -2.22044605e-16,  2.00000000e-01,  4.00000000e-01,\n",
       "         6.00000000e-01,  8.00000000e-01]),\n",
       " <a list of 9 Patch objects>)"
      ]
     },
     "execution_count": 38,
     "metadata": {},
     "output_type": "execute_result"
    },
    {
     "data": {
      "image/png": "[encoded data removed]",
      "text/plain": [
       "<Figure size 432x288 with 1 Axes>"
      ]
     },
     "metadata": {
      "needs_background": "light"
     },
     "output_type": "display_data"
    }
   ],
   "source": [
    "plt.hist(std_o, bins=np.arange(-1, 1, 0.2))\n"
   ]
  },
  {
   "cell_type": "code",
   "execution_count": 39,
   "metadata": {},
   "outputs": [
    {
     "data": {
      "text/plain": [
       "10.386794450839528"
      ]
     },
     "execution_count": 39,
     "metadata": {},
     "output_type": "execute_result"
    }
   ],
   "source": [
    "# numpy\n",
    "mean(x)\n",
    "median(x)"
   ]
  },
  {
   "cell_type": "code",
   "execution_count": 158,
   "metadata": {},
   "outputs": [
    {
     "data": {
      "text/plain": [
       "8.435859129640745"
      ]
     },
     "execution_count": 158,
     "metadata": {},
     "output_type": "execute_result"
    }
   ],
   "source": [
    "Q1=percentile(x, 25) # 8.44\n",
    "# 25 % 지점 // Q1에 해당\n",
    "# 백분위에서 25분위 수 탐색\n",
    "Q1"
   ]
  },
  {
   "cell_type": "code",
   "execution_count": 159,
   "metadata": {},
   "outputs": [
    {
     "data": {
      "text/plain": [
       "12.534014070784306"
      ]
     },
     "execution_count": 159,
     "metadata": {},
     "output_type": "execute_result"
    }
   ],
   "source": [
    "Q3=percentile(x, 75) # 12.53\n",
    "Q3"
   ]
  },
  {
   "cell_type": "code",
   "execution_count": 161,
   "metadata": {},
   "outputs": [
    {
     "data": {
      "text/plain": [
       "4.0981549411435605"
      ]
     },
     "execution_count": 161,
     "metadata": {},
     "output_type": "execute_result"
    }
   ],
   "source": [
    "IQR=Q3-Q1\n",
    "IQR"
   ]
  },
  {
   "cell_type": "code",
   "execution_count": 163,
   "metadata": {},
   "outputs": [
    {
     "data": {
      "text/plain": [
       "array([[ 3.27865765e-01],\n",
       "       [ 1.46566736e+00],\n",
       "       [ 1.69194788e+00],\n",
       "       [ 9.83823630e-02],\n",
       "       [-1.18959787e+00],\n",
       "       [-1.21274179e-01],\n",
       "       [ 2.20902557e-01],\n",
       "       [-1.21401399e+00],\n",
       "       [-6.28959499e-01],\n",
       "       [ 6.75218799e-01],\n",
       "       [ 1.09136517e+00],\n",
       "       [-1.26931134e+00],\n",
       "       [ 1.47928556e-01],\n",
       "       [-2.48807460e-01],\n",
       "       [ 1.23893718e-01],\n",
       "       [-9.33350510e-01],\n",
       "       [ 3.26803559e-01],\n",
       "       [-3.60775612e-01],\n",
       "       [-6.77370358e-02],\n",
       "       [-4.75454548e-01],\n",
       "       [-1.05922655e-01],\n",
       "       [-1.27940169e-01],\n",
       "       [-5.47082297e-01],\n",
       "       [-6.94532739e-01],\n",
       "       [ 2.78816023e-01],\n",
       "       [ 6.74699692e-01],\n",
       "       [ 1.17861007e-02],\n",
       "       [-3.43901747e-01],\n",
       "       [ 8.16362710e-01],\n",
       "       [ 1.11773727e+00],\n",
       "       [-2.94226304e-01],\n",
       "       [-3.57861657e-01],\n",
       "       [-2.51659840e+00],\n",
       "       [ 6.75499676e-01],\n",
       "       [-2.60055454e-01],\n",
       "       [-5.79363727e-01],\n",
       "       [ 5.74009819e-01],\n",
       "       [ 5.79946854e-01],\n",
       "       [ 5.68441851e-01],\n",
       "       [-4.48811180e-01],\n",
       "       [-6.17703105e-01],\n",
       "       [ 3.91316169e-02],\n",
       "       [ 3.27795259e-01],\n",
       "       [-1.23897026e+00],\n",
       "       [ 1.28649398e+00],\n",
       "       [-8.74518518e-01],\n",
       "       [-1.17861007e-02],\n",
       "       [-5.25810959e-01],\n",
       "       [ 3.77244364e-01],\n",
       "       [ 1.28990877e-01],\n",
       "       [ 3.57566101e-01],\n",
       "       [ 7.10190508e-01],\n",
       "       [-4.13476520e-01],\n",
       "       [ 1.97335640e-01],\n",
       "       [-8.98710463e-02],\n",
       "       [-1.32989023e+00],\n",
       "       [-9.04871228e-02],\n",
       "       [ 4.83344709e-01],\n",
       "       [ 3.37962251e-01],\n",
       "       [-8.52684505e-01],\n",
       "       [ 6.67499149e-01],\n",
       "       [-5.73775375e-01],\n",
       "       [-5.62869234e-01],\n",
       "       [ 2.28426070e-01],\n",
       "       [-3.28680051e-01],\n",
       "       [ 9.31350828e-01],\n",
       "       [ 4.26530613e-02],\n",
       "       [ 6.30280363e-01],\n",
       "       [-1.14899759e-01],\n",
       "       [ 2.84973819e-02],\n",
       "       [ 2.73430883e-01],\n",
       "       [-1.66396912e+00],\n",
       "       [-5.30881071e-01],\n",
       "       [-1.20489084e+00],\n",
       "       [-1.17710034e+00],\n",
       "       [ 4.56603751e-01],\n",
       "       [ 5.09116565e-01],\n",
       "       [ 1.40044146e-02],\n",
       "       [-3.31336766e-01],\n",
       "       [-1.51365021e-01],\n",
       "       [ 1.01699461e+00],\n",
       "       [-5.30563169e-01],\n",
       "       [ 1.84512064e-01],\n",
       "       [-1.15427447e-01],\n",
       "       [ 1.82853000e+00],\n",
       "       [ 4.88535734e-01],\n",
       "       [-2.20939343e-01],\n",
       "       [ 1.18524644e+00],\n",
       "       [-2.06007291e-01],\n",
       "       [-2.57687205e-01],\n",
       "       [-7.80824804e-01],\n",
       "       [-4.77844810e-01],\n",
       "       [-8.43992782e-01],\n",
       "       [ 1.42279724e+00],\n",
       "       [-3.68474469e-01],\n",
       "       [ 2.18667197e+01],\n",
       "       [ 2.18667197e+01],\n",
       "       [ 2.18667197e+01],\n",
       "       [ 2.18667197e+01],\n",
       "       [ 2.18667197e+01]])"
      ]
     },
     "execution_count": 163,
     "metadata": {},
     "output_type": "execute_result"
    }
   ],
   "source": [
    "rbs_x=RobustScaler().fit_transform(x)\n",
    "# 괄호 : 함수\n",
    "rbs_x"
   ]
  },
  {
   "cell_type": "code",
   "execution_count": 165,
   "metadata": {},
   "outputs": [
    {
     "data": {
      "text/plain": [
       "0.0"
      ]
     },
     "execution_count": 165,
     "metadata": {},
     "output_type": "execute_result"
    }
   ],
   "source": [
    "# 중의수 ( 중앙에 있는 수 )\n",
    "# 평균을 뺀게 아니라 중의수를 뺀값\n",
    "median(rbs_x)"
   ]
  },
  {
   "cell_type": "code",
   "execution_count": 166,
   "metadata": {},
   "outputs": [
    {
     "data": {
      "text/plain": [
       "1.0568310264435923"
      ]
     },
     "execution_count": 166,
     "metadata": {},
     "output_type": "execute_result"
    }
   ],
   "source": [
    "# 평균값\n",
    "mean(rbs_x)"
   ]
  },
  {
   "cell_type": "code",
   "execution_count": 167,
   "metadata": {},
   "outputs": [
    {
     "data": {
      "text/plain": [
       "4.829204078863935"
      ]
     },
     "execution_count": 167,
     "metadata": {},
     "output_type": "execute_result"
    }
   ],
   "source": [
    "# 표준편차\n",
    "std(rbs_x)"
   ]
  },
  {
   "cell_type": "code",
   "execution_count": 168,
   "metadata": {},
   "outputs": [
    {
     "data": {
      "text/plain": [
       "(array([48., 47.,  0.,  0.,  0.,  0.,  0.,  0.,  0.,  5.]),\n",
       " array([-2.5165984 , -0.07826658,  2.36006523,  4.79839704,  7.23672886,\n",
       "         9.67506067, 12.11339248, 14.5517243 , 16.99005611, 19.42838793,\n",
       "        21.86671974]),\n",
       " <a list of 10 Patch objects>)"
      ]
     },
     "execution_count": 168,
     "metadata": {},
     "output_type": "execute_result"
    },
    {
     "data": {
      "image/png": "[encoded data removed]",
      "text/plain": [
       "<Figure size 432x288 with 1 Axes>"
      ]
     },
     "metadata": {
      "needs_background": "light"
     },
     "output_type": "display_data"
    }
   ],
   "source": [
    "plt.hist(rbs_x)"
   ]
  },
  {
   "cell_type": "code",
   "execution_count": 169,
   "metadata": {},
   "outputs": [
    {
     "data": {
      "text/plain": [
       "array([ 0.32786576,  1.46566736,  1.69194788,  0.09838236, -1.18959787,\n",
       "       -0.12127418,  0.22090256, -1.21401399, -0.6289595 ,  0.6752188 ,\n",
       "        1.09136517, -1.26931134,  0.14792856, -0.24880746,  0.12389372,\n",
       "       -0.93335051,  0.32680356, -0.36077561, -0.06773704, -0.47545455,\n",
       "       -0.10592265, -0.12794017, -0.5470823 , -0.69453274,  0.27881602,\n",
       "        0.67469969,  0.0117861 , -0.34390175,  0.81636271,  1.11773727,\n",
       "       -0.2942263 , -0.35786166, -2.5165984 ,  0.67549968, -0.26005545,\n",
       "       -0.57936373,  0.57400982,  0.57994685,  0.56844185, -0.44881118,\n",
       "       -0.61770311,  0.03913162,  0.32779526, -1.23897026,  1.28649398,\n",
       "       -0.87451852, -0.0117861 , -0.52581096,  0.37724436,  0.12899088,\n",
       "        0.3575661 ,  0.71019051, -0.41347652,  0.19733564, -0.08987105,\n",
       "       -1.32989023, -0.09048712,  0.48334471,  0.33796225, -0.8526845 ,\n",
       "        0.66749915, -0.57377537, -0.56286923,  0.22842607, -0.32868005,\n",
       "        0.93135083,  0.04265306,  0.63028036, -0.11489976,  0.02849738,\n",
       "        0.27343088, -1.66396912, -0.53088107, -1.20489084, -1.17710034,\n",
       "        0.45660375,  0.50911657,  0.01400441, -0.33133677, -0.15136502,\n",
       "        1.01699461, -0.53056317,  0.18451206, -0.11542745,  1.82853   ,\n",
       "        0.48853573, -0.22093934,  1.18524644, -0.20600729, -0.2576872 ,\n",
       "       -0.7808248 , -0.47784481, -0.84399278,  1.42279724, -0.36847447])"
      ]
     },
     "execution_count": 169,
     "metadata": {},
     "output_type": "execute_result"
    }
   ],
   "source": [
    "rbs_o=rbs_x[rbs_x<5]\n",
    "rbs_o\n"
   ]
  },
  {
   "cell_type": "code",
   "execution_count": 176,
   "metadata": {},
   "outputs": [
    {
     "data": {
      "text/plain": [
       "(array([ 0.,  0.,  1.,  0.,  0.,  0.,  1.,  0.,  5.,  2.,  4.,  4., 11.,\n",
       "        12., 10., 11., 10.,  7.,  6.,  2.,  4.,  1.,  2.,  1.,  1.,  0.,\n",
       "         0.,  0.,  0.]),\n",
       " array([-3.00000000e+00, -2.80000000e+00, -2.60000000e+00, -2.40000000e+00,\n",
       "        -2.20000000e+00, -2.00000000e+00, -1.80000000e+00, -1.60000000e+00,\n",
       "        -1.40000000e+00, -1.20000000e+00, -1.00000000e+00, -8.00000000e-01,\n",
       "        -6.00000000e-01, -4.00000000e-01, -2.00000000e-01,  2.66453526e-15,\n",
       "         2.00000000e-01,  4.00000000e-01,  6.00000000e-01,  8.00000000e-01,\n",
       "         1.00000000e+00,  1.20000000e+00,  1.40000000e+00,  1.60000000e+00,\n",
       "         1.80000000e+00,  2.00000000e+00,  2.20000000e+00,  2.40000000e+00,\n",
       "         2.60000000e+00,  2.80000000e+00]),\n",
       " <a list of 29 Patch objects>)"
      ]
     },
     "execution_count": 176,
     "metadata": {},
     "output_type": "execute_result"
    },
    {
     "data": {
      "image/png": "[encoded data removed]",
      "text/plain": [
       "<Figure size 432x288 with 1 Axes>"
      ]
     },
     "metadata": {
      "needs_background": "light"
     },
     "output_type": "display_data"
    }
   ],
   "source": [
    "\n",
    "plt.hist(rbs_o, bins=np.arange(-3,3,0.2))"
   ]
  },
  {
   "cell_type": "code",
   "execution_count": 5,
   "metadata": {},
   "outputs": [],
   "source": [
    "# 정규화 : (각 열의 요소값 - 각 열의 최소값) / (각 열의 최대값 - 각 열의 최소값)\n",
    "# 0~1 사이의 범위(딥러닝)//(일반적)\n",
    "# 연습문제 : finance.yahoo.com\n",
    "# 관심회사 -> 주식데이터 다운로드(1개월) # 표준화/정규화 [scaler 함수 쓰지말고 구현]\n",
    "# def myStd로 구현하라\n",
    "from sklearn.preprocessing import MinMaxScaler\n",
    "import numpy as np"
   ]
  },
  {
   "cell_type": "code",
   "execution_count": 7,
   "metadata": {},
   "outputs": [],
   "source": [
    "x=np.array([\n",
    "         [9, -9, 2],\n",
    "         [5, 0, 1],\n",
    "         [1, 10, 4],\n",
    "         [4, 7, -2]])\n",
    "# 몇 차원이냐 ? = 대괄호의 개수에 따라 판단\n",
    "# min-max scaling ) 1 OR 0 로 도출 // 열단위로 결과 도출"
   ]
  },
  {
   "cell_type": "code",
   "execution_count": 8,
   "metadata": {},
   "outputs": [
    {
     "data": {
      "text/plain": [
       "array([ 1, -9, -2])"
      ]
     },
     "execution_count": 8,
     "metadata": {},
     "output_type": "execute_result"
    }
   ],
   "source": [
    "x.min(axis=0) # [ 1, -9, -2]\n",
    "# 열단위로 최소값"
   ]
  },
  {
   "cell_type": "code",
   "execution_count": 9,
   "metadata": {},
   "outputs": [
    {
     "data": {
      "text/plain": [
       "array([ 9, 10,  4])"
      ]
     },
     "execution_count": 9,
     "metadata": {},
     "output_type": "execute_result"
    }
   ],
   "source": [
    "x.max(axis=0)\n",
    "# 열단위 최대값"
   ]
  },
  {
   "cell_type": "code",
   "execution_count": 10,
   "metadata": {},
   "outputs": [
    {
     "data": {
      "text/plain": [
       "array([[1.        , 0.        , 0.66666667],\n",
       "       [0.5       , 0.47368421, 0.5       ],\n",
       "       [0.        , 1.        , 1.        ],\n",
       "       [0.375     , 0.84210526, 0.        ]])"
      ]
     },
     "execution_count": 10,
     "metadata": {},
     "output_type": "execute_result"
    }
   ],
   "source": [
    "# 정규화 : (각 열의 요소값 - 각 열의 최소값) / (각 열의 최대값 - 각 열의 최소값)\n",
    "(x - x.min(axis=0)) / (x.max(axis=0) - x.min(axis=0))\n",
    "# min-max scaler [0~1] 사이 내재\n",
    "# broadcasting (확장) 될것이다."
   ]
  },
  {
   "cell_type": "code",
   "execution_count": 11,
   "metadata": {},
   "outputs": [
    {
     "name": "stderr",
     "output_type": "stream",
     "text": [
      "C:\\Users\\user\\Anaconda3\\lib\\site-packages\\sklearn\\utils\\validation.py:595: DataConversionWarning: Data with input dtype int32 was converted to float64 by MinMaxScaler.\n",
      "  warnings.warn(msg, DataConversionWarning)\n"
     ]
    },
    {
     "data": {
      "text/plain": [
       "array([[1.        , 0.        , 0.66666667],\n",
       "       [0.5       , 0.47368421, 0.5       ],\n",
       "       [0.        , 1.        , 1.        ],\n",
       "       [0.375     , 0.84210526, 0.        ]])"
      ]
     },
     "execution_count": 11,
     "metadata": {},
     "output_type": "execute_result"
    }
   ],
   "source": [
    "x_minmax=MinMaxScaler().fit_transform(x)\n",
    "x_minmax\n",
    "# 객체생성"
   ]
  },
  {
   "cell_type": "code",
   "execution_count": 40,
   "metadata": {},
   "outputs": [],
   "source": [
    "from sklearn.preprocessing import minmax_scale"
   ]
  },
  {
   "cell_type": "code",
   "execution_count": 41,
   "metadata": {},
   "outputs": [
    {
     "data": {
      "text/plain": [
       "array([[0.11665616],\n",
       "       [0.16331927],\n",
       "       [0.17259941],\n",
       "       [0.10724466],\n",
       "       [0.05442248],\n",
       "       [0.09823619],\n",
       "       [0.11226942],\n",
       "       [0.05342113],\n",
       "       [0.07741518],\n",
       "       [0.13090168],\n",
       "       [0.14796852],\n",
       "       [0.05115329],\n",
       "       [0.10927663],\n",
       "       [0.09300584],\n",
       "       [0.10829093],\n",
       "       [0.0649316 ],\n",
       "       [0.11661259],\n",
       "       [0.08841384],\n",
       "       [0.10043183],\n",
       "       [0.08371067],\n",
       "       [0.09886578],\n",
       "       [0.0979628 ],\n",
       "       [0.0807731 ],\n",
       "       [0.07472591],\n",
       "       [0.11464455],\n",
       "       [0.13088039],\n",
       "       [0.10369321],\n",
       "       [0.08910586],\n",
       "       [0.13669022],\n",
       "       [0.14905009],\n",
       "       [0.09114314],\n",
       "       [0.08853335],\n",
       "       [0.        ],\n",
       "       [0.13091319],\n",
       "       [0.09254454],\n",
       "       [0.07944918],\n",
       "       [0.12675093],\n",
       "       [0.12699442],\n",
       "       [0.12652258],\n",
       "       [0.08480336],\n",
       "       [0.07787682],\n",
       "       [0.10481469],\n",
       "       [0.11665326],\n",
       "       [0.05239763],\n",
       "       [0.15597108],\n",
       "       [0.0673444 ],\n",
       "       [0.10272647],\n",
       "       [0.08164547],\n",
       "       [0.11868125],\n",
       "       [0.10849997],\n",
       "       [0.11787422],\n",
       "       [0.13233592],\n",
       "       [0.08625249],\n",
       "       [0.1113029 ],\n",
       "       [0.09952408],\n",
       "       [0.04866885],\n",
       "       [0.09949882],\n",
       "       [0.1230326 ],\n",
       "       [0.11707023],\n",
       "       [0.06823985],\n",
       "       [0.13058508],\n",
       "       [0.07967837],\n",
       "       [0.08012565],\n",
       "       [0.11257797],\n",
       "       [0.08973013],\n",
       "       [0.14140607],\n",
       "       [0.10495911],\n",
       "       [0.12905868],\n",
       "       [0.09849761],\n",
       "       [0.10437857],\n",
       "       [0.11442369],\n",
       "       [0.03496773],\n",
       "       [0.08143754],\n",
       "       [0.05379529],\n",
       "       [0.05493502],\n",
       "       [0.12193591],\n",
       "       [0.12408955],\n",
       "       [0.10378419],\n",
       "       [0.08962118],\n",
       "       [0.09700211],\n",
       "       [0.14491846],\n",
       "       [0.08145057],\n",
       "       [0.11077698],\n",
       "       [0.09847597],\n",
       "       [0.17820087],\n",
       "       [0.1232455 ],\n",
       "       [0.09414876],\n",
       "       [0.15181875],\n",
       "       [0.09476114],\n",
       "       [0.09264167],\n",
       "       [0.07118693],\n",
       "       [0.08361264],\n",
       "       [0.06859631],\n",
       "       [0.1615611 ],\n",
       "       [0.0880981 ],\n",
       "       [1.        ],\n",
       "       [1.        ],\n",
       "       [1.        ],\n",
       "       [1.        ],\n",
       "       [1.        ]])"
      ]
     },
     "execution_count": 41,
     "metadata": {},
     "output_type": "execute_result"
    }
   ],
   "source": [
    "minmax_scale(x, axis=0)"
   ]
  },
  {
   "cell_type": "code",
   "execution_count": 42,
   "metadata": {},
   "outputs": [],
   "source": [
    "# 연습문제 : 이항변수화 변환(타이타닉)\n",
    "# 연속형 변수값 -> 0또는 1(2가지)\n",
    "from sklearn.preprocessing import Binarizer\n",
    "# 이항변수화 시키는 class\n"
   ]
  },
  {
   "cell_type": "code",
   "execution_count": 43,
   "metadata": {},
   "outputs": [
    {
     "data": {
      "text/plain": [
       "array([[ 5, -3,  2],\n",
       "       [ 7, -1,  0],\n",
       "       [ 0,  9,  5]])"
      ]
     },
     "execution_count": 43,
     "metadata": {},
     "output_type": "execute_result"
    }
   ],
   "source": [
    "x=np.array([[5, -3, 2],\n",
    "            [7,-1,0],\n",
    "            [0,9,5]])\n",
    "x\n",
    "# 임계값 ( threshold) 을 설정하고 이에 기준하여 binarization\n",
    "# 물의 끓는점 (100'c) // 기준이 되는값 \n"
   ]
  },
  {
   "cell_type": "code",
   "execution_count": 44,
   "metadata": {},
   "outputs": [
    {
     "data": {
      "text/plain": [
       "Binarizer(copy=True, threshold=0.0)"
      ]
     },
     "execution_count": 44,
     "metadata": {},
     "output_type": "execute_result"
    }
   ],
   "source": [
    "# 3을 기준 threshold\n",
    "Binarizer().fit(x)\n",
    "# default값 : 0.0\n",
    "# 클래스 : 틀, 설계도 => 실체가 아니다 => ()를 덧붙여 실체화한다 "
   ]
  },
  {
   "cell_type": "code",
   "execution_count": 47,
   "metadata": {},
   "outputs": [
    {
     "data": {
      "text/plain": [
       "Binarizer(copy=True, threshold=1.5)"
      ]
     },
     "execution_count": 47,
     "metadata": {},
     "output_type": "execute_result"
    }
   ],
   "source": [
    "bnr=Binarizer(1.5).fit(x) # 2이하 -> 0 # 2초과 -> 1\n",
    "bnr"
   ]
  },
  {
   "cell_type": "code",
   "execution_count": 48,
   "metadata": {},
   "outputs": [
    {
     "data": {
      "text/plain": [
       "array([[1, 0, 1],\n",
       "       [1, 0, 0],\n",
       "       [0, 1, 1]])"
      ]
     },
     "execution_count": 48,
     "metadata": {},
     "output_type": "execute_result"
    }
   ],
   "source": [
    "bnr.transform(x)"
   ]
  },
  {
   "cell_type": "code",
   "execution_count": 49,
   "metadata": {},
   "outputs": [
    {
     "data": {
      "text/plain": [
       "array([[ 5, -3,  2],\n",
       "       [ 7, -1,  0],\n",
       "       [ 0,  9,  5]])"
      ]
     },
     "execution_count": 49,
     "metadata": {},
     "output_type": "execute_result"
    }
   ],
   "source": [
    "x"
   ]
  },
  {
   "cell_type": "code",
   "execution_count": 25,
   "metadata": {},
   "outputs": [],
   "source": [
    "# 20190703 수업완료"
   ]
  },
  {
   "cell_type": "code",
   "execution_count": null,
   "metadata": {},
   "outputs": [],
   "source": []
  }
 ],
 "metadata": {
  "kernelspec": {
   "display_name": "Python 3",
   "language": "python",
   "name": "python3"
  },
  "language_info": {
   "codemirror_mode": {
    "name": "ipython",
    "version": 3
   },
   "file_extension": ".py",
   "mimetype": "text/x-python",
   "name": "python",
   "nbconvert_exporter": "python",
   "pygments_lexer": "ipython3",
   "version": "3.7.3"
  }
 },
 "nbformat": 4,
 "nbformat_minor": 2
}
