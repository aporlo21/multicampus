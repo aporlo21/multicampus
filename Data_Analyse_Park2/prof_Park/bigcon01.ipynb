{
 "cells": [
  {
   "cell_type": "code",
   "execution_count": 42,
   "metadata": {},
   "outputs": [],
   "source": [
    "import pandas as pd\n",
    "import numpy as np\n",
    "import matplotlib as mpl\n",
    "import matplotlib.pyplot as plt\n",
    "import seaborn as sns\n",
    "from scipy import stats\n",
    "\n",
    "from jupyterthemes import jtplot\n",
    "jtplot.style(theme='gruvboxd', context='paper', spines=True, \n",
    "             ticks=True, grid=True, gridlines='dotted', figsize=(6,4.5))"
   ]
  },
  {
   "cell_type": "code",
   "execution_count": 43,
   "metadata": {},
   "outputs": [
    {
     "name": "stdout",
     "output_type": "stream",
     "text": [
      "<class 'pandas.core.frame.DataFrame'>\n",
      "RangeIndex: 40000 entries, 0 to 39999\n",
      "Data columns (total 3 columns):\n",
      "acc_id           40000 non-null int64\n",
      "survival_time    40000 non-null int64\n",
      "amount_spent     40000 non-null float64\n",
      "dtypes: float64(1), int64(2)\n",
      "memory usage: 937.6 KB\n",
      "**************************************************\n",
      "<class 'pandas.core.frame.DataFrame'>\n",
      "RangeIndex: 1594673 entries, 0 to 1594672\n",
      "Data columns (total 17 columns):\n",
      "day                  1594673 non-null int64\n",
      "acc_id               1594673 non-null int64\n",
      "char_id              1594673 non-null int64\n",
      "server               1594673 non-null object\n",
      "playtime             1594673 non-null float64\n",
      "npc_kill             1594673 non-null float64\n",
      "solo_exp             1594673 non-null float64\n",
      "party_exp            1594673 non-null float64\n",
      "quest_exp            1594673 non-null float64\n",
      "boss_monster         1594673 non-null int64\n",
      "death                1594673 non-null float64\n",
      "revive               1594673 non-null float64\n",
      "exp_recovery         1594673 non-null float64\n",
      "fishing              1594673 non-null float64\n",
      "private_shop         1594673 non-null float64\n",
      "game_money_change    1594673 non-null float64\n",
      "enchant_count        1594673 non-null float64\n",
      "dtypes: float64(12), int64(4), object(1)\n",
      "memory usage: 206.8+ MB\n",
      "**************************************************\n",
      "<class 'pandas.core.frame.DataFrame'>\n",
      "RangeIndex: 2245196 entries, 0 to 2245195\n",
      "Data columns (total 11 columns):\n",
      "day               int64\n",
      "time              object\n",
      "type              int64\n",
      "server            object\n",
      "source_acc_id     int64\n",
      "source_char_id    int64\n",
      "target_acc_id     int64\n",
      "target_char_id    int64\n",
      "item_type         object\n",
      "item_amount       float64\n",
      "item_price        float64\n",
      "dtypes: float64(2), int64(6), object(3)\n",
      "memory usage: 188.4+ MB\n",
      "**************************************************\n",
      "<class 'pandas.core.frame.DataFrame'>\n",
      "RangeIndex: 1083384 entries, 0 to 1083383\n",
      "Data columns (total 15 columns):\n",
      "day                     1083384 non-null int64\n",
      "acc_id                  1083384 non-null int64\n",
      "char_id                 1083384 non-null int64\n",
      "server                  1083384 non-null object\n",
      "pledge_id               1083384 non-null int64\n",
      "play_char_cnt           1083384 non-null float64\n",
      "combat_char_cnt         1083384 non-null float64\n",
      "pledge_combat_cnt       1083384 non-null float64\n",
      "random_attacker_cnt     1083384 non-null float64\n",
      "random_defender_cnt     1083384 non-null float64\n",
      "same_pledge_cnt         1083384 non-null float64\n",
      "temp_cnt                1083384 non-null float64\n",
      "etc_cnt                 1083384 non-null float64\n",
      "combat_play_time        1083384 non-null float64\n",
      "non_combat_play_time    1083384 non-null float64\n",
      "dtypes: float64(10), int64(4), object(1)\n",
      "memory usage: 124.0+ MB\n",
      "**************************************************\n",
      "<class 'pandas.core.frame.DataFrame'>\n",
      "RangeIndex: 2245196 entries, 0 to 2245195\n",
      "Data columns (total 11 columns):\n",
      "day               int64\n",
      "time              object\n",
      "type              int64\n",
      "server            object\n",
      "source_acc_id     int64\n",
      "source_char_id    int64\n",
      "target_acc_id     int64\n",
      "target_char_id    int64\n",
      "item_type         object\n",
      "item_amount       float64\n",
      "item_price        float64\n",
      "dtypes: float64(2), int64(6), object(3)\n",
      "memory usage: 188.4+ MB\n",
      "**************************************************\n",
      "<class 'pandas.core.frame.DataFrame'>\n",
      "RangeIndex: 66432 entries, 0 to 66431\n",
      "Data columns (total 3 columns):\n",
      "day             66432 non-null int64\n",
      "acc_id          66432 non-null int64\n",
      "amount_spent    66432 non-null float64\n",
      "dtypes: float64(1), int64(2)\n",
      "memory usage: 1.5 MB\n",
      "**************************************************\n"
     ]
    }
   ],
   "source": [
    "# bigcon 01 \n",
    "import pandas as pd\n",
    "train_label=pd.read_csv(\"data/bigCon/bigcon_data/train_label.csv\")\n",
    "train_label.info()\n",
    "print('*'*50)\n",
    "train_activity=pd.read_csv(\"data/bigCon/bigcon_data/train_activity.csv\")\n",
    "train_activity.info()\n",
    "print('*'*50)\n",
    "train_trade=pd.read_csv(\"data/bigCon/bigcon_data/train_trade.csv\")\n",
    "train_trade.info()\n",
    "print('*'*50)\n",
    "train_pledge=pd.read_csv(\"data/bigCon/bigcon_data/train_pledge.csv\")\n",
    "train_pledge.info()\n",
    "print('*'*50)\n",
    "train_trade=pd.read_csv(\"data/bigCon/bigcon_data/train_trade.csv\")\n",
    "train_trade.info()\n",
    "print('*'*50)\n",
    "train_payment=pd.read_csv(\"data/bigCon/bigcon_data/train_payment.csv\")\n",
    "train_payment.info()\n",
    "print('*'*50)\n"
   ]
  },
  {
   "cell_type": "code",
   "execution_count": 44,
   "metadata": {},
   "outputs": [
    {
     "data": {
      "text/plain": [
       "(40000, 3)"
      ]
     },
     "metadata": {},
     "output_type": "display_data"
    },
    {
     "data": {
      "text/plain": [
       "(1594673, 17)"
      ]
     },
     "metadata": {},
     "output_type": "display_data"
    },
    {
     "data": {
      "text/plain": [
       "(2245196, 11)"
      ]
     },
     "metadata": {},
     "output_type": "display_data"
    },
    {
     "data": {
      "text/plain": [
       "(1083384, 15)"
      ]
     },
     "metadata": {},
     "output_type": "display_data"
    },
    {
     "data": {
      "text/plain": [
       "(2245196, 11)"
      ]
     },
     "metadata": {},
     "output_type": "display_data"
    },
    {
     "data": {
      "text/plain": [
       "(66432, 3)"
      ]
     },
     "metadata": {},
     "output_type": "display_data"
    }
   ],
   "source": [
    "# 회귀 선형적 접근.. 양 예측 문제 \n",
    "display(train_label.shape)\n",
    "display(train_activity.shape)\n",
    "display(train_trade.shape)\n",
    "display(train_pledge.shape)\n",
    "display(train_trade.shape)\n",
    "display(train_payment.shape)"
   ]
  },
  {
   "cell_type": "code",
   "execution_count": 45,
   "metadata": {},
   "outputs": [
    {
     "data": {
      "text/plain": [
       "pandas.core.frame.DataFrame"
      ]
     },
     "execution_count": 45,
     "metadata": {},
     "output_type": "execute_result"
    }
   ],
   "source": [
    "temp=train_label.head()\n",
    "type(train_label)\n"
   ]
  },
  {
   "cell_type": "code",
   "execution_count": 46,
   "metadata": {},
   "outputs": [],
   "source": [
    "# train_label.temp # df 객체는 temp 속성 안가져 "
   ]
  },
  {
   "cell_type": "code",
   "execution_count": 47,
   "metadata": {},
   "outputs": [
    {
     "data": {
      "text/plain": [
       "acc_id           0\n",
       "survival_time    0\n",
       "amount_spent     0\n",
       "dtype: int64"
      ]
     },
     "execution_count": 47,
     "metadata": {},
     "output_type": "execute_result"
    }
   ],
   "source": [
    "train_label.isnull().sum() # label => null값 x"
   ]
  },
  {
   "cell_type": "code",
   "execution_count": 48,
   "metadata": {},
   "outputs": [
    {
     "data": {
      "text/plain": [
       "<matplotlib.axes._subplots.AxesSubplot at 0x166d154e1d0>"
      ]
     },
     "execution_count": 48,
     "metadata": {},
     "output_type": "execute_result"
    },
    {
     "data": {
      "image/png": "[encoded data removed]",
      "text/plain": [
       "<Figure size 864x360 with 2 Axes>"
      ]
     },
     "metadata": {},
     "output_type": "display_data"
    }
   ],
   "source": [
    "import missingno as msno\n",
    "msno.matrix(train_label, figsize=(12,5)) # 결측치 유무 확인 함수 "
   ]
  },
  {
   "cell_type": "code",
   "execution_count": 49,
   "metadata": {},
   "outputs": [
    {
     "name": "stdout",
     "output_type": "stream",
     "text": [
      "<class 'pandas.core.frame.DataFrame'>\n",
      "RangeIndex: 40000 entries, 0 to 39999\n",
      "Data columns (total 3 columns):\n",
      "acc_id           40000 non-null int64\n",
      "survival_time    40000 non-null int64\n",
      "amount_spent     40000 non-null float64\n",
      "dtypes: float64(1), int64(2)\n",
      "memory usage: 937.6 KB\n"
     ]
    }
   ],
   "source": [
    "train_label.info()"
   ]
  },
  {
   "cell_type": "code",
   "execution_count": 60,
   "metadata": {},
   "outputs": [
    {
     "data": {
      "text/plain": [
       "0        64\n",
       "1        64\n",
       "2        55\n",
       "3        64\n",
       "4        20\n",
       "5        50\n",
       "6        64\n",
       "7         5\n",
       "8        46\n",
       "9        23\n",
       "10       23\n",
       "11       64\n",
       "12       64\n",
       "13       64\n",
       "14        6\n",
       "15       64\n",
       "16       64\n",
       "17       33\n",
       "18        9\n",
       "19       25\n",
       "20       15\n",
       "21       64\n",
       "22       31\n",
       "23       64\n",
       "24       29\n",
       "25       64\n",
       "26       64\n",
       "27        1\n",
       "28       64\n",
       "29       52\n",
       "         ..\n",
       "39970    64\n",
       "39971     3\n",
       "39972    64\n",
       "39973    64\n",
       "39974    64\n",
       "39975    23\n",
       "39976    64\n",
       "39977     1\n",
       "39978    64\n",
       "39979    64\n",
       "39980    64\n",
       "39981    29\n",
       "39982    64\n",
       "39983    64\n",
       "39984    64\n",
       "39985     1\n",
       "39986    15\n",
       "39987    51\n",
       "39988    19\n",
       "39989    64\n",
       "39990    51\n",
       "39991    22\n",
       "39992    64\n",
       "39993    64\n",
       "39994    64\n",
       "39995    64\n",
       "39996    64\n",
       "39997    64\n",
       "39998    39\n",
       "39999    64\n",
       "Name: survival_time, Length: 40000, dtype: int64"
      ]
     },
     "execution_count": 60,
     "metadata": {},
     "output_type": "execute_result"
    }
   ],
   "source": [
    "train_label.acc_id # user id => 수치형 데이터 형태 \n",
    "label_ST=train_label.survival_time\n",
    "label_ST"
   ]
  },
  {
   "cell_type": "code",
   "execution_count": 61,
   "metadata": {},
   "outputs": [],
   "source": [
    "# plt.title(\"Plot\")\n",
    "# plt.plot(['survival_time'])\n",
    "# plt.show()"
   ]
  },
  {
   "cell_type": "code",
   "execution_count": 62,
   "metadata": {},
   "outputs": [
    {
     "data": {
      "text/plain": [
       "(array([ 1495.,  1431.,   269.,   526.,  1219.,   805.,   507.,   230.,\n",
       "          585.,   348.,   706.,   273.,   634.,   935.,   215.,   390.,\n",
       "          248.,  1743.,   159.,   403.,   325.,   179.,   705.,   120.,\n",
       "          404.,   122.,   243.,   272.,   189.,   230.,   114.,   337.,\n",
       "          126.,   231.,   250.,   208.,   344.,   145.,   247., 22088.]),\n",
       " array([ 1.   ,  2.575,  4.15 ,  5.725,  7.3  ,  8.875, 10.45 , 12.025,\n",
       "        13.6  , 15.175, 16.75 , 18.325, 19.9  , 21.475, 23.05 , 24.625,\n",
       "        26.2  , 27.775, 29.35 , 30.925, 32.5  , 34.075, 35.65 , 37.225,\n",
       "        38.8  , 40.375, 41.95 , 43.525, 45.1  , 46.675, 48.25 , 49.825,\n",
       "        51.4  , 52.975, 54.55 , 56.125, 57.7  , 59.275, 60.85 , 62.425,\n",
       "        64.   ]),\n",
       " <a list of 40 Patch objects>)"
      ]
     },
     "execution_count": 62,
     "metadata": {},
     "output_type": "execute_result"
    },
    {
     "data": {
      "image/png": "[encoded data removed]",
      "text/plain": [
       "<Figure size 345.6x259.2 with 1 Axes>"
      ]
     },
     "metadata": {},
     "output_type": "display_data"
    }
   ],
   "source": [
    "plt.hist(train_label['survival_time'], bins=40, density=False, \n",
    "         facecolor='yellow', alpha=0.5) #투명도"
   ]
  },
  {
   "cell_type": "code",
   "execution_count": 63,
   "metadata": {},
   "outputs": [
    {
     "data": {
      "text/plain": [
       "<matplotlib.axes._subplots.AxesSubplot at 0x166bfbe0a90>"
      ]
     },
     "execution_count": 63,
     "metadata": {},
     "output_type": "execute_result"
    },
    {
     "data": {
      "image/png": "[encoded data removed]",
      "text/plain": [
       "<Figure size 345.6x259.2 with 1 Axes>"
      ]
     },
     "metadata": {},
     "output_type": "display_data"
    }
   ],
   "source": [
    "sns.distplot(train_label['survival_time'], color='yellow', kde=True, bins=20)\n",
    "# 정규분포와 비교 \n",
    "# train_label.plot() \n",
    "# dist / y / 밀도 \n",
    "# 히스토와 같고 선의 밀집 정도 확인가능 \n"
   ]
  },
  {
   "cell_type": "code",
   "execution_count": 72,
   "metadata": {},
   "outputs": [
    {
     "ename": "ValueError",
     "evalue": "Could not interpret input 'survival_time'",
     "output_type": "error",
     "traceback": [
      "\u001b[1;31m---------------------------------------------------------------------------\u001b[0m",
      "\u001b[1;31mValueError\u001b[0m                                Traceback (most recent call last)",
      "\u001b[1;32m<ipython-input-72-475b06d9c3e9>\u001b[0m in \u001b[0;36m<module>\u001b[1;34m\u001b[0m\n\u001b[0;32m      1\u001b[0m \u001b[1;31m# sns.plot(x='SurviveTime', data=label_ST)\u001b[0m\u001b[1;33m\u001b[0m\u001b[1;33m\u001b[0m\u001b[1;33m\u001b[0m\u001b[0m\n\u001b[1;32m----> 2\u001b[1;33m \u001b[0msns\u001b[0m\u001b[1;33m.\u001b[0m\u001b[0mlineplot\u001b[0m\u001b[1;33m(\u001b[0m\u001b[0mx\u001b[0m\u001b[1;33m=\u001b[0m\u001b[0mlabel_ST\u001b[0m\u001b[1;33m.\u001b[0m\u001b[0mindex\u001b[0m\u001b[1;33m,\u001b[0m \u001b[0my\u001b[0m\u001b[1;33m=\u001b[0m\u001b[1;34m'survival_time'\u001b[0m\u001b[1;33m,\u001b[0m \u001b[0mdata\u001b[0m\u001b[1;33m=\u001b[0m\u001b[0mlabel_ST\u001b[0m\u001b[1;33m)\u001b[0m\u001b[1;33m\u001b[0m\u001b[1;33m\u001b[0m\u001b[0m\n\u001b[0m",
      "\u001b[1;32m~\\Anaconda3\\lib\\site-packages\\seaborn\\relational.py\u001b[0m in \u001b[0;36mlineplot\u001b[1;34m(x, y, hue, size, style, data, palette, hue_order, hue_norm, sizes, size_order, size_norm, dashes, markers, style_order, units, estimator, ci, n_boot, sort, err_style, err_kws, legend, ax, **kwargs)\u001b[0m\n\u001b[0;32m   1076\u001b[0m         \u001b[0mdashes\u001b[0m\u001b[1;33m=\u001b[0m\u001b[0mdashes\u001b[0m\u001b[1;33m,\u001b[0m \u001b[0mmarkers\u001b[0m\u001b[1;33m=\u001b[0m\u001b[0mmarkers\u001b[0m\u001b[1;33m,\u001b[0m \u001b[0mstyle_order\u001b[0m\u001b[1;33m=\u001b[0m\u001b[0mstyle_order\u001b[0m\u001b[1;33m,\u001b[0m\u001b[1;33m\u001b[0m\u001b[1;33m\u001b[0m\u001b[0m\n\u001b[0;32m   1077\u001b[0m         \u001b[0munits\u001b[0m\u001b[1;33m=\u001b[0m\u001b[0munits\u001b[0m\u001b[1;33m,\u001b[0m \u001b[0mestimator\u001b[0m\u001b[1;33m=\u001b[0m\u001b[0mestimator\u001b[0m\u001b[1;33m,\u001b[0m \u001b[0mci\u001b[0m\u001b[1;33m=\u001b[0m\u001b[0mci\u001b[0m\u001b[1;33m,\u001b[0m \u001b[0mn_boot\u001b[0m\u001b[1;33m=\u001b[0m\u001b[0mn_boot\u001b[0m\u001b[1;33m,\u001b[0m\u001b[1;33m\u001b[0m\u001b[1;33m\u001b[0m\u001b[0m\n\u001b[1;32m-> 1078\u001b[1;33m         \u001b[0msort\u001b[0m\u001b[1;33m=\u001b[0m\u001b[0msort\u001b[0m\u001b[1;33m,\u001b[0m \u001b[0merr_style\u001b[0m\u001b[1;33m=\u001b[0m\u001b[0merr_style\u001b[0m\u001b[1;33m,\u001b[0m \u001b[0merr_kws\u001b[0m\u001b[1;33m=\u001b[0m\u001b[0merr_kws\u001b[0m\u001b[1;33m,\u001b[0m \u001b[0mlegend\u001b[0m\u001b[1;33m=\u001b[0m\u001b[0mlegend\u001b[0m\u001b[1;33m,\u001b[0m\u001b[1;33m\u001b[0m\u001b[1;33m\u001b[0m\u001b[0m\n\u001b[0m\u001b[0;32m   1079\u001b[0m     )\n\u001b[0;32m   1080\u001b[0m \u001b[1;33m\u001b[0m\u001b[0m\n",
      "\u001b[1;32m~\\Anaconda3\\lib\\site-packages\\seaborn\\relational.py\u001b[0m in \u001b[0;36m__init__\u001b[1;34m(self, x, y, hue, size, style, data, palette, hue_order, hue_norm, sizes, size_order, size_norm, dashes, markers, style_order, units, estimator, ci, n_boot, sort, err_style, err_kws, legend)\u001b[0m\n\u001b[0;32m    661\u001b[0m \u001b[1;33m\u001b[0m\u001b[0m\n\u001b[0;32m    662\u001b[0m         plot_data = self.establish_variables(\n\u001b[1;32m--> 663\u001b[1;33m             \u001b[0mx\u001b[0m\u001b[1;33m,\u001b[0m \u001b[0my\u001b[0m\u001b[1;33m,\u001b[0m \u001b[0mhue\u001b[0m\u001b[1;33m,\u001b[0m \u001b[0msize\u001b[0m\u001b[1;33m,\u001b[0m \u001b[0mstyle\u001b[0m\u001b[1;33m,\u001b[0m \u001b[0munits\u001b[0m\u001b[1;33m,\u001b[0m \u001b[0mdata\u001b[0m\u001b[1;33m\u001b[0m\u001b[1;33m\u001b[0m\u001b[0m\n\u001b[0m\u001b[0;32m    664\u001b[0m         )\n\u001b[0;32m    665\u001b[0m \u001b[1;33m\u001b[0m\u001b[0m\n",
      "\u001b[1;32m~\\Anaconda3\\lib\\site-packages\\seaborn\\relational.py\u001b[0m in \u001b[0;36mestablish_variables\u001b[1;34m(self, x, y, hue, size, style, units, data)\u001b[0m\n\u001b[0;32m    140\u001b[0m                 \u001b[1;32mif\u001b[0m \u001b[0misinstance\u001b[0m\u001b[1;33m(\u001b[0m\u001b[0mvar\u001b[0m\u001b[1;33m,\u001b[0m \u001b[0mstring_types\u001b[0m\u001b[1;33m)\u001b[0m\u001b[1;33m:\u001b[0m\u001b[1;33m\u001b[0m\u001b[1;33m\u001b[0m\u001b[0m\n\u001b[0;32m    141\u001b[0m                     \u001b[0merr\u001b[0m \u001b[1;33m=\u001b[0m \u001b[1;34m\"Could not interpret input '{}'\"\u001b[0m\u001b[1;33m.\u001b[0m\u001b[0mformat\u001b[0m\u001b[1;33m(\u001b[0m\u001b[0mvar\u001b[0m\u001b[1;33m)\u001b[0m\u001b[1;33m\u001b[0m\u001b[1;33m\u001b[0m\u001b[0m\n\u001b[1;32m--> 142\u001b[1;33m                     \u001b[1;32mraise\u001b[0m \u001b[0mValueError\u001b[0m\u001b[1;33m(\u001b[0m\u001b[0merr\u001b[0m\u001b[1;33m)\u001b[0m\u001b[1;33m\u001b[0m\u001b[1;33m\u001b[0m\u001b[0m\n\u001b[0m\u001b[0;32m    143\u001b[0m \u001b[1;33m\u001b[0m\u001b[0m\n\u001b[0;32m    144\u001b[0m             \u001b[1;31m# Extract variable names\u001b[0m\u001b[1;33m\u001b[0m\u001b[1;33m\u001b[0m\u001b[1;33m\u001b[0m\u001b[0m\n",
      "\u001b[1;31mValueError\u001b[0m: Could not interpret input 'survival_time'"
     ]
    }
   ],
   "source": [
    "# sns.plot(x='SurviveTime', data=label_ST)\n",
    "sns.lineplot(x=label_ST.index, y='survival_time', data=label_ST)"
   ]
  },
  {
   "cell_type": "code",
   "execution_count": 55,
   "metadata": {},
   "outputs": [],
   "source": [
    "# plt.plot(train_label['survival_time'],data:image/png;base64,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axis([0,]))\n",
    "# plt.ylim(0,)\n",
    "# plt.show"
   ]
  },
  {
   "cell_type": "code",
   "execution_count": 73,
   "metadata": {},
   "outputs": [
    {
     "data": {
      "text/plain": [
       "0        0.002559\n",
       "1        0.120154\n",
       "2        0.182593\n",
       "3        0.016241\n",
       "4        0.226396\n",
       "5        0.058863\n",
       "6        0.030777\n",
       "7        0.000000\n",
       "8        0.009187\n",
       "9        0.000000\n",
       "10       0.000000\n",
       "11       0.010204\n",
       "12       0.007678\n",
       "13       0.105389\n",
       "14       0.000000\n",
       "15       0.030449\n",
       "16       0.000000\n",
       "17       0.000000\n",
       "18       0.838125\n",
       "19       0.006562\n",
       "20       0.104766\n",
       "21       0.002559\n",
       "22       0.121204\n",
       "23       0.015290\n",
       "24       0.098433\n",
       "25       0.142302\n",
       "26       0.015618\n",
       "27       0.000000\n",
       "28       0.036092\n",
       "29       0.000000\n",
       "           ...   \n",
       "39970    0.205692\n",
       "39971    6.325675\n",
       "39972    0.482815\n",
       "39973    0.199622\n",
       "39974    0.000000\n",
       "39975    0.101747\n",
       "39976    0.015388\n",
       "39977    0.000000\n",
       "39978    0.154048\n",
       "39979    0.172914\n",
       "39980    0.027332\n",
       "39981    0.101813\n",
       "39982    0.179476\n",
       "39983    0.201329\n",
       "39984    0.304191\n",
       "39985    4.277642\n",
       "39986    0.000000\n",
       "39987    0.000000\n",
       "39988    0.048396\n",
       "39989    0.097974\n",
       "39990    0.051874\n",
       "39991    0.088130\n",
       "39992    0.048692\n",
       "39993    0.003084\n",
       "39994    0.035567\n",
       "39995    0.302485\n",
       "39996    0.005119\n",
       "39997    0.047182\n",
       "39998    0.000000\n",
       "39999    0.006661\n",
       "Name: amount_spent, Length: 40000, dtype: float64"
      ]
     },
     "execution_count": 73,
     "metadata": {},
     "output_type": "execute_result"
    }
   ],
   "source": [
    "label_AS=train_label.amount_spent # 일별 평균 결제액\n",
    "label_AS"
   ]
  },
  {
   "cell_type": "code",
   "execution_count": 74,
   "metadata": {},
   "outputs": [
    {
     "ename": "ValueError",
     "evalue": "Could not interpret input 'amount_spent'",
     "output_type": "error",
     "traceback": [
      "\u001b[1;31m---------------------------------------------------------------------------\u001b[0m",
      "\u001b[1;31mValueError\u001b[0m                                Traceback (most recent call last)",
      "\u001b[1;32m<ipython-input-74-0ca4f6830bd3>\u001b[0m in \u001b[0;36m<module>\u001b[1;34m\u001b[0m\n\u001b[1;32m----> 1\u001b[1;33m \u001b[0msns\u001b[0m\u001b[1;33m.\u001b[0m\u001b[0mcountplot\u001b[0m\u001b[1;33m(\u001b[0m\u001b[0mx\u001b[0m\u001b[1;33m=\u001b[0m\u001b[1;34m'amount_spent'\u001b[0m\u001b[1;33m,\u001b[0m \u001b[0mdata\u001b[0m\u001b[1;33m=\u001b[0m\u001b[0mlabel_AS\u001b[0m\u001b[1;33m)\u001b[0m\u001b[1;33m\u001b[0m\u001b[1;33m\u001b[0m\u001b[0m\n\u001b[0m",
      "\u001b[1;32m~\\Anaconda3\\lib\\site-packages\\seaborn\\categorical.py\u001b[0m in \u001b[0;36mcountplot\u001b[1;34m(x, y, hue, data, order, hue_order, orient, color, palette, saturation, dodge, ax, **kwargs)\u001b[0m\n\u001b[0;32m   3551\u001b[0m                           \u001b[0mestimator\u001b[0m\u001b[1;33m,\u001b[0m \u001b[0mci\u001b[0m\u001b[1;33m,\u001b[0m \u001b[0mn_boot\u001b[0m\u001b[1;33m,\u001b[0m \u001b[0munits\u001b[0m\u001b[1;33m,\u001b[0m\u001b[1;33m\u001b[0m\u001b[1;33m\u001b[0m\u001b[0m\n\u001b[0;32m   3552\u001b[0m                           \u001b[0morient\u001b[0m\u001b[1;33m,\u001b[0m \u001b[0mcolor\u001b[0m\u001b[1;33m,\u001b[0m \u001b[0mpalette\u001b[0m\u001b[1;33m,\u001b[0m \u001b[0msaturation\u001b[0m\u001b[1;33m,\u001b[0m\u001b[1;33m\u001b[0m\u001b[1;33m\u001b[0m\u001b[0m\n\u001b[1;32m-> 3553\u001b[1;33m                           errcolor, errwidth, capsize, dodge)\n\u001b[0m\u001b[0;32m   3554\u001b[0m \u001b[1;33m\u001b[0m\u001b[0m\n\u001b[0;32m   3555\u001b[0m     \u001b[0mplotter\u001b[0m\u001b[1;33m.\u001b[0m\u001b[0mvalue_label\u001b[0m \u001b[1;33m=\u001b[0m \u001b[1;34m\"count\"\u001b[0m\u001b[1;33m\u001b[0m\u001b[1;33m\u001b[0m\u001b[0m\n",
      "\u001b[1;32m~\\Anaconda3\\lib\\site-packages\\seaborn\\categorical.py\u001b[0m in \u001b[0;36m__init__\u001b[1;34m(self, x, y, hue, data, order, hue_order, estimator, ci, n_boot, units, orient, color, palette, saturation, errcolor, errwidth, capsize, dodge)\u001b[0m\n\u001b[0;32m   1605\u001b[0m         \u001b[1;34m\"\"\"Initialize the plotter.\"\"\"\u001b[0m\u001b[1;33m\u001b[0m\u001b[1;33m\u001b[0m\u001b[0m\n\u001b[0;32m   1606\u001b[0m         self.establish_variables(x, y, hue, data, orient,\n\u001b[1;32m-> 1607\u001b[1;33m                                  order, hue_order, units)\n\u001b[0m\u001b[0;32m   1608\u001b[0m         \u001b[0mself\u001b[0m\u001b[1;33m.\u001b[0m\u001b[0mestablish_colors\u001b[0m\u001b[1;33m(\u001b[0m\u001b[0mcolor\u001b[0m\u001b[1;33m,\u001b[0m \u001b[0mpalette\u001b[0m\u001b[1;33m,\u001b[0m \u001b[0msaturation\u001b[0m\u001b[1;33m)\u001b[0m\u001b[1;33m\u001b[0m\u001b[1;33m\u001b[0m\u001b[0m\n\u001b[0;32m   1609\u001b[0m         \u001b[0mself\u001b[0m\u001b[1;33m.\u001b[0m\u001b[0mestimate_statistic\u001b[0m\u001b[1;33m(\u001b[0m\u001b[0mestimator\u001b[0m\u001b[1;33m,\u001b[0m \u001b[0mci\u001b[0m\u001b[1;33m,\u001b[0m \u001b[0mn_boot\u001b[0m\u001b[1;33m)\u001b[0m\u001b[1;33m\u001b[0m\u001b[1;33m\u001b[0m\u001b[0m\n",
      "\u001b[1;32m~\\Anaconda3\\lib\\site-packages\\seaborn\\categorical.py\u001b[0m in \u001b[0;36mestablish_variables\u001b[1;34m(self, x, y, hue, data, orient, order, hue_order, units)\u001b[0m\n\u001b[0;32m    153\u001b[0m                 \u001b[1;32mif\u001b[0m \u001b[0misinstance\u001b[0m\u001b[1;33m(\u001b[0m\u001b[0minput\u001b[0m\u001b[1;33m,\u001b[0m \u001b[0mstring_types\u001b[0m\u001b[1;33m)\u001b[0m\u001b[1;33m:\u001b[0m\u001b[1;33m\u001b[0m\u001b[1;33m\u001b[0m\u001b[0m\n\u001b[0;32m    154\u001b[0m                     \u001b[0merr\u001b[0m \u001b[1;33m=\u001b[0m \u001b[1;34m\"Could not interpret input '{}'\"\u001b[0m\u001b[1;33m.\u001b[0m\u001b[0mformat\u001b[0m\u001b[1;33m(\u001b[0m\u001b[0minput\u001b[0m\u001b[1;33m)\u001b[0m\u001b[1;33m\u001b[0m\u001b[1;33m\u001b[0m\u001b[0m\n\u001b[1;32m--> 155\u001b[1;33m                     \u001b[1;32mraise\u001b[0m \u001b[0mValueError\u001b[0m\u001b[1;33m(\u001b[0m\u001b[0merr\u001b[0m\u001b[1;33m)\u001b[0m\u001b[1;33m\u001b[0m\u001b[1;33m\u001b[0m\u001b[0m\n\u001b[0m\u001b[0;32m    156\u001b[0m \u001b[1;33m\u001b[0m\u001b[0m\n\u001b[0;32m    157\u001b[0m             \u001b[1;31m# Figure out the plotting orientation\u001b[0m\u001b[1;33m\u001b[0m\u001b[1;33m\u001b[0m\u001b[1;33m\u001b[0m\u001b[0m\n",
      "\u001b[1;31mValueError\u001b[0m: Could not interpret input 'amount_spent'"
     ]
    }
   ],
   "source": [
    "sns.countplot(x='amount_spent', data=label_AS)"
   ]
  },
  {
   "cell_type": "code",
   "execution_count": null,
   "metadata": {},
   "outputs": [],
   "source": []
  },
  {
   "cell_type": "code",
   "execution_count": null,
   "metadata": {},
   "outputs": [],
   "source": []
  }
 ],
 "metadata": {
  "kernelspec": {
   "display_name": "Python 3",
   "language": "python",
   "name": "python3"
  },
  "language_info": {
   "codemirror_mode": {
    "name": "ipython",
    "version": 3
   },
   "file_extension": ".py",
   "mimetype": "text/x-python",
   "name": "python",
   "nbconvert_exporter": "python",
   "pygments_lexer": "ipython3",
   "version": "3.7.3"
  }
 },
 "nbformat": 4,
 "nbformat_minor": 2
}
