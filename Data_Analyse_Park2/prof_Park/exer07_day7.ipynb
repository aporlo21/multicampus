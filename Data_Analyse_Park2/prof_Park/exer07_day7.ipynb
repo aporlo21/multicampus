{
 "cells": [
  {
   "cell_type": "code",
   "execution_count": null,
   "metadata": {},
   "outputs": [],
   "source": [
    "## exer07_day7 ##\n",
    "# emails = ['python@mail.example.com', \n",
    "#           'python+kr@example.com',              \n",
    "#           'python-dojang@example.co.kr', \n",
    "#           'python_10@example.info',         # 올바른 형식\n",
    "\n",
    "#           'python.dojang@e-xample.com',                                    # 올바른 형식\n",
    "#           '@example.com', \n",
    "#           'python@example', \n",
    "#           'python@example-com']          # 잘못된 형식b"
   ]
  },
  {
   "cell_type": "code",
   "execution_count": 12,
   "metadata": {},
   "outputs": [],
   "source": [
    "import numpy as np\n",
    "import pandas as pd\n",
    "import seaborn as sns \n",
    "import matplotlib as plt\n",
    "import re"
   ]
  },
  {
   "cell_type": "code",
   "execution_count": 69,
   "metadata": {},
   "outputs": [],
   "source": [
    "# res=re.match('([a-z]+)(\\.?)(\\+?)(\\-?)(\\_?)[@]\\\n",
    "#                ([a-z]+?)(\\.?)([a-z]+)(\\.?)([a-z]+)\\\n",
    "#                (\\.?)([a-z]+?)','python@mail.example.com')\n",
    "# print(res)"
   ]
  },
  {
   "cell_type": "code",
   "execution_count": 70,
   "metadata": {},
   "outputs": [],
   "source": [
    "# res=re.match('([0-9]+) ([0-9]+) ([0-9]+)',\"010 1234 5678\")\n",
    "# res.group(3)"
   ]
  },
  {
   "cell_type": "code",
   "execution_count": 96,
   "metadata": {},
   "outputs": [
    {
     "name": "stdout",
     "output_type": "stream",
     "text": [
      "<re.Match object; span=(0, 23), match='python@mail.example.com'>\n"
     ]
    }
   ],
   "source": [
    "pat=re.compile(\"\\w+\\.*\\+*\\-*\\_*\\w*[@]\\w+\\-*\\.*\\w*\\.+\\w*\") \n",
    "res=pat.search(\"python@mail.example.com\") # 반드시 나와야 하는 기호 [-] 대괄호 \n",
    "print(res)"
   ]
  },
  {
   "cell_type": "code",
   "execution_count": 97,
   "metadata": {},
   "outputs": [
    {
     "name": "stdout",
     "output_type": "stream",
     "text": [
      "<re.Match object; span=(0, 21), match='python+kr@example.com'>\n"
     ]
    }
   ],
   "source": [
    "pat=re.compile(\"\\w+\\.*\\+*\\-*\\_*\\w*[@]\\w+\\-*\\.*\\w*\\.+\\w*\") \n",
    "res=pat.search(\"python+kr@example.com\") # 반드시 나와야 하는 기호 [-] 대괄호 \n",
    "print(res)"
   ]
  },
  {
   "cell_type": "code",
   "execution_count": 98,
   "metadata": {},
   "outputs": [
    {
     "name": "stdout",
     "output_type": "stream",
     "text": [
      "<re.Match object; span=(0, 27), match='python-dojang@example.co.kr'>\n"
     ]
    }
   ],
   "source": [
    "pat=re.compile(\"\\w+\\.*\\+*\\-*\\_*\\w*[@]\\w+\\-*\\.*\\w*\\.+\\w*\") \n",
    "res=pat.search(\"python-dojang@example.co.kr\") # 반드시 나와야 하는 기호 [-] 대괄호 \n",
    "print(res)"
   ]
  },
  {
   "cell_type": "code",
   "execution_count": 120,
   "metadata": {},
   "outputs": [
    {
     "name": "stdout",
     "output_type": "stream",
     "text": [
      "<re.Match object; span=(0, 22), match='python_10@example.info'>\n"
     ]
    }
   ],
   "source": [
    "pat=re.compile(\"\\w+\\.*\\+*\\-*\\_*\\w*[@]\\w+\\-*\\.*\\w*\\.+\\w*\") \n",
    "res=pat.search(\"python_10@example.info\") # 반드시 나와야 하는 기호 [-] 대괄호 \n",
    "print(res)"
   ]
  },
  {
   "cell_type": "code",
   "execution_count": 100,
   "metadata": {},
   "outputs": [
    {
     "name": "stdout",
     "output_type": "stream",
     "text": [
      "<re.Match object; span=(0, 26), match='python.dojang@e-xample.com'>\n"
     ]
    }
   ],
   "source": [
    "pat=re.compile(\"\\w+\\.*\\+*\\-*\\_*\\w*[@]\\w+\\-*\\.*\\w*\\.+\\w*\") \n",
    "res=pat.search(\"python.dojang@e-xample.com\") # 반드시 나와야 하는 기호 [-] 대괄호 \n",
    "print(res)"
   ]
  },
  {
   "cell_type": "code",
   "execution_count": 101,
   "metadata": {},
   "outputs": [
    {
     "name": "stdout",
     "output_type": "stream",
     "text": [
      "None\n"
     ]
    }
   ],
   "source": [
    "pat=re.compile(\"\\w+\\.*\\+*\\-*\\_*\\w*[@]\\w+\\-*\\.*\\w*\\.+\\w*\") \n",
    "res=pat.search(\"@example.com\") # 반드시 나와야 하는 기호 [-] 대괄호 \n",
    "print(res)"
   ]
  },
  {
   "cell_type": "code",
   "execution_count": 102,
   "metadata": {},
   "outputs": [
    {
     "name": "stdout",
     "output_type": "stream",
     "text": [
      "None\n"
     ]
    }
   ],
   "source": [
    "pat=re.compile(\"\\w+\\.*\\+*\\-*\\_*\\w*[@]\\w+\\-*\\.*\\w*\\.+\\w*\") \n",
    "res=pat.search(\"python@example\") # 반드시 나와야 하는 기호 [-] 대괄호 \n",
    "print(res)"
   ]
  },
  {
   "cell_type": "code",
   "execution_count": 7,
   "metadata": {},
   "outputs": [
    {
     "name": "stdout",
     "output_type": "stream",
     "text": [
      "None\n"
     ]
    }
   ],
   "source": [
    "pat=re.compile(\"[^@\\s]+@[^@\\s.]+(\\.[^@\\s.]+)+\") \n",
    "res=pat.search(\"python@example-com\") # 반드시 나와야 하는 기호 [-] 대괄호 \n",
    "print(res)"
   ]
  },
  {
   "cell_type": "code",
   "execution_count": 8,
   "metadata": {},
   "outputs": [
    {
     "name": "stdout",
     "output_type": "stream",
     "text": [
      "<re.Match object; span=(3, 23), match='sdf_123@hojin.as.com'>\n"
     ]
    }
   ],
   "source": [
    "import re\n",
    "pat=re.compile('[^@\\s]+@[^@\\s.]+(\\.[^@\\s.]+)+')\n",
    "# pat=re.compile(\"[^@\\s]+[@][^@\\s]+\") \n",
    "res=pat.search('1a@sdf_123@hojin.as.com') # 반드시 나와야 하는 기호 [-] 대괄호 \n",
    "print(res)\n"
   ]
  },
  {
   "cell_type": "code",
   "execution_count": 152,
   "metadata": {},
   "outputs": [],
   "source": [
    "p = re.compile('[\\.]+')\n",
    "p.search('s')"
   ]
  },
  {
   "cell_type": "code",
   "execution_count": null,
   "metadata": {},
   "outputs": [],
   "source": []
  }
 ],
 "metadata": {
  "kernelspec": {
   "display_name": "Python 3",
   "language": "python",
   "name": "python3"
  },
  "language_info": {
   "codemirror_mode": {
    "name": "ipython",
    "version": 3
   },
   "file_extension": ".py",
   "mimetype": "text/x-python",
   "name": "python",
   "nbconvert_exporter": "python",
   "pygments_lexer": "ipython3",
   "version": "3.7.3"
  }
 },
 "nbformat": 4,
 "nbformat_minor": 2
}
