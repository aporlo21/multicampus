{
 "cells": [
  {
   "cell_type": "code",
   "execution_count": 1,
   "metadata": {},
   "outputs": [],
   "source": [
    "## day11_quiz\n",
    "import pandas as pd\n",
    "import numpy as np\n",
    "import matplotlib.pyplot as plt\n",
    "import seaborn as sns\n",
    "import re\n",
    "import missingno as msno\n",
    "from plotnine import *\n",
    "from jupyterthemes import jtplot\n",
    "import urllib.request\n",
    "from bs4 import BeautifulSoup\n",
    "jtplot.style(theme='gruvboxd', context='paper', spines=True, \n",
    "             ticks=True, grid=True, gridlines='dotted', figsize=(6,4.5))"
   ]
  },
  {
   "cell_type": "code",
   "execution_count": 8,
   "metadata": {},
   "outputs": [
    {
     "ename": "IndentationError",
     "evalue": "expected an indented block (<ipython-input-8-8a0b83a69a03>, line 18)",
     "output_type": "error",
     "traceback": [
      "\u001b[1;36m  File \u001b[1;32m\"<ipython-input-8-8a0b83a69a03>\"\u001b[1;36m, line \u001b[1;32m18\u001b[0m\n\u001b[1;33m    tt_str1=tt1.string\u001b[0m\n\u001b[1;37m          ^\u001b[0m\n\u001b[1;31mIndentationError\u001b[0m\u001b[1;31m:\u001b[0m expected an indented block\n"
     ]
    }
   ],
   "source": [
    "values={'stnId':'184'}\n",
    "params=urllib.parse.urlencode(values)\n",
    "API=\"http://www.kma.go.kr/weather/forecast/mid-term-rss3.jsp\"\n",
    "url=API+\"?\"+params\n",
    "data=urllib.request.urlopen(url).read()\n",
    "text=data.decode('utf-8') #한글로 바껴 \n",
    "\n",
    "soup=BeautifulSoup(text, 'html.parser')\n",
    "tts0=soup.find_all(\"title\") # 자료구조 도출이 리스트형태로 나온다\n",
    "tts1=soup.find_all(\"wf\")\n",
    "tts2=soup.find_all(\"tmn\")\n",
    "tts3=soup.find_all(\"tmx\")\n",
    "for tt in tts0:\n",
    "    tt_str=tt.string\n",
    "    print(tt_str)\n",
    "    \n",
    "for tt1 in tts1:\n",
    "tt_str1=tt1.string\n",
    "print(tt_str1)"
   ]
  },
  {
   "cell_type": "code",
   "execution_count": null,
   "metadata": {},
   "outputs": [],
   "source": []
  }
 ],
 "metadata": {
  "kernelspec": {
   "display_name": "Python 3",
   "language": "python",
   "name": "python3"
  },
  "language_info": {
   "codemirror_mode": {
    "name": "ipython",
    "version": 3
   },
   "file_extension": ".py",
   "mimetype": "text/x-python",
   "name": "python",
   "nbconvert_exporter": "python",
   "pygments_lexer": "ipython3",
   "version": "3.7.3"
  }
 },
 "nbformat": 4,
 "nbformat_minor": 2
}
